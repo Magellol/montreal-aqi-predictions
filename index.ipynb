{
  "cells": [
    {
      "cell_type": "markdown",
      "source": [
        "### TODO\n",
        "\n",
        "- [ ] Interpret model. Try to figure out which feature influence the AQI; is it just date or temperature/precipitation can come and play a role?\n",
        "\n",
        "\n",
        "### Further improvements\n",
        "- [ ] External data\n",
        "- [ ] Different date feature engineering approach\n",
        "- [ ] Remove/leave pollutant\n",
        "- [x] Model ensembling\n",
        "- [ ] LSTMs https://medium.com/@masterofchaos/lstms-made-easy-a-simple-practical-approach-to-time-series-prediction-using-pytorch-fastai-103dd4f27b82\n",
        "- [x] Use random forests\n",
        "- [ ] Weight decay to avoid overfitting\n",
        "\n",
        "\n",
        "Compare results with https://aqicn.org/city/montreal/"
      ],
      "metadata": {
        "id": "hdFbA7EtaayL"
      },
      "id": "hdFbA7EtaayL"
    },
    {
      "cell_type": "code",
      "source": [
        "# Imports for JupyterLite\n",
        "%pip install -q ipywidgets"
      ],
      "metadata": {
        "id": "nMs3fPXBFVti",
        "outputId": "eb4c2713-9e8a-44cf-c3f7-89f886f18c16",
        "colab": {
          "base_uri": "https://localhost:8080/"
        }
      },
      "id": "nMs3fPXBFVti",
      "execution_count": 1,
      "outputs": [
        {
          "output_type": "stream",
          "name": "stdout",
          "text": [
            "\u001b[2K     \u001b[90m━━━━━━━━━━━━━━━━━━━━━━━━━━━━━━━━━━━━━━━━\u001b[0m \u001b[32m1.6/1.6 MB\u001b[0m \u001b[31m5.4 MB/s\u001b[0m eta \u001b[36m0:00:00\u001b[0m\n",
            "\u001b[?25h"
          ]
        }
      ]
    },
    {
      "cell_type": "code",
      "source": [
        "import pandas as pd\n",
        "import os\n",
        "from fastai.tabular.all import *\n",
        "import matplotlib.pyplot as plt\n",
        "import ipywidgets as widgets\n",
        "import concurrent.futures\n",
        "import urllib.request\n",
        "\n",
        "# Adjust this based on data availibility\n",
        "# The quality of predictions decline rapidly after Oct 2023 so let's zoom on that for now\n",
        "# FIRST_DAY = pd.Timestamp(\"2023-10-01\")\n",
        "FIRST_DAY = pd.Timestamp(\"2012-01-01\")\n",
        "\n",
        "# When the data analysis should stop\n",
        "# The quality of predictions decline rapidly after Oct 2023 so let's zoom on that for now\n",
        "LAST_DAY = pd.Timestamp(\"2024-04-10\")\n",
        "\n",
        "def filter_known_range(df):\n",
        "  return df[(df['datetime'] >= FIRST_DAY) & (df['datetime'] < LAST_DAY)]"
      ],
      "metadata": {
        "id": "B_swUwENZmFF"
      },
      "id": "B_swUwENZmFF",
      "execution_count": 2,
      "outputs": []
    },
    {
      "cell_type": "code",
      "source": [
        "def get_csv(url, local_filename):\n",
        "    if not os.path.exists(local_filename):\n",
        "        print(f\"{local_filename} not found locally. Downloading and reading from URL...\")\n",
        "        df = pd.read_csv(url)\n",
        "        df.to_csv(local_filename, index=False)  # Save the downloaded file locally\n",
        "    else:\n",
        "        print(f\"Reading {local_filename} from local storage...\")\n",
        "        df = pd.read_csv(local_filename)\n",
        "    return df"
      ],
      "metadata": {
        "id": "g9L22GM8d2zM"
      },
      "id": "g9L22GM8d2zM",
      "execution_count": 3,
      "outputs": []
    },
    {
      "cell_type": "code",
      "source": [
        "# MONTREAL/PIERRE ELLIOTT TRUDEAU INTL QUEBEC\n",
        "# This station has precipitation but doesn't have a categorical value of weather (e.g cloudy, rain, etc)\n",
        "station_id = \"30165\"\n",
        "\n",
        "years = range(FIRST_DAY.year, LAST_DAY.year + 1)\n",
        "months = range(1, 13)\n",
        "\n",
        "dates = [(month, year) for year in years for month in months]\n",
        "urls = list(map(lambda xy: f\"https://climate.weather.gc.ca/climate_data/bulk_data_e.html?format=csv&stationID={station_id}&Year={xy[1]}&Month={xy[0]}&Day=1&timeframe=1&submit=Download+Data\", dates))\n",
        "\n",
        "def get_weather_csv(url):\n",
        "    filename = url.split('&Year=')[1].split('&Month=')[0] + '-' + url.split('&Month=')[1].split('&Day=')[0] + '.csv'\n",
        "    filepath = f'./weather_{filename}'\n",
        "    if os.path.exists(filepath):\n",
        "        return filepath\n",
        "    try:\n",
        "        # Download and save the file\n",
        "        with urllib.request.urlopen(url, timeout=30) as response, open(filepath, 'wb') as out_file:\n",
        "            out_file.write(response.read())\n",
        "        return filepath\n",
        "    except Exception as e:\n",
        "        print(f\"Failed to download {url}: {str(e)}\")\n",
        "        return None\n",
        "\n",
        "# Use a ThreadPoolExecutor to manage concurrent downloads\n",
        "with concurrent.futures.ThreadPoolExecutor(max_workers=5) as executor:\n",
        "    # Start the load operations and mark each future with its URL\n",
        "    future_to_url = {executor.submit(get_weather_csv, url): url for url in urls}\n",
        "    for future in concurrent.futures.as_completed(future_to_url):\n",
        "        url = future_to_url[future]\n",
        "        try:\n",
        "            filepath = future.result()\n",
        "        except Exception as exc:\n",
        "            print('%r generated an exception: %s' % (url, exc))\n"
      ],
      "metadata": {
        "id": "FEm60Cm46olX"
      },
      "id": "FEm60Cm46olX",
      "execution_count": 4,
      "outputs": []
    },
    {
      "cell_type": "code",
      "source": [
        "def plot_preds(df):\n",
        "    dates = pd.date_range(start=df['datetime'].min(), end=df['datetime'].max(), freq='D')\n",
        "    options = [(date.strftime(' %Y-%m-%d '), date) for date in dates]\n",
        "\n",
        "    date_range_slider = widgets.SelectionRangeSlider(\n",
        "        options=options,\n",
        "        index=(0, len(options)-1),\n",
        "        description='Select Date Range',\n",
        "        orientation='horizontal',\n",
        "        layout={'width': '500px'}\n",
        "    )\n",
        "\n",
        "    def update_plot(date_range):\n",
        "        # Filter the DataFrame for the selected date range\n",
        "        start_date, end_date = date_range\n",
        "        mask = (df['datetime'] >= start_date) & (df['datetime'] <= end_date)\n",
        "        filtered_df = df.loc[mask].set_index('datetime')\n",
        "\n",
        "        # Plotting\n",
        "        plt.figure(figsize=(10, 5))\n",
        "        plt.plot(filtered_df['Actual'], label='Actual AQI', color='blue')\n",
        "        plt.plot(filtered_df['Predicted'], label='Predicted AQI', color='red', alpha=0.6)\n",
        "        plt.title('Comparison of Actual and Predicted AQI')\n",
        "        plt.xlabel('Date')\n",
        "        plt.ylabel('AQI Value')\n",
        "        plt.legend()\n",
        "        plt.grid(True)\n",
        "        plt.show()\n",
        "\n",
        "    # Connect the SelectionRangeSlider to the update_plot function\n",
        "    widgets.interact(update_plot, date_range=date_range_slider)"
      ],
      "metadata": {
        "id": "EjE2Ol34VjD_"
      },
      "id": "EjE2Ol34VjD_",
      "execution_count": 5,
      "outputs": []
    },
    {
      "cell_type": "markdown",
      "source": [
        "# Weather data exploration\n",
        "\n",
        "- [Glossary](https://climate.weather.gc.ca/glossary_e.html)"
      ],
      "metadata": {
        "id": "vzLXSPBuZWoJ"
      },
      "id": "vzLXSPBuZWoJ"
    },
    {
      "cell_type": "code",
      "source": [
        "all_files = []\n",
        "for filename in os.listdir(\".\"):\n",
        "  if filename.startswith(\"weather_\"):\n",
        "    all_files.append(pd.read_csv(filename))\n",
        "\n",
        "weather_df = pd.concat(all_files)\n",
        "\n",
        "weather_df.rename(columns={'Date/Time (LST)': 'datetime', \"Temp (°C)\": \"temp\", \"Precip. Amount (mm)\": \"precip\", \"Rel Hum (%)\": \"rel_humid\"}, inplace=True)\n",
        "weather_df['datetime'] = pd.to_datetime(weather_df['datetime'])\n",
        "\n",
        "\n",
        "\n",
        "# TODO: for the temp we should look at the day before or after instead of using 0\n",
        "weather_df.fillna({\"precip\": 0, \"temp\": 0, \"rel_humid\": weather_df['rel_humid'].mode()[0]}, inplace=True)\n",
        "weather_df = weather_df[['datetime', \"temp\", \"rel_humid\"]]\n",
        "\n",
        "\n",
        "# Only take data from the first known and last known day\n",
        "weather_df = filter_known_range(weather_df)\n",
        "\n",
        "weather_df.sort_values(\"datetime\", inplace=True)\n",
        "\n",
        "assert weather_df[weather_df.isna().any(axis=1)].empty == True\n",
        "\n",
        "weather_df"
      ],
      "metadata": {
        "colab": {
          "base_uri": "https://localhost:8080/",
          "height": 424
        },
        "id": "lzFiyoGwPQJQ",
        "outputId": "2868949c-46d2-437f-b45c-4c6d79201f77"
      },
      "id": "lzFiyoGwPQJQ",
      "execution_count": 71,
      "outputs": [
        {
          "output_type": "execute_result",
          "data": {
            "text/plain": [
              "               datetime  temp  rel_humid\n",
              "0   2012-01-01 00:00:00   0.0       73.0\n",
              "1   2012-01-01 01:00:00   0.0       73.0\n",
              "2   2012-01-01 02:00:00   0.0       73.0\n",
              "3   2012-01-01 03:00:00   0.0       73.0\n",
              "4   2012-01-01 04:00:00   0.0       73.0\n",
              "..                  ...   ...        ...\n",
              "211 2024-04-09 19:00:00  15.0       35.0\n",
              "212 2024-04-09 20:00:00  13.4       37.0\n",
              "213 2024-04-09 21:00:00  12.6       37.0\n",
              "214 2024-04-09 22:00:00  11.7       38.0\n",
              "215 2024-04-09 23:00:00  10.9       38.0\n",
              "\n",
              "[107592 rows x 3 columns]"
            ],
            "text/html": [
              "\n",
              "  <div id=\"df-974d5d0f-39c2-40e8-8da5-564d7074e681\" class=\"colab-df-container\">\n",
              "    <div>\n",
              "<style scoped>\n",
              "    .dataframe tbody tr th:only-of-type {\n",
              "        vertical-align: middle;\n",
              "    }\n",
              "\n",
              "    .dataframe tbody tr th {\n",
              "        vertical-align: top;\n",
              "    }\n",
              "\n",
              "    .dataframe thead th {\n",
              "        text-align: right;\n",
              "    }\n",
              "</style>\n",
              "<table border=\"1\" class=\"dataframe\">\n",
              "  <thead>\n",
              "    <tr style=\"text-align: right;\">\n",
              "      <th></th>\n",
              "      <th>datetime</th>\n",
              "      <th>temp</th>\n",
              "      <th>rel_humid</th>\n",
              "    </tr>\n",
              "  </thead>\n",
              "  <tbody>\n",
              "    <tr>\n",
              "      <th>0</th>\n",
              "      <td>2012-01-01 00:00:00</td>\n",
              "      <td>0.0</td>\n",
              "      <td>73.0</td>\n",
              "    </tr>\n",
              "    <tr>\n",
              "      <th>1</th>\n",
              "      <td>2012-01-01 01:00:00</td>\n",
              "      <td>0.0</td>\n",
              "      <td>73.0</td>\n",
              "    </tr>\n",
              "    <tr>\n",
              "      <th>2</th>\n",
              "      <td>2012-01-01 02:00:00</td>\n",
              "      <td>0.0</td>\n",
              "      <td>73.0</td>\n",
              "    </tr>\n",
              "    <tr>\n",
              "      <th>3</th>\n",
              "      <td>2012-01-01 03:00:00</td>\n",
              "      <td>0.0</td>\n",
              "      <td>73.0</td>\n",
              "    </tr>\n",
              "    <tr>\n",
              "      <th>4</th>\n",
              "      <td>2012-01-01 04:00:00</td>\n",
              "      <td>0.0</td>\n",
              "      <td>73.0</td>\n",
              "    </tr>\n",
              "    <tr>\n",
              "      <th>...</th>\n",
              "      <td>...</td>\n",
              "      <td>...</td>\n",
              "      <td>...</td>\n",
              "    </tr>\n",
              "    <tr>\n",
              "      <th>211</th>\n",
              "      <td>2024-04-09 19:00:00</td>\n",
              "      <td>15.0</td>\n",
              "      <td>35.0</td>\n",
              "    </tr>\n",
              "    <tr>\n",
              "      <th>212</th>\n",
              "      <td>2024-04-09 20:00:00</td>\n",
              "      <td>13.4</td>\n",
              "      <td>37.0</td>\n",
              "    </tr>\n",
              "    <tr>\n",
              "      <th>213</th>\n",
              "      <td>2024-04-09 21:00:00</td>\n",
              "      <td>12.6</td>\n",
              "      <td>37.0</td>\n",
              "    </tr>\n",
              "    <tr>\n",
              "      <th>214</th>\n",
              "      <td>2024-04-09 22:00:00</td>\n",
              "      <td>11.7</td>\n",
              "      <td>38.0</td>\n",
              "    </tr>\n",
              "    <tr>\n",
              "      <th>215</th>\n",
              "      <td>2024-04-09 23:00:00</td>\n",
              "      <td>10.9</td>\n",
              "      <td>38.0</td>\n",
              "    </tr>\n",
              "  </tbody>\n",
              "</table>\n",
              "<p>107592 rows × 3 columns</p>\n",
              "</div>\n",
              "    <div class=\"colab-df-buttons\">\n",
              "\n",
              "  <div class=\"colab-df-container\">\n",
              "    <button class=\"colab-df-convert\" onclick=\"convertToInteractive('df-974d5d0f-39c2-40e8-8da5-564d7074e681')\"\n",
              "            title=\"Convert this dataframe to an interactive table.\"\n",
              "            style=\"display:none;\">\n",
              "\n",
              "  <svg xmlns=\"http://www.w3.org/2000/svg\" height=\"24px\" viewBox=\"0 -960 960 960\">\n",
              "    <path d=\"M120-120v-720h720v720H120Zm60-500h600v-160H180v160Zm220 220h160v-160H400v160Zm0 220h160v-160H400v160ZM180-400h160v-160H180v160Zm440 0h160v-160H620v160ZM180-180h160v-160H180v160Zm440 0h160v-160H620v160Z\"/>\n",
              "  </svg>\n",
              "    </button>\n",
              "\n",
              "  <style>\n",
              "    .colab-df-container {\n",
              "      display:flex;\n",
              "      gap: 12px;\n",
              "    }\n",
              "\n",
              "    .colab-df-convert {\n",
              "      background-color: #E8F0FE;\n",
              "      border: none;\n",
              "      border-radius: 50%;\n",
              "      cursor: pointer;\n",
              "      display: none;\n",
              "      fill: #1967D2;\n",
              "      height: 32px;\n",
              "      padding: 0 0 0 0;\n",
              "      width: 32px;\n",
              "    }\n",
              "\n",
              "    .colab-df-convert:hover {\n",
              "      background-color: #E2EBFA;\n",
              "      box-shadow: 0px 1px 2px rgba(60, 64, 67, 0.3), 0px 1px 3px 1px rgba(60, 64, 67, 0.15);\n",
              "      fill: #174EA6;\n",
              "    }\n",
              "\n",
              "    .colab-df-buttons div {\n",
              "      margin-bottom: 4px;\n",
              "    }\n",
              "\n",
              "    [theme=dark] .colab-df-convert {\n",
              "      background-color: #3B4455;\n",
              "      fill: #D2E3FC;\n",
              "    }\n",
              "\n",
              "    [theme=dark] .colab-df-convert:hover {\n",
              "      background-color: #434B5C;\n",
              "      box-shadow: 0px 1px 3px 1px rgba(0, 0, 0, 0.15);\n",
              "      filter: drop-shadow(0px 1px 2px rgba(0, 0, 0, 0.3));\n",
              "      fill: #FFFFFF;\n",
              "    }\n",
              "  </style>\n",
              "\n",
              "    <script>\n",
              "      const buttonEl =\n",
              "        document.querySelector('#df-974d5d0f-39c2-40e8-8da5-564d7074e681 button.colab-df-convert');\n",
              "      buttonEl.style.display =\n",
              "        google.colab.kernel.accessAllowed ? 'block' : 'none';\n",
              "\n",
              "      async function convertToInteractive(key) {\n",
              "        const element = document.querySelector('#df-974d5d0f-39c2-40e8-8da5-564d7074e681');\n",
              "        const dataTable =\n",
              "          await google.colab.kernel.invokeFunction('convertToInteractive',\n",
              "                                                    [key], {});\n",
              "        if (!dataTable) return;\n",
              "\n",
              "        const docLinkHtml = 'Like what you see? Visit the ' +\n",
              "          '<a target=\"_blank\" href=https://colab.research.google.com/notebooks/data_table.ipynb>data table notebook</a>'\n",
              "          + ' to learn more about interactive tables.';\n",
              "        element.innerHTML = '';\n",
              "        dataTable['output_type'] = 'display_data';\n",
              "        await google.colab.output.renderOutput(dataTable, element);\n",
              "        const docLink = document.createElement('div');\n",
              "        docLink.innerHTML = docLinkHtml;\n",
              "        element.appendChild(docLink);\n",
              "      }\n",
              "    </script>\n",
              "  </div>\n",
              "\n",
              "\n",
              "<div id=\"df-4ff520a9-f552-4e7e-9e3c-5145ecb8603b\">\n",
              "  <button class=\"colab-df-quickchart\" onclick=\"quickchart('df-4ff520a9-f552-4e7e-9e3c-5145ecb8603b')\"\n",
              "            title=\"Suggest charts\"\n",
              "            style=\"display:none;\">\n",
              "\n",
              "<svg xmlns=\"http://www.w3.org/2000/svg\" height=\"24px\"viewBox=\"0 0 24 24\"\n",
              "     width=\"24px\">\n",
              "    <g>\n",
              "        <path d=\"M19 3H5c-1.1 0-2 .9-2 2v14c0 1.1.9 2 2 2h14c1.1 0 2-.9 2-2V5c0-1.1-.9-2-2-2zM9 17H7v-7h2v7zm4 0h-2V7h2v10zm4 0h-2v-4h2v4z\"/>\n",
              "    </g>\n",
              "</svg>\n",
              "  </button>\n",
              "\n",
              "<style>\n",
              "  .colab-df-quickchart {\n",
              "      --bg-color: #E8F0FE;\n",
              "      --fill-color: #1967D2;\n",
              "      --hover-bg-color: #E2EBFA;\n",
              "      --hover-fill-color: #174EA6;\n",
              "      --disabled-fill-color: #AAA;\n",
              "      --disabled-bg-color: #DDD;\n",
              "  }\n",
              "\n",
              "  [theme=dark] .colab-df-quickchart {\n",
              "      --bg-color: #3B4455;\n",
              "      --fill-color: #D2E3FC;\n",
              "      --hover-bg-color: #434B5C;\n",
              "      --hover-fill-color: #FFFFFF;\n",
              "      --disabled-bg-color: #3B4455;\n",
              "      --disabled-fill-color: #666;\n",
              "  }\n",
              "\n",
              "  .colab-df-quickchart {\n",
              "    background-color: var(--bg-color);\n",
              "    border: none;\n",
              "    border-radius: 50%;\n",
              "    cursor: pointer;\n",
              "    display: none;\n",
              "    fill: var(--fill-color);\n",
              "    height: 32px;\n",
              "    padding: 0;\n",
              "    width: 32px;\n",
              "  }\n",
              "\n",
              "  .colab-df-quickchart:hover {\n",
              "    background-color: var(--hover-bg-color);\n",
              "    box-shadow: 0 1px 2px rgba(60, 64, 67, 0.3), 0 1px 3px 1px rgba(60, 64, 67, 0.15);\n",
              "    fill: var(--button-hover-fill-color);\n",
              "  }\n",
              "\n",
              "  .colab-df-quickchart-complete:disabled,\n",
              "  .colab-df-quickchart-complete:disabled:hover {\n",
              "    background-color: var(--disabled-bg-color);\n",
              "    fill: var(--disabled-fill-color);\n",
              "    box-shadow: none;\n",
              "  }\n",
              "\n",
              "  .colab-df-spinner {\n",
              "    border: 2px solid var(--fill-color);\n",
              "    border-color: transparent;\n",
              "    border-bottom-color: var(--fill-color);\n",
              "    animation:\n",
              "      spin 1s steps(1) infinite;\n",
              "  }\n",
              "\n",
              "  @keyframes spin {\n",
              "    0% {\n",
              "      border-color: transparent;\n",
              "      border-bottom-color: var(--fill-color);\n",
              "      border-left-color: var(--fill-color);\n",
              "    }\n",
              "    20% {\n",
              "      border-color: transparent;\n",
              "      border-left-color: var(--fill-color);\n",
              "      border-top-color: var(--fill-color);\n",
              "    }\n",
              "    30% {\n",
              "      border-color: transparent;\n",
              "      border-left-color: var(--fill-color);\n",
              "      border-top-color: var(--fill-color);\n",
              "      border-right-color: var(--fill-color);\n",
              "    }\n",
              "    40% {\n",
              "      border-color: transparent;\n",
              "      border-right-color: var(--fill-color);\n",
              "      border-top-color: var(--fill-color);\n",
              "    }\n",
              "    60% {\n",
              "      border-color: transparent;\n",
              "      border-right-color: var(--fill-color);\n",
              "    }\n",
              "    80% {\n",
              "      border-color: transparent;\n",
              "      border-right-color: var(--fill-color);\n",
              "      border-bottom-color: var(--fill-color);\n",
              "    }\n",
              "    90% {\n",
              "      border-color: transparent;\n",
              "      border-bottom-color: var(--fill-color);\n",
              "    }\n",
              "  }\n",
              "</style>\n",
              "\n",
              "  <script>\n",
              "    async function quickchart(key) {\n",
              "      const quickchartButtonEl =\n",
              "        document.querySelector('#' + key + ' button');\n",
              "      quickchartButtonEl.disabled = true;  // To prevent multiple clicks.\n",
              "      quickchartButtonEl.classList.add('colab-df-spinner');\n",
              "      try {\n",
              "        const charts = await google.colab.kernel.invokeFunction(\n",
              "            'suggestCharts', [key], {});\n",
              "      } catch (error) {\n",
              "        console.error('Error during call to suggestCharts:', error);\n",
              "      }\n",
              "      quickchartButtonEl.classList.remove('colab-df-spinner');\n",
              "      quickchartButtonEl.classList.add('colab-df-quickchart-complete');\n",
              "    }\n",
              "    (() => {\n",
              "      let quickchartButtonEl =\n",
              "        document.querySelector('#df-4ff520a9-f552-4e7e-9e3c-5145ecb8603b button');\n",
              "      quickchartButtonEl.style.display =\n",
              "        google.colab.kernel.accessAllowed ? 'block' : 'none';\n",
              "    })();\n",
              "  </script>\n",
              "</div>\n",
              "\n",
              "  <div id=\"id_0e5bfb80-3837-4799-9d86-52f26ed281f6\">\n",
              "    <style>\n",
              "      .colab-df-generate {\n",
              "        background-color: #E8F0FE;\n",
              "        border: none;\n",
              "        border-radius: 50%;\n",
              "        cursor: pointer;\n",
              "        display: none;\n",
              "        fill: #1967D2;\n",
              "        height: 32px;\n",
              "        padding: 0 0 0 0;\n",
              "        width: 32px;\n",
              "      }\n",
              "\n",
              "      .colab-df-generate:hover {\n",
              "        background-color: #E2EBFA;\n",
              "        box-shadow: 0px 1px 2px rgba(60, 64, 67, 0.3), 0px 1px 3px 1px rgba(60, 64, 67, 0.15);\n",
              "        fill: #174EA6;\n",
              "      }\n",
              "\n",
              "      [theme=dark] .colab-df-generate {\n",
              "        background-color: #3B4455;\n",
              "        fill: #D2E3FC;\n",
              "      }\n",
              "\n",
              "      [theme=dark] .colab-df-generate:hover {\n",
              "        background-color: #434B5C;\n",
              "        box-shadow: 0px 1px 3px 1px rgba(0, 0, 0, 0.15);\n",
              "        filter: drop-shadow(0px 1px 2px rgba(0, 0, 0, 0.3));\n",
              "        fill: #FFFFFF;\n",
              "      }\n",
              "    </style>\n",
              "    <button class=\"colab-df-generate\" onclick=\"generateWithVariable('weather_df')\"\n",
              "            title=\"Generate code using this dataframe.\"\n",
              "            style=\"display:none;\">\n",
              "\n",
              "  <svg xmlns=\"http://www.w3.org/2000/svg\" height=\"24px\"viewBox=\"0 0 24 24\"\n",
              "       width=\"24px\">\n",
              "    <path d=\"M7,19H8.4L18.45,9,17,7.55,7,17.6ZM5,21V16.75L18.45,3.32a2,2,0,0,1,2.83,0l1.4,1.43a1.91,1.91,0,0,1,.58,1.4,1.91,1.91,0,0,1-.58,1.4L9.25,21ZM18.45,9,17,7.55Zm-12,3A5.31,5.31,0,0,0,4.9,8.1,5.31,5.31,0,0,0,1,6.5,5.31,5.31,0,0,0,4.9,4.9,5.31,5.31,0,0,0,6.5,1,5.31,5.31,0,0,0,8.1,4.9,5.31,5.31,0,0,0,12,6.5,5.46,5.46,0,0,0,6.5,12Z\"/>\n",
              "  </svg>\n",
              "    </button>\n",
              "    <script>\n",
              "      (() => {\n",
              "      const buttonEl =\n",
              "        document.querySelector('#id_0e5bfb80-3837-4799-9d86-52f26ed281f6 button.colab-df-generate');\n",
              "      buttonEl.style.display =\n",
              "        google.colab.kernel.accessAllowed ? 'block' : 'none';\n",
              "\n",
              "      buttonEl.onclick = () => {\n",
              "        google.colab.notebook.generateWithVariable('weather_df');\n",
              "      }\n",
              "      })();\n",
              "    </script>\n",
              "  </div>\n",
              "\n",
              "    </div>\n",
              "  </div>\n"
            ],
            "application/vnd.google.colaboratory.intrinsic+json": {
              "type": "dataframe",
              "variable_name": "weather_df"
            }
          },
          "metadata": {},
          "execution_count": 71
        }
      ]
    },
    {
      "cell_type": "markdown",
      "source": [
        "# AQI data exploration"
      ],
      "metadata": {
        "id": "uY4wXQHWZsfR"
      },
      "id": "uY4wXQHWZsfR"
    },
    {
      "cell_type": "code",
      "source": [
        "df1 = get_csv('https://donnees.montreal.ca/dataset/547b8052-1710-4d69-8760-beaa3aa35ec6/resource/0c325562-e742-4e8e-8c36-971f3c9e58cd/download/rsqa-indice-qualite-air-2022-2024.csv', '2022-2024.csv')\n",
        "df2 = get_csv('https://donnees.montreal.ca/dataset/547b8052-1710-4d69-8760-beaa3aa35ec6/resource/e43dc1d6-fbdd-49c3-a79f-83f63404c281/download/rsqa-indice-qualite-air-2019-2021.csv', '2019-2021.csv')\n",
        "df3 = get_csv(\"https://donnees.montreal.ca/dataset/547b8052-1710-4d69-8760-beaa3aa35ec6/resource/93a3a88e-97ab-4ab1-813f-5419a1dd330d/download/rsqa-indice-qualite-air-2016-2018.csv\", \"2016-2018.csv\")\n",
        "df4 = get_csv(\"https://donnees.montreal.ca/dataset/547b8052-1710-4d69-8760-beaa3aa35ec6/resource/02cfaf0c-3b46-4dac-bf66-acd2ff47361a/download/rsqa-indice-qualite-air-2013-2015.csv\", \"2013-2015.csv\")\n",
        "df5 = get_csv(\"https://donnees.montreal.ca/dataset/547b8052-1710-4d69-8760-beaa3aa35ec6/resource/6e59c6e9-749b-4237-9c45-5c627be2b7ad/download/rsqa-indice-qualite-air-2010-2012.csv\", \"2010-2012.csv\")"
      ],
      "metadata": {
        "colab": {
          "base_uri": "https://localhost:8080/"
        },
        "id": "F9t_mtT93nqs",
        "outputId": "6b1e3591-b1e0-47a4-d160-e817f46045a4"
      },
      "id": "F9t_mtT93nqs",
      "execution_count": 7,
      "outputs": [
        {
          "output_type": "stream",
          "name": "stdout",
          "text": [
            "2022-2024.csv not found locally. Downloading and reading from URL...\n",
            "2019-2021.csv not found locally. Downloading and reading from URL...\n",
            "2016-2018.csv not found locally. Downloading and reading from URL...\n",
            "2013-2015.csv not found locally. Downloading and reading from URL...\n",
            "2010-2012.csv not found locally. Downloading and reading from URL...\n"
          ]
        }
      ]
    },
    {
      "cell_type": "code",
      "source": [
        "df = pd.concat([df1, df2, df3, df4, df5])\n",
        "df['datetime'] = pd.to_datetime(df['date'] + ' ' + df['heure'].astype(str) + ':00:00',\n",
        "                                format = '%Y-%m-%d %H:%M:%S',\n",
        "                                errors = 'coerce')\n",
        "df.drop([\"heure\", \"polluant\", \"date\"], axis=1, inplace=True)\n",
        "df.sort_values(\"datetime\", inplace=True)\n",
        "\n",
        "# Taking a sample of data for a given datetime and station id\n",
        "# df[(df[\"stationId\"] == 103) & (df[\"datetime\"] == \"2024-04-15 19:00:00\")]\n",
        "\n",
        "df = filter_known_range(df)\n",
        "\n",
        "assert df[df.isna().any(axis=1)].empty == True\n",
        "df"
      ],
      "metadata": {
        "colab": {
          "base_uri": "https://localhost:8080/",
          "height": 424
        },
        "id": "aWSJHeTOwLlz",
        "outputId": "3d7283f7-d8d1-46bc-c90b-87a2fb312e13"
      },
      "id": "aWSJHeTOwLlz",
      "execution_count": 124,
      "outputs": [
        {
          "output_type": "execute_result",
          "data": {
            "text/plain": [
              "        stationId  valeur            datetime\n",
              "584289         55       7 2012-01-01 00:00:00\n",
              "591367         28      35 2012-01-01 00:00:00\n",
              "591366         28       6 2012-01-01 00:00:00\n",
              "584288         55       1 2012-01-01 00:00:00\n",
              "664507         61       1 2012-01-01 00:00:00\n",
              "...           ...     ...                 ...\n",
              "764792         28       2 2024-04-09 23:00:00\n",
              "764793         28       7 2024-04-09 23:00:00\n",
              "764795         31       1 2024-04-09 23:00:00\n",
              "764803         66      22 2024-04-09 23:00:00\n",
              "764794         31       1 2024-04-09 23:00:00\n",
              "\n",
              "[4070625 rows x 3 columns]"
            ],
            "text/html": [
              "\n",
              "  <div id=\"df-36f71466-6841-4ecd-a9ce-9e0efded03a7\" class=\"colab-df-container\">\n",
              "    <div>\n",
              "<style scoped>\n",
              "    .dataframe tbody tr th:only-of-type {\n",
              "        vertical-align: middle;\n",
              "    }\n",
              "\n",
              "    .dataframe tbody tr th {\n",
              "        vertical-align: top;\n",
              "    }\n",
              "\n",
              "    .dataframe thead th {\n",
              "        text-align: right;\n",
              "    }\n",
              "</style>\n",
              "<table border=\"1\" class=\"dataframe\">\n",
              "  <thead>\n",
              "    <tr style=\"text-align: right;\">\n",
              "      <th></th>\n",
              "      <th>stationId</th>\n",
              "      <th>valeur</th>\n",
              "      <th>datetime</th>\n",
              "    </tr>\n",
              "  </thead>\n",
              "  <tbody>\n",
              "    <tr>\n",
              "      <th>584289</th>\n",
              "      <td>55</td>\n",
              "      <td>7</td>\n",
              "      <td>2012-01-01 00:00:00</td>\n",
              "    </tr>\n",
              "    <tr>\n",
              "      <th>591367</th>\n",
              "      <td>28</td>\n",
              "      <td>35</td>\n",
              "      <td>2012-01-01 00:00:00</td>\n",
              "    </tr>\n",
              "    <tr>\n",
              "      <th>591366</th>\n",
              "      <td>28</td>\n",
              "      <td>6</td>\n",
              "      <td>2012-01-01 00:00:00</td>\n",
              "    </tr>\n",
              "    <tr>\n",
              "      <th>584288</th>\n",
              "      <td>55</td>\n",
              "      <td>1</td>\n",
              "      <td>2012-01-01 00:00:00</td>\n",
              "    </tr>\n",
              "    <tr>\n",
              "      <th>664507</th>\n",
              "      <td>61</td>\n",
              "      <td>1</td>\n",
              "      <td>2012-01-01 00:00:00</td>\n",
              "    </tr>\n",
              "    <tr>\n",
              "      <th>...</th>\n",
              "      <td>...</td>\n",
              "      <td>...</td>\n",
              "      <td>...</td>\n",
              "    </tr>\n",
              "    <tr>\n",
              "      <th>764792</th>\n",
              "      <td>28</td>\n",
              "      <td>2</td>\n",
              "      <td>2024-04-09 23:00:00</td>\n",
              "    </tr>\n",
              "    <tr>\n",
              "      <th>764793</th>\n",
              "      <td>28</td>\n",
              "      <td>7</td>\n",
              "      <td>2024-04-09 23:00:00</td>\n",
              "    </tr>\n",
              "    <tr>\n",
              "      <th>764795</th>\n",
              "      <td>31</td>\n",
              "      <td>1</td>\n",
              "      <td>2024-04-09 23:00:00</td>\n",
              "    </tr>\n",
              "    <tr>\n",
              "      <th>764803</th>\n",
              "      <td>66</td>\n",
              "      <td>22</td>\n",
              "      <td>2024-04-09 23:00:00</td>\n",
              "    </tr>\n",
              "    <tr>\n",
              "      <th>764794</th>\n",
              "      <td>31</td>\n",
              "      <td>1</td>\n",
              "      <td>2024-04-09 23:00:00</td>\n",
              "    </tr>\n",
              "  </tbody>\n",
              "</table>\n",
              "<p>4070625 rows × 3 columns</p>\n",
              "</div>\n",
              "    <div class=\"colab-df-buttons\">\n",
              "\n",
              "  <div class=\"colab-df-container\">\n",
              "    <button class=\"colab-df-convert\" onclick=\"convertToInteractive('df-36f71466-6841-4ecd-a9ce-9e0efded03a7')\"\n",
              "            title=\"Convert this dataframe to an interactive table.\"\n",
              "            style=\"display:none;\">\n",
              "\n",
              "  <svg xmlns=\"http://www.w3.org/2000/svg\" height=\"24px\" viewBox=\"0 -960 960 960\">\n",
              "    <path d=\"M120-120v-720h720v720H120Zm60-500h600v-160H180v160Zm220 220h160v-160H400v160Zm0 220h160v-160H400v160ZM180-400h160v-160H180v160Zm440 0h160v-160H620v160ZM180-180h160v-160H180v160Zm440 0h160v-160H620v160Z\"/>\n",
              "  </svg>\n",
              "    </button>\n",
              "\n",
              "  <style>\n",
              "    .colab-df-container {\n",
              "      display:flex;\n",
              "      gap: 12px;\n",
              "    }\n",
              "\n",
              "    .colab-df-convert {\n",
              "      background-color: #E8F0FE;\n",
              "      border: none;\n",
              "      border-radius: 50%;\n",
              "      cursor: pointer;\n",
              "      display: none;\n",
              "      fill: #1967D2;\n",
              "      height: 32px;\n",
              "      padding: 0 0 0 0;\n",
              "      width: 32px;\n",
              "    }\n",
              "\n",
              "    .colab-df-convert:hover {\n",
              "      background-color: #E2EBFA;\n",
              "      box-shadow: 0px 1px 2px rgba(60, 64, 67, 0.3), 0px 1px 3px 1px rgba(60, 64, 67, 0.15);\n",
              "      fill: #174EA6;\n",
              "    }\n",
              "\n",
              "    .colab-df-buttons div {\n",
              "      margin-bottom: 4px;\n",
              "    }\n",
              "\n",
              "    [theme=dark] .colab-df-convert {\n",
              "      background-color: #3B4455;\n",
              "      fill: #D2E3FC;\n",
              "    }\n",
              "\n",
              "    [theme=dark] .colab-df-convert:hover {\n",
              "      background-color: #434B5C;\n",
              "      box-shadow: 0px 1px 3px 1px rgba(0, 0, 0, 0.15);\n",
              "      filter: drop-shadow(0px 1px 2px rgba(0, 0, 0, 0.3));\n",
              "      fill: #FFFFFF;\n",
              "    }\n",
              "  </style>\n",
              "\n",
              "    <script>\n",
              "      const buttonEl =\n",
              "        document.querySelector('#df-36f71466-6841-4ecd-a9ce-9e0efded03a7 button.colab-df-convert');\n",
              "      buttonEl.style.display =\n",
              "        google.colab.kernel.accessAllowed ? 'block' : 'none';\n",
              "\n",
              "      async function convertToInteractive(key) {\n",
              "        const element = document.querySelector('#df-36f71466-6841-4ecd-a9ce-9e0efded03a7');\n",
              "        const dataTable =\n",
              "          await google.colab.kernel.invokeFunction('convertToInteractive',\n",
              "                                                    [key], {});\n",
              "        if (!dataTable) return;\n",
              "\n",
              "        const docLinkHtml = 'Like what you see? Visit the ' +\n",
              "          '<a target=\"_blank\" href=https://colab.research.google.com/notebooks/data_table.ipynb>data table notebook</a>'\n",
              "          + ' to learn more about interactive tables.';\n",
              "        element.innerHTML = '';\n",
              "        dataTable['output_type'] = 'display_data';\n",
              "        await google.colab.output.renderOutput(dataTable, element);\n",
              "        const docLink = document.createElement('div');\n",
              "        docLink.innerHTML = docLinkHtml;\n",
              "        element.appendChild(docLink);\n",
              "      }\n",
              "    </script>\n",
              "  </div>\n",
              "\n",
              "\n",
              "<div id=\"df-59a00c80-244d-47e6-9ca1-761f8c93ad5a\">\n",
              "  <button class=\"colab-df-quickchart\" onclick=\"quickchart('df-59a00c80-244d-47e6-9ca1-761f8c93ad5a')\"\n",
              "            title=\"Suggest charts\"\n",
              "            style=\"display:none;\">\n",
              "\n",
              "<svg xmlns=\"http://www.w3.org/2000/svg\" height=\"24px\"viewBox=\"0 0 24 24\"\n",
              "     width=\"24px\">\n",
              "    <g>\n",
              "        <path d=\"M19 3H5c-1.1 0-2 .9-2 2v14c0 1.1.9 2 2 2h14c1.1 0 2-.9 2-2V5c0-1.1-.9-2-2-2zM9 17H7v-7h2v7zm4 0h-2V7h2v10zm4 0h-2v-4h2v4z\"/>\n",
              "    </g>\n",
              "</svg>\n",
              "  </button>\n",
              "\n",
              "<style>\n",
              "  .colab-df-quickchart {\n",
              "      --bg-color: #E8F0FE;\n",
              "      --fill-color: #1967D2;\n",
              "      --hover-bg-color: #E2EBFA;\n",
              "      --hover-fill-color: #174EA6;\n",
              "      --disabled-fill-color: #AAA;\n",
              "      --disabled-bg-color: #DDD;\n",
              "  }\n",
              "\n",
              "  [theme=dark] .colab-df-quickchart {\n",
              "      --bg-color: #3B4455;\n",
              "      --fill-color: #D2E3FC;\n",
              "      --hover-bg-color: #434B5C;\n",
              "      --hover-fill-color: #FFFFFF;\n",
              "      --disabled-bg-color: #3B4455;\n",
              "      --disabled-fill-color: #666;\n",
              "  }\n",
              "\n",
              "  .colab-df-quickchart {\n",
              "    background-color: var(--bg-color);\n",
              "    border: none;\n",
              "    border-radius: 50%;\n",
              "    cursor: pointer;\n",
              "    display: none;\n",
              "    fill: var(--fill-color);\n",
              "    height: 32px;\n",
              "    padding: 0;\n",
              "    width: 32px;\n",
              "  }\n",
              "\n",
              "  .colab-df-quickchart:hover {\n",
              "    background-color: var(--hover-bg-color);\n",
              "    box-shadow: 0 1px 2px rgba(60, 64, 67, 0.3), 0 1px 3px 1px rgba(60, 64, 67, 0.15);\n",
              "    fill: var(--button-hover-fill-color);\n",
              "  }\n",
              "\n",
              "  .colab-df-quickchart-complete:disabled,\n",
              "  .colab-df-quickchart-complete:disabled:hover {\n",
              "    background-color: var(--disabled-bg-color);\n",
              "    fill: var(--disabled-fill-color);\n",
              "    box-shadow: none;\n",
              "  }\n",
              "\n",
              "  .colab-df-spinner {\n",
              "    border: 2px solid var(--fill-color);\n",
              "    border-color: transparent;\n",
              "    border-bottom-color: var(--fill-color);\n",
              "    animation:\n",
              "      spin 1s steps(1) infinite;\n",
              "  }\n",
              "\n",
              "  @keyframes spin {\n",
              "    0% {\n",
              "      border-color: transparent;\n",
              "      border-bottom-color: var(--fill-color);\n",
              "      border-left-color: var(--fill-color);\n",
              "    }\n",
              "    20% {\n",
              "      border-color: transparent;\n",
              "      border-left-color: var(--fill-color);\n",
              "      border-top-color: var(--fill-color);\n",
              "    }\n",
              "    30% {\n",
              "      border-color: transparent;\n",
              "      border-left-color: var(--fill-color);\n",
              "      border-top-color: var(--fill-color);\n",
              "      border-right-color: var(--fill-color);\n",
              "    }\n",
              "    40% {\n",
              "      border-color: transparent;\n",
              "      border-right-color: var(--fill-color);\n",
              "      border-top-color: var(--fill-color);\n",
              "    }\n",
              "    60% {\n",
              "      border-color: transparent;\n",
              "      border-right-color: var(--fill-color);\n",
              "    }\n",
              "    80% {\n",
              "      border-color: transparent;\n",
              "      border-right-color: var(--fill-color);\n",
              "      border-bottom-color: var(--fill-color);\n",
              "    }\n",
              "    90% {\n",
              "      border-color: transparent;\n",
              "      border-bottom-color: var(--fill-color);\n",
              "    }\n",
              "  }\n",
              "</style>\n",
              "\n",
              "  <script>\n",
              "    async function quickchart(key) {\n",
              "      const quickchartButtonEl =\n",
              "        document.querySelector('#' + key + ' button');\n",
              "      quickchartButtonEl.disabled = true;  // To prevent multiple clicks.\n",
              "      quickchartButtonEl.classList.add('colab-df-spinner');\n",
              "      try {\n",
              "        const charts = await google.colab.kernel.invokeFunction(\n",
              "            'suggestCharts', [key], {});\n",
              "      } catch (error) {\n",
              "        console.error('Error during call to suggestCharts:', error);\n",
              "      }\n",
              "      quickchartButtonEl.classList.remove('colab-df-spinner');\n",
              "      quickchartButtonEl.classList.add('colab-df-quickchart-complete');\n",
              "    }\n",
              "    (() => {\n",
              "      let quickchartButtonEl =\n",
              "        document.querySelector('#df-59a00c80-244d-47e6-9ca1-761f8c93ad5a button');\n",
              "      quickchartButtonEl.style.display =\n",
              "        google.colab.kernel.accessAllowed ? 'block' : 'none';\n",
              "    })();\n",
              "  </script>\n",
              "</div>\n",
              "\n",
              "  <div id=\"id_486f9ece-4153-4b4b-855b-62a6abff1c5c\">\n",
              "    <style>\n",
              "      .colab-df-generate {\n",
              "        background-color: #E8F0FE;\n",
              "        border: none;\n",
              "        border-radius: 50%;\n",
              "        cursor: pointer;\n",
              "        display: none;\n",
              "        fill: #1967D2;\n",
              "        height: 32px;\n",
              "        padding: 0 0 0 0;\n",
              "        width: 32px;\n",
              "      }\n",
              "\n",
              "      .colab-df-generate:hover {\n",
              "        background-color: #E2EBFA;\n",
              "        box-shadow: 0px 1px 2px rgba(60, 64, 67, 0.3), 0px 1px 3px 1px rgba(60, 64, 67, 0.15);\n",
              "        fill: #174EA6;\n",
              "      }\n",
              "\n",
              "      [theme=dark] .colab-df-generate {\n",
              "        background-color: #3B4455;\n",
              "        fill: #D2E3FC;\n",
              "      }\n",
              "\n",
              "      [theme=dark] .colab-df-generate:hover {\n",
              "        background-color: #434B5C;\n",
              "        box-shadow: 0px 1px 3px 1px rgba(0, 0, 0, 0.15);\n",
              "        filter: drop-shadow(0px 1px 2px rgba(0, 0, 0, 0.3));\n",
              "        fill: #FFFFFF;\n",
              "      }\n",
              "    </style>\n",
              "    <button class=\"colab-df-generate\" onclick=\"generateWithVariable('df')\"\n",
              "            title=\"Generate code using this dataframe.\"\n",
              "            style=\"display:none;\">\n",
              "\n",
              "  <svg xmlns=\"http://www.w3.org/2000/svg\" height=\"24px\"viewBox=\"0 0 24 24\"\n",
              "       width=\"24px\">\n",
              "    <path d=\"M7,19H8.4L18.45,9,17,7.55,7,17.6ZM5,21V16.75L18.45,3.32a2,2,0,0,1,2.83,0l1.4,1.43a1.91,1.91,0,0,1,.58,1.4,1.91,1.91,0,0,1-.58,1.4L9.25,21ZM18.45,9,17,7.55Zm-12,3A5.31,5.31,0,0,0,4.9,8.1,5.31,5.31,0,0,0,1,6.5,5.31,5.31,0,0,0,4.9,4.9,5.31,5.31,0,0,0,6.5,1,5.31,5.31,0,0,0,8.1,4.9,5.31,5.31,0,0,0,12,6.5,5.46,5.46,0,0,0,6.5,12Z\"/>\n",
              "  </svg>\n",
              "    </button>\n",
              "    <script>\n",
              "      (() => {\n",
              "      const buttonEl =\n",
              "        document.querySelector('#id_486f9ece-4153-4b4b-855b-62a6abff1c5c button.colab-df-generate');\n",
              "      buttonEl.style.display =\n",
              "        google.colab.kernel.accessAllowed ? 'block' : 'none';\n",
              "\n",
              "      buttonEl.onclick = () => {\n",
              "        google.colab.notebook.generateWithVariable('df');\n",
              "      }\n",
              "      })();\n",
              "    </script>\n",
              "  </div>\n",
              "\n",
              "    </div>\n",
              "  </div>\n"
            ],
            "application/vnd.google.colaboratory.intrinsic+json": {
              "type": "dataframe",
              "variable_name": "df"
            }
          },
          "metadata": {},
          "execution_count": 124
        }
      ]
    },
    {
      "cell_type": "code",
      "source": [
        "# the data contains measurements across various stations (spread over the MTL territory).\n",
        "# We can take the maximum measurement for a given station for a given datetime (regardless of the pollutant).\n",
        "# Note: we are assuming each pollutant contributes equally to the AQI level\n",
        "# (Using the maximum pollutant value as a representative AQI is simplistic. Real AQI calculation may involve more complex computations where different pollutants have different weights or scale adjustments based on their health impact.)\n",
        "group1_df = df.groupby(['stationId', 'datetime']).max(\"valeur\")\n",
        "\n",
        "# Manually verifying the maximum has been taken for a given station id on a given datetime\n",
        "group1_df"
      ],
      "metadata": {
        "colab": {
          "base_uri": "https://localhost:8080/",
          "height": 455
        },
        "id": "Y4LWc6LcwcKr",
        "outputId": "64a23a69-77c1-449d-ffd1-ad3c5103b7ac"
      },
      "id": "Y4LWc6LcwcKr",
      "execution_count": 125,
      "outputs": [
        {
          "output_type": "execute_result",
          "data": {
            "text/plain": [
              "                               valeur\n",
              "stationId datetime                   \n",
              "3         2012-01-01 00:00:00      26\n",
              "          2012-01-01 01:00:00      30\n",
              "          2012-01-01 02:00:00      36\n",
              "          2012-01-01 03:00:00      38\n",
              "          2012-01-01 04:00:00      39\n",
              "...                               ...\n",
              "103       2024-04-09 19:00:00      25\n",
              "          2024-04-09 20:00:00      20\n",
              "          2024-04-09 21:00:00      22\n",
              "          2024-04-09 22:00:00      22\n",
              "          2024-04-09 23:00:00      21\n",
              "\n",
              "[1144172 rows x 1 columns]"
            ],
            "text/html": [
              "\n",
              "  <div id=\"df-29c00b63-ae71-4bd3-957f-cf6efae7bbde\" class=\"colab-df-container\">\n",
              "    <div>\n",
              "<style scoped>\n",
              "    .dataframe tbody tr th:only-of-type {\n",
              "        vertical-align: middle;\n",
              "    }\n",
              "\n",
              "    .dataframe tbody tr th {\n",
              "        vertical-align: top;\n",
              "    }\n",
              "\n",
              "    .dataframe thead th {\n",
              "        text-align: right;\n",
              "    }\n",
              "</style>\n",
              "<table border=\"1\" class=\"dataframe\">\n",
              "  <thead>\n",
              "    <tr style=\"text-align: right;\">\n",
              "      <th></th>\n",
              "      <th></th>\n",
              "      <th>valeur</th>\n",
              "    </tr>\n",
              "    <tr>\n",
              "      <th>stationId</th>\n",
              "      <th>datetime</th>\n",
              "      <th></th>\n",
              "    </tr>\n",
              "  </thead>\n",
              "  <tbody>\n",
              "    <tr>\n",
              "      <th rowspan=\"5\" valign=\"top\">3</th>\n",
              "      <th>2012-01-01 00:00:00</th>\n",
              "      <td>26</td>\n",
              "    </tr>\n",
              "    <tr>\n",
              "      <th>2012-01-01 01:00:00</th>\n",
              "      <td>30</td>\n",
              "    </tr>\n",
              "    <tr>\n",
              "      <th>2012-01-01 02:00:00</th>\n",
              "      <td>36</td>\n",
              "    </tr>\n",
              "    <tr>\n",
              "      <th>2012-01-01 03:00:00</th>\n",
              "      <td>38</td>\n",
              "    </tr>\n",
              "    <tr>\n",
              "      <th>2012-01-01 04:00:00</th>\n",
              "      <td>39</td>\n",
              "    </tr>\n",
              "    <tr>\n",
              "      <th>...</th>\n",
              "      <th>...</th>\n",
              "      <td>...</td>\n",
              "    </tr>\n",
              "    <tr>\n",
              "      <th rowspan=\"5\" valign=\"top\">103</th>\n",
              "      <th>2024-04-09 19:00:00</th>\n",
              "      <td>25</td>\n",
              "    </tr>\n",
              "    <tr>\n",
              "      <th>2024-04-09 20:00:00</th>\n",
              "      <td>20</td>\n",
              "    </tr>\n",
              "    <tr>\n",
              "      <th>2024-04-09 21:00:00</th>\n",
              "      <td>22</td>\n",
              "    </tr>\n",
              "    <tr>\n",
              "      <th>2024-04-09 22:00:00</th>\n",
              "      <td>22</td>\n",
              "    </tr>\n",
              "    <tr>\n",
              "      <th>2024-04-09 23:00:00</th>\n",
              "      <td>21</td>\n",
              "    </tr>\n",
              "  </tbody>\n",
              "</table>\n",
              "<p>1144172 rows × 1 columns</p>\n",
              "</div>\n",
              "    <div class=\"colab-df-buttons\">\n",
              "\n",
              "  <div class=\"colab-df-container\">\n",
              "    <button class=\"colab-df-convert\" onclick=\"convertToInteractive('df-29c00b63-ae71-4bd3-957f-cf6efae7bbde')\"\n",
              "            title=\"Convert this dataframe to an interactive table.\"\n",
              "            style=\"display:none;\">\n",
              "\n",
              "  <svg xmlns=\"http://www.w3.org/2000/svg\" height=\"24px\" viewBox=\"0 -960 960 960\">\n",
              "    <path d=\"M120-120v-720h720v720H120Zm60-500h600v-160H180v160Zm220 220h160v-160H400v160Zm0 220h160v-160H400v160ZM180-400h160v-160H180v160Zm440 0h160v-160H620v160ZM180-180h160v-160H180v160Zm440 0h160v-160H620v160Z\"/>\n",
              "  </svg>\n",
              "    </button>\n",
              "\n",
              "  <style>\n",
              "    .colab-df-container {\n",
              "      display:flex;\n",
              "      gap: 12px;\n",
              "    }\n",
              "\n",
              "    .colab-df-convert {\n",
              "      background-color: #E8F0FE;\n",
              "      border: none;\n",
              "      border-radius: 50%;\n",
              "      cursor: pointer;\n",
              "      display: none;\n",
              "      fill: #1967D2;\n",
              "      height: 32px;\n",
              "      padding: 0 0 0 0;\n",
              "      width: 32px;\n",
              "    }\n",
              "\n",
              "    .colab-df-convert:hover {\n",
              "      background-color: #E2EBFA;\n",
              "      box-shadow: 0px 1px 2px rgba(60, 64, 67, 0.3), 0px 1px 3px 1px rgba(60, 64, 67, 0.15);\n",
              "      fill: #174EA6;\n",
              "    }\n",
              "\n",
              "    .colab-df-buttons div {\n",
              "      margin-bottom: 4px;\n",
              "    }\n",
              "\n",
              "    [theme=dark] .colab-df-convert {\n",
              "      background-color: #3B4455;\n",
              "      fill: #D2E3FC;\n",
              "    }\n",
              "\n",
              "    [theme=dark] .colab-df-convert:hover {\n",
              "      background-color: #434B5C;\n",
              "      box-shadow: 0px 1px 3px 1px rgba(0, 0, 0, 0.15);\n",
              "      filter: drop-shadow(0px 1px 2px rgba(0, 0, 0, 0.3));\n",
              "      fill: #FFFFFF;\n",
              "    }\n",
              "  </style>\n",
              "\n",
              "    <script>\n",
              "      const buttonEl =\n",
              "        document.querySelector('#df-29c00b63-ae71-4bd3-957f-cf6efae7bbde button.colab-df-convert');\n",
              "      buttonEl.style.display =\n",
              "        google.colab.kernel.accessAllowed ? 'block' : 'none';\n",
              "\n",
              "      async function convertToInteractive(key) {\n",
              "        const element = document.querySelector('#df-29c00b63-ae71-4bd3-957f-cf6efae7bbde');\n",
              "        const dataTable =\n",
              "          await google.colab.kernel.invokeFunction('convertToInteractive',\n",
              "                                                    [key], {});\n",
              "        if (!dataTable) return;\n",
              "\n",
              "        const docLinkHtml = 'Like what you see? Visit the ' +\n",
              "          '<a target=\"_blank\" href=https://colab.research.google.com/notebooks/data_table.ipynb>data table notebook</a>'\n",
              "          + ' to learn more about interactive tables.';\n",
              "        element.innerHTML = '';\n",
              "        dataTable['output_type'] = 'display_data';\n",
              "        await google.colab.output.renderOutput(dataTable, element);\n",
              "        const docLink = document.createElement('div');\n",
              "        docLink.innerHTML = docLinkHtml;\n",
              "        element.appendChild(docLink);\n",
              "      }\n",
              "    </script>\n",
              "  </div>\n",
              "\n",
              "\n",
              "<div id=\"df-bd5dc21e-2ccd-40ae-836a-aa3bdf7ee45d\">\n",
              "  <button class=\"colab-df-quickchart\" onclick=\"quickchart('df-bd5dc21e-2ccd-40ae-836a-aa3bdf7ee45d')\"\n",
              "            title=\"Suggest charts\"\n",
              "            style=\"display:none;\">\n",
              "\n",
              "<svg xmlns=\"http://www.w3.org/2000/svg\" height=\"24px\"viewBox=\"0 0 24 24\"\n",
              "     width=\"24px\">\n",
              "    <g>\n",
              "        <path d=\"M19 3H5c-1.1 0-2 .9-2 2v14c0 1.1.9 2 2 2h14c1.1 0 2-.9 2-2V5c0-1.1-.9-2-2-2zM9 17H7v-7h2v7zm4 0h-2V7h2v10zm4 0h-2v-4h2v4z\"/>\n",
              "    </g>\n",
              "</svg>\n",
              "  </button>\n",
              "\n",
              "<style>\n",
              "  .colab-df-quickchart {\n",
              "      --bg-color: #E8F0FE;\n",
              "      --fill-color: #1967D2;\n",
              "      --hover-bg-color: #E2EBFA;\n",
              "      --hover-fill-color: #174EA6;\n",
              "      --disabled-fill-color: #AAA;\n",
              "      --disabled-bg-color: #DDD;\n",
              "  }\n",
              "\n",
              "  [theme=dark] .colab-df-quickchart {\n",
              "      --bg-color: #3B4455;\n",
              "      --fill-color: #D2E3FC;\n",
              "      --hover-bg-color: #434B5C;\n",
              "      --hover-fill-color: #FFFFFF;\n",
              "      --disabled-bg-color: #3B4455;\n",
              "      --disabled-fill-color: #666;\n",
              "  }\n",
              "\n",
              "  .colab-df-quickchart {\n",
              "    background-color: var(--bg-color);\n",
              "    border: none;\n",
              "    border-radius: 50%;\n",
              "    cursor: pointer;\n",
              "    display: none;\n",
              "    fill: var(--fill-color);\n",
              "    height: 32px;\n",
              "    padding: 0;\n",
              "    width: 32px;\n",
              "  }\n",
              "\n",
              "  .colab-df-quickchart:hover {\n",
              "    background-color: var(--hover-bg-color);\n",
              "    box-shadow: 0 1px 2px rgba(60, 64, 67, 0.3), 0 1px 3px 1px rgba(60, 64, 67, 0.15);\n",
              "    fill: var(--button-hover-fill-color);\n",
              "  }\n",
              "\n",
              "  .colab-df-quickchart-complete:disabled,\n",
              "  .colab-df-quickchart-complete:disabled:hover {\n",
              "    background-color: var(--disabled-bg-color);\n",
              "    fill: var(--disabled-fill-color);\n",
              "    box-shadow: none;\n",
              "  }\n",
              "\n",
              "  .colab-df-spinner {\n",
              "    border: 2px solid var(--fill-color);\n",
              "    border-color: transparent;\n",
              "    border-bottom-color: var(--fill-color);\n",
              "    animation:\n",
              "      spin 1s steps(1) infinite;\n",
              "  }\n",
              "\n",
              "  @keyframes spin {\n",
              "    0% {\n",
              "      border-color: transparent;\n",
              "      border-bottom-color: var(--fill-color);\n",
              "      border-left-color: var(--fill-color);\n",
              "    }\n",
              "    20% {\n",
              "      border-color: transparent;\n",
              "      border-left-color: var(--fill-color);\n",
              "      border-top-color: var(--fill-color);\n",
              "    }\n",
              "    30% {\n",
              "      border-color: transparent;\n",
              "      border-left-color: var(--fill-color);\n",
              "      border-top-color: var(--fill-color);\n",
              "      border-right-color: var(--fill-color);\n",
              "    }\n",
              "    40% {\n",
              "      border-color: transparent;\n",
              "      border-right-color: var(--fill-color);\n",
              "      border-top-color: var(--fill-color);\n",
              "    }\n",
              "    60% {\n",
              "      border-color: transparent;\n",
              "      border-right-color: var(--fill-color);\n",
              "    }\n",
              "    80% {\n",
              "      border-color: transparent;\n",
              "      border-right-color: var(--fill-color);\n",
              "      border-bottom-color: var(--fill-color);\n",
              "    }\n",
              "    90% {\n",
              "      border-color: transparent;\n",
              "      border-bottom-color: var(--fill-color);\n",
              "    }\n",
              "  }\n",
              "</style>\n",
              "\n",
              "  <script>\n",
              "    async function quickchart(key) {\n",
              "      const quickchartButtonEl =\n",
              "        document.querySelector('#' + key + ' button');\n",
              "      quickchartButtonEl.disabled = true;  // To prevent multiple clicks.\n",
              "      quickchartButtonEl.classList.add('colab-df-spinner');\n",
              "      try {\n",
              "        const charts = await google.colab.kernel.invokeFunction(\n",
              "            'suggestCharts', [key], {});\n",
              "      } catch (error) {\n",
              "        console.error('Error during call to suggestCharts:', error);\n",
              "      }\n",
              "      quickchartButtonEl.classList.remove('colab-df-spinner');\n",
              "      quickchartButtonEl.classList.add('colab-df-quickchart-complete');\n",
              "    }\n",
              "    (() => {\n",
              "      let quickchartButtonEl =\n",
              "        document.querySelector('#df-bd5dc21e-2ccd-40ae-836a-aa3bdf7ee45d button');\n",
              "      quickchartButtonEl.style.display =\n",
              "        google.colab.kernel.accessAllowed ? 'block' : 'none';\n",
              "    })();\n",
              "  </script>\n",
              "</div>\n",
              "\n",
              "  <div id=\"id_1d1cf237-ab16-4ba4-ae6a-c63a6abf9a54\">\n",
              "    <style>\n",
              "      .colab-df-generate {\n",
              "        background-color: #E8F0FE;\n",
              "        border: none;\n",
              "        border-radius: 50%;\n",
              "        cursor: pointer;\n",
              "        display: none;\n",
              "        fill: #1967D2;\n",
              "        height: 32px;\n",
              "        padding: 0 0 0 0;\n",
              "        width: 32px;\n",
              "      }\n",
              "\n",
              "      .colab-df-generate:hover {\n",
              "        background-color: #E2EBFA;\n",
              "        box-shadow: 0px 1px 2px rgba(60, 64, 67, 0.3), 0px 1px 3px 1px rgba(60, 64, 67, 0.15);\n",
              "        fill: #174EA6;\n",
              "      }\n",
              "\n",
              "      [theme=dark] .colab-df-generate {\n",
              "        background-color: #3B4455;\n",
              "        fill: #D2E3FC;\n",
              "      }\n",
              "\n",
              "      [theme=dark] .colab-df-generate:hover {\n",
              "        background-color: #434B5C;\n",
              "        box-shadow: 0px 1px 3px 1px rgba(0, 0, 0, 0.15);\n",
              "        filter: drop-shadow(0px 1px 2px rgba(0, 0, 0, 0.3));\n",
              "        fill: #FFFFFF;\n",
              "      }\n",
              "    </style>\n",
              "    <button class=\"colab-df-generate\" onclick=\"generateWithVariable('group1_df')\"\n",
              "            title=\"Generate code using this dataframe.\"\n",
              "            style=\"display:none;\">\n",
              "\n",
              "  <svg xmlns=\"http://www.w3.org/2000/svg\" height=\"24px\"viewBox=\"0 0 24 24\"\n",
              "       width=\"24px\">\n",
              "    <path d=\"M7,19H8.4L18.45,9,17,7.55,7,17.6ZM5,21V16.75L18.45,3.32a2,2,0,0,1,2.83,0l1.4,1.43a1.91,1.91,0,0,1,.58,1.4,1.91,1.91,0,0,1-.58,1.4L9.25,21ZM18.45,9,17,7.55Zm-12,3A5.31,5.31,0,0,0,4.9,8.1,5.31,5.31,0,0,0,1,6.5,5.31,5.31,0,0,0,4.9,4.9,5.31,5.31,0,0,0,6.5,1,5.31,5.31,0,0,0,8.1,4.9,5.31,5.31,0,0,0,12,6.5,5.46,5.46,0,0,0,6.5,12Z\"/>\n",
              "  </svg>\n",
              "    </button>\n",
              "    <script>\n",
              "      (() => {\n",
              "      const buttonEl =\n",
              "        document.querySelector('#id_1d1cf237-ab16-4ba4-ae6a-c63a6abf9a54 button.colab-df-generate');\n",
              "      buttonEl.style.display =\n",
              "        google.colab.kernel.accessAllowed ? 'block' : 'none';\n",
              "\n",
              "      buttonEl.onclick = () => {\n",
              "        google.colab.notebook.generateWithVariable('group1_df');\n",
              "      }\n",
              "      })();\n",
              "    </script>\n",
              "  </div>\n",
              "\n",
              "    </div>\n",
              "  </div>\n"
            ],
            "application/vnd.google.colaboratory.intrinsic+json": {
              "type": "dataframe",
              "variable_name": "group1_df"
            }
          },
          "metadata": {},
          "execution_count": 125
        }
      ]
    },
    {
      "cell_type": "code",
      "source": [
        "from sklearn.preprocessing import MinMaxScaler\n",
        "\n",
        "\n",
        "# Get the mean across all station maximums for each datetime\n",
        "group2_df = group1_df.groupby(\"datetime\").mean(\"valeur\")\n",
        "group2_df.reset_index(inplace=True)\n",
        "\n",
        "merged = pd.merge(group2_df, weather_df, on=\"datetime\", how=\"left\")\n",
        "\n",
        "merged['year'] = merged['datetime'].dt.year\n",
        "# Year has a bigger number range than the rest so we divide it up by its maximum\n",
        "merged['year'] = merged['year'] / merged['year'].max()\n",
        "merged['month'] = merged['datetime'].dt.month\n",
        "merged['day'] = merged['datetime'].dt.day\n",
        "merged['weekday'] = merged['datetime'].dt.weekday\n",
        "merged['hour'] = merged['datetime'].dt.hour\n",
        "\n",
        "# TODO: not clamping result in a lower loss but weirdly worse predictions. Perhaps the model doesn't generalize as good?\n",
        "merged['valeur'] = merged['valeur'].clip(upper=100)\n",
        "\n",
        "scaler = MinMaxScaler()\n",
        "# Fit the scaler to the clamped data and transform it\n",
        "merged['valeur'] = scaler.fit_transform(merged[['valeur']])\n",
        "\n",
        "\n",
        "# Scaling these doesn't help much\n",
        "# merged['rel_humid'] = scaler.fit_transform(merged[['rel_humid']])\n",
        "# merged['temp'] = scaler.fit_transform(merged[['temp']])\n",
        "\n",
        "merged\n"
      ],
      "metadata": {
        "colab": {
          "base_uri": "https://localhost:8080/",
          "height": 424
        },
        "id": "6_0h65BWzqUF",
        "outputId": "b7d53cd5-328c-472f-d14c-4eec886a9a1a"
      },
      "id": "6_0h65BWzqUF",
      "execution_count": 181,
      "outputs": [
        {
          "output_type": "execute_result",
          "data": {
            "text/plain": [
              "                  datetime    valeur  temp  rel_humid      year  month  day  \\\n",
              "0      2012-01-01 00:00:00  0.259416   0.0       73.0  0.994071      1    1   \n",
              "1      2012-01-01 01:00:00  0.297740   0.0       73.0  0.994071      1    1   \n",
              "2      2012-01-01 02:00:00  0.317420   0.0       73.0  0.994071      1    1   \n",
              "3      2012-01-01 03:00:00  0.317420   0.0       73.0  0.994071      1    1   \n",
              "4      2012-01-01 04:00:00  0.310169   0.0       73.0  0.994071      1    1   \n",
              "...                    ...       ...   ...        ...       ...    ...  ...   \n",
              "107587 2024-04-09 19:00:00  0.200565  15.0       35.0  1.000000      4    9   \n",
              "107588 2024-04-09 20:00:00  0.184557  13.4       37.0  1.000000      4    9   \n",
              "107589 2024-04-09 21:00:00  0.178908  12.6       37.0  1.000000      4    9   \n",
              "107590 2024-04-09 22:00:00  0.168550  11.7       38.0  1.000000      4    9   \n",
              "107591 2024-04-09 23:00:00  0.162900  10.9       38.0  1.000000      4    9   \n",
              "\n",
              "        weekday  hour  \n",
              "0             6     0  \n",
              "1             6     1  \n",
              "2             6     2  \n",
              "3             6     3  \n",
              "4             6     4  \n",
              "...         ...   ...  \n",
              "107587        1    19  \n",
              "107588        1    20  \n",
              "107589        1    21  \n",
              "107590        1    22  \n",
              "107591        1    23  \n",
              "\n",
              "[107592 rows x 9 columns]"
            ],
            "text/html": [
              "\n",
              "  <div id=\"df-cce0e58f-b6de-4ee3-a8c4-4885c1d89cac\" class=\"colab-df-container\">\n",
              "    <div>\n",
              "<style scoped>\n",
              "    .dataframe tbody tr th:only-of-type {\n",
              "        vertical-align: middle;\n",
              "    }\n",
              "\n",
              "    .dataframe tbody tr th {\n",
              "        vertical-align: top;\n",
              "    }\n",
              "\n",
              "    .dataframe thead th {\n",
              "        text-align: right;\n",
              "    }\n",
              "</style>\n",
              "<table border=\"1\" class=\"dataframe\">\n",
              "  <thead>\n",
              "    <tr style=\"text-align: right;\">\n",
              "      <th></th>\n",
              "      <th>datetime</th>\n",
              "      <th>valeur</th>\n",
              "      <th>temp</th>\n",
              "      <th>rel_humid</th>\n",
              "      <th>year</th>\n",
              "      <th>month</th>\n",
              "      <th>day</th>\n",
              "      <th>weekday</th>\n",
              "      <th>hour</th>\n",
              "    </tr>\n",
              "  </thead>\n",
              "  <tbody>\n",
              "    <tr>\n",
              "      <th>0</th>\n",
              "      <td>2012-01-01 00:00:00</td>\n",
              "      <td>0.259416</td>\n",
              "      <td>0.0</td>\n",
              "      <td>73.0</td>\n",
              "      <td>0.994071</td>\n",
              "      <td>1</td>\n",
              "      <td>1</td>\n",
              "      <td>6</td>\n",
              "      <td>0</td>\n",
              "    </tr>\n",
              "    <tr>\n",
              "      <th>1</th>\n",
              "      <td>2012-01-01 01:00:00</td>\n",
              "      <td>0.297740</td>\n",
              "      <td>0.0</td>\n",
              "      <td>73.0</td>\n",
              "      <td>0.994071</td>\n",
              "      <td>1</td>\n",
              "      <td>1</td>\n",
              "      <td>6</td>\n",
              "      <td>1</td>\n",
              "    </tr>\n",
              "    <tr>\n",
              "      <th>2</th>\n",
              "      <td>2012-01-01 02:00:00</td>\n",
              "      <td>0.317420</td>\n",
              "      <td>0.0</td>\n",
              "      <td>73.0</td>\n",
              "      <td>0.994071</td>\n",
              "      <td>1</td>\n",
              "      <td>1</td>\n",
              "      <td>6</td>\n",
              "      <td>2</td>\n",
              "    </tr>\n",
              "    <tr>\n",
              "      <th>3</th>\n",
              "      <td>2012-01-01 03:00:00</td>\n",
              "      <td>0.317420</td>\n",
              "      <td>0.0</td>\n",
              "      <td>73.0</td>\n",
              "      <td>0.994071</td>\n",
              "      <td>1</td>\n",
              "      <td>1</td>\n",
              "      <td>6</td>\n",
              "      <td>3</td>\n",
              "    </tr>\n",
              "    <tr>\n",
              "      <th>4</th>\n",
              "      <td>2012-01-01 04:00:00</td>\n",
              "      <td>0.310169</td>\n",
              "      <td>0.0</td>\n",
              "      <td>73.0</td>\n",
              "      <td>0.994071</td>\n",
              "      <td>1</td>\n",
              "      <td>1</td>\n",
              "      <td>6</td>\n",
              "      <td>4</td>\n",
              "    </tr>\n",
              "    <tr>\n",
              "      <th>...</th>\n",
              "      <td>...</td>\n",
              "      <td>...</td>\n",
              "      <td>...</td>\n",
              "      <td>...</td>\n",
              "      <td>...</td>\n",
              "      <td>...</td>\n",
              "      <td>...</td>\n",
              "      <td>...</td>\n",
              "      <td>...</td>\n",
              "    </tr>\n",
              "    <tr>\n",
              "      <th>107587</th>\n",
              "      <td>2024-04-09 19:00:00</td>\n",
              "      <td>0.200565</td>\n",
              "      <td>15.0</td>\n",
              "      <td>35.0</td>\n",
              "      <td>1.000000</td>\n",
              "      <td>4</td>\n",
              "      <td>9</td>\n",
              "      <td>1</td>\n",
              "      <td>19</td>\n",
              "    </tr>\n",
              "    <tr>\n",
              "      <th>107588</th>\n",
              "      <td>2024-04-09 20:00:00</td>\n",
              "      <td>0.184557</td>\n",
              "      <td>13.4</td>\n",
              "      <td>37.0</td>\n",
              "      <td>1.000000</td>\n",
              "      <td>4</td>\n",
              "      <td>9</td>\n",
              "      <td>1</td>\n",
              "      <td>20</td>\n",
              "    </tr>\n",
              "    <tr>\n",
              "      <th>107589</th>\n",
              "      <td>2024-04-09 21:00:00</td>\n",
              "      <td>0.178908</td>\n",
              "      <td>12.6</td>\n",
              "      <td>37.0</td>\n",
              "      <td>1.000000</td>\n",
              "      <td>4</td>\n",
              "      <td>9</td>\n",
              "      <td>1</td>\n",
              "      <td>21</td>\n",
              "    </tr>\n",
              "    <tr>\n",
              "      <th>107590</th>\n",
              "      <td>2024-04-09 22:00:00</td>\n",
              "      <td>0.168550</td>\n",
              "      <td>11.7</td>\n",
              "      <td>38.0</td>\n",
              "      <td>1.000000</td>\n",
              "      <td>4</td>\n",
              "      <td>9</td>\n",
              "      <td>1</td>\n",
              "      <td>22</td>\n",
              "    </tr>\n",
              "    <tr>\n",
              "      <th>107591</th>\n",
              "      <td>2024-04-09 23:00:00</td>\n",
              "      <td>0.162900</td>\n",
              "      <td>10.9</td>\n",
              "      <td>38.0</td>\n",
              "      <td>1.000000</td>\n",
              "      <td>4</td>\n",
              "      <td>9</td>\n",
              "      <td>1</td>\n",
              "      <td>23</td>\n",
              "    </tr>\n",
              "  </tbody>\n",
              "</table>\n",
              "<p>107592 rows × 9 columns</p>\n",
              "</div>\n",
              "    <div class=\"colab-df-buttons\">\n",
              "\n",
              "  <div class=\"colab-df-container\">\n",
              "    <button class=\"colab-df-convert\" onclick=\"convertToInteractive('df-cce0e58f-b6de-4ee3-a8c4-4885c1d89cac')\"\n",
              "            title=\"Convert this dataframe to an interactive table.\"\n",
              "            style=\"display:none;\">\n",
              "\n",
              "  <svg xmlns=\"http://www.w3.org/2000/svg\" height=\"24px\" viewBox=\"0 -960 960 960\">\n",
              "    <path d=\"M120-120v-720h720v720H120Zm60-500h600v-160H180v160Zm220 220h160v-160H400v160Zm0 220h160v-160H400v160ZM180-400h160v-160H180v160Zm440 0h160v-160H620v160ZM180-180h160v-160H180v160Zm440 0h160v-160H620v160Z\"/>\n",
              "  </svg>\n",
              "    </button>\n",
              "\n",
              "  <style>\n",
              "    .colab-df-container {\n",
              "      display:flex;\n",
              "      gap: 12px;\n",
              "    }\n",
              "\n",
              "    .colab-df-convert {\n",
              "      background-color: #E8F0FE;\n",
              "      border: none;\n",
              "      border-radius: 50%;\n",
              "      cursor: pointer;\n",
              "      display: none;\n",
              "      fill: #1967D2;\n",
              "      height: 32px;\n",
              "      padding: 0 0 0 0;\n",
              "      width: 32px;\n",
              "    }\n",
              "\n",
              "    .colab-df-convert:hover {\n",
              "      background-color: #E2EBFA;\n",
              "      box-shadow: 0px 1px 2px rgba(60, 64, 67, 0.3), 0px 1px 3px 1px rgba(60, 64, 67, 0.15);\n",
              "      fill: #174EA6;\n",
              "    }\n",
              "\n",
              "    .colab-df-buttons div {\n",
              "      margin-bottom: 4px;\n",
              "    }\n",
              "\n",
              "    [theme=dark] .colab-df-convert {\n",
              "      background-color: #3B4455;\n",
              "      fill: #D2E3FC;\n",
              "    }\n",
              "\n",
              "    [theme=dark] .colab-df-convert:hover {\n",
              "      background-color: #434B5C;\n",
              "      box-shadow: 0px 1px 3px 1px rgba(0, 0, 0, 0.15);\n",
              "      filter: drop-shadow(0px 1px 2px rgba(0, 0, 0, 0.3));\n",
              "      fill: #FFFFFF;\n",
              "    }\n",
              "  </style>\n",
              "\n",
              "    <script>\n",
              "      const buttonEl =\n",
              "        document.querySelector('#df-cce0e58f-b6de-4ee3-a8c4-4885c1d89cac button.colab-df-convert');\n",
              "      buttonEl.style.display =\n",
              "        google.colab.kernel.accessAllowed ? 'block' : 'none';\n",
              "\n",
              "      async function convertToInteractive(key) {\n",
              "        const element = document.querySelector('#df-cce0e58f-b6de-4ee3-a8c4-4885c1d89cac');\n",
              "        const dataTable =\n",
              "          await google.colab.kernel.invokeFunction('convertToInteractive',\n",
              "                                                    [key], {});\n",
              "        if (!dataTable) return;\n",
              "\n",
              "        const docLinkHtml = 'Like what you see? Visit the ' +\n",
              "          '<a target=\"_blank\" href=https://colab.research.google.com/notebooks/data_table.ipynb>data table notebook</a>'\n",
              "          + ' to learn more about interactive tables.';\n",
              "        element.innerHTML = '';\n",
              "        dataTable['output_type'] = 'display_data';\n",
              "        await google.colab.output.renderOutput(dataTable, element);\n",
              "        const docLink = document.createElement('div');\n",
              "        docLink.innerHTML = docLinkHtml;\n",
              "        element.appendChild(docLink);\n",
              "      }\n",
              "    </script>\n",
              "  </div>\n",
              "\n",
              "\n",
              "<div id=\"df-6edfb239-b66d-4805-b7e2-0111b9c81b3d\">\n",
              "  <button class=\"colab-df-quickchart\" onclick=\"quickchart('df-6edfb239-b66d-4805-b7e2-0111b9c81b3d')\"\n",
              "            title=\"Suggest charts\"\n",
              "            style=\"display:none;\">\n",
              "\n",
              "<svg xmlns=\"http://www.w3.org/2000/svg\" height=\"24px\"viewBox=\"0 0 24 24\"\n",
              "     width=\"24px\">\n",
              "    <g>\n",
              "        <path d=\"M19 3H5c-1.1 0-2 .9-2 2v14c0 1.1.9 2 2 2h14c1.1 0 2-.9 2-2V5c0-1.1-.9-2-2-2zM9 17H7v-7h2v7zm4 0h-2V7h2v10zm4 0h-2v-4h2v4z\"/>\n",
              "    </g>\n",
              "</svg>\n",
              "  </button>\n",
              "\n",
              "<style>\n",
              "  .colab-df-quickchart {\n",
              "      --bg-color: #E8F0FE;\n",
              "      --fill-color: #1967D2;\n",
              "      --hover-bg-color: #E2EBFA;\n",
              "      --hover-fill-color: #174EA6;\n",
              "      --disabled-fill-color: #AAA;\n",
              "      --disabled-bg-color: #DDD;\n",
              "  }\n",
              "\n",
              "  [theme=dark] .colab-df-quickchart {\n",
              "      --bg-color: #3B4455;\n",
              "      --fill-color: #D2E3FC;\n",
              "      --hover-bg-color: #434B5C;\n",
              "      --hover-fill-color: #FFFFFF;\n",
              "      --disabled-bg-color: #3B4455;\n",
              "      --disabled-fill-color: #666;\n",
              "  }\n",
              "\n",
              "  .colab-df-quickchart {\n",
              "    background-color: var(--bg-color);\n",
              "    border: none;\n",
              "    border-radius: 50%;\n",
              "    cursor: pointer;\n",
              "    display: none;\n",
              "    fill: var(--fill-color);\n",
              "    height: 32px;\n",
              "    padding: 0;\n",
              "    width: 32px;\n",
              "  }\n",
              "\n",
              "  .colab-df-quickchart:hover {\n",
              "    background-color: var(--hover-bg-color);\n",
              "    box-shadow: 0 1px 2px rgba(60, 64, 67, 0.3), 0 1px 3px 1px rgba(60, 64, 67, 0.15);\n",
              "    fill: var(--button-hover-fill-color);\n",
              "  }\n",
              "\n",
              "  .colab-df-quickchart-complete:disabled,\n",
              "  .colab-df-quickchart-complete:disabled:hover {\n",
              "    background-color: var(--disabled-bg-color);\n",
              "    fill: var(--disabled-fill-color);\n",
              "    box-shadow: none;\n",
              "  }\n",
              "\n",
              "  .colab-df-spinner {\n",
              "    border: 2px solid var(--fill-color);\n",
              "    border-color: transparent;\n",
              "    border-bottom-color: var(--fill-color);\n",
              "    animation:\n",
              "      spin 1s steps(1) infinite;\n",
              "  }\n",
              "\n",
              "  @keyframes spin {\n",
              "    0% {\n",
              "      border-color: transparent;\n",
              "      border-bottom-color: var(--fill-color);\n",
              "      border-left-color: var(--fill-color);\n",
              "    }\n",
              "    20% {\n",
              "      border-color: transparent;\n",
              "      border-left-color: var(--fill-color);\n",
              "      border-top-color: var(--fill-color);\n",
              "    }\n",
              "    30% {\n",
              "      border-color: transparent;\n",
              "      border-left-color: var(--fill-color);\n",
              "      border-top-color: var(--fill-color);\n",
              "      border-right-color: var(--fill-color);\n",
              "    }\n",
              "    40% {\n",
              "      border-color: transparent;\n",
              "      border-right-color: var(--fill-color);\n",
              "      border-top-color: var(--fill-color);\n",
              "    }\n",
              "    60% {\n",
              "      border-color: transparent;\n",
              "      border-right-color: var(--fill-color);\n",
              "    }\n",
              "    80% {\n",
              "      border-color: transparent;\n",
              "      border-right-color: var(--fill-color);\n",
              "      border-bottom-color: var(--fill-color);\n",
              "    }\n",
              "    90% {\n",
              "      border-color: transparent;\n",
              "      border-bottom-color: var(--fill-color);\n",
              "    }\n",
              "  }\n",
              "</style>\n",
              "\n",
              "  <script>\n",
              "    async function quickchart(key) {\n",
              "      const quickchartButtonEl =\n",
              "        document.querySelector('#' + key + ' button');\n",
              "      quickchartButtonEl.disabled = true;  // To prevent multiple clicks.\n",
              "      quickchartButtonEl.classList.add('colab-df-spinner');\n",
              "      try {\n",
              "        const charts = await google.colab.kernel.invokeFunction(\n",
              "            'suggestCharts', [key], {});\n",
              "      } catch (error) {\n",
              "        console.error('Error during call to suggestCharts:', error);\n",
              "      }\n",
              "      quickchartButtonEl.classList.remove('colab-df-spinner');\n",
              "      quickchartButtonEl.classList.add('colab-df-quickchart-complete');\n",
              "    }\n",
              "    (() => {\n",
              "      let quickchartButtonEl =\n",
              "        document.querySelector('#df-6edfb239-b66d-4805-b7e2-0111b9c81b3d button');\n",
              "      quickchartButtonEl.style.display =\n",
              "        google.colab.kernel.accessAllowed ? 'block' : 'none';\n",
              "    })();\n",
              "  </script>\n",
              "</div>\n",
              "\n",
              "  <div id=\"id_dc1fc24d-e59d-4670-a479-f7fbd639f553\">\n",
              "    <style>\n",
              "      .colab-df-generate {\n",
              "        background-color: #E8F0FE;\n",
              "        border: none;\n",
              "        border-radius: 50%;\n",
              "        cursor: pointer;\n",
              "        display: none;\n",
              "        fill: #1967D2;\n",
              "        height: 32px;\n",
              "        padding: 0 0 0 0;\n",
              "        width: 32px;\n",
              "      }\n",
              "\n",
              "      .colab-df-generate:hover {\n",
              "        background-color: #E2EBFA;\n",
              "        box-shadow: 0px 1px 2px rgba(60, 64, 67, 0.3), 0px 1px 3px 1px rgba(60, 64, 67, 0.15);\n",
              "        fill: #174EA6;\n",
              "      }\n",
              "\n",
              "      [theme=dark] .colab-df-generate {\n",
              "        background-color: #3B4455;\n",
              "        fill: #D2E3FC;\n",
              "      }\n",
              "\n",
              "      [theme=dark] .colab-df-generate:hover {\n",
              "        background-color: #434B5C;\n",
              "        box-shadow: 0px 1px 3px 1px rgba(0, 0, 0, 0.15);\n",
              "        filter: drop-shadow(0px 1px 2px rgba(0, 0, 0, 0.3));\n",
              "        fill: #FFFFFF;\n",
              "      }\n",
              "    </style>\n",
              "    <button class=\"colab-df-generate\" onclick=\"generateWithVariable('merged')\"\n",
              "            title=\"Generate code using this dataframe.\"\n",
              "            style=\"display:none;\">\n",
              "\n",
              "  <svg xmlns=\"http://www.w3.org/2000/svg\" height=\"24px\"viewBox=\"0 0 24 24\"\n",
              "       width=\"24px\">\n",
              "    <path d=\"M7,19H8.4L18.45,9,17,7.55,7,17.6ZM5,21V16.75L18.45,3.32a2,2,0,0,1,2.83,0l1.4,1.43a1.91,1.91,0,0,1,.58,1.4,1.91,1.91,0,0,1-.58,1.4L9.25,21ZM18.45,9,17,7.55Zm-12,3A5.31,5.31,0,0,0,4.9,8.1,5.31,5.31,0,0,0,1,6.5,5.31,5.31,0,0,0,4.9,4.9,5.31,5.31,0,0,0,6.5,1,5.31,5.31,0,0,0,8.1,4.9,5.31,5.31,0,0,0,12,6.5,5.46,5.46,0,0,0,6.5,12Z\"/>\n",
              "  </svg>\n",
              "    </button>\n",
              "    <script>\n",
              "      (() => {\n",
              "      const buttonEl =\n",
              "        document.querySelector('#id_dc1fc24d-e59d-4670-a479-f7fbd639f553 button.colab-df-generate');\n",
              "      buttonEl.style.display =\n",
              "        google.colab.kernel.accessAllowed ? 'block' : 'none';\n",
              "\n",
              "      buttonEl.onclick = () => {\n",
              "        google.colab.notebook.generateWithVariable('merged');\n",
              "      }\n",
              "      })();\n",
              "    </script>\n",
              "  </div>\n",
              "\n",
              "    </div>\n",
              "  </div>\n"
            ],
            "application/vnd.google.colaboratory.intrinsic+json": {
              "type": "dataframe",
              "variable_name": "merged"
            }
          },
          "metadata": {},
          "execution_count": 181
        }
      ]
    },
    {
      "cell_type": "code",
      "execution_count": 182,
      "id": "0670c42f",
      "metadata": {
        "id": "0670c42f",
        "colab": {
          "base_uri": "https://localhost:8080/"
        },
        "outputId": "b497f573-30c2-4fb9-f703-02914f409d76"
      },
      "outputs": [
        {
          "output_type": "execute_result",
          "data": {
            "text/plain": [
              "(82536, 13896)"
            ]
          },
          "metadata": {},
          "execution_count": 182
        }
      ],
      "source": [
        "\n",
        "# Train data goes from FIRST_DAY (~2016) to 2021-05-31\n",
        "split_date_valid = pd.Timestamp('2021-06-01')\n",
        "\n",
        "# Validation data goes from 2021-06-01 to 2022-12-31\n",
        "split_date_test = pd.Timestamp('2023-01-01')\n",
        "\n",
        "# Test data goes from 2023-01-01 to LAST_DAY\n",
        "\n",
        "train_idx = merged['datetime'] < split_date_valid\n",
        "valid_idx = (merged['datetime'] >= split_date_valid) & (merged['datetime'] < split_date_test)\n",
        "test_idx = merged['datetime'] >= split_date_test\n",
        "\n",
        "train_idxs = np.where(train_idx)[0].tolist()\n",
        "valid_idxs = np.where(valid_idx)[0].tolist()\n",
        "test_idxs = np.where(test_idx)[0].tolist()\n",
        "\n",
        "len(merged.loc[train_idxs]), len(valid_idxs)"
      ]
    },
    {
      "cell_type": "code",
      "source": [
        "def mk_analysis_df(df, preds, scaler):\n",
        "  # return pd.DataFrame({'datetime': df['datetime'],\n",
        "  #             'Actual': df['valeur'],\n",
        "  #             'Predicted': scaler.inverse_transform(preds) })\n",
        "  # Reverse scaling of predictions\n",
        "  preds_rescaled = scaler.inverse_transform(preds.reshape(-1, 1)).flatten()\n",
        "  value_rescaled = scaler.inverse_transform(df['valeur'].values.reshape(-1, 1)).flatten()\n",
        "\n",
        "  # Create DataFrame\n",
        "  return pd.DataFrame({\n",
        "      'datetime': df['datetime'],\n",
        "      'Actual': value_rescaled,\n",
        "      'Predicted': preds_rescaled\n",
        "  })"
      ],
      "metadata": {
        "id": "dBLT5we-S_SZ"
      },
      "id": "dBLT5we-S_SZ",
      "execution_count": 166,
      "outputs": []
    },
    {
      "cell_type": "markdown",
      "source": [
        "# Simple NN"
      ],
      "metadata": {
        "id": "d2MRC69Usp13"
      },
      "id": "d2MRC69Usp13"
    },
    {
      "cell_type": "code",
      "source": [
        "cont_nn,cat_nn = cont_cat_split(merged, max_card=9000, dep_var=\"valeur\")\n",
        "cont_nn,cat_nn"
      ],
      "metadata": {
        "id": "ZdAM-0cLXGU7",
        "outputId": "50723a8c-5e06-4464-831f-07feda0517e1",
        "colab": {
          "base_uri": "https://localhost:8080/"
        }
      },
      "id": "ZdAM-0cLXGU7",
      "execution_count": 175,
      "outputs": [
        {
          "output_type": "execute_result",
          "data": {
            "text/plain": [
              "(['temp', 'rel_humid', 'year'],\n",
              " ['datetime', 'month', 'day', 'weekday', 'hour'])"
            ]
          },
          "metadata": {},
          "execution_count": 175
        }
      ]
    },
    {
      "cell_type": "code",
      "source": [
        "to = TabularPandas(\n",
        "  merged,\n",
        "  procs=[Categorify, Normalize],\n",
        "  cat_names=['month', 'day', 'weekday', 'hour'],\n",
        "  cont_names=['temp', 'rel_humid', 'year'],\n",
        "  y_names=['valeur'],\n",
        "  splits=(train_idxs, valid_idxs),\n",
        "  y_block=RegressionBlock()\n",
        ")\n",
        "\n",
        "dls = to.dataloaders(bs=2048)\n",
        "\n",
        "dls.show_batch()"
      ],
      "metadata": {
        "id": "q6gutOAxU597",
        "outputId": "24e4e8ae-4920-4b92-e40c-cb3ce8703dd4",
        "colab": {
          "base_uri": "https://localhost:8080/",
          "height": 363
        }
      },
      "id": "q6gutOAxU597",
      "execution_count": 183,
      "outputs": [
        {
          "output_type": "display_data",
          "data": {
            "text/plain": [
              "<IPython.core.display.HTML object>"
            ],
            "text/html": [
              "<table border=\"1\" class=\"dataframe\">\n",
              "  <thead>\n",
              "    <tr style=\"text-align: right;\">\n",
              "      <th></th>\n",
              "      <th>month</th>\n",
              "      <th>day</th>\n",
              "      <th>weekday</th>\n",
              "      <th>hour</th>\n",
              "      <th>temp</th>\n",
              "      <th>rel_humid</th>\n",
              "      <th>year</th>\n",
              "      <th>valeur</th>\n",
              "    </tr>\n",
              "  </thead>\n",
              "  <tbody>\n",
              "    <tr>\n",
              "      <th>0</th>\n",
              "      <td>9</td>\n",
              "      <td>16</td>\n",
              "      <td>5</td>\n",
              "      <td>13</td>\n",
              "      <td>25.200000</td>\n",
              "      <td>69.000000</td>\n",
              "      <td>0.996542</td>\n",
              "      <td>0.186441</td>\n",
              "    </tr>\n",
              "    <tr>\n",
              "      <th>1</th>\n",
              "      <td>11</td>\n",
              "      <td>25</td>\n",
              "      <td>0</td>\n",
              "      <td>19</td>\n",
              "      <td>-2.700001</td>\n",
              "      <td>56.000000</td>\n",
              "      <td>0.994565</td>\n",
              "      <td>0.110169</td>\n",
              "    </tr>\n",
              "    <tr>\n",
              "      <th>2</th>\n",
              "      <td>10</td>\n",
              "      <td>15</td>\n",
              "      <td>1</td>\n",
              "      <td>21</td>\n",
              "      <td>11.000000</td>\n",
              "      <td>59.000000</td>\n",
              "      <td>0.997530</td>\n",
              "      <td>0.086441</td>\n",
              "    </tr>\n",
              "    <tr>\n",
              "      <th>3</th>\n",
              "      <td>8</td>\n",
              "      <td>29</td>\n",
              "      <td>2</td>\n",
              "      <td>7</td>\n",
              "      <td>23.799998</td>\n",
              "      <td>86.999999</td>\n",
              "      <td>0.997036</td>\n",
              "      <td>0.160075</td>\n",
              "    </tr>\n",
              "    <tr>\n",
              "      <th>4</th>\n",
              "      <td>8</td>\n",
              "      <td>8</td>\n",
              "      <td>2</td>\n",
              "      <td>6</td>\n",
              "      <td>22.000000</td>\n",
              "      <td>94.000001</td>\n",
              "      <td>0.997036</td>\n",
              "      <td>0.131827</td>\n",
              "    </tr>\n",
              "    <tr>\n",
              "      <th>5</th>\n",
              "      <td>12</td>\n",
              "      <td>24</td>\n",
              "      <td>3</td>\n",
              "      <td>2</td>\n",
              "      <td>1.100000</td>\n",
              "      <td>66.000000</td>\n",
              "      <td>0.998024</td>\n",
              "      <td>0.091337</td>\n",
              "    </tr>\n",
              "    <tr>\n",
              "      <th>6</th>\n",
              "      <td>7</td>\n",
              "      <td>24</td>\n",
              "      <td>4</td>\n",
              "      <td>20</td>\n",
              "      <td>26.200000</td>\n",
              "      <td>52.000000</td>\n",
              "      <td>0.998024</td>\n",
              "      <td>0.152542</td>\n",
              "    </tr>\n",
              "    <tr>\n",
              "      <th>7</th>\n",
              "      <td>9</td>\n",
              "      <td>12</td>\n",
              "      <td>3</td>\n",
              "      <td>22</td>\n",
              "      <td>14.300000</td>\n",
              "      <td>51.000000</td>\n",
              "      <td>0.997530</td>\n",
              "      <td>0.064689</td>\n",
              "    </tr>\n",
              "    <tr>\n",
              "      <th>8</th>\n",
              "      <td>6</td>\n",
              "      <td>28</td>\n",
              "      <td>1</td>\n",
              "      <td>0</td>\n",
              "      <td>23.799998</td>\n",
              "      <td>70.000000</td>\n",
              "      <td>0.996047</td>\n",
              "      <td>0.165725</td>\n",
              "    </tr>\n",
              "    <tr>\n",
              "      <th>9</th>\n",
              "      <td>12</td>\n",
              "      <td>18</td>\n",
              "      <td>2</td>\n",
              "      <td>18</td>\n",
              "      <td>-7.900000</td>\n",
              "      <td>75.000000</td>\n",
              "      <td>0.997530</td>\n",
              "      <td>0.114878</td>\n",
              "    </tr>\n",
              "  </tbody>\n",
              "</table>"
            ]
          },
          "metadata": {}
        }
      ]
    },
    {
      "cell_type": "code",
      "execution_count": 184,
      "id": "3a03d4ae",
      "metadata": {
        "id": "3a03d4ae"
      },
      "outputs": [],
      "source": [
        "learn = tabular_learner(dls, metrics=mae, layers=[500, 250], y_range=(0, 1.5))"
      ]
    },
    {
      "cell_type": "markdown",
      "source": [
        "So far I have observed that with a batch size of 2048 and a learning rate of `0.0009` with about 10 epochs gives the best result"
      ],
      "metadata": {
        "id": "qiL8mBIfXVYf"
      },
      "id": "qiL8mBIfXVYf"
    },
    {
      "cell_type": "code",
      "execution_count": 185,
      "id": "ZIhJDGOqkTD9",
      "metadata": {
        "colab": {
          "base_uri": "https://localhost:8080/",
          "height": 520
        },
        "id": "ZIhJDGOqkTD9",
        "outputId": "62ed5e23-5048-4b49-9c7b-37ab1963b3cb"
      },
      "outputs": [
        {
          "output_type": "display_data",
          "data": {
            "text/plain": [
              "<IPython.core.display.HTML object>"
            ],
            "text/html": [
              "\n",
              "<style>\n",
              "    /* Turns off some styling */\n",
              "    progress {\n",
              "        /* gets rid of default border in Firefox and Opera. */\n",
              "        border: none;\n",
              "        /* Needs to be in here for Safari polyfill so background images work as expected. */\n",
              "        background-size: auto;\n",
              "    }\n",
              "    progress:not([value]), progress:not([value])::-webkit-progress-bar {\n",
              "        background: repeating-linear-gradient(45deg, #7e7e7e, #7e7e7e 10px, #5c5c5c 10px, #5c5c5c 20px);\n",
              "    }\n",
              "    .progress-bar-interrupted, .progress-bar-interrupted::-webkit-progress-bar {\n",
              "        background: #F44336;\n",
              "    }\n",
              "</style>\n"
            ]
          },
          "metadata": {}
        },
        {
          "output_type": "display_data",
          "data": {
            "text/plain": [
              "<IPython.core.display.HTML object>"
            ],
            "text/html": [
              "<table border=\"1\" class=\"dataframe\">\n",
              "  <thead>\n",
              "    <tr style=\"text-align: left;\">\n",
              "      <th>epoch</th>\n",
              "      <th>train_loss</th>\n",
              "      <th>valid_loss</th>\n",
              "      <th>mae</th>\n",
              "      <th>time</th>\n",
              "    </tr>\n",
              "  </thead>\n",
              "  <tbody>\n",
              "    <tr>\n",
              "      <td>0</td>\n",
              "      <td>0.365577</td>\n",
              "      <td>0.340327</td>\n",
              "      <td>0.579504</td>\n",
              "      <td>00:00</td>\n",
              "    </tr>\n",
              "    <tr>\n",
              "      <td>1</td>\n",
              "      <td>0.337067</td>\n",
              "      <td>0.280544</td>\n",
              "      <td>0.526129</td>\n",
              "      <td>00:00</td>\n",
              "    </tr>\n",
              "    <tr>\n",
              "      <td>2</td>\n",
              "      <td>0.267063</td>\n",
              "      <td>0.177660</td>\n",
              "      <td>0.417319</td>\n",
              "      <td>00:00</td>\n",
              "    </tr>\n",
              "    <tr>\n",
              "      <td>3</td>\n",
              "      <td>0.152404</td>\n",
              "      <td>0.019428</td>\n",
              "      <td>0.130768</td>\n",
              "      <td>00:00</td>\n",
              "    </tr>\n",
              "    <tr>\n",
              "      <td>4</td>\n",
              "      <td>0.073546</td>\n",
              "      <td>0.006362</td>\n",
              "      <td>0.068090</td>\n",
              "      <td>00:00</td>\n",
              "    </tr>\n",
              "    <tr>\n",
              "      <td>5</td>\n",
              "      <td>0.035050</td>\n",
              "      <td>0.004252</td>\n",
              "      <td>0.051628</td>\n",
              "      <td>00:00</td>\n",
              "    </tr>\n",
              "    <tr>\n",
              "      <td>6</td>\n",
              "      <td>0.017328</td>\n",
              "      <td>0.003565</td>\n",
              "      <td>0.042435</td>\n",
              "      <td>00:00</td>\n",
              "    </tr>\n",
              "    <tr>\n",
              "      <td>7</td>\n",
              "      <td>0.009326</td>\n",
              "      <td>0.003208</td>\n",
              "      <td>0.038745</td>\n",
              "      <td>00:00</td>\n",
              "    </tr>\n",
              "    <tr>\n",
              "      <td>8</td>\n",
              "      <td>0.005698</td>\n",
              "      <td>0.003378</td>\n",
              "      <td>0.040587</td>\n",
              "      <td>00:00</td>\n",
              "    </tr>\n",
              "    <tr>\n",
              "      <td>9</td>\n",
              "      <td>0.004038</td>\n",
              "      <td>0.003335</td>\n",
              "      <td>0.037567</td>\n",
              "      <td>00:00</td>\n",
              "    </tr>\n",
              "    <tr>\n",
              "      <td>10</td>\n",
              "      <td>0.003263</td>\n",
              "      <td>0.003387</td>\n",
              "      <td>0.038147</td>\n",
              "      <td>00:00</td>\n",
              "    </tr>\n",
              "    <tr>\n",
              "      <td>11</td>\n",
              "      <td>0.002891</td>\n",
              "      <td>0.003238</td>\n",
              "      <td>0.037575</td>\n",
              "      <td>00:00</td>\n",
              "    </tr>\n",
              "    <tr>\n",
              "      <td>12</td>\n",
              "      <td>0.002702</td>\n",
              "      <td>0.003304</td>\n",
              "      <td>0.037582</td>\n",
              "      <td>00:00</td>\n",
              "    </tr>\n",
              "    <tr>\n",
              "      <td>13</td>\n",
              "      <td>0.002565</td>\n",
              "      <td>0.003351</td>\n",
              "      <td>0.037599</td>\n",
              "      <td>00:00</td>\n",
              "    </tr>\n",
              "    <tr>\n",
              "      <td>14</td>\n",
              "      <td>0.002504</td>\n",
              "      <td>0.003297</td>\n",
              "      <td>0.037527</td>\n",
              "      <td>00:00</td>\n",
              "    </tr>\n",
              "  </tbody>\n",
              "</table>"
            ]
          },
          "metadata": {}
        }
      ],
      "source": [
        "learn.fit_one_cycle(15, 0.0009)"
      ]
    },
    {
      "cell_type": "code",
      "source": [
        "df_test = merged.loc[test_idxs]\n",
        "test_dl = dls.test_dl(df_test)\n",
        "\n",
        "preds, targets = learn.get_preds(dl=test_dl)\n",
        "\n",
        "mae(preds, targets)"
      ],
      "metadata": {
        "id": "sp-vvEZfVB2x",
        "outputId": "11772846-5d12-43d7-e329-87b403c1d846",
        "colab": {
          "base_uri": "https://localhost:8080/",
          "height": 35
        }
      },
      "id": "sp-vvEZfVB2x",
      "execution_count": 186,
      "outputs": [
        {
          "output_type": "display_data",
          "data": {
            "text/plain": [
              "<IPython.core.display.HTML object>"
            ],
            "text/html": [
              "\n",
              "<style>\n",
              "    /* Turns off some styling */\n",
              "    progress {\n",
              "        /* gets rid of default border in Firefox and Opera. */\n",
              "        border: none;\n",
              "        /* Needs to be in here for Safari polyfill so background images work as expected. */\n",
              "        background-size: auto;\n",
              "    }\n",
              "    progress:not([value]), progress:not([value])::-webkit-progress-bar {\n",
              "        background: repeating-linear-gradient(45deg, #7e7e7e, #7e7e7e 10px, #5c5c5c 10px, #5c5c5c 20px);\n",
              "    }\n",
              "    .progress-bar-interrupted, .progress-bar-interrupted::-webkit-progress-bar {\n",
              "        background: #F44336;\n",
              "    }\n",
              "</style>\n"
            ]
          },
          "metadata": {}
        },
        {
          "output_type": "display_data",
          "data": {
            "text/plain": [
              "<IPython.core.display.HTML object>"
            ],
            "text/html": []
          },
          "metadata": {}
        },
        {
          "output_type": "execute_result",
          "data": {
            "text/plain": [
              "TensorBase(0.0483)"
            ]
          },
          "metadata": {},
          "execution_count": 186
        }
      ]
    },
    {
      "cell_type": "code",
      "source": [
        "analysis_df = mk_analysis_df(df_test, preds.flatten(), scaler)\n",
        "\n",
        "# plot_preds(analysis_df)\n",
        "plot_preds(analysis_df[analysis_df['datetime'] >= pd.Timestamp(\"2020-01-01\")])"
      ],
      "metadata": {
        "id": "AcAls2pIVD4i",
        "outputId": "aa3b28c5-9dbb-4e12-c9fa-3984e7655ded",
        "colab": {
          "base_uri": "https://localhost:8080/",
          "height": 519,
          "referenced_widgets": [
            "2014aafdd5ba45e2968b4bd2ba01b846",
            "0bd2f9dd6a9f4b8f9f0fe8e28b5676fd",
            "44021f0a82504abeb8861b79264423de",
            "d7a385ccb52f49f5961b45f3dfa55ef9",
            "9ccbcd37e8cd4ae2a212fe084c79ff1b",
            "c65b76dcb12643559b12d6092eaba7ea",
            "ba2a9d6a4317422fb2154cb8735828cd"
          ]
        }
      },
      "id": "AcAls2pIVD4i",
      "execution_count": 187,
      "outputs": [
        {
          "output_type": "display_data",
          "data": {
            "text/plain": [
              "interactive(children=(SelectionRangeSlider(description='Select Date Range', index=(0, 464), layout=Layout(widt…"
            ],
            "application/vnd.jupyter.widget-view+json": {
              "version_major": 2,
              "version_minor": 0,
              "model_id": "2014aafdd5ba45e2968b4bd2ba01b846"
            }
          },
          "metadata": {}
        }
      ]
    },
    {
      "cell_type": "markdown",
      "source": [
        "# Bagging"
      ],
      "metadata": {
        "id": "x-d97HqYOXM9"
      },
      "id": "x-d97HqYOXM9"
    },
    {
      "cell_type": "code",
      "source": [
        "def train(n_models, train_df, train_idxs, valid_idxs, test_df):\n",
        "  total_length = len(train_idxs)\n",
        "  subset_size = int(total_length * 0.8)  # Each model trains on 80% of data\n",
        "  # Determine the maximum start index for training to ensure full subset_size can be used\n",
        "  max_start_idx = total_length - subset_size\n",
        "  predictions = []\n",
        "\n",
        "  # This will train sequentially but it's fine since we're not going to create many models\n",
        "  for n in range(1, n_models + 1):\n",
        "    # Calculate start index for each model to ensure time series order is maintained\n",
        "    start_idx = (n * max_start_idx) // n_models\n",
        "    end_idx = start_idx + subset_size\n",
        "    # Generate contiguous subset of train_idxs\n",
        "    model_train_idxs = train_idxs[start_idx:end_idx]\n",
        "\n",
        "    to = TabularPandas(\n",
        "      train_df,\n",
        "      procs=[Categorify, Normalize],\n",
        "      cat_names=['weekday', 'hour', 'month', 'day'],\n",
        "      cont_names=['year', \"precip\", \"temp\", \"rel_humid\"],\n",
        "      y_names=['valeur'],\n",
        "      splits=(list(model_train_idxs), valid_idxs),\n",
        "      y_block=RegressionBlock()\n",
        "    ).dataloaders(bs=1024)\n",
        "\n",
        "    learn = tabular_learner(to, metrics=mae, layers=[500, 250], y_range=(0, 1))\n",
        "\n",
        "    learn.fit_one_cycle(10, 0.0009)\n",
        "    test_dl = to.test_dl(test_df)\n",
        "    preds, targets = learn.get_preds(dl=test_dl)\n",
        "    predictions.append(preds)\n",
        "\n",
        "  return (torch.stack(predictions).mean(dim=0), targets)"
      ],
      "metadata": {
        "id": "VEWMGQ57OaU7"
      },
      "id": "VEWMGQ57OaU7",
      "execution_count": null,
      "outputs": []
    },
    {
      "cell_type": "code",
      "source": [
        "(all_preds, targets) = train(5, merged, train_idxs, valid_idxs, merged.loc[test_idxs])"
      ],
      "metadata": {
        "id": "S30fe8jCQ-q7",
        "outputId": "85603c0f-9bf3-4b91-83b3-a44124da26a9",
        "colab": {
          "base_uri": "https://localhost:8080/",
          "height": 1000
        }
      },
      "id": "S30fe8jCQ-q7",
      "execution_count": null,
      "outputs": [
        {
          "output_type": "display_data",
          "data": {
            "text/plain": [
              "<IPython.core.display.HTML object>"
            ],
            "text/html": [
              "\n",
              "<style>\n",
              "    /* Turns off some styling */\n",
              "    progress {\n",
              "        /* gets rid of default border in Firefox and Opera. */\n",
              "        border: none;\n",
              "        /* Needs to be in here for Safari polyfill so background images work as expected. */\n",
              "        background-size: auto;\n",
              "    }\n",
              "    progress:not([value]), progress:not([value])::-webkit-progress-bar {\n",
              "        background: repeating-linear-gradient(45deg, #7e7e7e, #7e7e7e 10px, #5c5c5c 10px, #5c5c5c 20px);\n",
              "    }\n",
              "    .progress-bar-interrupted, .progress-bar-interrupted::-webkit-progress-bar {\n",
              "        background: #F44336;\n",
              "    }\n",
              "</style>\n"
            ]
          },
          "metadata": {}
        },
        {
          "output_type": "display_data",
          "data": {
            "text/plain": [
              "<IPython.core.display.HTML object>"
            ],
            "text/html": [
              "<table border=\"1\" class=\"dataframe\">\n",
              "  <thead>\n",
              "    <tr style=\"text-align: left;\">\n",
              "      <th>epoch</th>\n",
              "      <th>train_loss</th>\n",
              "      <th>valid_loss</th>\n",
              "      <th>mae</th>\n",
              "      <th>time</th>\n",
              "    </tr>\n",
              "  </thead>\n",
              "  <tbody>\n",
              "    <tr>\n",
              "      <td>0</td>\n",
              "      <td>0.120849</td>\n",
              "      <td>0.130864</td>\n",
              "      <td>0.354831</td>\n",
              "      <td>00:00</td>\n",
              "    </tr>\n",
              "    <tr>\n",
              "      <td>1</td>\n",
              "      <td>0.085568</td>\n",
              "      <td>0.037404</td>\n",
              "      <td>0.185069</td>\n",
              "      <td>00:00</td>\n",
              "    </tr>\n",
              "    <tr>\n",
              "      <td>2</td>\n",
              "      <td>0.030519</td>\n",
              "      <td>0.012444</td>\n",
              "      <td>0.100201</td>\n",
              "      <td>00:00</td>\n",
              "    </tr>\n",
              "    <tr>\n",
              "      <td>3</td>\n",
              "      <td>0.010516</td>\n",
              "      <td>0.004074</td>\n",
              "      <td>0.049442</td>\n",
              "      <td>00:00</td>\n",
              "    </tr>\n",
              "    <tr>\n",
              "      <td>4</td>\n",
              "      <td>0.004953</td>\n",
              "      <td>0.003401</td>\n",
              "      <td>0.038020</td>\n",
              "      <td>00:00</td>\n",
              "    </tr>\n",
              "    <tr>\n",
              "      <td>5</td>\n",
              "      <td>0.003386</td>\n",
              "      <td>0.003306</td>\n",
              "      <td>0.038357</td>\n",
              "      <td>00:00</td>\n",
              "    </tr>\n",
              "    <tr>\n",
              "      <td>6</td>\n",
              "      <td>0.002797</td>\n",
              "      <td>0.003625</td>\n",
              "      <td>0.043625</td>\n",
              "      <td>00:00</td>\n",
              "    </tr>\n",
              "    <tr>\n",
              "      <td>7</td>\n",
              "      <td>0.002537</td>\n",
              "      <td>0.004213</td>\n",
              "      <td>0.050348</td>\n",
              "      <td>00:00</td>\n",
              "    </tr>\n",
              "    <tr>\n",
              "      <td>8</td>\n",
              "      <td>0.002421</td>\n",
              "      <td>0.003751</td>\n",
              "      <td>0.045487</td>\n",
              "      <td>00:00</td>\n",
              "    </tr>\n",
              "    <tr>\n",
              "      <td>9</td>\n",
              "      <td>0.002352</td>\n",
              "      <td>0.003643</td>\n",
              "      <td>0.044439</td>\n",
              "      <td>00:00</td>\n",
              "    </tr>\n",
              "  </tbody>\n",
              "</table>"
            ]
          },
          "metadata": {}
        },
        {
          "output_type": "display_data",
          "data": {
            "text/plain": [
              "<IPython.core.display.HTML object>"
            ],
            "text/html": [
              "\n",
              "<style>\n",
              "    /* Turns off some styling */\n",
              "    progress {\n",
              "        /* gets rid of default border in Firefox and Opera. */\n",
              "        border: none;\n",
              "        /* Needs to be in here for Safari polyfill so background images work as expected. */\n",
              "        background-size: auto;\n",
              "    }\n",
              "    progress:not([value]), progress:not([value])::-webkit-progress-bar {\n",
              "        background: repeating-linear-gradient(45deg, #7e7e7e, #7e7e7e 10px, #5c5c5c 10px, #5c5c5c 20px);\n",
              "    }\n",
              "    .progress-bar-interrupted, .progress-bar-interrupted::-webkit-progress-bar {\n",
              "        background: #F44336;\n",
              "    }\n",
              "</style>\n"
            ]
          },
          "metadata": {}
        },
        {
          "output_type": "display_data",
          "data": {
            "text/plain": [
              "<IPython.core.display.HTML object>"
            ],
            "text/html": []
          },
          "metadata": {}
        },
        {
          "output_type": "display_data",
          "data": {
            "text/plain": [
              "<IPython.core.display.HTML object>"
            ],
            "text/html": [
              "\n",
              "<style>\n",
              "    /* Turns off some styling */\n",
              "    progress {\n",
              "        /* gets rid of default border in Firefox and Opera. */\n",
              "        border: none;\n",
              "        /* Needs to be in here for Safari polyfill so background images work as expected. */\n",
              "        background-size: auto;\n",
              "    }\n",
              "    progress:not([value]), progress:not([value])::-webkit-progress-bar {\n",
              "        background: repeating-linear-gradient(45deg, #7e7e7e, #7e7e7e 10px, #5c5c5c 10px, #5c5c5c 20px);\n",
              "    }\n",
              "    .progress-bar-interrupted, .progress-bar-interrupted::-webkit-progress-bar {\n",
              "        background: #F44336;\n",
              "    }\n",
              "</style>\n"
            ]
          },
          "metadata": {}
        },
        {
          "output_type": "display_data",
          "data": {
            "text/plain": [
              "<IPython.core.display.HTML object>"
            ],
            "text/html": [
              "<table border=\"1\" class=\"dataframe\">\n",
              "  <thead>\n",
              "    <tr style=\"text-align: left;\">\n",
              "      <th>epoch</th>\n",
              "      <th>train_loss</th>\n",
              "      <th>valid_loss</th>\n",
              "      <th>mae</th>\n",
              "      <th>time</th>\n",
              "    </tr>\n",
              "  </thead>\n",
              "  <tbody>\n",
              "    <tr>\n",
              "      <td>0</td>\n",
              "      <td>0.124063</td>\n",
              "      <td>0.070789</td>\n",
              "      <td>0.259362</td>\n",
              "      <td>00:01</td>\n",
              "    </tr>\n",
              "    <tr>\n",
              "      <td>1</td>\n",
              "      <td>0.087539</td>\n",
              "      <td>0.068305</td>\n",
              "      <td>0.254803</td>\n",
              "      <td>00:01</td>\n",
              "    </tr>\n",
              "    <tr>\n",
              "      <td>2</td>\n",
              "      <td>0.030941</td>\n",
              "      <td>0.004140</td>\n",
              "      <td>0.048773</td>\n",
              "      <td>00:01</td>\n",
              "    </tr>\n",
              "    <tr>\n",
              "      <td>3</td>\n",
              "      <td>0.010722</td>\n",
              "      <td>0.006920</td>\n",
              "      <td>0.066871</td>\n",
              "      <td>00:00</td>\n",
              "    </tr>\n",
              "    <tr>\n",
              "      <td>4</td>\n",
              "      <td>0.005047</td>\n",
              "      <td>0.003910</td>\n",
              "      <td>0.045435</td>\n",
              "      <td>00:00</td>\n",
              "    </tr>\n",
              "    <tr>\n",
              "      <td>5</td>\n",
              "      <td>0.003369</td>\n",
              "      <td>0.004042</td>\n",
              "      <td>0.047592</td>\n",
              "      <td>00:00</td>\n",
              "    </tr>\n",
              "    <tr>\n",
              "      <td>6</td>\n",
              "      <td>0.002792</td>\n",
              "      <td>0.003783</td>\n",
              "      <td>0.042771</td>\n",
              "      <td>00:00</td>\n",
              "    </tr>\n",
              "    <tr>\n",
              "      <td>7</td>\n",
              "      <td>0.002530</td>\n",
              "      <td>0.003727</td>\n",
              "      <td>0.043897</td>\n",
              "      <td>00:00</td>\n",
              "    </tr>\n",
              "    <tr>\n",
              "      <td>8</td>\n",
              "      <td>0.002408</td>\n",
              "      <td>0.003605</td>\n",
              "      <td>0.041756</td>\n",
              "      <td>00:00</td>\n",
              "    </tr>\n",
              "    <tr>\n",
              "      <td>9</td>\n",
              "      <td>0.002352</td>\n",
              "      <td>0.003532</td>\n",
              "      <td>0.040772</td>\n",
              "      <td>00:00</td>\n",
              "    </tr>\n",
              "  </tbody>\n",
              "</table>"
            ]
          },
          "metadata": {}
        },
        {
          "output_type": "display_data",
          "data": {
            "text/plain": [
              "<IPython.core.display.HTML object>"
            ],
            "text/html": [
              "\n",
              "<style>\n",
              "    /* Turns off some styling */\n",
              "    progress {\n",
              "        /* gets rid of default border in Firefox and Opera. */\n",
              "        border: none;\n",
              "        /* Needs to be in here for Safari polyfill so background images work as expected. */\n",
              "        background-size: auto;\n",
              "    }\n",
              "    progress:not([value]), progress:not([value])::-webkit-progress-bar {\n",
              "        background: repeating-linear-gradient(45deg, #7e7e7e, #7e7e7e 10px, #5c5c5c 10px, #5c5c5c 20px);\n",
              "    }\n",
              "    .progress-bar-interrupted, .progress-bar-interrupted::-webkit-progress-bar {\n",
              "        background: #F44336;\n",
              "    }\n",
              "</style>\n"
            ]
          },
          "metadata": {}
        },
        {
          "output_type": "display_data",
          "data": {
            "text/plain": [
              "<IPython.core.display.HTML object>"
            ],
            "text/html": []
          },
          "metadata": {}
        },
        {
          "output_type": "display_data",
          "data": {
            "text/plain": [
              "<IPython.core.display.HTML object>"
            ],
            "text/html": [
              "\n",
              "<style>\n",
              "    /* Turns off some styling */\n",
              "    progress {\n",
              "        /* gets rid of default border in Firefox and Opera. */\n",
              "        border: none;\n",
              "        /* Needs to be in here for Safari polyfill so background images work as expected. */\n",
              "        background-size: auto;\n",
              "    }\n",
              "    progress:not([value]), progress:not([value])::-webkit-progress-bar {\n",
              "        background: repeating-linear-gradient(45deg, #7e7e7e, #7e7e7e 10px, #5c5c5c 10px, #5c5c5c 20px);\n",
              "    }\n",
              "    .progress-bar-interrupted, .progress-bar-interrupted::-webkit-progress-bar {\n",
              "        background: #F44336;\n",
              "    }\n",
              "</style>\n"
            ]
          },
          "metadata": {}
        },
        {
          "output_type": "display_data",
          "data": {
            "text/plain": [
              "<IPython.core.display.HTML object>"
            ],
            "text/html": [
              "<table border=\"1\" class=\"dataframe\">\n",
              "  <thead>\n",
              "    <tr style=\"text-align: left;\">\n",
              "      <th>epoch</th>\n",
              "      <th>train_loss</th>\n",
              "      <th>valid_loss</th>\n",
              "      <th>mae</th>\n",
              "      <th>time</th>\n",
              "    </tr>\n",
              "  </thead>\n",
              "  <tbody>\n",
              "    <tr>\n",
              "      <td>0</td>\n",
              "      <td>0.120183</td>\n",
              "      <td>0.112745</td>\n",
              "      <td>0.329982</td>\n",
              "      <td>00:00</td>\n",
              "    </tr>\n",
              "    <tr>\n",
              "      <td>1</td>\n",
              "      <td>0.084710</td>\n",
              "      <td>0.034854</td>\n",
              "      <td>0.177066</td>\n",
              "      <td>00:00</td>\n",
              "    </tr>\n",
              "    <tr>\n",
              "      <td>2</td>\n",
              "      <td>0.030946</td>\n",
              "      <td>0.004393</td>\n",
              "      <td>0.050767</td>\n",
              "      <td>00:00</td>\n",
              "    </tr>\n",
              "    <tr>\n",
              "      <td>3</td>\n",
              "      <td>0.010615</td>\n",
              "      <td>0.004463</td>\n",
              "      <td>0.049441</td>\n",
              "      <td>00:01</td>\n",
              "    </tr>\n",
              "    <tr>\n",
              "      <td>4</td>\n",
              "      <td>0.004933</td>\n",
              "      <td>0.003810</td>\n",
              "      <td>0.042605</td>\n",
              "      <td>00:01</td>\n",
              "    </tr>\n",
              "    <tr>\n",
              "      <td>5</td>\n",
              "      <td>0.003147</td>\n",
              "      <td>0.004474</td>\n",
              "      <td>0.046601</td>\n",
              "      <td>00:01</td>\n",
              "    </tr>\n",
              "    <tr>\n",
              "      <td>6</td>\n",
              "      <td>0.002537</td>\n",
              "      <td>0.004898</td>\n",
              "      <td>0.049363</td>\n",
              "      <td>00:00</td>\n",
              "    </tr>\n",
              "    <tr>\n",
              "      <td>7</td>\n",
              "      <td>0.002274</td>\n",
              "      <td>0.004006</td>\n",
              "      <td>0.043697</td>\n",
              "      <td>00:00</td>\n",
              "    </tr>\n",
              "    <tr>\n",
              "      <td>8</td>\n",
              "      <td>0.002152</td>\n",
              "      <td>0.004006</td>\n",
              "      <td>0.043054</td>\n",
              "      <td>00:00</td>\n",
              "    </tr>\n",
              "    <tr>\n",
              "      <td>9</td>\n",
              "      <td>0.002086</td>\n",
              "      <td>0.004227</td>\n",
              "      <td>0.044766</td>\n",
              "      <td>00:00</td>\n",
              "    </tr>\n",
              "  </tbody>\n",
              "</table>"
            ]
          },
          "metadata": {}
        },
        {
          "output_type": "display_data",
          "data": {
            "text/plain": [
              "<IPython.core.display.HTML object>"
            ],
            "text/html": [
              "\n",
              "<style>\n",
              "    /* Turns off some styling */\n",
              "    progress {\n",
              "        /* gets rid of default border in Firefox and Opera. */\n",
              "        border: none;\n",
              "        /* Needs to be in here for Safari polyfill so background images work as expected. */\n",
              "        background-size: auto;\n",
              "    }\n",
              "    progress:not([value]), progress:not([value])::-webkit-progress-bar {\n",
              "        background: repeating-linear-gradient(45deg, #7e7e7e, #7e7e7e 10px, #5c5c5c 10px, #5c5c5c 20px);\n",
              "    }\n",
              "    .progress-bar-interrupted, .progress-bar-interrupted::-webkit-progress-bar {\n",
              "        background: #F44336;\n",
              "    }\n",
              "</style>\n"
            ]
          },
          "metadata": {}
        },
        {
          "output_type": "display_data",
          "data": {
            "text/plain": [
              "<IPython.core.display.HTML object>"
            ],
            "text/html": []
          },
          "metadata": {}
        },
        {
          "output_type": "display_data",
          "data": {
            "text/plain": [
              "<IPython.core.display.HTML object>"
            ],
            "text/html": [
              "\n",
              "<style>\n",
              "    /* Turns off some styling */\n",
              "    progress {\n",
              "        /* gets rid of default border in Firefox and Opera. */\n",
              "        border: none;\n",
              "        /* Needs to be in here for Safari polyfill so background images work as expected. */\n",
              "        background-size: auto;\n",
              "    }\n",
              "    progress:not([value]), progress:not([value])::-webkit-progress-bar {\n",
              "        background: repeating-linear-gradient(45deg, #7e7e7e, #7e7e7e 10px, #5c5c5c 10px, #5c5c5c 20px);\n",
              "    }\n",
              "    .progress-bar-interrupted, .progress-bar-interrupted::-webkit-progress-bar {\n",
              "        background: #F44336;\n",
              "    }\n",
              "</style>\n"
            ]
          },
          "metadata": {}
        },
        {
          "output_type": "display_data",
          "data": {
            "text/plain": [
              "<IPython.core.display.HTML object>"
            ],
            "text/html": [
              "<table border=\"1\" class=\"dataframe\">\n",
              "  <thead>\n",
              "    <tr style=\"text-align: left;\">\n",
              "      <th>epoch</th>\n",
              "      <th>train_loss</th>\n",
              "      <th>valid_loss</th>\n",
              "      <th>mae</th>\n",
              "      <th>time</th>\n",
              "    </tr>\n",
              "  </thead>\n",
              "  <tbody>\n",
              "    <tr>\n",
              "      <td>0</td>\n",
              "      <td>0.122001</td>\n",
              "      <td>0.103374</td>\n",
              "      <td>0.315280</td>\n",
              "      <td>00:00</td>\n",
              "    </tr>\n",
              "    <tr>\n",
              "      <td>1</td>\n",
              "      <td>0.085577</td>\n",
              "      <td>0.020106</td>\n",
              "      <td>0.127820</td>\n",
              "      <td>00:00</td>\n",
              "    </tr>\n",
              "    <tr>\n",
              "      <td>2</td>\n",
              "      <td>0.029937</td>\n",
              "      <td>0.003932</td>\n",
              "      <td>0.045192</td>\n",
              "      <td>00:00</td>\n",
              "    </tr>\n",
              "    <tr>\n",
              "      <td>3</td>\n",
              "      <td>0.010091</td>\n",
              "      <td>0.003684</td>\n",
              "      <td>0.041347</td>\n",
              "      <td>00:00</td>\n",
              "    </tr>\n",
              "    <tr>\n",
              "      <td>4</td>\n",
              "      <td>0.004561</td>\n",
              "      <td>0.004283</td>\n",
              "      <td>0.045369</td>\n",
              "      <td>00:00</td>\n",
              "    </tr>\n",
              "    <tr>\n",
              "      <td>5</td>\n",
              "      <td>0.002976</td>\n",
              "      <td>0.004326</td>\n",
              "      <td>0.045841</td>\n",
              "      <td>00:00</td>\n",
              "    </tr>\n",
              "    <tr>\n",
              "      <td>6</td>\n",
              "      <td>0.002435</td>\n",
              "      <td>0.004223</td>\n",
              "      <td>0.044106</td>\n",
              "      <td>00:00</td>\n",
              "    </tr>\n",
              "    <tr>\n",
              "      <td>7</td>\n",
              "      <td>0.002233</td>\n",
              "      <td>0.004281</td>\n",
              "      <td>0.044044</td>\n",
              "      <td>00:01</td>\n",
              "    </tr>\n",
              "    <tr>\n",
              "      <td>8</td>\n",
              "      <td>0.002114</td>\n",
              "      <td>0.003822</td>\n",
              "      <td>0.041165</td>\n",
              "      <td>00:01</td>\n",
              "    </tr>\n",
              "    <tr>\n",
              "      <td>9</td>\n",
              "      <td>0.002058</td>\n",
              "      <td>0.004013</td>\n",
              "      <td>0.042839</td>\n",
              "      <td>00:01</td>\n",
              "    </tr>\n",
              "  </tbody>\n",
              "</table>"
            ]
          },
          "metadata": {}
        },
        {
          "output_type": "display_data",
          "data": {
            "text/plain": [
              "<IPython.core.display.HTML object>"
            ],
            "text/html": [
              "\n",
              "<style>\n",
              "    /* Turns off some styling */\n",
              "    progress {\n",
              "        /* gets rid of default border in Firefox and Opera. */\n",
              "        border: none;\n",
              "        /* Needs to be in here for Safari polyfill so background images work as expected. */\n",
              "        background-size: auto;\n",
              "    }\n",
              "    progress:not([value]), progress:not([value])::-webkit-progress-bar {\n",
              "        background: repeating-linear-gradient(45deg, #7e7e7e, #7e7e7e 10px, #5c5c5c 10px, #5c5c5c 20px);\n",
              "    }\n",
              "    .progress-bar-interrupted, .progress-bar-interrupted::-webkit-progress-bar {\n",
              "        background: #F44336;\n",
              "    }\n",
              "</style>\n"
            ]
          },
          "metadata": {}
        },
        {
          "output_type": "display_data",
          "data": {
            "text/plain": [
              "<IPython.core.display.HTML object>"
            ],
            "text/html": []
          },
          "metadata": {}
        },
        {
          "output_type": "display_data",
          "data": {
            "text/plain": [
              "<IPython.core.display.HTML object>"
            ],
            "text/html": [
              "\n",
              "<style>\n",
              "    /* Turns off some styling */\n",
              "    progress {\n",
              "        /* gets rid of default border in Firefox and Opera. */\n",
              "        border: none;\n",
              "        /* Needs to be in here for Safari polyfill so background images work as expected. */\n",
              "        background-size: auto;\n",
              "    }\n",
              "    progress:not([value]), progress:not([value])::-webkit-progress-bar {\n",
              "        background: repeating-linear-gradient(45deg, #7e7e7e, #7e7e7e 10px, #5c5c5c 10px, #5c5c5c 20px);\n",
              "    }\n",
              "    .progress-bar-interrupted, .progress-bar-interrupted::-webkit-progress-bar {\n",
              "        background: #F44336;\n",
              "    }\n",
              "</style>\n"
            ]
          },
          "metadata": {}
        },
        {
          "output_type": "display_data",
          "data": {
            "text/plain": [
              "<IPython.core.display.HTML object>"
            ],
            "text/html": [
              "<table border=\"1\" class=\"dataframe\">\n",
              "  <thead>\n",
              "    <tr style=\"text-align: left;\">\n",
              "      <th>epoch</th>\n",
              "      <th>train_loss</th>\n",
              "      <th>valid_loss</th>\n",
              "      <th>mae</th>\n",
              "      <th>time</th>\n",
              "    </tr>\n",
              "  </thead>\n",
              "  <tbody>\n",
              "    <tr>\n",
              "      <td>0</td>\n",
              "      <td>0.116982</td>\n",
              "      <td>0.132169</td>\n",
              "      <td>0.358189</td>\n",
              "      <td>00:00</td>\n",
              "    </tr>\n",
              "    <tr>\n",
              "      <td>1</td>\n",
              "      <td>0.070742</td>\n",
              "      <td>0.034337</td>\n",
              "      <td>0.134488</td>\n",
              "      <td>00:00</td>\n",
              "    </tr>\n",
              "    <tr>\n",
              "      <td>2</td>\n",
              "      <td>0.032858</td>\n",
              "      <td>0.011533</td>\n",
              "      <td>0.062946</td>\n",
              "      <td>00:01</td>\n",
              "    </tr>\n",
              "    <tr>\n",
              "      <td>3</td>\n",
              "      <td>0.015785</td>\n",
              "      <td>0.007779</td>\n",
              "      <td>0.059960</td>\n",
              "      <td>00:01</td>\n",
              "    </tr>\n",
              "    <tr>\n",
              "      <td>4</td>\n",
              "      <td>0.007320</td>\n",
              "      <td>0.004858</td>\n",
              "      <td>0.054803</td>\n",
              "      <td>00:01</td>\n",
              "    </tr>\n",
              "    <tr>\n",
              "      <td>5</td>\n",
              "      <td>0.003962</td>\n",
              "      <td>0.003347</td>\n",
              "      <td>0.038913</td>\n",
              "      <td>00:01</td>\n",
              "    </tr>\n",
              "    <tr>\n",
              "      <td>6</td>\n",
              "      <td>0.002948</td>\n",
              "      <td>0.003811</td>\n",
              "      <td>0.040392</td>\n",
              "      <td>00:00</td>\n",
              "    </tr>\n",
              "    <tr>\n",
              "      <td>7</td>\n",
              "      <td>0.002634</td>\n",
              "      <td>0.003541</td>\n",
              "      <td>0.039385</td>\n",
              "      <td>00:00</td>\n",
              "    </tr>\n",
              "    <tr>\n",
              "      <td>8</td>\n",
              "      <td>0.002419</td>\n",
              "      <td>0.003381</td>\n",
              "      <td>0.040334</td>\n",
              "      <td>00:00</td>\n",
              "    </tr>\n",
              "    <tr>\n",
              "      <td>9</td>\n",
              "      <td>0.002345</td>\n",
              "      <td>0.003353</td>\n",
              "      <td>0.038879</td>\n",
              "      <td>00:01</td>\n",
              "    </tr>\n",
              "  </tbody>\n",
              "</table>"
            ]
          },
          "metadata": {}
        },
        {
          "output_type": "display_data",
          "data": {
            "text/plain": [
              "<IPython.core.display.HTML object>"
            ],
            "text/html": [
              "\n",
              "<style>\n",
              "    /* Turns off some styling */\n",
              "    progress {\n",
              "        /* gets rid of default border in Firefox and Opera. */\n",
              "        border: none;\n",
              "        /* Needs to be in here for Safari polyfill so background images work as expected. */\n",
              "        background-size: auto;\n",
              "    }\n",
              "    progress:not([value]), progress:not([value])::-webkit-progress-bar {\n",
              "        background: repeating-linear-gradient(45deg, #7e7e7e, #7e7e7e 10px, #5c5c5c 10px, #5c5c5c 20px);\n",
              "    }\n",
              "    .progress-bar-interrupted, .progress-bar-interrupted::-webkit-progress-bar {\n",
              "        background: #F44336;\n",
              "    }\n",
              "</style>\n"
            ]
          },
          "metadata": {}
        },
        {
          "output_type": "display_data",
          "data": {
            "text/plain": [
              "<IPython.core.display.HTML object>"
            ],
            "text/html": []
          },
          "metadata": {}
        }
      ]
    },
    {
      "cell_type": "code",
      "source": [
        "mae(all_preds, targets)"
      ],
      "metadata": {
        "id": "iPbwxLYSUlNz",
        "outputId": "d91ed159-16a8-43ac-93c0-d69f22f6c9d7",
        "colab": {
          "base_uri": "https://localhost:8080/"
        }
      },
      "id": "iPbwxLYSUlNz",
      "execution_count": null,
      "outputs": [
        {
          "output_type": "execute_result",
          "data": {
            "text/plain": [
              "TensorBase(0.0498)"
            ]
          },
          "metadata": {},
          "execution_count": 139
        }
      ]
    },
    {
      "cell_type": "code",
      "source": [
        "analysis_df = mk_analysis_df(merged.loc[test_idxs], all_preds, scaler)\n",
        "plot_preds(analysis_df[analysis_df['datetime'] >= pd.Timestamp(\"2020-01-01\")])"
      ],
      "metadata": {
        "id": "I4ldH-lASfCB",
        "outputId": "1357dab8-c6f1-4aa8-8895-2921fca54429",
        "colab": {
          "base_uri": "https://localhost:8080/",
          "height": 519,
          "referenced_widgets": [
            "064d0cea965b4196af34a7b73fbe081f",
            "598d8f97359140589f6a35a070d6f659",
            "a9d3781213304951a9b377015fdaca39",
            "a6617aba89ed41ccbbf3218330f43066",
            "a42e3bfce5c2455abb866cbbb8c9ed6d",
            "aca63d8ce92441f1b4472df7f97f86f6",
            "e370b5ec0d7740b2971768656583f0d4"
          ]
        }
      },
      "id": "I4ldH-lASfCB",
      "execution_count": null,
      "outputs": [
        {
          "output_type": "display_data",
          "data": {
            "text/plain": [
              "interactive(children=(SelectionRangeSlider(description='Select Date Range', index=(0, 464), layout=Layout(widt…"
            ],
            "application/vnd.jupyter.widget-view+json": {
              "version_major": 2,
              "version_minor": 0,
              "model_id": "064d0cea965b4196af34a7b73fbe081f"
            }
          },
          "metadata": {}
        }
      ]
    },
    {
      "cell_type": "markdown",
      "source": [
        "# Ensemble"
      ],
      "metadata": {
        "id": "zfNzM_ZLS7Xe"
      },
      "id": "zfNzM_ZLS7Xe"
    },
    {
      "cell_type": "code",
      "source": [
        "to = TabularPandas(\n",
        "  merged,\n",
        "  procs=[Categorify, Normalize],\n",
        "  cat_names=['weekday', 'hour', 'month', 'day'],\n",
        "  cont_names=['year', \"precip\", \"temp\", \"rel_humid\"],\n",
        "  y_names=['valeur'],\n",
        "  splits=(train_idxs, valid_idxs),\n",
        "  y_block=RegressionBlock()\n",
        ")\n",
        "\n",
        "dls = to.dataloaders(bs=2048)\n",
        "\n",
        "def train(n_model):\n",
        "  all_preds = []\n",
        "  for x in range(1, n_model + 1):\n",
        "    learn = tabular_learner(dls, metrics=mae, layers=[500, 250], y_range=(0, 1))\n",
        "    with learn.no_logging(), learn.no_mbar():\n",
        "      learn.fit_one_cycle(10, 0.0009)\n",
        "    df_test = merged.loc[test_idxs]\n",
        "    test_dl = dls.test_dl(df_test)\n",
        "    preds, targets = learn.get_preds(dl=test_dl)\n",
        "    print(mae(preds, targets))\n",
        "\n",
        "    all_preds.append(preds)\n",
        "  return (torch.stack(all_preds).mean(dim=0), targets)\n"
      ],
      "metadata": {
        "id": "KKFY0fcJzs82"
      },
      "id": "KKFY0fcJzs82",
      "execution_count": null,
      "outputs": []
    },
    {
      "cell_type": "code",
      "source": [
        "df_test = merged.loc[test_idxs]\n",
        "test_dl = dls.test_dl(df_test)"
      ],
      "metadata": {
        "id": "d7REiCNzVoN8"
      },
      "id": "d7REiCNzVoN8",
      "execution_count": null,
      "outputs": []
    },
    {
      "cell_type": "code",
      "source": [
        "preds, targets = learn.get_preds(dl=test_dl)\n",
        "\n",
        "mae(preds, targets)"
      ],
      "metadata": {
        "id": "bJcD3HyaVo7v",
        "outputId": "2f814444-aac2-4004-dc60-5d0c6c49b253",
        "colab": {
          "base_uri": "https://localhost:8080/",
          "height": 35
        }
      },
      "id": "bJcD3HyaVo7v",
      "execution_count": null,
      "outputs": [
        {
          "output_type": "display_data",
          "data": {
            "text/plain": [
              "<IPython.core.display.HTML object>"
            ],
            "text/html": [
              "\n",
              "<style>\n",
              "    /* Turns off some styling */\n",
              "    progress {\n",
              "        /* gets rid of default border in Firefox and Opera. */\n",
              "        border: none;\n",
              "        /* Needs to be in here for Safari polyfill so background images work as expected. */\n",
              "        background-size: auto;\n",
              "    }\n",
              "    progress:not([value]), progress:not([value])::-webkit-progress-bar {\n",
              "        background: repeating-linear-gradient(45deg, #7e7e7e, #7e7e7e 10px, #5c5c5c 10px, #5c5c5c 20px);\n",
              "    }\n",
              "    .progress-bar-interrupted, .progress-bar-interrupted::-webkit-progress-bar {\n",
              "        background: #F44336;\n",
              "    }\n",
              "</style>\n"
            ]
          },
          "metadata": {}
        },
        {
          "output_type": "display_data",
          "data": {
            "text/plain": [
              "<IPython.core.display.HTML object>"
            ],
            "text/html": []
          },
          "metadata": {}
        },
        {
          "output_type": "execute_result",
          "data": {
            "text/plain": [
              "TensorBase(0.0549)"
            ]
          },
          "metadata": {},
          "execution_count": 75
        }
      ]
    },
    {
      "cell_type": "code",
      "source": [
        "analysis_df = mk_analysis_df(df_test, preds.flatten(), scaler)\n",
        "\n",
        "# plot_preds(analysis_df)\n",
        "plot_preds(analysis_df[analysis_df['datetime'] >= pd.Timestamp(\"2020-01-01\")])"
      ],
      "metadata": {
        "id": "t1xmhfTpWC7C",
        "outputId": "a14255e5-29b0-43a1-a7af-29dabd2b4e68",
        "colab": {
          "base_uri": "https://localhost:8080/",
          "height": 519,
          "referenced_widgets": [
            "48472b0394524ce18a55e841986da4cd",
            "6905cbac0b6d448a811b535ef3e71dc7",
            "73f1c0f640e74d12b5d69d69637644e3",
            "2f2fce6899c14da48e3114995b3fefb4",
            "a756e19168c947e7ad3a95ac3deb6e7a",
            "7cf9a0e7655142c7aae4598416c17f65",
            "4477072412144b8d8c2371df230bdaaf"
          ]
        }
      },
      "id": "t1xmhfTpWC7C",
      "execution_count": null,
      "outputs": [
        {
          "output_type": "display_data",
          "data": {
            "text/plain": [
              "interactive(children=(SelectionRangeSlider(description='Select Date Range', index=(0, 464), layout=Layout(widt…"
            ],
            "application/vnd.jupyter.widget-view+json": {
              "version_major": 2,
              "version_minor": 0,
              "model_id": "48472b0394524ce18a55e841986da4cd"
            }
          },
          "metadata": {}
        }
      ]
    },
    {
      "cell_type": "code",
      "source": [
        "(all_preds, targets) = train(5)\n",
        "mae(all_preds, targets)"
      ],
      "metadata": {
        "id": "2iNIMiPC04ie",
        "outputId": "e3087f6a-6ffe-49e9-8f88-01490f54c9c8",
        "colab": {
          "base_uri": "https://localhost:8080/",
          "height": 121
        }
      },
      "id": "2iNIMiPC04ie",
      "execution_count": null,
      "outputs": [
        {
          "output_type": "display_data",
          "data": {
            "text/plain": [
              "<IPython.core.display.HTML object>"
            ],
            "text/html": [
              "\n",
              "<style>\n",
              "    /* Turns off some styling */\n",
              "    progress {\n",
              "        /* gets rid of default border in Firefox and Opera. */\n",
              "        border: none;\n",
              "        /* Needs to be in here for Safari polyfill so background images work as expected. */\n",
              "        background-size: auto;\n",
              "    }\n",
              "    progress:not([value]), progress:not([value])::-webkit-progress-bar {\n",
              "        background: repeating-linear-gradient(45deg, #7e7e7e, #7e7e7e 10px, #5c5c5c 10px, #5c5c5c 20px);\n",
              "    }\n",
              "    .progress-bar-interrupted, .progress-bar-interrupted::-webkit-progress-bar {\n",
              "        background: #F44336;\n",
              "    }\n",
              "</style>\n"
            ]
          },
          "metadata": {}
        },
        {
          "output_type": "display_data",
          "data": {
            "text/plain": [
              "<IPython.core.display.HTML object>"
            ],
            "text/html": []
          },
          "metadata": {}
        },
        {
          "output_type": "display_data",
          "data": {
            "text/plain": [
              "<IPython.core.display.HTML object>"
            ],
            "text/html": [
              "\n",
              "<style>\n",
              "    /* Turns off some styling */\n",
              "    progress {\n",
              "        /* gets rid of default border in Firefox and Opera. */\n",
              "        border: none;\n",
              "        /* Needs to be in here for Safari polyfill so background images work as expected. */\n",
              "        background-size: auto;\n",
              "    }\n",
              "    progress:not([value]), progress:not([value])::-webkit-progress-bar {\n",
              "        background: repeating-linear-gradient(45deg, #7e7e7e, #7e7e7e 10px, #5c5c5c 10px, #5c5c5c 20px);\n",
              "    }\n",
              "    .progress-bar-interrupted, .progress-bar-interrupted::-webkit-progress-bar {\n",
              "        background: #F44336;\n",
              "    }\n",
              "</style>\n"
            ]
          },
          "metadata": {}
        },
        {
          "output_type": "display_data",
          "data": {
            "text/plain": [
              "<IPython.core.display.HTML object>"
            ],
            "text/html": []
          },
          "metadata": {}
        },
        {
          "output_type": "display_data",
          "data": {
            "text/plain": [
              "<IPython.core.display.HTML object>"
            ],
            "text/html": [
              "\n",
              "<style>\n",
              "    /* Turns off some styling */\n",
              "    progress {\n",
              "        /* gets rid of default border in Firefox and Opera. */\n",
              "        border: none;\n",
              "        /* Needs to be in here for Safari polyfill so background images work as expected. */\n",
              "        background-size: auto;\n",
              "    }\n",
              "    progress:not([value]), progress:not([value])::-webkit-progress-bar {\n",
              "        background: repeating-linear-gradient(45deg, #7e7e7e, #7e7e7e 10px, #5c5c5c 10px, #5c5c5c 20px);\n",
              "    }\n",
              "    .progress-bar-interrupted, .progress-bar-interrupted::-webkit-progress-bar {\n",
              "        background: #F44336;\n",
              "    }\n",
              "</style>\n"
            ]
          },
          "metadata": {}
        },
        {
          "output_type": "display_data",
          "data": {
            "text/plain": [
              "<IPython.core.display.HTML object>"
            ],
            "text/html": []
          },
          "metadata": {}
        },
        {
          "output_type": "display_data",
          "data": {
            "text/plain": [
              "<IPython.core.display.HTML object>"
            ],
            "text/html": [
              "\n",
              "<style>\n",
              "    /* Turns off some styling */\n",
              "    progress {\n",
              "        /* gets rid of default border in Firefox and Opera. */\n",
              "        border: none;\n",
              "        /* Needs to be in here for Safari polyfill so background images work as expected. */\n",
              "        background-size: auto;\n",
              "    }\n",
              "    progress:not([value]), progress:not([value])::-webkit-progress-bar {\n",
              "        background: repeating-linear-gradient(45deg, #7e7e7e, #7e7e7e 10px, #5c5c5c 10px, #5c5c5c 20px);\n",
              "    }\n",
              "    .progress-bar-interrupted, .progress-bar-interrupted::-webkit-progress-bar {\n",
              "        background: #F44336;\n",
              "    }\n",
              "</style>\n"
            ]
          },
          "metadata": {}
        },
        {
          "output_type": "display_data",
          "data": {
            "text/plain": [
              "<IPython.core.display.HTML object>"
            ],
            "text/html": []
          },
          "metadata": {}
        },
        {
          "output_type": "display_data",
          "data": {
            "text/plain": [
              "<IPython.core.display.HTML object>"
            ],
            "text/html": [
              "\n",
              "<style>\n",
              "    /* Turns off some styling */\n",
              "    progress {\n",
              "        /* gets rid of default border in Firefox and Opera. */\n",
              "        border: none;\n",
              "        /* Needs to be in here for Safari polyfill so background images work as expected. */\n",
              "        background-size: auto;\n",
              "    }\n",
              "    progress:not([value]), progress:not([value])::-webkit-progress-bar {\n",
              "        background: repeating-linear-gradient(45deg, #7e7e7e, #7e7e7e 10px, #5c5c5c 10px, #5c5c5c 20px);\n",
              "    }\n",
              "    .progress-bar-interrupted, .progress-bar-interrupted::-webkit-progress-bar {\n",
              "        background: #F44336;\n",
              "    }\n",
              "</style>\n"
            ]
          },
          "metadata": {}
        },
        {
          "output_type": "display_data",
          "data": {
            "text/plain": [
              "<IPython.core.display.HTML object>"
            ],
            "text/html": []
          },
          "metadata": {}
        },
        {
          "output_type": "display_data",
          "data": {
            "text/plain": [
              "<IPython.core.display.HTML object>"
            ],
            "text/html": [
              "\n",
              "<style>\n",
              "    /* Turns off some styling */\n",
              "    progress {\n",
              "        /* gets rid of default border in Firefox and Opera. */\n",
              "        border: none;\n",
              "        /* Needs to be in here for Safari polyfill so background images work as expected. */\n",
              "        background-size: auto;\n",
              "    }\n",
              "    progress:not([value]), progress:not([value])::-webkit-progress-bar {\n",
              "        background: repeating-linear-gradient(45deg, #7e7e7e, #7e7e7e 10px, #5c5c5c 10px, #5c5c5c 20px);\n",
              "    }\n",
              "    .progress-bar-interrupted, .progress-bar-interrupted::-webkit-progress-bar {\n",
              "        background: #F44336;\n",
              "    }\n",
              "</style>\n"
            ]
          },
          "metadata": {}
        },
        {
          "output_type": "display_data",
          "data": {
            "text/plain": [
              "<IPython.core.display.HTML object>"
            ],
            "text/html": []
          },
          "metadata": {}
        },
        {
          "output_type": "display_data",
          "data": {
            "text/plain": [
              "<IPython.core.display.HTML object>"
            ],
            "text/html": [
              "\n",
              "<style>\n",
              "    /* Turns off some styling */\n",
              "    progress {\n",
              "        /* gets rid of default border in Firefox and Opera. */\n",
              "        border: none;\n",
              "        /* Needs to be in here for Safari polyfill so background images work as expected. */\n",
              "        background-size: auto;\n",
              "    }\n",
              "    progress:not([value]), progress:not([value])::-webkit-progress-bar {\n",
              "        background: repeating-linear-gradient(45deg, #7e7e7e, #7e7e7e 10px, #5c5c5c 10px, #5c5c5c 20px);\n",
              "    }\n",
              "    .progress-bar-interrupted, .progress-bar-interrupted::-webkit-progress-bar {\n",
              "        background: #F44336;\n",
              "    }\n",
              "</style>\n"
            ]
          },
          "metadata": {}
        },
        {
          "output_type": "display_data",
          "data": {
            "text/plain": [
              "<IPython.core.display.HTML object>"
            ],
            "text/html": []
          },
          "metadata": {}
        },
        {
          "output_type": "display_data",
          "data": {
            "text/plain": [
              "<IPython.core.display.HTML object>"
            ],
            "text/html": [
              "\n",
              "<style>\n",
              "    /* Turns off some styling */\n",
              "    progress {\n",
              "        /* gets rid of default border in Firefox and Opera. */\n",
              "        border: none;\n",
              "        /* Needs to be in here for Safari polyfill so background images work as expected. */\n",
              "        background-size: auto;\n",
              "    }\n",
              "    progress:not([value]), progress:not([value])::-webkit-progress-bar {\n",
              "        background: repeating-linear-gradient(45deg, #7e7e7e, #7e7e7e 10px, #5c5c5c 10px, #5c5c5c 20px);\n",
              "    }\n",
              "    .progress-bar-interrupted, .progress-bar-interrupted::-webkit-progress-bar {\n",
              "        background: #F44336;\n",
              "    }\n",
              "</style>\n"
            ]
          },
          "metadata": {}
        },
        {
          "output_type": "display_data",
          "data": {
            "text/plain": [
              "<IPython.core.display.HTML object>"
            ],
            "text/html": []
          },
          "metadata": {}
        },
        {
          "output_type": "display_data",
          "data": {
            "text/plain": [
              "<IPython.core.display.HTML object>"
            ],
            "text/html": [
              "\n",
              "<style>\n",
              "    /* Turns off some styling */\n",
              "    progress {\n",
              "        /* gets rid of default border in Firefox and Opera. */\n",
              "        border: none;\n",
              "        /* Needs to be in here for Safari polyfill so background images work as expected. */\n",
              "        background-size: auto;\n",
              "    }\n",
              "    progress:not([value]), progress:not([value])::-webkit-progress-bar {\n",
              "        background: repeating-linear-gradient(45deg, #7e7e7e, #7e7e7e 10px, #5c5c5c 10px, #5c5c5c 20px);\n",
              "    }\n",
              "    .progress-bar-interrupted, .progress-bar-interrupted::-webkit-progress-bar {\n",
              "        background: #F44336;\n",
              "    }\n",
              "</style>\n"
            ]
          },
          "metadata": {}
        },
        {
          "output_type": "display_data",
          "data": {
            "text/plain": [
              "<IPython.core.display.HTML object>"
            ],
            "text/html": []
          },
          "metadata": {}
        },
        {
          "output_type": "display_data",
          "data": {
            "text/plain": [
              "<IPython.core.display.HTML object>"
            ],
            "text/html": [
              "\n",
              "<style>\n",
              "    /* Turns off some styling */\n",
              "    progress {\n",
              "        /* gets rid of default border in Firefox and Opera. */\n",
              "        border: none;\n",
              "        /* Needs to be in here for Safari polyfill so background images work as expected. */\n",
              "        background-size: auto;\n",
              "    }\n",
              "    progress:not([value]), progress:not([value])::-webkit-progress-bar {\n",
              "        background: repeating-linear-gradient(45deg, #7e7e7e, #7e7e7e 10px, #5c5c5c 10px, #5c5c5c 20px);\n",
              "    }\n",
              "    .progress-bar-interrupted, .progress-bar-interrupted::-webkit-progress-bar {\n",
              "        background: #F44336;\n",
              "    }\n",
              "</style>\n"
            ]
          },
          "metadata": {}
        },
        {
          "output_type": "display_data",
          "data": {
            "text/plain": [
              "<IPython.core.display.HTML object>"
            ],
            "text/html": []
          },
          "metadata": {}
        },
        {
          "output_type": "display_data",
          "data": {
            "text/plain": [
              "<IPython.core.display.HTML object>"
            ],
            "text/html": [
              "\n",
              "<style>\n",
              "    /* Turns off some styling */\n",
              "    progress {\n",
              "        /* gets rid of default border in Firefox and Opera. */\n",
              "        border: none;\n",
              "        /* Needs to be in here for Safari polyfill so background images work as expected. */\n",
              "        background-size: auto;\n",
              "    }\n",
              "    progress:not([value]), progress:not([value])::-webkit-progress-bar {\n",
              "        background: repeating-linear-gradient(45deg, #7e7e7e, #7e7e7e 10px, #5c5c5c 10px, #5c5c5c 20px);\n",
              "    }\n",
              "    .progress-bar-interrupted, .progress-bar-interrupted::-webkit-progress-bar {\n",
              "        background: #F44336;\n",
              "    }\n",
              "</style>\n"
            ]
          },
          "metadata": {}
        },
        {
          "output_type": "display_data",
          "data": {
            "text/plain": [
              "<IPython.core.display.HTML object>"
            ],
            "text/html": []
          },
          "metadata": {}
        },
        {
          "output_type": "display_data",
          "data": {
            "text/plain": [
              "<IPython.core.display.HTML object>"
            ],
            "text/html": [
              "\n",
              "<style>\n",
              "    /* Turns off some styling */\n",
              "    progress {\n",
              "        /* gets rid of default border in Firefox and Opera. */\n",
              "        border: none;\n",
              "        /* Needs to be in here for Safari polyfill so background images work as expected. */\n",
              "        background-size: auto;\n",
              "    }\n",
              "    progress:not([value]), progress:not([value])::-webkit-progress-bar {\n",
              "        background: repeating-linear-gradient(45deg, #7e7e7e, #7e7e7e 10px, #5c5c5c 10px, #5c5c5c 20px);\n",
              "    }\n",
              "    .progress-bar-interrupted, .progress-bar-interrupted::-webkit-progress-bar {\n",
              "        background: #F44336;\n",
              "    }\n",
              "</style>\n"
            ]
          },
          "metadata": {}
        },
        {
          "output_type": "display_data",
          "data": {
            "text/plain": [
              "<IPython.core.display.HTML object>"
            ],
            "text/html": []
          },
          "metadata": {}
        },
        {
          "output_type": "display_data",
          "data": {
            "text/plain": [
              "<IPython.core.display.HTML object>"
            ],
            "text/html": [
              "\n",
              "<style>\n",
              "    /* Turns off some styling */\n",
              "    progress {\n",
              "        /* gets rid of default border in Firefox and Opera. */\n",
              "        border: none;\n",
              "        /* Needs to be in here for Safari polyfill so background images work as expected. */\n",
              "        background-size: auto;\n",
              "    }\n",
              "    progress:not([value]), progress:not([value])::-webkit-progress-bar {\n",
              "        background: repeating-linear-gradient(45deg, #7e7e7e, #7e7e7e 10px, #5c5c5c 10px, #5c5c5c 20px);\n",
              "    }\n",
              "    .progress-bar-interrupted, .progress-bar-interrupted::-webkit-progress-bar {\n",
              "        background: #F44336;\n",
              "    }\n",
              "</style>\n"
            ]
          },
          "metadata": {}
        },
        {
          "output_type": "display_data",
          "data": {
            "text/plain": [
              "<IPython.core.display.HTML object>"
            ],
            "text/html": []
          },
          "metadata": {}
        },
        {
          "output_type": "display_data",
          "data": {
            "text/plain": [
              "<IPython.core.display.HTML object>"
            ],
            "text/html": [
              "\n",
              "<style>\n",
              "    /* Turns off some styling */\n",
              "    progress {\n",
              "        /* gets rid of default border in Firefox and Opera. */\n",
              "        border: none;\n",
              "        /* Needs to be in here for Safari polyfill so background images work as expected. */\n",
              "        background-size: auto;\n",
              "    }\n",
              "    progress:not([value]), progress:not([value])::-webkit-progress-bar {\n",
              "        background: repeating-linear-gradient(45deg, #7e7e7e, #7e7e7e 10px, #5c5c5c 10px, #5c5c5c 20px);\n",
              "    }\n",
              "    .progress-bar-interrupted, .progress-bar-interrupted::-webkit-progress-bar {\n",
              "        background: #F44336;\n",
              "    }\n",
              "</style>\n"
            ]
          },
          "metadata": {}
        },
        {
          "output_type": "display_data",
          "data": {
            "text/plain": [
              "<IPython.core.display.HTML object>"
            ],
            "text/html": []
          },
          "metadata": {}
        },
        {
          "output_type": "display_data",
          "data": {
            "text/plain": [
              "<IPython.core.display.HTML object>"
            ],
            "text/html": [
              "\n",
              "<style>\n",
              "    /* Turns off some styling */\n",
              "    progress {\n",
              "        /* gets rid of default border in Firefox and Opera. */\n",
              "        border: none;\n",
              "        /* Needs to be in here for Safari polyfill so background images work as expected. */\n",
              "        background-size: auto;\n",
              "    }\n",
              "    progress:not([value]), progress:not([value])::-webkit-progress-bar {\n",
              "        background: repeating-linear-gradient(45deg, #7e7e7e, #7e7e7e 10px, #5c5c5c 10px, #5c5c5c 20px);\n",
              "    }\n",
              "    .progress-bar-interrupted, .progress-bar-interrupted::-webkit-progress-bar {\n",
              "        background: #F44336;\n",
              "    }\n",
              "</style>\n"
            ]
          },
          "metadata": {}
        },
        {
          "output_type": "display_data",
          "data": {
            "text/plain": [
              "<IPython.core.display.HTML object>"
            ],
            "text/html": []
          },
          "metadata": {}
        },
        {
          "output_type": "display_data",
          "data": {
            "text/plain": [
              "<IPython.core.display.HTML object>"
            ],
            "text/html": [
              "\n",
              "<style>\n",
              "    /* Turns off some styling */\n",
              "    progress {\n",
              "        /* gets rid of default border in Firefox and Opera. */\n",
              "        border: none;\n",
              "        /* Needs to be in here for Safari polyfill so background images work as expected. */\n",
              "        background-size: auto;\n",
              "    }\n",
              "    progress:not([value]), progress:not([value])::-webkit-progress-bar {\n",
              "        background: repeating-linear-gradient(45deg, #7e7e7e, #7e7e7e 10px, #5c5c5c 10px, #5c5c5c 20px);\n",
              "    }\n",
              "    .progress-bar-interrupted, .progress-bar-interrupted::-webkit-progress-bar {\n",
              "        background: #F44336;\n",
              "    }\n",
              "</style>\n"
            ]
          },
          "metadata": {}
        },
        {
          "output_type": "display_data",
          "data": {
            "text/plain": [
              "<IPython.core.display.HTML object>"
            ],
            "text/html": []
          },
          "metadata": {}
        },
        {
          "output_type": "display_data",
          "data": {
            "text/plain": [
              "<IPython.core.display.HTML object>"
            ],
            "text/html": [
              "\n",
              "<style>\n",
              "    /* Turns off some styling */\n",
              "    progress {\n",
              "        /* gets rid of default border in Firefox and Opera. */\n",
              "        border: none;\n",
              "        /* Needs to be in here for Safari polyfill so background images work as expected. */\n",
              "        background-size: auto;\n",
              "    }\n",
              "    progress:not([value]), progress:not([value])::-webkit-progress-bar {\n",
              "        background: repeating-linear-gradient(45deg, #7e7e7e, #7e7e7e 10px, #5c5c5c 10px, #5c5c5c 20px);\n",
              "    }\n",
              "    .progress-bar-interrupted, .progress-bar-interrupted::-webkit-progress-bar {\n",
              "        background: #F44336;\n",
              "    }\n",
              "</style>\n"
            ]
          },
          "metadata": {}
        },
        {
          "output_type": "display_data",
          "data": {
            "text/plain": [
              "<IPython.core.display.HTML object>"
            ],
            "text/html": []
          },
          "metadata": {}
        },
        {
          "output_type": "display_data",
          "data": {
            "text/plain": [
              "<IPython.core.display.HTML object>"
            ],
            "text/html": [
              "\n",
              "<style>\n",
              "    /* Turns off some styling */\n",
              "    progress {\n",
              "        /* gets rid of default border in Firefox and Opera. */\n",
              "        border: none;\n",
              "        /* Needs to be in here for Safari polyfill so background images work as expected. */\n",
              "        background-size: auto;\n",
              "    }\n",
              "    progress:not([value]), progress:not([value])::-webkit-progress-bar {\n",
              "        background: repeating-linear-gradient(45deg, #7e7e7e, #7e7e7e 10px, #5c5c5c 10px, #5c5c5c 20px);\n",
              "    }\n",
              "    .progress-bar-interrupted, .progress-bar-interrupted::-webkit-progress-bar {\n",
              "        background: #F44336;\n",
              "    }\n",
              "</style>\n"
            ]
          },
          "metadata": {}
        },
        {
          "output_type": "display_data",
          "data": {
            "text/plain": [
              "<IPython.core.display.HTML object>"
            ],
            "text/html": []
          },
          "metadata": {}
        },
        {
          "output_type": "display_data",
          "data": {
            "text/plain": [
              "<IPython.core.display.HTML object>"
            ],
            "text/html": [
              "\n",
              "<style>\n",
              "    /* Turns off some styling */\n",
              "    progress {\n",
              "        /* gets rid of default border in Firefox and Opera. */\n",
              "        border: none;\n",
              "        /* Needs to be in here for Safari polyfill so background images work as expected. */\n",
              "        background-size: auto;\n",
              "    }\n",
              "    progress:not([value]), progress:not([value])::-webkit-progress-bar {\n",
              "        background: repeating-linear-gradient(45deg, #7e7e7e, #7e7e7e 10px, #5c5c5c 10px, #5c5c5c 20px);\n",
              "    }\n",
              "    .progress-bar-interrupted, .progress-bar-interrupted::-webkit-progress-bar {\n",
              "        background: #F44336;\n",
              "    }\n",
              "</style>\n"
            ]
          },
          "metadata": {}
        },
        {
          "output_type": "display_data",
          "data": {
            "text/plain": [
              "<IPython.core.display.HTML object>"
            ],
            "text/html": []
          },
          "metadata": {}
        },
        {
          "output_type": "display_data",
          "data": {
            "text/plain": [
              "<IPython.core.display.HTML object>"
            ],
            "text/html": [
              "\n",
              "<style>\n",
              "    /* Turns off some styling */\n",
              "    progress {\n",
              "        /* gets rid of default border in Firefox and Opera. */\n",
              "        border: none;\n",
              "        /* Needs to be in here for Safari polyfill so background images work as expected. */\n",
              "        background-size: auto;\n",
              "    }\n",
              "    progress:not([value]), progress:not([value])::-webkit-progress-bar {\n",
              "        background: repeating-linear-gradient(45deg, #7e7e7e, #7e7e7e 10px, #5c5c5c 10px, #5c5c5c 20px);\n",
              "    }\n",
              "    .progress-bar-interrupted, .progress-bar-interrupted::-webkit-progress-bar {\n",
              "        background: #F44336;\n",
              "    }\n",
              "</style>\n"
            ]
          },
          "metadata": {}
        },
        {
          "output_type": "display_data",
          "data": {
            "text/plain": [
              "<IPython.core.display.HTML object>"
            ],
            "text/html": []
          },
          "metadata": {}
        },
        {
          "output_type": "display_data",
          "data": {
            "text/plain": [
              "<IPython.core.display.HTML object>"
            ],
            "text/html": [
              "\n",
              "<style>\n",
              "    /* Turns off some styling */\n",
              "    progress {\n",
              "        /* gets rid of default border in Firefox and Opera. */\n",
              "        border: none;\n",
              "        /* Needs to be in here for Safari polyfill so background images work as expected. */\n",
              "        background-size: auto;\n",
              "    }\n",
              "    progress:not([value]), progress:not([value])::-webkit-progress-bar {\n",
              "        background: repeating-linear-gradient(45deg, #7e7e7e, #7e7e7e 10px, #5c5c5c 10px, #5c5c5c 20px);\n",
              "    }\n",
              "    .progress-bar-interrupted, .progress-bar-interrupted::-webkit-progress-bar {\n",
              "        background: #F44336;\n",
              "    }\n",
              "</style>\n"
            ]
          },
          "metadata": {}
        },
        {
          "output_type": "display_data",
          "data": {
            "text/plain": [
              "<IPython.core.display.HTML object>"
            ],
            "text/html": []
          },
          "metadata": {}
        },
        {
          "output_type": "stream",
          "name": "stdout",
          "text": [
            "TensorBase(0.0584)\n"
          ]
        },
        {
          "output_type": "display_data",
          "data": {
            "text/plain": [
              "<IPython.core.display.HTML object>"
            ],
            "text/html": [
              "\n",
              "<style>\n",
              "    /* Turns off some styling */\n",
              "    progress {\n",
              "        /* gets rid of default border in Firefox and Opera. */\n",
              "        border: none;\n",
              "        /* Needs to be in here for Safari polyfill so background images work as expected. */\n",
              "        background-size: auto;\n",
              "    }\n",
              "    progress:not([value]), progress:not([value])::-webkit-progress-bar {\n",
              "        background: repeating-linear-gradient(45deg, #7e7e7e, #7e7e7e 10px, #5c5c5c 10px, #5c5c5c 20px);\n",
              "    }\n",
              "    .progress-bar-interrupted, .progress-bar-interrupted::-webkit-progress-bar {\n",
              "        background: #F44336;\n",
              "    }\n",
              "</style>\n"
            ]
          },
          "metadata": {}
        },
        {
          "output_type": "display_data",
          "data": {
            "text/plain": [
              "<IPython.core.display.HTML object>"
            ],
            "text/html": []
          },
          "metadata": {}
        },
        {
          "output_type": "display_data",
          "data": {
            "text/plain": [
              "<IPython.core.display.HTML object>"
            ],
            "text/html": [
              "\n",
              "<style>\n",
              "    /* Turns off some styling */\n",
              "    progress {\n",
              "        /* gets rid of default border in Firefox and Opera. */\n",
              "        border: none;\n",
              "        /* Needs to be in here for Safari polyfill so background images work as expected. */\n",
              "        background-size: auto;\n",
              "    }\n",
              "    progress:not([value]), progress:not([value])::-webkit-progress-bar {\n",
              "        background: repeating-linear-gradient(45deg, #7e7e7e, #7e7e7e 10px, #5c5c5c 10px, #5c5c5c 20px);\n",
              "    }\n",
              "    .progress-bar-interrupted, .progress-bar-interrupted::-webkit-progress-bar {\n",
              "        background: #F44336;\n",
              "    }\n",
              "</style>\n"
            ]
          },
          "metadata": {}
        },
        {
          "output_type": "display_data",
          "data": {
            "text/plain": [
              "<IPython.core.display.HTML object>"
            ],
            "text/html": []
          },
          "metadata": {}
        },
        {
          "output_type": "display_data",
          "data": {
            "text/plain": [
              "<IPython.core.display.HTML object>"
            ],
            "text/html": [
              "\n",
              "<style>\n",
              "    /* Turns off some styling */\n",
              "    progress {\n",
              "        /* gets rid of default border in Firefox and Opera. */\n",
              "        border: none;\n",
              "        /* Needs to be in here for Safari polyfill so background images work as expected. */\n",
              "        background-size: auto;\n",
              "    }\n",
              "    progress:not([value]), progress:not([value])::-webkit-progress-bar {\n",
              "        background: repeating-linear-gradient(45deg, #7e7e7e, #7e7e7e 10px, #5c5c5c 10px, #5c5c5c 20px);\n",
              "    }\n",
              "    .progress-bar-interrupted, .progress-bar-interrupted::-webkit-progress-bar {\n",
              "        background: #F44336;\n",
              "    }\n",
              "</style>\n"
            ]
          },
          "metadata": {}
        },
        {
          "output_type": "display_data",
          "data": {
            "text/plain": [
              "<IPython.core.display.HTML object>"
            ],
            "text/html": []
          },
          "metadata": {}
        },
        {
          "output_type": "display_data",
          "data": {
            "text/plain": [
              "<IPython.core.display.HTML object>"
            ],
            "text/html": [
              "\n",
              "<style>\n",
              "    /* Turns off some styling */\n",
              "    progress {\n",
              "        /* gets rid of default border in Firefox and Opera. */\n",
              "        border: none;\n",
              "        /* Needs to be in here for Safari polyfill so background images work as expected. */\n",
              "        background-size: auto;\n",
              "    }\n",
              "    progress:not([value]), progress:not([value])::-webkit-progress-bar {\n",
              "        background: repeating-linear-gradient(45deg, #7e7e7e, #7e7e7e 10px, #5c5c5c 10px, #5c5c5c 20px);\n",
              "    }\n",
              "    .progress-bar-interrupted, .progress-bar-interrupted::-webkit-progress-bar {\n",
              "        background: #F44336;\n",
              "    }\n",
              "</style>\n"
            ]
          },
          "metadata": {}
        },
        {
          "output_type": "display_data",
          "data": {
            "text/plain": [
              "<IPython.core.display.HTML object>"
            ],
            "text/html": []
          },
          "metadata": {}
        },
        {
          "output_type": "display_data",
          "data": {
            "text/plain": [
              "<IPython.core.display.HTML object>"
            ],
            "text/html": [
              "\n",
              "<style>\n",
              "    /* Turns off some styling */\n",
              "    progress {\n",
              "        /* gets rid of default border in Firefox and Opera. */\n",
              "        border: none;\n",
              "        /* Needs to be in here for Safari polyfill so background images work as expected. */\n",
              "        background-size: auto;\n",
              "    }\n",
              "    progress:not([value]), progress:not([value])::-webkit-progress-bar {\n",
              "        background: repeating-linear-gradient(45deg, #7e7e7e, #7e7e7e 10px, #5c5c5c 10px, #5c5c5c 20px);\n",
              "    }\n",
              "    .progress-bar-interrupted, .progress-bar-interrupted::-webkit-progress-bar {\n",
              "        background: #F44336;\n",
              "    }\n",
              "</style>\n"
            ]
          },
          "metadata": {}
        },
        {
          "output_type": "display_data",
          "data": {
            "text/plain": [
              "<IPython.core.display.HTML object>"
            ],
            "text/html": []
          },
          "metadata": {}
        },
        {
          "output_type": "display_data",
          "data": {
            "text/plain": [
              "<IPython.core.display.HTML object>"
            ],
            "text/html": [
              "\n",
              "<style>\n",
              "    /* Turns off some styling */\n",
              "    progress {\n",
              "        /* gets rid of default border in Firefox and Opera. */\n",
              "        border: none;\n",
              "        /* Needs to be in here for Safari polyfill so background images work as expected. */\n",
              "        background-size: auto;\n",
              "    }\n",
              "    progress:not([value]), progress:not([value])::-webkit-progress-bar {\n",
              "        background: repeating-linear-gradient(45deg, #7e7e7e, #7e7e7e 10px, #5c5c5c 10px, #5c5c5c 20px);\n",
              "    }\n",
              "    .progress-bar-interrupted, .progress-bar-interrupted::-webkit-progress-bar {\n",
              "        background: #F44336;\n",
              "    }\n",
              "</style>\n"
            ]
          },
          "metadata": {}
        },
        {
          "output_type": "display_data",
          "data": {
            "text/plain": [
              "<IPython.core.display.HTML object>"
            ],
            "text/html": []
          },
          "metadata": {}
        },
        {
          "output_type": "display_data",
          "data": {
            "text/plain": [
              "<IPython.core.display.HTML object>"
            ],
            "text/html": [
              "\n",
              "<style>\n",
              "    /* Turns off some styling */\n",
              "    progress {\n",
              "        /* gets rid of default border in Firefox and Opera. */\n",
              "        border: none;\n",
              "        /* Needs to be in here for Safari polyfill so background images work as expected. */\n",
              "        background-size: auto;\n",
              "    }\n",
              "    progress:not([value]), progress:not([value])::-webkit-progress-bar {\n",
              "        background: repeating-linear-gradient(45deg, #7e7e7e, #7e7e7e 10px, #5c5c5c 10px, #5c5c5c 20px);\n",
              "    }\n",
              "    .progress-bar-interrupted, .progress-bar-interrupted::-webkit-progress-bar {\n",
              "        background: #F44336;\n",
              "    }\n",
              "</style>\n"
            ]
          },
          "metadata": {}
        },
        {
          "output_type": "display_data",
          "data": {
            "text/plain": [
              "<IPython.core.display.HTML object>"
            ],
            "text/html": []
          },
          "metadata": {}
        },
        {
          "output_type": "display_data",
          "data": {
            "text/plain": [
              "<IPython.core.display.HTML object>"
            ],
            "text/html": [
              "\n",
              "<style>\n",
              "    /* Turns off some styling */\n",
              "    progress {\n",
              "        /* gets rid of default border in Firefox and Opera. */\n",
              "        border: none;\n",
              "        /* Needs to be in here for Safari polyfill so background images work as expected. */\n",
              "        background-size: auto;\n",
              "    }\n",
              "    progress:not([value]), progress:not([value])::-webkit-progress-bar {\n",
              "        background: repeating-linear-gradient(45deg, #7e7e7e, #7e7e7e 10px, #5c5c5c 10px, #5c5c5c 20px);\n",
              "    }\n",
              "    .progress-bar-interrupted, .progress-bar-interrupted::-webkit-progress-bar {\n",
              "        background: #F44336;\n",
              "    }\n",
              "</style>\n"
            ]
          },
          "metadata": {}
        },
        {
          "output_type": "display_data",
          "data": {
            "text/plain": [
              "<IPython.core.display.HTML object>"
            ],
            "text/html": []
          },
          "metadata": {}
        },
        {
          "output_type": "display_data",
          "data": {
            "text/plain": [
              "<IPython.core.display.HTML object>"
            ],
            "text/html": [
              "\n",
              "<style>\n",
              "    /* Turns off some styling */\n",
              "    progress {\n",
              "        /* gets rid of default border in Firefox and Opera. */\n",
              "        border: none;\n",
              "        /* Needs to be in here for Safari polyfill so background images work as expected. */\n",
              "        background-size: auto;\n",
              "    }\n",
              "    progress:not([value]), progress:not([value])::-webkit-progress-bar {\n",
              "        background: repeating-linear-gradient(45deg, #7e7e7e, #7e7e7e 10px, #5c5c5c 10px, #5c5c5c 20px);\n",
              "    }\n",
              "    .progress-bar-interrupted, .progress-bar-interrupted::-webkit-progress-bar {\n",
              "        background: #F44336;\n",
              "    }\n",
              "</style>\n"
            ]
          },
          "metadata": {}
        },
        {
          "output_type": "display_data",
          "data": {
            "text/plain": [
              "<IPython.core.display.HTML object>"
            ],
            "text/html": []
          },
          "metadata": {}
        },
        {
          "output_type": "display_data",
          "data": {
            "text/plain": [
              "<IPython.core.display.HTML object>"
            ],
            "text/html": [
              "\n",
              "<style>\n",
              "    /* Turns off some styling */\n",
              "    progress {\n",
              "        /* gets rid of default border in Firefox and Opera. */\n",
              "        border: none;\n",
              "        /* Needs to be in here for Safari polyfill so background images work as expected. */\n",
              "        background-size: auto;\n",
              "    }\n",
              "    progress:not([value]), progress:not([value])::-webkit-progress-bar {\n",
              "        background: repeating-linear-gradient(45deg, #7e7e7e, #7e7e7e 10px, #5c5c5c 10px, #5c5c5c 20px);\n",
              "    }\n",
              "    .progress-bar-interrupted, .progress-bar-interrupted::-webkit-progress-bar {\n",
              "        background: #F44336;\n",
              "    }\n",
              "</style>\n"
            ]
          },
          "metadata": {}
        },
        {
          "output_type": "display_data",
          "data": {
            "text/plain": [
              "<IPython.core.display.HTML object>"
            ],
            "text/html": []
          },
          "metadata": {}
        },
        {
          "output_type": "display_data",
          "data": {
            "text/plain": [
              "<IPython.core.display.HTML object>"
            ],
            "text/html": [
              "\n",
              "<style>\n",
              "    /* Turns off some styling */\n",
              "    progress {\n",
              "        /* gets rid of default border in Firefox and Opera. */\n",
              "        border: none;\n",
              "        /* Needs to be in here for Safari polyfill so background images work as expected. */\n",
              "        background-size: auto;\n",
              "    }\n",
              "    progress:not([value]), progress:not([value])::-webkit-progress-bar {\n",
              "        background: repeating-linear-gradient(45deg, #7e7e7e, #7e7e7e 10px, #5c5c5c 10px, #5c5c5c 20px);\n",
              "    }\n",
              "    .progress-bar-interrupted, .progress-bar-interrupted::-webkit-progress-bar {\n",
              "        background: #F44336;\n",
              "    }\n",
              "</style>\n"
            ]
          },
          "metadata": {}
        },
        {
          "output_type": "display_data",
          "data": {
            "text/plain": [
              "<IPython.core.display.HTML object>"
            ],
            "text/html": []
          },
          "metadata": {}
        },
        {
          "output_type": "display_data",
          "data": {
            "text/plain": [
              "<IPython.core.display.HTML object>"
            ],
            "text/html": [
              "\n",
              "<style>\n",
              "    /* Turns off some styling */\n",
              "    progress {\n",
              "        /* gets rid of default border in Firefox and Opera. */\n",
              "        border: none;\n",
              "        /* Needs to be in here for Safari polyfill so background images work as expected. */\n",
              "        background-size: auto;\n",
              "    }\n",
              "    progress:not([value]), progress:not([value])::-webkit-progress-bar {\n",
              "        background: repeating-linear-gradient(45deg, #7e7e7e, #7e7e7e 10px, #5c5c5c 10px, #5c5c5c 20px);\n",
              "    }\n",
              "    .progress-bar-interrupted, .progress-bar-interrupted::-webkit-progress-bar {\n",
              "        background: #F44336;\n",
              "    }\n",
              "</style>\n"
            ]
          },
          "metadata": {}
        },
        {
          "output_type": "display_data",
          "data": {
            "text/plain": [
              "<IPython.core.display.HTML object>"
            ],
            "text/html": []
          },
          "metadata": {}
        },
        {
          "output_type": "display_data",
          "data": {
            "text/plain": [
              "<IPython.core.display.HTML object>"
            ],
            "text/html": [
              "\n",
              "<style>\n",
              "    /* Turns off some styling */\n",
              "    progress {\n",
              "        /* gets rid of default border in Firefox and Opera. */\n",
              "        border: none;\n",
              "        /* Needs to be in here for Safari polyfill so background images work as expected. */\n",
              "        background-size: auto;\n",
              "    }\n",
              "    progress:not([value]), progress:not([value])::-webkit-progress-bar {\n",
              "        background: repeating-linear-gradient(45deg, #7e7e7e, #7e7e7e 10px, #5c5c5c 10px, #5c5c5c 20px);\n",
              "    }\n",
              "    .progress-bar-interrupted, .progress-bar-interrupted::-webkit-progress-bar {\n",
              "        background: #F44336;\n",
              "    }\n",
              "</style>\n"
            ]
          },
          "metadata": {}
        },
        {
          "output_type": "display_data",
          "data": {
            "text/plain": [
              "<IPython.core.display.HTML object>"
            ],
            "text/html": []
          },
          "metadata": {}
        },
        {
          "output_type": "display_data",
          "data": {
            "text/plain": [
              "<IPython.core.display.HTML object>"
            ],
            "text/html": [
              "\n",
              "<style>\n",
              "    /* Turns off some styling */\n",
              "    progress {\n",
              "        /* gets rid of default border in Firefox and Opera. */\n",
              "        border: none;\n",
              "        /* Needs to be in here for Safari polyfill so background images work as expected. */\n",
              "        background-size: auto;\n",
              "    }\n",
              "    progress:not([value]), progress:not([value])::-webkit-progress-bar {\n",
              "        background: repeating-linear-gradient(45deg, #7e7e7e, #7e7e7e 10px, #5c5c5c 10px, #5c5c5c 20px);\n",
              "    }\n",
              "    .progress-bar-interrupted, .progress-bar-interrupted::-webkit-progress-bar {\n",
              "        background: #F44336;\n",
              "    }\n",
              "</style>\n"
            ]
          },
          "metadata": {}
        },
        {
          "output_type": "display_data",
          "data": {
            "text/plain": [
              "<IPython.core.display.HTML object>"
            ],
            "text/html": []
          },
          "metadata": {}
        },
        {
          "output_type": "display_data",
          "data": {
            "text/plain": [
              "<IPython.core.display.HTML object>"
            ],
            "text/html": [
              "\n",
              "<style>\n",
              "    /* Turns off some styling */\n",
              "    progress {\n",
              "        /* gets rid of default border in Firefox and Opera. */\n",
              "        border: none;\n",
              "        /* Needs to be in here for Safari polyfill so background images work as expected. */\n",
              "        background-size: auto;\n",
              "    }\n",
              "    progress:not([value]), progress:not([value])::-webkit-progress-bar {\n",
              "        background: repeating-linear-gradient(45deg, #7e7e7e, #7e7e7e 10px, #5c5c5c 10px, #5c5c5c 20px);\n",
              "    }\n",
              "    .progress-bar-interrupted, .progress-bar-interrupted::-webkit-progress-bar {\n",
              "        background: #F44336;\n",
              "    }\n",
              "</style>\n"
            ]
          },
          "metadata": {}
        },
        {
          "output_type": "display_data",
          "data": {
            "text/plain": [
              "<IPython.core.display.HTML object>"
            ],
            "text/html": []
          },
          "metadata": {}
        },
        {
          "output_type": "display_data",
          "data": {
            "text/plain": [
              "<IPython.core.display.HTML object>"
            ],
            "text/html": [
              "\n",
              "<style>\n",
              "    /* Turns off some styling */\n",
              "    progress {\n",
              "        /* gets rid of default border in Firefox and Opera. */\n",
              "        border: none;\n",
              "        /* Needs to be in here for Safari polyfill so background images work as expected. */\n",
              "        background-size: auto;\n",
              "    }\n",
              "    progress:not([value]), progress:not([value])::-webkit-progress-bar {\n",
              "        background: repeating-linear-gradient(45deg, #7e7e7e, #7e7e7e 10px, #5c5c5c 10px, #5c5c5c 20px);\n",
              "    }\n",
              "    .progress-bar-interrupted, .progress-bar-interrupted::-webkit-progress-bar {\n",
              "        background: #F44336;\n",
              "    }\n",
              "</style>\n"
            ]
          },
          "metadata": {}
        },
        {
          "output_type": "display_data",
          "data": {
            "text/plain": [
              "<IPython.core.display.HTML object>"
            ],
            "text/html": []
          },
          "metadata": {}
        },
        {
          "output_type": "display_data",
          "data": {
            "text/plain": [
              "<IPython.core.display.HTML object>"
            ],
            "text/html": [
              "\n",
              "<style>\n",
              "    /* Turns off some styling */\n",
              "    progress {\n",
              "        /* gets rid of default border in Firefox and Opera. */\n",
              "        border: none;\n",
              "        /* Needs to be in here for Safari polyfill so background images work as expected. */\n",
              "        background-size: auto;\n",
              "    }\n",
              "    progress:not([value]), progress:not([value])::-webkit-progress-bar {\n",
              "        background: repeating-linear-gradient(45deg, #7e7e7e, #7e7e7e 10px, #5c5c5c 10px, #5c5c5c 20px);\n",
              "    }\n",
              "    .progress-bar-interrupted, .progress-bar-interrupted::-webkit-progress-bar {\n",
              "        background: #F44336;\n",
              "    }\n",
              "</style>\n"
            ]
          },
          "metadata": {}
        },
        {
          "output_type": "display_data",
          "data": {
            "text/plain": [
              "<IPython.core.display.HTML object>"
            ],
            "text/html": []
          },
          "metadata": {}
        },
        {
          "output_type": "display_data",
          "data": {
            "text/plain": [
              "<IPython.core.display.HTML object>"
            ],
            "text/html": [
              "\n",
              "<style>\n",
              "    /* Turns off some styling */\n",
              "    progress {\n",
              "        /* gets rid of default border in Firefox and Opera. */\n",
              "        border: none;\n",
              "        /* Needs to be in here for Safari polyfill so background images work as expected. */\n",
              "        background-size: auto;\n",
              "    }\n",
              "    progress:not([value]), progress:not([value])::-webkit-progress-bar {\n",
              "        background: repeating-linear-gradient(45deg, #7e7e7e, #7e7e7e 10px, #5c5c5c 10px, #5c5c5c 20px);\n",
              "    }\n",
              "    .progress-bar-interrupted, .progress-bar-interrupted::-webkit-progress-bar {\n",
              "        background: #F44336;\n",
              "    }\n",
              "</style>\n"
            ]
          },
          "metadata": {}
        },
        {
          "output_type": "display_data",
          "data": {
            "text/plain": [
              "<IPython.core.display.HTML object>"
            ],
            "text/html": []
          },
          "metadata": {}
        },
        {
          "output_type": "display_data",
          "data": {
            "text/plain": [
              "<IPython.core.display.HTML object>"
            ],
            "text/html": [
              "\n",
              "<style>\n",
              "    /* Turns off some styling */\n",
              "    progress {\n",
              "        /* gets rid of default border in Firefox and Opera. */\n",
              "        border: none;\n",
              "        /* Needs to be in here for Safari polyfill so background images work as expected. */\n",
              "        background-size: auto;\n",
              "    }\n",
              "    progress:not([value]), progress:not([value])::-webkit-progress-bar {\n",
              "        background: repeating-linear-gradient(45deg, #7e7e7e, #7e7e7e 10px, #5c5c5c 10px, #5c5c5c 20px);\n",
              "    }\n",
              "    .progress-bar-interrupted, .progress-bar-interrupted::-webkit-progress-bar {\n",
              "        background: #F44336;\n",
              "    }\n",
              "</style>\n"
            ]
          },
          "metadata": {}
        },
        {
          "output_type": "display_data",
          "data": {
            "text/plain": [
              "<IPython.core.display.HTML object>"
            ],
            "text/html": []
          },
          "metadata": {}
        },
        {
          "output_type": "display_data",
          "data": {
            "text/plain": [
              "<IPython.core.display.HTML object>"
            ],
            "text/html": [
              "\n",
              "<style>\n",
              "    /* Turns off some styling */\n",
              "    progress {\n",
              "        /* gets rid of default border in Firefox and Opera. */\n",
              "        border: none;\n",
              "        /* Needs to be in here for Safari polyfill so background images work as expected. */\n",
              "        background-size: auto;\n",
              "    }\n",
              "    progress:not([value]), progress:not([value])::-webkit-progress-bar {\n",
              "        background: repeating-linear-gradient(45deg, #7e7e7e, #7e7e7e 10px, #5c5c5c 10px, #5c5c5c 20px);\n",
              "    }\n",
              "    .progress-bar-interrupted, .progress-bar-interrupted::-webkit-progress-bar {\n",
              "        background: #F44336;\n",
              "    }\n",
              "</style>\n"
            ]
          },
          "metadata": {}
        },
        {
          "output_type": "display_data",
          "data": {
            "text/plain": [
              "<IPython.core.display.HTML object>"
            ],
            "text/html": []
          },
          "metadata": {}
        },
        {
          "output_type": "display_data",
          "data": {
            "text/plain": [
              "<IPython.core.display.HTML object>"
            ],
            "text/html": [
              "\n",
              "<style>\n",
              "    /* Turns off some styling */\n",
              "    progress {\n",
              "        /* gets rid of default border in Firefox and Opera. */\n",
              "        border: none;\n",
              "        /* Needs to be in here for Safari polyfill so background images work as expected. */\n",
              "        background-size: auto;\n",
              "    }\n",
              "    progress:not([value]), progress:not([value])::-webkit-progress-bar {\n",
              "        background: repeating-linear-gradient(45deg, #7e7e7e, #7e7e7e 10px, #5c5c5c 10px, #5c5c5c 20px);\n",
              "    }\n",
              "    .progress-bar-interrupted, .progress-bar-interrupted::-webkit-progress-bar {\n",
              "        background: #F44336;\n",
              "    }\n",
              "</style>\n"
            ]
          },
          "metadata": {}
        },
        {
          "output_type": "display_data",
          "data": {
            "text/plain": [
              "<IPython.core.display.HTML object>"
            ],
            "text/html": []
          },
          "metadata": {}
        },
        {
          "output_type": "stream",
          "name": "stdout",
          "text": [
            "TensorBase(0.0547)\n"
          ]
        },
        {
          "output_type": "display_data",
          "data": {
            "text/plain": [
              "<IPython.core.display.HTML object>"
            ],
            "text/html": [
              "\n",
              "<style>\n",
              "    /* Turns off some styling */\n",
              "    progress {\n",
              "        /* gets rid of default border in Firefox and Opera. */\n",
              "        border: none;\n",
              "        /* Needs to be in here for Safari polyfill so background images work as expected. */\n",
              "        background-size: auto;\n",
              "    }\n",
              "    progress:not([value]), progress:not([value])::-webkit-progress-bar {\n",
              "        background: repeating-linear-gradient(45deg, #7e7e7e, #7e7e7e 10px, #5c5c5c 10px, #5c5c5c 20px);\n",
              "    }\n",
              "    .progress-bar-interrupted, .progress-bar-interrupted::-webkit-progress-bar {\n",
              "        background: #F44336;\n",
              "    }\n",
              "</style>\n"
            ]
          },
          "metadata": {}
        },
        {
          "output_type": "display_data",
          "data": {
            "text/plain": [
              "<IPython.core.display.HTML object>"
            ],
            "text/html": []
          },
          "metadata": {}
        },
        {
          "output_type": "display_data",
          "data": {
            "text/plain": [
              "<IPython.core.display.HTML object>"
            ],
            "text/html": [
              "\n",
              "<style>\n",
              "    /* Turns off some styling */\n",
              "    progress {\n",
              "        /* gets rid of default border in Firefox and Opera. */\n",
              "        border: none;\n",
              "        /* Needs to be in here for Safari polyfill so background images work as expected. */\n",
              "        background-size: auto;\n",
              "    }\n",
              "    progress:not([value]), progress:not([value])::-webkit-progress-bar {\n",
              "        background: repeating-linear-gradient(45deg, #7e7e7e, #7e7e7e 10px, #5c5c5c 10px, #5c5c5c 20px);\n",
              "    }\n",
              "    .progress-bar-interrupted, .progress-bar-interrupted::-webkit-progress-bar {\n",
              "        background: #F44336;\n",
              "    }\n",
              "</style>\n"
            ]
          },
          "metadata": {}
        },
        {
          "output_type": "display_data",
          "data": {
            "text/plain": [
              "<IPython.core.display.HTML object>"
            ],
            "text/html": []
          },
          "metadata": {}
        },
        {
          "output_type": "display_data",
          "data": {
            "text/plain": [
              "<IPython.core.display.HTML object>"
            ],
            "text/html": [
              "\n",
              "<style>\n",
              "    /* Turns off some styling */\n",
              "    progress {\n",
              "        /* gets rid of default border in Firefox and Opera. */\n",
              "        border: none;\n",
              "        /* Needs to be in here for Safari polyfill so background images work as expected. */\n",
              "        background-size: auto;\n",
              "    }\n",
              "    progress:not([value]), progress:not([value])::-webkit-progress-bar {\n",
              "        background: repeating-linear-gradient(45deg, #7e7e7e, #7e7e7e 10px, #5c5c5c 10px, #5c5c5c 20px);\n",
              "    }\n",
              "    .progress-bar-interrupted, .progress-bar-interrupted::-webkit-progress-bar {\n",
              "        background: #F44336;\n",
              "    }\n",
              "</style>\n"
            ]
          },
          "metadata": {}
        },
        {
          "output_type": "display_data",
          "data": {
            "text/plain": [
              "<IPython.core.display.HTML object>"
            ],
            "text/html": []
          },
          "metadata": {}
        },
        {
          "output_type": "display_data",
          "data": {
            "text/plain": [
              "<IPython.core.display.HTML object>"
            ],
            "text/html": [
              "\n",
              "<style>\n",
              "    /* Turns off some styling */\n",
              "    progress {\n",
              "        /* gets rid of default border in Firefox and Opera. */\n",
              "        border: none;\n",
              "        /* Needs to be in here for Safari polyfill so background images work as expected. */\n",
              "        background-size: auto;\n",
              "    }\n",
              "    progress:not([value]), progress:not([value])::-webkit-progress-bar {\n",
              "        background: repeating-linear-gradient(45deg, #7e7e7e, #7e7e7e 10px, #5c5c5c 10px, #5c5c5c 20px);\n",
              "    }\n",
              "    .progress-bar-interrupted, .progress-bar-interrupted::-webkit-progress-bar {\n",
              "        background: #F44336;\n",
              "    }\n",
              "</style>\n"
            ]
          },
          "metadata": {}
        },
        {
          "output_type": "display_data",
          "data": {
            "text/plain": [
              "<IPython.core.display.HTML object>"
            ],
            "text/html": []
          },
          "metadata": {}
        },
        {
          "output_type": "display_data",
          "data": {
            "text/plain": [
              "<IPython.core.display.HTML object>"
            ],
            "text/html": [
              "\n",
              "<style>\n",
              "    /* Turns off some styling */\n",
              "    progress {\n",
              "        /* gets rid of default border in Firefox and Opera. */\n",
              "        border: none;\n",
              "        /* Needs to be in here for Safari polyfill so background images work as expected. */\n",
              "        background-size: auto;\n",
              "    }\n",
              "    progress:not([value]), progress:not([value])::-webkit-progress-bar {\n",
              "        background: repeating-linear-gradient(45deg, #7e7e7e, #7e7e7e 10px, #5c5c5c 10px, #5c5c5c 20px);\n",
              "    }\n",
              "    .progress-bar-interrupted, .progress-bar-interrupted::-webkit-progress-bar {\n",
              "        background: #F44336;\n",
              "    }\n",
              "</style>\n"
            ]
          },
          "metadata": {}
        },
        {
          "output_type": "display_data",
          "data": {
            "text/plain": [
              "<IPython.core.display.HTML object>"
            ],
            "text/html": []
          },
          "metadata": {}
        },
        {
          "output_type": "display_data",
          "data": {
            "text/plain": [
              "<IPython.core.display.HTML object>"
            ],
            "text/html": [
              "\n",
              "<style>\n",
              "    /* Turns off some styling */\n",
              "    progress {\n",
              "        /* gets rid of default border in Firefox and Opera. */\n",
              "        border: none;\n",
              "        /* Needs to be in here for Safari polyfill so background images work as expected. */\n",
              "        background-size: auto;\n",
              "    }\n",
              "    progress:not([value]), progress:not([value])::-webkit-progress-bar {\n",
              "        background: repeating-linear-gradient(45deg, #7e7e7e, #7e7e7e 10px, #5c5c5c 10px, #5c5c5c 20px);\n",
              "    }\n",
              "    .progress-bar-interrupted, .progress-bar-interrupted::-webkit-progress-bar {\n",
              "        background: #F44336;\n",
              "    }\n",
              "</style>\n"
            ]
          },
          "metadata": {}
        },
        {
          "output_type": "display_data",
          "data": {
            "text/plain": [
              "<IPython.core.display.HTML object>"
            ],
            "text/html": []
          },
          "metadata": {}
        },
        {
          "output_type": "display_data",
          "data": {
            "text/plain": [
              "<IPython.core.display.HTML object>"
            ],
            "text/html": [
              "\n",
              "<style>\n",
              "    /* Turns off some styling */\n",
              "    progress {\n",
              "        /* gets rid of default border in Firefox and Opera. */\n",
              "        border: none;\n",
              "        /* Needs to be in here for Safari polyfill so background images work as expected. */\n",
              "        background-size: auto;\n",
              "    }\n",
              "    progress:not([value]), progress:not([value])::-webkit-progress-bar {\n",
              "        background: repeating-linear-gradient(45deg, #7e7e7e, #7e7e7e 10px, #5c5c5c 10px, #5c5c5c 20px);\n",
              "    }\n",
              "    .progress-bar-interrupted, .progress-bar-interrupted::-webkit-progress-bar {\n",
              "        background: #F44336;\n",
              "    }\n",
              "</style>\n"
            ]
          },
          "metadata": {}
        },
        {
          "output_type": "display_data",
          "data": {
            "text/plain": [
              "<IPython.core.display.HTML object>"
            ],
            "text/html": []
          },
          "metadata": {}
        },
        {
          "output_type": "display_data",
          "data": {
            "text/plain": [
              "<IPython.core.display.HTML object>"
            ],
            "text/html": [
              "\n",
              "<style>\n",
              "    /* Turns off some styling */\n",
              "    progress {\n",
              "        /* gets rid of default border in Firefox and Opera. */\n",
              "        border: none;\n",
              "        /* Needs to be in here for Safari polyfill so background images work as expected. */\n",
              "        background-size: auto;\n",
              "    }\n",
              "    progress:not([value]), progress:not([value])::-webkit-progress-bar {\n",
              "        background: repeating-linear-gradient(45deg, #7e7e7e, #7e7e7e 10px, #5c5c5c 10px, #5c5c5c 20px);\n",
              "    }\n",
              "    .progress-bar-interrupted, .progress-bar-interrupted::-webkit-progress-bar {\n",
              "        background: #F44336;\n",
              "    }\n",
              "</style>\n"
            ]
          },
          "metadata": {}
        },
        {
          "output_type": "display_data",
          "data": {
            "text/plain": [
              "<IPython.core.display.HTML object>"
            ],
            "text/html": []
          },
          "metadata": {}
        },
        {
          "output_type": "display_data",
          "data": {
            "text/plain": [
              "<IPython.core.display.HTML object>"
            ],
            "text/html": [
              "\n",
              "<style>\n",
              "    /* Turns off some styling */\n",
              "    progress {\n",
              "        /* gets rid of default border in Firefox and Opera. */\n",
              "        border: none;\n",
              "        /* Needs to be in here for Safari polyfill so background images work as expected. */\n",
              "        background-size: auto;\n",
              "    }\n",
              "    progress:not([value]), progress:not([value])::-webkit-progress-bar {\n",
              "        background: repeating-linear-gradient(45deg, #7e7e7e, #7e7e7e 10px, #5c5c5c 10px, #5c5c5c 20px);\n",
              "    }\n",
              "    .progress-bar-interrupted, .progress-bar-interrupted::-webkit-progress-bar {\n",
              "        background: #F44336;\n",
              "    }\n",
              "</style>\n"
            ]
          },
          "metadata": {}
        },
        {
          "output_type": "display_data",
          "data": {
            "text/plain": [
              "<IPython.core.display.HTML object>"
            ],
            "text/html": []
          },
          "metadata": {}
        },
        {
          "output_type": "display_data",
          "data": {
            "text/plain": [
              "<IPython.core.display.HTML object>"
            ],
            "text/html": [
              "\n",
              "<style>\n",
              "    /* Turns off some styling */\n",
              "    progress {\n",
              "        /* gets rid of default border in Firefox and Opera. */\n",
              "        border: none;\n",
              "        /* Needs to be in here for Safari polyfill so background images work as expected. */\n",
              "        background-size: auto;\n",
              "    }\n",
              "    progress:not([value]), progress:not([value])::-webkit-progress-bar {\n",
              "        background: repeating-linear-gradient(45deg, #7e7e7e, #7e7e7e 10px, #5c5c5c 10px, #5c5c5c 20px);\n",
              "    }\n",
              "    .progress-bar-interrupted, .progress-bar-interrupted::-webkit-progress-bar {\n",
              "        background: #F44336;\n",
              "    }\n",
              "</style>\n"
            ]
          },
          "metadata": {}
        },
        {
          "output_type": "display_data",
          "data": {
            "text/plain": [
              "<IPython.core.display.HTML object>"
            ],
            "text/html": []
          },
          "metadata": {}
        },
        {
          "output_type": "display_data",
          "data": {
            "text/plain": [
              "<IPython.core.display.HTML object>"
            ],
            "text/html": [
              "\n",
              "<style>\n",
              "    /* Turns off some styling */\n",
              "    progress {\n",
              "        /* gets rid of default border in Firefox and Opera. */\n",
              "        border: none;\n",
              "        /* Needs to be in here for Safari polyfill so background images work as expected. */\n",
              "        background-size: auto;\n",
              "    }\n",
              "    progress:not([value]), progress:not([value])::-webkit-progress-bar {\n",
              "        background: repeating-linear-gradient(45deg, #7e7e7e, #7e7e7e 10px, #5c5c5c 10px, #5c5c5c 20px);\n",
              "    }\n",
              "    .progress-bar-interrupted, .progress-bar-interrupted::-webkit-progress-bar {\n",
              "        background: #F44336;\n",
              "    }\n",
              "</style>\n"
            ]
          },
          "metadata": {}
        },
        {
          "output_type": "display_data",
          "data": {
            "text/plain": [
              "<IPython.core.display.HTML object>"
            ],
            "text/html": []
          },
          "metadata": {}
        },
        {
          "output_type": "display_data",
          "data": {
            "text/plain": [
              "<IPython.core.display.HTML object>"
            ],
            "text/html": [
              "\n",
              "<style>\n",
              "    /* Turns off some styling */\n",
              "    progress {\n",
              "        /* gets rid of default border in Firefox and Opera. */\n",
              "        border: none;\n",
              "        /* Needs to be in here for Safari polyfill so background images work as expected. */\n",
              "        background-size: auto;\n",
              "    }\n",
              "    progress:not([value]), progress:not([value])::-webkit-progress-bar {\n",
              "        background: repeating-linear-gradient(45deg, #7e7e7e, #7e7e7e 10px, #5c5c5c 10px, #5c5c5c 20px);\n",
              "    }\n",
              "    .progress-bar-interrupted, .progress-bar-interrupted::-webkit-progress-bar {\n",
              "        background: #F44336;\n",
              "    }\n",
              "</style>\n"
            ]
          },
          "metadata": {}
        },
        {
          "output_type": "display_data",
          "data": {
            "text/plain": [
              "<IPython.core.display.HTML object>"
            ],
            "text/html": []
          },
          "metadata": {}
        },
        {
          "output_type": "display_data",
          "data": {
            "text/plain": [
              "<IPython.core.display.HTML object>"
            ],
            "text/html": [
              "\n",
              "<style>\n",
              "    /* Turns off some styling */\n",
              "    progress {\n",
              "        /* gets rid of default border in Firefox and Opera. */\n",
              "        border: none;\n",
              "        /* Needs to be in here for Safari polyfill so background images work as expected. */\n",
              "        background-size: auto;\n",
              "    }\n",
              "    progress:not([value]), progress:not([value])::-webkit-progress-bar {\n",
              "        background: repeating-linear-gradient(45deg, #7e7e7e, #7e7e7e 10px, #5c5c5c 10px, #5c5c5c 20px);\n",
              "    }\n",
              "    .progress-bar-interrupted, .progress-bar-interrupted::-webkit-progress-bar {\n",
              "        background: #F44336;\n",
              "    }\n",
              "</style>\n"
            ]
          },
          "metadata": {}
        },
        {
          "output_type": "display_data",
          "data": {
            "text/plain": [
              "<IPython.core.display.HTML object>"
            ],
            "text/html": []
          },
          "metadata": {}
        },
        {
          "output_type": "display_data",
          "data": {
            "text/plain": [
              "<IPython.core.display.HTML object>"
            ],
            "text/html": [
              "\n",
              "<style>\n",
              "    /* Turns off some styling */\n",
              "    progress {\n",
              "        /* gets rid of default border in Firefox and Opera. */\n",
              "        border: none;\n",
              "        /* Needs to be in here for Safari polyfill so background images work as expected. */\n",
              "        background-size: auto;\n",
              "    }\n",
              "    progress:not([value]), progress:not([value])::-webkit-progress-bar {\n",
              "        background: repeating-linear-gradient(45deg, #7e7e7e, #7e7e7e 10px, #5c5c5c 10px, #5c5c5c 20px);\n",
              "    }\n",
              "    .progress-bar-interrupted, .progress-bar-interrupted::-webkit-progress-bar {\n",
              "        background: #F44336;\n",
              "    }\n",
              "</style>\n"
            ]
          },
          "metadata": {}
        },
        {
          "output_type": "display_data",
          "data": {
            "text/plain": [
              "<IPython.core.display.HTML object>"
            ],
            "text/html": []
          },
          "metadata": {}
        },
        {
          "output_type": "display_data",
          "data": {
            "text/plain": [
              "<IPython.core.display.HTML object>"
            ],
            "text/html": [
              "\n",
              "<style>\n",
              "    /* Turns off some styling */\n",
              "    progress {\n",
              "        /* gets rid of default border in Firefox and Opera. */\n",
              "        border: none;\n",
              "        /* Needs to be in here for Safari polyfill so background images work as expected. */\n",
              "        background-size: auto;\n",
              "    }\n",
              "    progress:not([value]), progress:not([value])::-webkit-progress-bar {\n",
              "        background: repeating-linear-gradient(45deg, #7e7e7e, #7e7e7e 10px, #5c5c5c 10px, #5c5c5c 20px);\n",
              "    }\n",
              "    .progress-bar-interrupted, .progress-bar-interrupted::-webkit-progress-bar {\n",
              "        background: #F44336;\n",
              "    }\n",
              "</style>\n"
            ]
          },
          "metadata": {}
        },
        {
          "output_type": "display_data",
          "data": {
            "text/plain": [
              "<IPython.core.display.HTML object>"
            ],
            "text/html": []
          },
          "metadata": {}
        },
        {
          "output_type": "display_data",
          "data": {
            "text/plain": [
              "<IPython.core.display.HTML object>"
            ],
            "text/html": [
              "\n",
              "<style>\n",
              "    /* Turns off some styling */\n",
              "    progress {\n",
              "        /* gets rid of default border in Firefox and Opera. */\n",
              "        border: none;\n",
              "        /* Needs to be in here for Safari polyfill so background images work as expected. */\n",
              "        background-size: auto;\n",
              "    }\n",
              "    progress:not([value]), progress:not([value])::-webkit-progress-bar {\n",
              "        background: repeating-linear-gradient(45deg, #7e7e7e, #7e7e7e 10px, #5c5c5c 10px, #5c5c5c 20px);\n",
              "    }\n",
              "    .progress-bar-interrupted, .progress-bar-interrupted::-webkit-progress-bar {\n",
              "        background: #F44336;\n",
              "    }\n",
              "</style>\n"
            ]
          },
          "metadata": {}
        },
        {
          "output_type": "display_data",
          "data": {
            "text/plain": [
              "<IPython.core.display.HTML object>"
            ],
            "text/html": []
          },
          "metadata": {}
        },
        {
          "output_type": "display_data",
          "data": {
            "text/plain": [
              "<IPython.core.display.HTML object>"
            ],
            "text/html": [
              "\n",
              "<style>\n",
              "    /* Turns off some styling */\n",
              "    progress {\n",
              "        /* gets rid of default border in Firefox and Opera. */\n",
              "        border: none;\n",
              "        /* Needs to be in here for Safari polyfill so background images work as expected. */\n",
              "        background-size: auto;\n",
              "    }\n",
              "    progress:not([value]), progress:not([value])::-webkit-progress-bar {\n",
              "        background: repeating-linear-gradient(45deg, #7e7e7e, #7e7e7e 10px, #5c5c5c 10px, #5c5c5c 20px);\n",
              "    }\n",
              "    .progress-bar-interrupted, .progress-bar-interrupted::-webkit-progress-bar {\n",
              "        background: #F44336;\n",
              "    }\n",
              "</style>\n"
            ]
          },
          "metadata": {}
        },
        {
          "output_type": "display_data",
          "data": {
            "text/plain": [
              "<IPython.core.display.HTML object>"
            ],
            "text/html": []
          },
          "metadata": {}
        },
        {
          "output_type": "display_data",
          "data": {
            "text/plain": [
              "<IPython.core.display.HTML object>"
            ],
            "text/html": [
              "\n",
              "<style>\n",
              "    /* Turns off some styling */\n",
              "    progress {\n",
              "        /* gets rid of default border in Firefox and Opera. */\n",
              "        border: none;\n",
              "        /* Needs to be in here for Safari polyfill so background images work as expected. */\n",
              "        background-size: auto;\n",
              "    }\n",
              "    progress:not([value]), progress:not([value])::-webkit-progress-bar {\n",
              "        background: repeating-linear-gradient(45deg, #7e7e7e, #7e7e7e 10px, #5c5c5c 10px, #5c5c5c 20px);\n",
              "    }\n",
              "    .progress-bar-interrupted, .progress-bar-interrupted::-webkit-progress-bar {\n",
              "        background: #F44336;\n",
              "    }\n",
              "</style>\n"
            ]
          },
          "metadata": {}
        },
        {
          "output_type": "display_data",
          "data": {
            "text/plain": [
              "<IPython.core.display.HTML object>"
            ],
            "text/html": []
          },
          "metadata": {}
        },
        {
          "output_type": "display_data",
          "data": {
            "text/plain": [
              "<IPython.core.display.HTML object>"
            ],
            "text/html": [
              "\n",
              "<style>\n",
              "    /* Turns off some styling */\n",
              "    progress {\n",
              "        /* gets rid of default border in Firefox and Opera. */\n",
              "        border: none;\n",
              "        /* Needs to be in here for Safari polyfill so background images work as expected. */\n",
              "        background-size: auto;\n",
              "    }\n",
              "    progress:not([value]), progress:not([value])::-webkit-progress-bar {\n",
              "        background: repeating-linear-gradient(45deg, #7e7e7e, #7e7e7e 10px, #5c5c5c 10px, #5c5c5c 20px);\n",
              "    }\n",
              "    .progress-bar-interrupted, .progress-bar-interrupted::-webkit-progress-bar {\n",
              "        background: #F44336;\n",
              "    }\n",
              "</style>\n"
            ]
          },
          "metadata": {}
        },
        {
          "output_type": "display_data",
          "data": {
            "text/plain": [
              "<IPython.core.display.HTML object>"
            ],
            "text/html": []
          },
          "metadata": {}
        },
        {
          "output_type": "display_data",
          "data": {
            "text/plain": [
              "<IPython.core.display.HTML object>"
            ],
            "text/html": [
              "\n",
              "<style>\n",
              "    /* Turns off some styling */\n",
              "    progress {\n",
              "        /* gets rid of default border in Firefox and Opera. */\n",
              "        border: none;\n",
              "        /* Needs to be in here for Safari polyfill so background images work as expected. */\n",
              "        background-size: auto;\n",
              "    }\n",
              "    progress:not([value]), progress:not([value])::-webkit-progress-bar {\n",
              "        background: repeating-linear-gradient(45deg, #7e7e7e, #7e7e7e 10px, #5c5c5c 10px, #5c5c5c 20px);\n",
              "    }\n",
              "    .progress-bar-interrupted, .progress-bar-interrupted::-webkit-progress-bar {\n",
              "        background: #F44336;\n",
              "    }\n",
              "</style>\n"
            ]
          },
          "metadata": {}
        },
        {
          "output_type": "display_data",
          "data": {
            "text/plain": [
              "<IPython.core.display.HTML object>"
            ],
            "text/html": []
          },
          "metadata": {}
        },
        {
          "output_type": "display_data",
          "data": {
            "text/plain": [
              "<IPython.core.display.HTML object>"
            ],
            "text/html": [
              "\n",
              "<style>\n",
              "    /* Turns off some styling */\n",
              "    progress {\n",
              "        /* gets rid of default border in Firefox and Opera. */\n",
              "        border: none;\n",
              "        /* Needs to be in here for Safari polyfill so background images work as expected. */\n",
              "        background-size: auto;\n",
              "    }\n",
              "    progress:not([value]), progress:not([value])::-webkit-progress-bar {\n",
              "        background: repeating-linear-gradient(45deg, #7e7e7e, #7e7e7e 10px, #5c5c5c 10px, #5c5c5c 20px);\n",
              "    }\n",
              "    .progress-bar-interrupted, .progress-bar-interrupted::-webkit-progress-bar {\n",
              "        background: #F44336;\n",
              "    }\n",
              "</style>\n"
            ]
          },
          "metadata": {}
        },
        {
          "output_type": "display_data",
          "data": {
            "text/plain": [
              "<IPython.core.display.HTML object>"
            ],
            "text/html": []
          },
          "metadata": {}
        },
        {
          "output_type": "stream",
          "name": "stdout",
          "text": [
            "TensorBase(0.0599)\n"
          ]
        },
        {
          "output_type": "display_data",
          "data": {
            "text/plain": [
              "<IPython.core.display.HTML object>"
            ],
            "text/html": [
              "\n",
              "<style>\n",
              "    /* Turns off some styling */\n",
              "    progress {\n",
              "        /* gets rid of default border in Firefox and Opera. */\n",
              "        border: none;\n",
              "        /* Needs to be in here for Safari polyfill so background images work as expected. */\n",
              "        background-size: auto;\n",
              "    }\n",
              "    progress:not([value]), progress:not([value])::-webkit-progress-bar {\n",
              "        background: repeating-linear-gradient(45deg, #7e7e7e, #7e7e7e 10px, #5c5c5c 10px, #5c5c5c 20px);\n",
              "    }\n",
              "    .progress-bar-interrupted, .progress-bar-interrupted::-webkit-progress-bar {\n",
              "        background: #F44336;\n",
              "    }\n",
              "</style>\n"
            ]
          },
          "metadata": {}
        },
        {
          "output_type": "display_data",
          "data": {
            "text/plain": [
              "<IPython.core.display.HTML object>"
            ],
            "text/html": []
          },
          "metadata": {}
        },
        {
          "output_type": "display_data",
          "data": {
            "text/plain": [
              "<IPython.core.display.HTML object>"
            ],
            "text/html": [
              "\n",
              "<style>\n",
              "    /* Turns off some styling */\n",
              "    progress {\n",
              "        /* gets rid of default border in Firefox and Opera. */\n",
              "        border: none;\n",
              "        /* Needs to be in here for Safari polyfill so background images work as expected. */\n",
              "        background-size: auto;\n",
              "    }\n",
              "    progress:not([value]), progress:not([value])::-webkit-progress-bar {\n",
              "        background: repeating-linear-gradient(45deg, #7e7e7e, #7e7e7e 10px, #5c5c5c 10px, #5c5c5c 20px);\n",
              "    }\n",
              "    .progress-bar-interrupted, .progress-bar-interrupted::-webkit-progress-bar {\n",
              "        background: #F44336;\n",
              "    }\n",
              "</style>\n"
            ]
          },
          "metadata": {}
        },
        {
          "output_type": "display_data",
          "data": {
            "text/plain": [
              "<IPython.core.display.HTML object>"
            ],
            "text/html": []
          },
          "metadata": {}
        },
        {
          "output_type": "display_data",
          "data": {
            "text/plain": [
              "<IPython.core.display.HTML object>"
            ],
            "text/html": [
              "\n",
              "<style>\n",
              "    /* Turns off some styling */\n",
              "    progress {\n",
              "        /* gets rid of default border in Firefox and Opera. */\n",
              "        border: none;\n",
              "        /* Needs to be in here for Safari polyfill so background images work as expected. */\n",
              "        background-size: auto;\n",
              "    }\n",
              "    progress:not([value]), progress:not([value])::-webkit-progress-bar {\n",
              "        background: repeating-linear-gradient(45deg, #7e7e7e, #7e7e7e 10px, #5c5c5c 10px, #5c5c5c 20px);\n",
              "    }\n",
              "    .progress-bar-interrupted, .progress-bar-interrupted::-webkit-progress-bar {\n",
              "        background: #F44336;\n",
              "    }\n",
              "</style>\n"
            ]
          },
          "metadata": {}
        },
        {
          "output_type": "display_data",
          "data": {
            "text/plain": [
              "<IPython.core.display.HTML object>"
            ],
            "text/html": []
          },
          "metadata": {}
        },
        {
          "output_type": "display_data",
          "data": {
            "text/plain": [
              "<IPython.core.display.HTML object>"
            ],
            "text/html": [
              "\n",
              "<style>\n",
              "    /* Turns off some styling */\n",
              "    progress {\n",
              "        /* gets rid of default border in Firefox and Opera. */\n",
              "        border: none;\n",
              "        /* Needs to be in here for Safari polyfill so background images work as expected. */\n",
              "        background-size: auto;\n",
              "    }\n",
              "    progress:not([value]), progress:not([value])::-webkit-progress-bar {\n",
              "        background: repeating-linear-gradient(45deg, #7e7e7e, #7e7e7e 10px, #5c5c5c 10px, #5c5c5c 20px);\n",
              "    }\n",
              "    .progress-bar-interrupted, .progress-bar-interrupted::-webkit-progress-bar {\n",
              "        background: #F44336;\n",
              "    }\n",
              "</style>\n"
            ]
          },
          "metadata": {}
        },
        {
          "output_type": "display_data",
          "data": {
            "text/plain": [
              "<IPython.core.display.HTML object>"
            ],
            "text/html": []
          },
          "metadata": {}
        },
        {
          "output_type": "display_data",
          "data": {
            "text/plain": [
              "<IPython.core.display.HTML object>"
            ],
            "text/html": [
              "\n",
              "<style>\n",
              "    /* Turns off some styling */\n",
              "    progress {\n",
              "        /* gets rid of default border in Firefox and Opera. */\n",
              "        border: none;\n",
              "        /* Needs to be in here for Safari polyfill so background images work as expected. */\n",
              "        background-size: auto;\n",
              "    }\n",
              "    progress:not([value]), progress:not([value])::-webkit-progress-bar {\n",
              "        background: repeating-linear-gradient(45deg, #7e7e7e, #7e7e7e 10px, #5c5c5c 10px, #5c5c5c 20px);\n",
              "    }\n",
              "    .progress-bar-interrupted, .progress-bar-interrupted::-webkit-progress-bar {\n",
              "        background: #F44336;\n",
              "    }\n",
              "</style>\n"
            ]
          },
          "metadata": {}
        },
        {
          "output_type": "display_data",
          "data": {
            "text/plain": [
              "<IPython.core.display.HTML object>"
            ],
            "text/html": []
          },
          "metadata": {}
        },
        {
          "output_type": "display_data",
          "data": {
            "text/plain": [
              "<IPython.core.display.HTML object>"
            ],
            "text/html": [
              "\n",
              "<style>\n",
              "    /* Turns off some styling */\n",
              "    progress {\n",
              "        /* gets rid of default border in Firefox and Opera. */\n",
              "        border: none;\n",
              "        /* Needs to be in here for Safari polyfill so background images work as expected. */\n",
              "        background-size: auto;\n",
              "    }\n",
              "    progress:not([value]), progress:not([value])::-webkit-progress-bar {\n",
              "        background: repeating-linear-gradient(45deg, #7e7e7e, #7e7e7e 10px, #5c5c5c 10px, #5c5c5c 20px);\n",
              "    }\n",
              "    .progress-bar-interrupted, .progress-bar-interrupted::-webkit-progress-bar {\n",
              "        background: #F44336;\n",
              "    }\n",
              "</style>\n"
            ]
          },
          "metadata": {}
        },
        {
          "output_type": "display_data",
          "data": {
            "text/plain": [
              "<IPython.core.display.HTML object>"
            ],
            "text/html": []
          },
          "metadata": {}
        },
        {
          "output_type": "display_data",
          "data": {
            "text/plain": [
              "<IPython.core.display.HTML object>"
            ],
            "text/html": [
              "\n",
              "<style>\n",
              "    /* Turns off some styling */\n",
              "    progress {\n",
              "        /* gets rid of default border in Firefox and Opera. */\n",
              "        border: none;\n",
              "        /* Needs to be in here for Safari polyfill so background images work as expected. */\n",
              "        background-size: auto;\n",
              "    }\n",
              "    progress:not([value]), progress:not([value])::-webkit-progress-bar {\n",
              "        background: repeating-linear-gradient(45deg, #7e7e7e, #7e7e7e 10px, #5c5c5c 10px, #5c5c5c 20px);\n",
              "    }\n",
              "    .progress-bar-interrupted, .progress-bar-interrupted::-webkit-progress-bar {\n",
              "        background: #F44336;\n",
              "    }\n",
              "</style>\n"
            ]
          },
          "metadata": {}
        },
        {
          "output_type": "display_data",
          "data": {
            "text/plain": [
              "<IPython.core.display.HTML object>"
            ],
            "text/html": []
          },
          "metadata": {}
        },
        {
          "output_type": "display_data",
          "data": {
            "text/plain": [
              "<IPython.core.display.HTML object>"
            ],
            "text/html": [
              "\n",
              "<style>\n",
              "    /* Turns off some styling */\n",
              "    progress {\n",
              "        /* gets rid of default border in Firefox and Opera. */\n",
              "        border: none;\n",
              "        /* Needs to be in here for Safari polyfill so background images work as expected. */\n",
              "        background-size: auto;\n",
              "    }\n",
              "    progress:not([value]), progress:not([value])::-webkit-progress-bar {\n",
              "        background: repeating-linear-gradient(45deg, #7e7e7e, #7e7e7e 10px, #5c5c5c 10px, #5c5c5c 20px);\n",
              "    }\n",
              "    .progress-bar-interrupted, .progress-bar-interrupted::-webkit-progress-bar {\n",
              "        background: #F44336;\n",
              "    }\n",
              "</style>\n"
            ]
          },
          "metadata": {}
        },
        {
          "output_type": "display_data",
          "data": {
            "text/plain": [
              "<IPython.core.display.HTML object>"
            ],
            "text/html": []
          },
          "metadata": {}
        },
        {
          "output_type": "display_data",
          "data": {
            "text/plain": [
              "<IPython.core.display.HTML object>"
            ],
            "text/html": [
              "\n",
              "<style>\n",
              "    /* Turns off some styling */\n",
              "    progress {\n",
              "        /* gets rid of default border in Firefox and Opera. */\n",
              "        border: none;\n",
              "        /* Needs to be in here for Safari polyfill so background images work as expected. */\n",
              "        background-size: auto;\n",
              "    }\n",
              "    progress:not([value]), progress:not([value])::-webkit-progress-bar {\n",
              "        background: repeating-linear-gradient(45deg, #7e7e7e, #7e7e7e 10px, #5c5c5c 10px, #5c5c5c 20px);\n",
              "    }\n",
              "    .progress-bar-interrupted, .progress-bar-interrupted::-webkit-progress-bar {\n",
              "        background: #F44336;\n",
              "    }\n",
              "</style>\n"
            ]
          },
          "metadata": {}
        },
        {
          "output_type": "display_data",
          "data": {
            "text/plain": [
              "<IPython.core.display.HTML object>"
            ],
            "text/html": []
          },
          "metadata": {}
        },
        {
          "output_type": "display_data",
          "data": {
            "text/plain": [
              "<IPython.core.display.HTML object>"
            ],
            "text/html": [
              "\n",
              "<style>\n",
              "    /* Turns off some styling */\n",
              "    progress {\n",
              "        /* gets rid of default border in Firefox and Opera. */\n",
              "        border: none;\n",
              "        /* Needs to be in here for Safari polyfill so background images work as expected. */\n",
              "        background-size: auto;\n",
              "    }\n",
              "    progress:not([value]), progress:not([value])::-webkit-progress-bar {\n",
              "        background: repeating-linear-gradient(45deg, #7e7e7e, #7e7e7e 10px, #5c5c5c 10px, #5c5c5c 20px);\n",
              "    }\n",
              "    .progress-bar-interrupted, .progress-bar-interrupted::-webkit-progress-bar {\n",
              "        background: #F44336;\n",
              "    }\n",
              "</style>\n"
            ]
          },
          "metadata": {}
        },
        {
          "output_type": "display_data",
          "data": {
            "text/plain": [
              "<IPython.core.display.HTML object>"
            ],
            "text/html": []
          },
          "metadata": {}
        },
        {
          "output_type": "display_data",
          "data": {
            "text/plain": [
              "<IPython.core.display.HTML object>"
            ],
            "text/html": [
              "\n",
              "<style>\n",
              "    /* Turns off some styling */\n",
              "    progress {\n",
              "        /* gets rid of default border in Firefox and Opera. */\n",
              "        border: none;\n",
              "        /* Needs to be in here for Safari polyfill so background images work as expected. */\n",
              "        background-size: auto;\n",
              "    }\n",
              "    progress:not([value]), progress:not([value])::-webkit-progress-bar {\n",
              "        background: repeating-linear-gradient(45deg, #7e7e7e, #7e7e7e 10px, #5c5c5c 10px, #5c5c5c 20px);\n",
              "    }\n",
              "    .progress-bar-interrupted, .progress-bar-interrupted::-webkit-progress-bar {\n",
              "        background: #F44336;\n",
              "    }\n",
              "</style>\n"
            ]
          },
          "metadata": {}
        },
        {
          "output_type": "display_data",
          "data": {
            "text/plain": [
              "<IPython.core.display.HTML object>"
            ],
            "text/html": []
          },
          "metadata": {}
        },
        {
          "output_type": "display_data",
          "data": {
            "text/plain": [
              "<IPython.core.display.HTML object>"
            ],
            "text/html": [
              "\n",
              "<style>\n",
              "    /* Turns off some styling */\n",
              "    progress {\n",
              "        /* gets rid of default border in Firefox and Opera. */\n",
              "        border: none;\n",
              "        /* Needs to be in here for Safari polyfill so background images work as expected. */\n",
              "        background-size: auto;\n",
              "    }\n",
              "    progress:not([value]), progress:not([value])::-webkit-progress-bar {\n",
              "        background: repeating-linear-gradient(45deg, #7e7e7e, #7e7e7e 10px, #5c5c5c 10px, #5c5c5c 20px);\n",
              "    }\n",
              "    .progress-bar-interrupted, .progress-bar-interrupted::-webkit-progress-bar {\n",
              "        background: #F44336;\n",
              "    }\n",
              "</style>\n"
            ]
          },
          "metadata": {}
        },
        {
          "output_type": "display_data",
          "data": {
            "text/plain": [
              "<IPython.core.display.HTML object>"
            ],
            "text/html": []
          },
          "metadata": {}
        },
        {
          "output_type": "display_data",
          "data": {
            "text/plain": [
              "<IPython.core.display.HTML object>"
            ],
            "text/html": [
              "\n",
              "<style>\n",
              "    /* Turns off some styling */\n",
              "    progress {\n",
              "        /* gets rid of default border in Firefox and Opera. */\n",
              "        border: none;\n",
              "        /* Needs to be in here for Safari polyfill so background images work as expected. */\n",
              "        background-size: auto;\n",
              "    }\n",
              "    progress:not([value]), progress:not([value])::-webkit-progress-bar {\n",
              "        background: repeating-linear-gradient(45deg, #7e7e7e, #7e7e7e 10px, #5c5c5c 10px, #5c5c5c 20px);\n",
              "    }\n",
              "    .progress-bar-interrupted, .progress-bar-interrupted::-webkit-progress-bar {\n",
              "        background: #F44336;\n",
              "    }\n",
              "</style>\n"
            ]
          },
          "metadata": {}
        },
        {
          "output_type": "display_data",
          "data": {
            "text/plain": [
              "<IPython.core.display.HTML object>"
            ],
            "text/html": []
          },
          "metadata": {}
        },
        {
          "output_type": "display_data",
          "data": {
            "text/plain": [
              "<IPython.core.display.HTML object>"
            ],
            "text/html": [
              "\n",
              "<style>\n",
              "    /* Turns off some styling */\n",
              "    progress {\n",
              "        /* gets rid of default border in Firefox and Opera. */\n",
              "        border: none;\n",
              "        /* Needs to be in here for Safari polyfill so background images work as expected. */\n",
              "        background-size: auto;\n",
              "    }\n",
              "    progress:not([value]), progress:not([value])::-webkit-progress-bar {\n",
              "        background: repeating-linear-gradient(45deg, #7e7e7e, #7e7e7e 10px, #5c5c5c 10px, #5c5c5c 20px);\n",
              "    }\n",
              "    .progress-bar-interrupted, .progress-bar-interrupted::-webkit-progress-bar {\n",
              "        background: #F44336;\n",
              "    }\n",
              "</style>\n"
            ]
          },
          "metadata": {}
        },
        {
          "output_type": "display_data",
          "data": {
            "text/plain": [
              "<IPython.core.display.HTML object>"
            ],
            "text/html": []
          },
          "metadata": {}
        },
        {
          "output_type": "display_data",
          "data": {
            "text/plain": [
              "<IPython.core.display.HTML object>"
            ],
            "text/html": [
              "\n",
              "<style>\n",
              "    /* Turns off some styling */\n",
              "    progress {\n",
              "        /* gets rid of default border in Firefox and Opera. */\n",
              "        border: none;\n",
              "        /* Needs to be in here for Safari polyfill so background images work as expected. */\n",
              "        background-size: auto;\n",
              "    }\n",
              "    progress:not([value]), progress:not([value])::-webkit-progress-bar {\n",
              "        background: repeating-linear-gradient(45deg, #7e7e7e, #7e7e7e 10px, #5c5c5c 10px, #5c5c5c 20px);\n",
              "    }\n",
              "    .progress-bar-interrupted, .progress-bar-interrupted::-webkit-progress-bar {\n",
              "        background: #F44336;\n",
              "    }\n",
              "</style>\n"
            ]
          },
          "metadata": {}
        },
        {
          "output_type": "display_data",
          "data": {
            "text/plain": [
              "<IPython.core.display.HTML object>"
            ],
            "text/html": []
          },
          "metadata": {}
        },
        {
          "output_type": "display_data",
          "data": {
            "text/plain": [
              "<IPython.core.display.HTML object>"
            ],
            "text/html": [
              "\n",
              "<style>\n",
              "    /* Turns off some styling */\n",
              "    progress {\n",
              "        /* gets rid of default border in Firefox and Opera. */\n",
              "        border: none;\n",
              "        /* Needs to be in here for Safari polyfill so background images work as expected. */\n",
              "        background-size: auto;\n",
              "    }\n",
              "    progress:not([value]), progress:not([value])::-webkit-progress-bar {\n",
              "        background: repeating-linear-gradient(45deg, #7e7e7e, #7e7e7e 10px, #5c5c5c 10px, #5c5c5c 20px);\n",
              "    }\n",
              "    .progress-bar-interrupted, .progress-bar-interrupted::-webkit-progress-bar {\n",
              "        background: #F44336;\n",
              "    }\n",
              "</style>\n"
            ]
          },
          "metadata": {}
        },
        {
          "output_type": "display_data",
          "data": {
            "text/plain": [
              "<IPython.core.display.HTML object>"
            ],
            "text/html": []
          },
          "metadata": {}
        },
        {
          "output_type": "display_data",
          "data": {
            "text/plain": [
              "<IPython.core.display.HTML object>"
            ],
            "text/html": [
              "\n",
              "<style>\n",
              "    /* Turns off some styling */\n",
              "    progress {\n",
              "        /* gets rid of default border in Firefox and Opera. */\n",
              "        border: none;\n",
              "        /* Needs to be in here for Safari polyfill so background images work as expected. */\n",
              "        background-size: auto;\n",
              "    }\n",
              "    progress:not([value]), progress:not([value])::-webkit-progress-bar {\n",
              "        background: repeating-linear-gradient(45deg, #7e7e7e, #7e7e7e 10px, #5c5c5c 10px, #5c5c5c 20px);\n",
              "    }\n",
              "    .progress-bar-interrupted, .progress-bar-interrupted::-webkit-progress-bar {\n",
              "        background: #F44336;\n",
              "    }\n",
              "</style>\n"
            ]
          },
          "metadata": {}
        },
        {
          "output_type": "display_data",
          "data": {
            "text/plain": [
              "<IPython.core.display.HTML object>"
            ],
            "text/html": []
          },
          "metadata": {}
        },
        {
          "output_type": "display_data",
          "data": {
            "text/plain": [
              "<IPython.core.display.HTML object>"
            ],
            "text/html": [
              "\n",
              "<style>\n",
              "    /* Turns off some styling */\n",
              "    progress {\n",
              "        /* gets rid of default border in Firefox and Opera. */\n",
              "        border: none;\n",
              "        /* Needs to be in here for Safari polyfill so background images work as expected. */\n",
              "        background-size: auto;\n",
              "    }\n",
              "    progress:not([value]), progress:not([value])::-webkit-progress-bar {\n",
              "        background: repeating-linear-gradient(45deg, #7e7e7e, #7e7e7e 10px, #5c5c5c 10px, #5c5c5c 20px);\n",
              "    }\n",
              "    .progress-bar-interrupted, .progress-bar-interrupted::-webkit-progress-bar {\n",
              "        background: #F44336;\n",
              "    }\n",
              "</style>\n"
            ]
          },
          "metadata": {}
        },
        {
          "output_type": "display_data",
          "data": {
            "text/plain": [
              "<IPython.core.display.HTML object>"
            ],
            "text/html": []
          },
          "metadata": {}
        },
        {
          "output_type": "display_data",
          "data": {
            "text/plain": [
              "<IPython.core.display.HTML object>"
            ],
            "text/html": [
              "\n",
              "<style>\n",
              "    /* Turns off some styling */\n",
              "    progress {\n",
              "        /* gets rid of default border in Firefox and Opera. */\n",
              "        border: none;\n",
              "        /* Needs to be in here for Safari polyfill so background images work as expected. */\n",
              "        background-size: auto;\n",
              "    }\n",
              "    progress:not([value]), progress:not([value])::-webkit-progress-bar {\n",
              "        background: repeating-linear-gradient(45deg, #7e7e7e, #7e7e7e 10px, #5c5c5c 10px, #5c5c5c 20px);\n",
              "    }\n",
              "    .progress-bar-interrupted, .progress-bar-interrupted::-webkit-progress-bar {\n",
              "        background: #F44336;\n",
              "    }\n",
              "</style>\n"
            ]
          },
          "metadata": {}
        },
        {
          "output_type": "display_data",
          "data": {
            "text/plain": [
              "<IPython.core.display.HTML object>"
            ],
            "text/html": []
          },
          "metadata": {}
        },
        {
          "output_type": "display_data",
          "data": {
            "text/plain": [
              "<IPython.core.display.HTML object>"
            ],
            "text/html": [
              "\n",
              "<style>\n",
              "    /* Turns off some styling */\n",
              "    progress {\n",
              "        /* gets rid of default border in Firefox and Opera. */\n",
              "        border: none;\n",
              "        /* Needs to be in here for Safari polyfill so background images work as expected. */\n",
              "        background-size: auto;\n",
              "    }\n",
              "    progress:not([value]), progress:not([value])::-webkit-progress-bar {\n",
              "        background: repeating-linear-gradient(45deg, #7e7e7e, #7e7e7e 10px, #5c5c5c 10px, #5c5c5c 20px);\n",
              "    }\n",
              "    .progress-bar-interrupted, .progress-bar-interrupted::-webkit-progress-bar {\n",
              "        background: #F44336;\n",
              "    }\n",
              "</style>\n"
            ]
          },
          "metadata": {}
        },
        {
          "output_type": "display_data",
          "data": {
            "text/plain": [
              "<IPython.core.display.HTML object>"
            ],
            "text/html": []
          },
          "metadata": {}
        },
        {
          "output_type": "display_data",
          "data": {
            "text/plain": [
              "<IPython.core.display.HTML object>"
            ],
            "text/html": [
              "\n",
              "<style>\n",
              "    /* Turns off some styling */\n",
              "    progress {\n",
              "        /* gets rid of default border in Firefox and Opera. */\n",
              "        border: none;\n",
              "        /* Needs to be in here for Safari polyfill so background images work as expected. */\n",
              "        background-size: auto;\n",
              "    }\n",
              "    progress:not([value]), progress:not([value])::-webkit-progress-bar {\n",
              "        background: repeating-linear-gradient(45deg, #7e7e7e, #7e7e7e 10px, #5c5c5c 10px, #5c5c5c 20px);\n",
              "    }\n",
              "    .progress-bar-interrupted, .progress-bar-interrupted::-webkit-progress-bar {\n",
              "        background: #F44336;\n",
              "    }\n",
              "</style>\n"
            ]
          },
          "metadata": {}
        },
        {
          "output_type": "display_data",
          "data": {
            "text/plain": [
              "<IPython.core.display.HTML object>"
            ],
            "text/html": []
          },
          "metadata": {}
        },
        {
          "output_type": "stream",
          "name": "stdout",
          "text": [
            "TensorBase(0.0551)\n"
          ]
        },
        {
          "output_type": "display_data",
          "data": {
            "text/plain": [
              "<IPython.core.display.HTML object>"
            ],
            "text/html": [
              "\n",
              "<style>\n",
              "    /* Turns off some styling */\n",
              "    progress {\n",
              "        /* gets rid of default border in Firefox and Opera. */\n",
              "        border: none;\n",
              "        /* Needs to be in here for Safari polyfill so background images work as expected. */\n",
              "        background-size: auto;\n",
              "    }\n",
              "    progress:not([value]), progress:not([value])::-webkit-progress-bar {\n",
              "        background: repeating-linear-gradient(45deg, #7e7e7e, #7e7e7e 10px, #5c5c5c 10px, #5c5c5c 20px);\n",
              "    }\n",
              "    .progress-bar-interrupted, .progress-bar-interrupted::-webkit-progress-bar {\n",
              "        background: #F44336;\n",
              "    }\n",
              "</style>\n"
            ]
          },
          "metadata": {}
        },
        {
          "output_type": "display_data",
          "data": {
            "text/plain": [
              "<IPython.core.display.HTML object>"
            ],
            "text/html": []
          },
          "metadata": {}
        },
        {
          "output_type": "display_data",
          "data": {
            "text/plain": [
              "<IPython.core.display.HTML object>"
            ],
            "text/html": [
              "\n",
              "<style>\n",
              "    /* Turns off some styling */\n",
              "    progress {\n",
              "        /* gets rid of default border in Firefox and Opera. */\n",
              "        border: none;\n",
              "        /* Needs to be in here for Safari polyfill so background images work as expected. */\n",
              "        background-size: auto;\n",
              "    }\n",
              "    progress:not([value]), progress:not([value])::-webkit-progress-bar {\n",
              "        background: repeating-linear-gradient(45deg, #7e7e7e, #7e7e7e 10px, #5c5c5c 10px, #5c5c5c 20px);\n",
              "    }\n",
              "    .progress-bar-interrupted, .progress-bar-interrupted::-webkit-progress-bar {\n",
              "        background: #F44336;\n",
              "    }\n",
              "</style>\n"
            ]
          },
          "metadata": {}
        },
        {
          "output_type": "display_data",
          "data": {
            "text/plain": [
              "<IPython.core.display.HTML object>"
            ],
            "text/html": []
          },
          "metadata": {}
        },
        {
          "output_type": "display_data",
          "data": {
            "text/plain": [
              "<IPython.core.display.HTML object>"
            ],
            "text/html": [
              "\n",
              "<style>\n",
              "    /* Turns off some styling */\n",
              "    progress {\n",
              "        /* gets rid of default border in Firefox and Opera. */\n",
              "        border: none;\n",
              "        /* Needs to be in here for Safari polyfill so background images work as expected. */\n",
              "        background-size: auto;\n",
              "    }\n",
              "    progress:not([value]), progress:not([value])::-webkit-progress-bar {\n",
              "        background: repeating-linear-gradient(45deg, #7e7e7e, #7e7e7e 10px, #5c5c5c 10px, #5c5c5c 20px);\n",
              "    }\n",
              "    .progress-bar-interrupted, .progress-bar-interrupted::-webkit-progress-bar {\n",
              "        background: #F44336;\n",
              "    }\n",
              "</style>\n"
            ]
          },
          "metadata": {}
        },
        {
          "output_type": "display_data",
          "data": {
            "text/plain": [
              "<IPython.core.display.HTML object>"
            ],
            "text/html": []
          },
          "metadata": {}
        },
        {
          "output_type": "display_data",
          "data": {
            "text/plain": [
              "<IPython.core.display.HTML object>"
            ],
            "text/html": [
              "\n",
              "<style>\n",
              "    /* Turns off some styling */\n",
              "    progress {\n",
              "        /* gets rid of default border in Firefox and Opera. */\n",
              "        border: none;\n",
              "        /* Needs to be in here for Safari polyfill so background images work as expected. */\n",
              "        background-size: auto;\n",
              "    }\n",
              "    progress:not([value]), progress:not([value])::-webkit-progress-bar {\n",
              "        background: repeating-linear-gradient(45deg, #7e7e7e, #7e7e7e 10px, #5c5c5c 10px, #5c5c5c 20px);\n",
              "    }\n",
              "    .progress-bar-interrupted, .progress-bar-interrupted::-webkit-progress-bar {\n",
              "        background: #F44336;\n",
              "    }\n",
              "</style>\n"
            ]
          },
          "metadata": {}
        },
        {
          "output_type": "display_data",
          "data": {
            "text/plain": [
              "<IPython.core.display.HTML object>"
            ],
            "text/html": []
          },
          "metadata": {}
        },
        {
          "output_type": "display_data",
          "data": {
            "text/plain": [
              "<IPython.core.display.HTML object>"
            ],
            "text/html": [
              "\n",
              "<style>\n",
              "    /* Turns off some styling */\n",
              "    progress {\n",
              "        /* gets rid of default border in Firefox and Opera. */\n",
              "        border: none;\n",
              "        /* Needs to be in here for Safari polyfill so background images work as expected. */\n",
              "        background-size: auto;\n",
              "    }\n",
              "    progress:not([value]), progress:not([value])::-webkit-progress-bar {\n",
              "        background: repeating-linear-gradient(45deg, #7e7e7e, #7e7e7e 10px, #5c5c5c 10px, #5c5c5c 20px);\n",
              "    }\n",
              "    .progress-bar-interrupted, .progress-bar-interrupted::-webkit-progress-bar {\n",
              "        background: #F44336;\n",
              "    }\n",
              "</style>\n"
            ]
          },
          "metadata": {}
        },
        {
          "output_type": "display_data",
          "data": {
            "text/plain": [
              "<IPython.core.display.HTML object>"
            ],
            "text/html": []
          },
          "metadata": {}
        },
        {
          "output_type": "display_data",
          "data": {
            "text/plain": [
              "<IPython.core.display.HTML object>"
            ],
            "text/html": [
              "\n",
              "<style>\n",
              "    /* Turns off some styling */\n",
              "    progress {\n",
              "        /* gets rid of default border in Firefox and Opera. */\n",
              "        border: none;\n",
              "        /* Needs to be in here for Safari polyfill so background images work as expected. */\n",
              "        background-size: auto;\n",
              "    }\n",
              "    progress:not([value]), progress:not([value])::-webkit-progress-bar {\n",
              "        background: repeating-linear-gradient(45deg, #7e7e7e, #7e7e7e 10px, #5c5c5c 10px, #5c5c5c 20px);\n",
              "    }\n",
              "    .progress-bar-interrupted, .progress-bar-interrupted::-webkit-progress-bar {\n",
              "        background: #F44336;\n",
              "    }\n",
              "</style>\n"
            ]
          },
          "metadata": {}
        },
        {
          "output_type": "display_data",
          "data": {
            "text/plain": [
              "<IPython.core.display.HTML object>"
            ],
            "text/html": []
          },
          "metadata": {}
        },
        {
          "output_type": "display_data",
          "data": {
            "text/plain": [
              "<IPython.core.display.HTML object>"
            ],
            "text/html": [
              "\n",
              "<style>\n",
              "    /* Turns off some styling */\n",
              "    progress {\n",
              "        /* gets rid of default border in Firefox and Opera. */\n",
              "        border: none;\n",
              "        /* Needs to be in here for Safari polyfill so background images work as expected. */\n",
              "        background-size: auto;\n",
              "    }\n",
              "    progress:not([value]), progress:not([value])::-webkit-progress-bar {\n",
              "        background: repeating-linear-gradient(45deg, #7e7e7e, #7e7e7e 10px, #5c5c5c 10px, #5c5c5c 20px);\n",
              "    }\n",
              "    .progress-bar-interrupted, .progress-bar-interrupted::-webkit-progress-bar {\n",
              "        background: #F44336;\n",
              "    }\n",
              "</style>\n"
            ]
          },
          "metadata": {}
        },
        {
          "output_type": "display_data",
          "data": {
            "text/plain": [
              "<IPython.core.display.HTML object>"
            ],
            "text/html": []
          },
          "metadata": {}
        },
        {
          "output_type": "display_data",
          "data": {
            "text/plain": [
              "<IPython.core.display.HTML object>"
            ],
            "text/html": [
              "\n",
              "<style>\n",
              "    /* Turns off some styling */\n",
              "    progress {\n",
              "        /* gets rid of default border in Firefox and Opera. */\n",
              "        border: none;\n",
              "        /* Needs to be in here for Safari polyfill so background images work as expected. */\n",
              "        background-size: auto;\n",
              "    }\n",
              "    progress:not([value]), progress:not([value])::-webkit-progress-bar {\n",
              "        background: repeating-linear-gradient(45deg, #7e7e7e, #7e7e7e 10px, #5c5c5c 10px, #5c5c5c 20px);\n",
              "    }\n",
              "    .progress-bar-interrupted, .progress-bar-interrupted::-webkit-progress-bar {\n",
              "        background: #F44336;\n",
              "    }\n",
              "</style>\n"
            ]
          },
          "metadata": {}
        },
        {
          "output_type": "display_data",
          "data": {
            "text/plain": [
              "<IPython.core.display.HTML object>"
            ],
            "text/html": []
          },
          "metadata": {}
        },
        {
          "output_type": "display_data",
          "data": {
            "text/plain": [
              "<IPython.core.display.HTML object>"
            ],
            "text/html": [
              "\n",
              "<style>\n",
              "    /* Turns off some styling */\n",
              "    progress {\n",
              "        /* gets rid of default border in Firefox and Opera. */\n",
              "        border: none;\n",
              "        /* Needs to be in here for Safari polyfill so background images work as expected. */\n",
              "        background-size: auto;\n",
              "    }\n",
              "    progress:not([value]), progress:not([value])::-webkit-progress-bar {\n",
              "        background: repeating-linear-gradient(45deg, #7e7e7e, #7e7e7e 10px, #5c5c5c 10px, #5c5c5c 20px);\n",
              "    }\n",
              "    .progress-bar-interrupted, .progress-bar-interrupted::-webkit-progress-bar {\n",
              "        background: #F44336;\n",
              "    }\n",
              "</style>\n"
            ]
          },
          "metadata": {}
        },
        {
          "output_type": "display_data",
          "data": {
            "text/plain": [
              "<IPython.core.display.HTML object>"
            ],
            "text/html": []
          },
          "metadata": {}
        },
        {
          "output_type": "display_data",
          "data": {
            "text/plain": [
              "<IPython.core.display.HTML object>"
            ],
            "text/html": [
              "\n",
              "<style>\n",
              "    /* Turns off some styling */\n",
              "    progress {\n",
              "        /* gets rid of default border in Firefox and Opera. */\n",
              "        border: none;\n",
              "        /* Needs to be in here for Safari polyfill so background images work as expected. */\n",
              "        background-size: auto;\n",
              "    }\n",
              "    progress:not([value]), progress:not([value])::-webkit-progress-bar {\n",
              "        background: repeating-linear-gradient(45deg, #7e7e7e, #7e7e7e 10px, #5c5c5c 10px, #5c5c5c 20px);\n",
              "    }\n",
              "    .progress-bar-interrupted, .progress-bar-interrupted::-webkit-progress-bar {\n",
              "        background: #F44336;\n",
              "    }\n",
              "</style>\n"
            ]
          },
          "metadata": {}
        },
        {
          "output_type": "display_data",
          "data": {
            "text/plain": [
              "<IPython.core.display.HTML object>"
            ],
            "text/html": []
          },
          "metadata": {}
        },
        {
          "output_type": "display_data",
          "data": {
            "text/plain": [
              "<IPython.core.display.HTML object>"
            ],
            "text/html": [
              "\n",
              "<style>\n",
              "    /* Turns off some styling */\n",
              "    progress {\n",
              "        /* gets rid of default border in Firefox and Opera. */\n",
              "        border: none;\n",
              "        /* Needs to be in here for Safari polyfill so background images work as expected. */\n",
              "        background-size: auto;\n",
              "    }\n",
              "    progress:not([value]), progress:not([value])::-webkit-progress-bar {\n",
              "        background: repeating-linear-gradient(45deg, #7e7e7e, #7e7e7e 10px, #5c5c5c 10px, #5c5c5c 20px);\n",
              "    }\n",
              "    .progress-bar-interrupted, .progress-bar-interrupted::-webkit-progress-bar {\n",
              "        background: #F44336;\n",
              "    }\n",
              "</style>\n"
            ]
          },
          "metadata": {}
        },
        {
          "output_type": "display_data",
          "data": {
            "text/plain": [
              "<IPython.core.display.HTML object>"
            ],
            "text/html": []
          },
          "metadata": {}
        },
        {
          "output_type": "display_data",
          "data": {
            "text/plain": [
              "<IPython.core.display.HTML object>"
            ],
            "text/html": [
              "\n",
              "<style>\n",
              "    /* Turns off some styling */\n",
              "    progress {\n",
              "        /* gets rid of default border in Firefox and Opera. */\n",
              "        border: none;\n",
              "        /* Needs to be in here for Safari polyfill so background images work as expected. */\n",
              "        background-size: auto;\n",
              "    }\n",
              "    progress:not([value]), progress:not([value])::-webkit-progress-bar {\n",
              "        background: repeating-linear-gradient(45deg, #7e7e7e, #7e7e7e 10px, #5c5c5c 10px, #5c5c5c 20px);\n",
              "    }\n",
              "    .progress-bar-interrupted, .progress-bar-interrupted::-webkit-progress-bar {\n",
              "        background: #F44336;\n",
              "    }\n",
              "</style>\n"
            ]
          },
          "metadata": {}
        },
        {
          "output_type": "display_data",
          "data": {
            "text/plain": [
              "<IPython.core.display.HTML object>"
            ],
            "text/html": []
          },
          "metadata": {}
        },
        {
          "output_type": "display_data",
          "data": {
            "text/plain": [
              "<IPython.core.display.HTML object>"
            ],
            "text/html": [
              "\n",
              "<style>\n",
              "    /* Turns off some styling */\n",
              "    progress {\n",
              "        /* gets rid of default border in Firefox and Opera. */\n",
              "        border: none;\n",
              "        /* Needs to be in here for Safari polyfill so background images work as expected. */\n",
              "        background-size: auto;\n",
              "    }\n",
              "    progress:not([value]), progress:not([value])::-webkit-progress-bar {\n",
              "        background: repeating-linear-gradient(45deg, #7e7e7e, #7e7e7e 10px, #5c5c5c 10px, #5c5c5c 20px);\n",
              "    }\n",
              "    .progress-bar-interrupted, .progress-bar-interrupted::-webkit-progress-bar {\n",
              "        background: #F44336;\n",
              "    }\n",
              "</style>\n"
            ]
          },
          "metadata": {}
        },
        {
          "output_type": "display_data",
          "data": {
            "text/plain": [
              "<IPython.core.display.HTML object>"
            ],
            "text/html": []
          },
          "metadata": {}
        },
        {
          "output_type": "display_data",
          "data": {
            "text/plain": [
              "<IPython.core.display.HTML object>"
            ],
            "text/html": [
              "\n",
              "<style>\n",
              "    /* Turns off some styling */\n",
              "    progress {\n",
              "        /* gets rid of default border in Firefox and Opera. */\n",
              "        border: none;\n",
              "        /* Needs to be in here for Safari polyfill so background images work as expected. */\n",
              "        background-size: auto;\n",
              "    }\n",
              "    progress:not([value]), progress:not([value])::-webkit-progress-bar {\n",
              "        background: repeating-linear-gradient(45deg, #7e7e7e, #7e7e7e 10px, #5c5c5c 10px, #5c5c5c 20px);\n",
              "    }\n",
              "    .progress-bar-interrupted, .progress-bar-interrupted::-webkit-progress-bar {\n",
              "        background: #F44336;\n",
              "    }\n",
              "</style>\n"
            ]
          },
          "metadata": {}
        },
        {
          "output_type": "display_data",
          "data": {
            "text/plain": [
              "<IPython.core.display.HTML object>"
            ],
            "text/html": []
          },
          "metadata": {}
        },
        {
          "output_type": "display_data",
          "data": {
            "text/plain": [
              "<IPython.core.display.HTML object>"
            ],
            "text/html": [
              "\n",
              "<style>\n",
              "    /* Turns off some styling */\n",
              "    progress {\n",
              "        /* gets rid of default border in Firefox and Opera. */\n",
              "        border: none;\n",
              "        /* Needs to be in here for Safari polyfill so background images work as expected. */\n",
              "        background-size: auto;\n",
              "    }\n",
              "    progress:not([value]), progress:not([value])::-webkit-progress-bar {\n",
              "        background: repeating-linear-gradient(45deg, #7e7e7e, #7e7e7e 10px, #5c5c5c 10px, #5c5c5c 20px);\n",
              "    }\n",
              "    .progress-bar-interrupted, .progress-bar-interrupted::-webkit-progress-bar {\n",
              "        background: #F44336;\n",
              "    }\n",
              "</style>\n"
            ]
          },
          "metadata": {}
        },
        {
          "output_type": "display_data",
          "data": {
            "text/plain": [
              "<IPython.core.display.HTML object>"
            ],
            "text/html": []
          },
          "metadata": {}
        },
        {
          "output_type": "display_data",
          "data": {
            "text/plain": [
              "<IPython.core.display.HTML object>"
            ],
            "text/html": [
              "\n",
              "<style>\n",
              "    /* Turns off some styling */\n",
              "    progress {\n",
              "        /* gets rid of default border in Firefox and Opera. */\n",
              "        border: none;\n",
              "        /* Needs to be in here for Safari polyfill so background images work as expected. */\n",
              "        background-size: auto;\n",
              "    }\n",
              "    progress:not([value]), progress:not([value])::-webkit-progress-bar {\n",
              "        background: repeating-linear-gradient(45deg, #7e7e7e, #7e7e7e 10px, #5c5c5c 10px, #5c5c5c 20px);\n",
              "    }\n",
              "    .progress-bar-interrupted, .progress-bar-interrupted::-webkit-progress-bar {\n",
              "        background: #F44336;\n",
              "    }\n",
              "</style>\n"
            ]
          },
          "metadata": {}
        },
        {
          "output_type": "display_data",
          "data": {
            "text/plain": [
              "<IPython.core.display.HTML object>"
            ],
            "text/html": []
          },
          "metadata": {}
        },
        {
          "output_type": "display_data",
          "data": {
            "text/plain": [
              "<IPython.core.display.HTML object>"
            ],
            "text/html": [
              "\n",
              "<style>\n",
              "    /* Turns off some styling */\n",
              "    progress {\n",
              "        /* gets rid of default border in Firefox and Opera. */\n",
              "        border: none;\n",
              "        /* Needs to be in here for Safari polyfill so background images work as expected. */\n",
              "        background-size: auto;\n",
              "    }\n",
              "    progress:not([value]), progress:not([value])::-webkit-progress-bar {\n",
              "        background: repeating-linear-gradient(45deg, #7e7e7e, #7e7e7e 10px, #5c5c5c 10px, #5c5c5c 20px);\n",
              "    }\n",
              "    .progress-bar-interrupted, .progress-bar-interrupted::-webkit-progress-bar {\n",
              "        background: #F44336;\n",
              "    }\n",
              "</style>\n"
            ]
          },
          "metadata": {}
        },
        {
          "output_type": "display_data",
          "data": {
            "text/plain": [
              "<IPython.core.display.HTML object>"
            ],
            "text/html": []
          },
          "metadata": {}
        },
        {
          "output_type": "display_data",
          "data": {
            "text/plain": [
              "<IPython.core.display.HTML object>"
            ],
            "text/html": [
              "\n",
              "<style>\n",
              "    /* Turns off some styling */\n",
              "    progress {\n",
              "        /* gets rid of default border in Firefox and Opera. */\n",
              "        border: none;\n",
              "        /* Needs to be in here for Safari polyfill so background images work as expected. */\n",
              "        background-size: auto;\n",
              "    }\n",
              "    progress:not([value]), progress:not([value])::-webkit-progress-bar {\n",
              "        background: repeating-linear-gradient(45deg, #7e7e7e, #7e7e7e 10px, #5c5c5c 10px, #5c5c5c 20px);\n",
              "    }\n",
              "    .progress-bar-interrupted, .progress-bar-interrupted::-webkit-progress-bar {\n",
              "        background: #F44336;\n",
              "    }\n",
              "</style>\n"
            ]
          },
          "metadata": {}
        },
        {
          "output_type": "display_data",
          "data": {
            "text/plain": [
              "<IPython.core.display.HTML object>"
            ],
            "text/html": []
          },
          "metadata": {}
        },
        {
          "output_type": "display_data",
          "data": {
            "text/plain": [
              "<IPython.core.display.HTML object>"
            ],
            "text/html": [
              "\n",
              "<style>\n",
              "    /* Turns off some styling */\n",
              "    progress {\n",
              "        /* gets rid of default border in Firefox and Opera. */\n",
              "        border: none;\n",
              "        /* Needs to be in here for Safari polyfill so background images work as expected. */\n",
              "        background-size: auto;\n",
              "    }\n",
              "    progress:not([value]), progress:not([value])::-webkit-progress-bar {\n",
              "        background: repeating-linear-gradient(45deg, #7e7e7e, #7e7e7e 10px, #5c5c5c 10px, #5c5c5c 20px);\n",
              "    }\n",
              "    .progress-bar-interrupted, .progress-bar-interrupted::-webkit-progress-bar {\n",
              "        background: #F44336;\n",
              "    }\n",
              "</style>\n"
            ]
          },
          "metadata": {}
        },
        {
          "output_type": "display_data",
          "data": {
            "text/plain": [
              "<IPython.core.display.HTML object>"
            ],
            "text/html": []
          },
          "metadata": {}
        },
        {
          "output_type": "display_data",
          "data": {
            "text/plain": [
              "<IPython.core.display.HTML object>"
            ],
            "text/html": [
              "\n",
              "<style>\n",
              "    /* Turns off some styling */\n",
              "    progress {\n",
              "        /* gets rid of default border in Firefox and Opera. */\n",
              "        border: none;\n",
              "        /* Needs to be in here for Safari polyfill so background images work as expected. */\n",
              "        background-size: auto;\n",
              "    }\n",
              "    progress:not([value]), progress:not([value])::-webkit-progress-bar {\n",
              "        background: repeating-linear-gradient(45deg, #7e7e7e, #7e7e7e 10px, #5c5c5c 10px, #5c5c5c 20px);\n",
              "    }\n",
              "    .progress-bar-interrupted, .progress-bar-interrupted::-webkit-progress-bar {\n",
              "        background: #F44336;\n",
              "    }\n",
              "</style>\n"
            ]
          },
          "metadata": {}
        },
        {
          "output_type": "display_data",
          "data": {
            "text/plain": [
              "<IPython.core.display.HTML object>"
            ],
            "text/html": []
          },
          "metadata": {}
        },
        {
          "output_type": "display_data",
          "data": {
            "text/plain": [
              "<IPython.core.display.HTML object>"
            ],
            "text/html": [
              "\n",
              "<style>\n",
              "    /* Turns off some styling */\n",
              "    progress {\n",
              "        /* gets rid of default border in Firefox and Opera. */\n",
              "        border: none;\n",
              "        /* Needs to be in here for Safari polyfill so background images work as expected. */\n",
              "        background-size: auto;\n",
              "    }\n",
              "    progress:not([value]), progress:not([value])::-webkit-progress-bar {\n",
              "        background: repeating-linear-gradient(45deg, #7e7e7e, #7e7e7e 10px, #5c5c5c 10px, #5c5c5c 20px);\n",
              "    }\n",
              "    .progress-bar-interrupted, .progress-bar-interrupted::-webkit-progress-bar {\n",
              "        background: #F44336;\n",
              "    }\n",
              "</style>\n"
            ]
          },
          "metadata": {}
        },
        {
          "output_type": "display_data",
          "data": {
            "text/plain": [
              "<IPython.core.display.HTML object>"
            ],
            "text/html": []
          },
          "metadata": {}
        },
        {
          "output_type": "stream",
          "name": "stdout",
          "text": [
            "TensorBase(0.0601)\n"
          ]
        },
        {
          "output_type": "execute_result",
          "data": {
            "text/plain": [
              "TensorBase(0.0552)"
            ]
          },
          "metadata": {},
          "execution_count": 25
        }
      ]
    },
    {
      "cell_type": "code",
      "source": [
        "analysis_df = mk_analysis_df(merged.loc[test_idxs], all_preds.flatten(), scaler)\n",
        "\n",
        "# plot_preds(analysis_df)\n",
        "plot_preds(analysis_df)"
      ],
      "metadata": {
        "id": "rpSy9jpx2BOj",
        "outputId": "37e0463e-587d-4878-e491-c86b2af5fcdc",
        "colab": {
          "base_uri": "https://localhost:8080/",
          "height": 519,
          "referenced_widgets": [
            "287bfd092b4c45e1850f2ff50c1b367d",
            "699808df644844c5bc2f8c7e5a06b1a0",
            "5186ed14eca84c90ae85a4525a038ffa",
            "ac14e51c46e747e7a1d8263bdbfbcd8f",
            "7c92b6928df74fd488c28f0852953f6a",
            "870964fb8f0a42a4a754863f9331ebda",
            "58f3da6176a6474996c35eb4fc749e2f"
          ]
        }
      },
      "id": "rpSy9jpx2BOj",
      "execution_count": null,
      "outputs": [
        {
          "output_type": "display_data",
          "data": {
            "text/plain": [
              "interactive(children=(SelectionRangeSlider(description='Select Date Range', index=(0, 464), layout=Layout(widt…"
            ],
            "application/vnd.jupyter.widget-view+json": {
              "version_major": 2,
              "version_minor": 0,
              "model_id": "287bfd092b4c45e1850f2ff50c1b367d"
            }
          },
          "metadata": {}
        }
      ]
    },
    {
      "cell_type": "markdown",
      "source": [
        "# Random forest impl"
      ],
      "metadata": {
        "id": "sL0bPaj3s4VR"
      },
      "id": "sL0bPaj3s4VR"
    },
    {
      "cell_type": "markdown",
      "source": [
        "_RandomForest doesn't seem to offer much better results than using deep learning for this dataset._"
      ],
      "metadata": {
        "id": "E3bq19yEwJLP"
      },
      "id": "E3bq19yEwJLP"
    },
    {
      "cell_type": "code",
      "source": [
        "from sklearn.ensemble import RandomForestRegressor\n",
        "import torch\n",
        "\n",
        "m = RandomForestRegressor(n_jobs=-1, n_estimators=100,\n",
        "        max_samples=10_000, max_features=0.5,\n",
        "        min_samples_leaf=5, oob_score=True).fit(dls.train.xs, dls.train.y)\n",
        "preds = m.predict(dls.valid.xs)\n",
        "preds_tensor = torch.tensor(preds)\n",
        "\n",
        "mae(preds_tensor, torch.tensor(dls.valid.y.values))"
      ],
      "metadata": {
        "colab": {
          "base_uri": "https://localhost:8080/"
        },
        "id": "N10fODP7s9D3",
        "outputId": "35c47956-6c5f-4782-c3ac-a08fc8631d73"
      },
      "id": "N10fODP7s9D3",
      "execution_count": null,
      "outputs": [
        {
          "output_type": "execute_result",
          "data": {
            "text/plain": [
              "TensorBase(3.4242)"
            ]
          },
          "metadata": {},
          "execution_count": 192
        }
      ]
    },
    {
      "cell_type": "code",
      "source": [
        "df_test = merged.loc[test_idxs]\n",
        "test_dl = dls.test_dl(df_test)"
      ],
      "metadata": {
        "id": "Mfi5wzDbVst_"
      },
      "id": "Mfi5wzDbVst_",
      "execution_count": null,
      "outputs": []
    },
    {
      "cell_type": "code",
      "source": [
        "preds = torch.tensor(m.predict(test_dl.xs))\n",
        "mae(preds, torch.tensor(test_dl.y.values))"
      ],
      "metadata": {
        "id": "Gh5YHW69Vr5a",
        "outputId": "91d7fa12-fda7-4b8a-93f1-35a80f818c85",
        "colab": {
          "base_uri": "https://localhost:8080/"
        }
      },
      "id": "Gh5YHW69Vr5a",
      "execution_count": null,
      "outputs": [
        {
          "output_type": "execute_result",
          "data": {
            "text/plain": [
              "TensorBase(4.5673)"
            ]
          },
          "metadata": {},
          "execution_count": 194
        }
      ]
    },
    {
      "cell_type": "code",
      "source": [
        "def mk_analysis_df(df, preds):\n",
        "  return pd.DataFrame({'datetime': df['datetime'],\n",
        "              'Actual': df['valeur'],\n",
        "              'Predicted': preds })\n",
        "\n",
        "analysis_df = mk_analysis_df(df_test, preds)\n",
        "analysis_df"
      ],
      "metadata": {
        "id": "JjhGHBwoWnRY",
        "outputId": "4f52e297-cbef-4f9f-9cb0-d68c1e4c27e4",
        "colab": {
          "base_uri": "https://localhost:8080/",
          "height": 424
        }
      },
      "id": "JjhGHBwoWnRY",
      "execution_count": null,
      "outputs": [
        {
          "output_type": "execute_result",
          "data": {
            "text/plain": [
              "                 datetime     Actual  Predicted\n",
              "61368 2023-01-01 00:00:00  21.818182  18.796947\n",
              "61369 2023-01-01 01:00:00  15.909091  19.415405\n",
              "61370 2023-01-01 02:00:00  12.363636  19.047986\n",
              "61371 2023-01-01 03:00:00  10.909091  18.071020\n",
              "61372 2023-01-01 04:00:00  11.363636  17.989505\n",
              "...                   ...        ...        ...\n",
              "72523 2024-04-09 19:00:00  22.818182  21.884124\n",
              "72524 2024-04-09 20:00:00  21.272727  21.065109\n",
              "72525 2024-04-09 21:00:00  20.727273  20.415613\n",
              "72526 2024-04-09 22:00:00  19.727273  19.543265\n",
              "72527 2024-04-09 23:00:00  19.181818  19.372388\n",
              "\n",
              "[11160 rows x 3 columns]"
            ],
            "text/html": [
              "\n",
              "  <div id=\"df-e6e2aece-a1bb-4bb4-9c45-c10e4a117bad\" class=\"colab-df-container\">\n",
              "    <div>\n",
              "<style scoped>\n",
              "    .dataframe tbody tr th:only-of-type {\n",
              "        vertical-align: middle;\n",
              "    }\n",
              "\n",
              "    .dataframe tbody tr th {\n",
              "        vertical-align: top;\n",
              "    }\n",
              "\n",
              "    .dataframe thead th {\n",
              "        text-align: right;\n",
              "    }\n",
              "</style>\n",
              "<table border=\"1\" class=\"dataframe\">\n",
              "  <thead>\n",
              "    <tr style=\"text-align: right;\">\n",
              "      <th></th>\n",
              "      <th>datetime</th>\n",
              "      <th>Actual</th>\n",
              "      <th>Predicted</th>\n",
              "    </tr>\n",
              "  </thead>\n",
              "  <tbody>\n",
              "    <tr>\n",
              "      <th>61368</th>\n",
              "      <td>2023-01-01 00:00:00</td>\n",
              "      <td>21.818182</td>\n",
              "      <td>18.796947</td>\n",
              "    </tr>\n",
              "    <tr>\n",
              "      <th>61369</th>\n",
              "      <td>2023-01-01 01:00:00</td>\n",
              "      <td>15.909091</td>\n",
              "      <td>19.415405</td>\n",
              "    </tr>\n",
              "    <tr>\n",
              "      <th>61370</th>\n",
              "      <td>2023-01-01 02:00:00</td>\n",
              "      <td>12.363636</td>\n",
              "      <td>19.047986</td>\n",
              "    </tr>\n",
              "    <tr>\n",
              "      <th>61371</th>\n",
              "      <td>2023-01-01 03:00:00</td>\n",
              "      <td>10.909091</td>\n",
              "      <td>18.071020</td>\n",
              "    </tr>\n",
              "    <tr>\n",
              "      <th>61372</th>\n",
              "      <td>2023-01-01 04:00:00</td>\n",
              "      <td>11.363636</td>\n",
              "      <td>17.989505</td>\n",
              "    </tr>\n",
              "    <tr>\n",
              "      <th>...</th>\n",
              "      <td>...</td>\n",
              "      <td>...</td>\n",
              "      <td>...</td>\n",
              "    </tr>\n",
              "    <tr>\n",
              "      <th>72523</th>\n",
              "      <td>2024-04-09 19:00:00</td>\n",
              "      <td>22.818182</td>\n",
              "      <td>21.884124</td>\n",
              "    </tr>\n",
              "    <tr>\n",
              "      <th>72524</th>\n",
              "      <td>2024-04-09 20:00:00</td>\n",
              "      <td>21.272727</td>\n",
              "      <td>21.065109</td>\n",
              "    </tr>\n",
              "    <tr>\n",
              "      <th>72525</th>\n",
              "      <td>2024-04-09 21:00:00</td>\n",
              "      <td>20.727273</td>\n",
              "      <td>20.415613</td>\n",
              "    </tr>\n",
              "    <tr>\n",
              "      <th>72526</th>\n",
              "      <td>2024-04-09 22:00:00</td>\n",
              "      <td>19.727273</td>\n",
              "      <td>19.543265</td>\n",
              "    </tr>\n",
              "    <tr>\n",
              "      <th>72527</th>\n",
              "      <td>2024-04-09 23:00:00</td>\n",
              "      <td>19.181818</td>\n",
              "      <td>19.372388</td>\n",
              "    </tr>\n",
              "  </tbody>\n",
              "</table>\n",
              "<p>11160 rows × 3 columns</p>\n",
              "</div>\n",
              "    <div class=\"colab-df-buttons\">\n",
              "\n",
              "  <div class=\"colab-df-container\">\n",
              "    <button class=\"colab-df-convert\" onclick=\"convertToInteractive('df-e6e2aece-a1bb-4bb4-9c45-c10e4a117bad')\"\n",
              "            title=\"Convert this dataframe to an interactive table.\"\n",
              "            style=\"display:none;\">\n",
              "\n",
              "  <svg xmlns=\"http://www.w3.org/2000/svg\" height=\"24px\" viewBox=\"0 -960 960 960\">\n",
              "    <path d=\"M120-120v-720h720v720H120Zm60-500h600v-160H180v160Zm220 220h160v-160H400v160Zm0 220h160v-160H400v160ZM180-400h160v-160H180v160Zm440 0h160v-160H620v160ZM180-180h160v-160H180v160Zm440 0h160v-160H620v160Z\"/>\n",
              "  </svg>\n",
              "    </button>\n",
              "\n",
              "  <style>\n",
              "    .colab-df-container {\n",
              "      display:flex;\n",
              "      gap: 12px;\n",
              "    }\n",
              "\n",
              "    .colab-df-convert {\n",
              "      background-color: #E8F0FE;\n",
              "      border: none;\n",
              "      border-radius: 50%;\n",
              "      cursor: pointer;\n",
              "      display: none;\n",
              "      fill: #1967D2;\n",
              "      height: 32px;\n",
              "      padding: 0 0 0 0;\n",
              "      width: 32px;\n",
              "    }\n",
              "\n",
              "    .colab-df-convert:hover {\n",
              "      background-color: #E2EBFA;\n",
              "      box-shadow: 0px 1px 2px rgba(60, 64, 67, 0.3), 0px 1px 3px 1px rgba(60, 64, 67, 0.15);\n",
              "      fill: #174EA6;\n",
              "    }\n",
              "\n",
              "    .colab-df-buttons div {\n",
              "      margin-bottom: 4px;\n",
              "    }\n",
              "\n",
              "    [theme=dark] .colab-df-convert {\n",
              "      background-color: #3B4455;\n",
              "      fill: #D2E3FC;\n",
              "    }\n",
              "\n",
              "    [theme=dark] .colab-df-convert:hover {\n",
              "      background-color: #434B5C;\n",
              "      box-shadow: 0px 1px 3px 1px rgba(0, 0, 0, 0.15);\n",
              "      filter: drop-shadow(0px 1px 2px rgba(0, 0, 0, 0.3));\n",
              "      fill: #FFFFFF;\n",
              "    }\n",
              "  </style>\n",
              "\n",
              "    <script>\n",
              "      const buttonEl =\n",
              "        document.querySelector('#df-e6e2aece-a1bb-4bb4-9c45-c10e4a117bad button.colab-df-convert');\n",
              "      buttonEl.style.display =\n",
              "        google.colab.kernel.accessAllowed ? 'block' : 'none';\n",
              "\n",
              "      async function convertToInteractive(key) {\n",
              "        const element = document.querySelector('#df-e6e2aece-a1bb-4bb4-9c45-c10e4a117bad');\n",
              "        const dataTable =\n",
              "          await google.colab.kernel.invokeFunction('convertToInteractive',\n",
              "                                                    [key], {});\n",
              "        if (!dataTable) return;\n",
              "\n",
              "        const docLinkHtml = 'Like what you see? Visit the ' +\n",
              "          '<a target=\"_blank\" href=https://colab.research.google.com/notebooks/data_table.ipynb>data table notebook</a>'\n",
              "          + ' to learn more about interactive tables.';\n",
              "        element.innerHTML = '';\n",
              "        dataTable['output_type'] = 'display_data';\n",
              "        await google.colab.output.renderOutput(dataTable, element);\n",
              "        const docLink = document.createElement('div');\n",
              "        docLink.innerHTML = docLinkHtml;\n",
              "        element.appendChild(docLink);\n",
              "      }\n",
              "    </script>\n",
              "  </div>\n",
              "\n",
              "\n",
              "<div id=\"df-59ebc5b8-cdde-414e-8b48-91ea49afca77\">\n",
              "  <button class=\"colab-df-quickchart\" onclick=\"quickchart('df-59ebc5b8-cdde-414e-8b48-91ea49afca77')\"\n",
              "            title=\"Suggest charts\"\n",
              "            style=\"display:none;\">\n",
              "\n",
              "<svg xmlns=\"http://www.w3.org/2000/svg\" height=\"24px\"viewBox=\"0 0 24 24\"\n",
              "     width=\"24px\">\n",
              "    <g>\n",
              "        <path d=\"M19 3H5c-1.1 0-2 .9-2 2v14c0 1.1.9 2 2 2h14c1.1 0 2-.9 2-2V5c0-1.1-.9-2-2-2zM9 17H7v-7h2v7zm4 0h-2V7h2v10zm4 0h-2v-4h2v4z\"/>\n",
              "    </g>\n",
              "</svg>\n",
              "  </button>\n",
              "\n",
              "<style>\n",
              "  .colab-df-quickchart {\n",
              "      --bg-color: #E8F0FE;\n",
              "      --fill-color: #1967D2;\n",
              "      --hover-bg-color: #E2EBFA;\n",
              "      --hover-fill-color: #174EA6;\n",
              "      --disabled-fill-color: #AAA;\n",
              "      --disabled-bg-color: #DDD;\n",
              "  }\n",
              "\n",
              "  [theme=dark] .colab-df-quickchart {\n",
              "      --bg-color: #3B4455;\n",
              "      --fill-color: #D2E3FC;\n",
              "      --hover-bg-color: #434B5C;\n",
              "      --hover-fill-color: #FFFFFF;\n",
              "      --disabled-bg-color: #3B4455;\n",
              "      --disabled-fill-color: #666;\n",
              "  }\n",
              "\n",
              "  .colab-df-quickchart {\n",
              "    background-color: var(--bg-color);\n",
              "    border: none;\n",
              "    border-radius: 50%;\n",
              "    cursor: pointer;\n",
              "    display: none;\n",
              "    fill: var(--fill-color);\n",
              "    height: 32px;\n",
              "    padding: 0;\n",
              "    width: 32px;\n",
              "  }\n",
              "\n",
              "  .colab-df-quickchart:hover {\n",
              "    background-color: var(--hover-bg-color);\n",
              "    box-shadow: 0 1px 2px rgba(60, 64, 67, 0.3), 0 1px 3px 1px rgba(60, 64, 67, 0.15);\n",
              "    fill: var(--button-hover-fill-color);\n",
              "  }\n",
              "\n",
              "  .colab-df-quickchart-complete:disabled,\n",
              "  .colab-df-quickchart-complete:disabled:hover {\n",
              "    background-color: var(--disabled-bg-color);\n",
              "    fill: var(--disabled-fill-color);\n",
              "    box-shadow: none;\n",
              "  }\n",
              "\n",
              "  .colab-df-spinner {\n",
              "    border: 2px solid var(--fill-color);\n",
              "    border-color: transparent;\n",
              "    border-bottom-color: var(--fill-color);\n",
              "    animation:\n",
              "      spin 1s steps(1) infinite;\n",
              "  }\n",
              "\n",
              "  @keyframes spin {\n",
              "    0% {\n",
              "      border-color: transparent;\n",
              "      border-bottom-color: var(--fill-color);\n",
              "      border-left-color: var(--fill-color);\n",
              "    }\n",
              "    20% {\n",
              "      border-color: transparent;\n",
              "      border-left-color: var(--fill-color);\n",
              "      border-top-color: var(--fill-color);\n",
              "    }\n",
              "    30% {\n",
              "      border-color: transparent;\n",
              "      border-left-color: var(--fill-color);\n",
              "      border-top-color: var(--fill-color);\n",
              "      border-right-color: var(--fill-color);\n",
              "    }\n",
              "    40% {\n",
              "      border-color: transparent;\n",
              "      border-right-color: var(--fill-color);\n",
              "      border-top-color: var(--fill-color);\n",
              "    }\n",
              "    60% {\n",
              "      border-color: transparent;\n",
              "      border-right-color: var(--fill-color);\n",
              "    }\n",
              "    80% {\n",
              "      border-color: transparent;\n",
              "      border-right-color: var(--fill-color);\n",
              "      border-bottom-color: var(--fill-color);\n",
              "    }\n",
              "    90% {\n",
              "      border-color: transparent;\n",
              "      border-bottom-color: var(--fill-color);\n",
              "    }\n",
              "  }\n",
              "</style>\n",
              "\n",
              "  <script>\n",
              "    async function quickchart(key) {\n",
              "      const quickchartButtonEl =\n",
              "        document.querySelector('#' + key + ' button');\n",
              "      quickchartButtonEl.disabled = true;  // To prevent multiple clicks.\n",
              "      quickchartButtonEl.classList.add('colab-df-spinner');\n",
              "      try {\n",
              "        const charts = await google.colab.kernel.invokeFunction(\n",
              "            'suggestCharts', [key], {});\n",
              "      } catch (error) {\n",
              "        console.error('Error during call to suggestCharts:', error);\n",
              "      }\n",
              "      quickchartButtonEl.classList.remove('colab-df-spinner');\n",
              "      quickchartButtonEl.classList.add('colab-df-quickchart-complete');\n",
              "    }\n",
              "    (() => {\n",
              "      let quickchartButtonEl =\n",
              "        document.querySelector('#df-59ebc5b8-cdde-414e-8b48-91ea49afca77 button');\n",
              "      quickchartButtonEl.style.display =\n",
              "        google.colab.kernel.accessAllowed ? 'block' : 'none';\n",
              "    })();\n",
              "  </script>\n",
              "</div>\n",
              "\n",
              "  <div id=\"id_b59178e4-0f26-459d-b175-704bbe4f9c76\">\n",
              "    <style>\n",
              "      .colab-df-generate {\n",
              "        background-color: #E8F0FE;\n",
              "        border: none;\n",
              "        border-radius: 50%;\n",
              "        cursor: pointer;\n",
              "        display: none;\n",
              "        fill: #1967D2;\n",
              "        height: 32px;\n",
              "        padding: 0 0 0 0;\n",
              "        width: 32px;\n",
              "      }\n",
              "\n",
              "      .colab-df-generate:hover {\n",
              "        background-color: #E2EBFA;\n",
              "        box-shadow: 0px 1px 2px rgba(60, 64, 67, 0.3), 0px 1px 3px 1px rgba(60, 64, 67, 0.15);\n",
              "        fill: #174EA6;\n",
              "      }\n",
              "\n",
              "      [theme=dark] .colab-df-generate {\n",
              "        background-color: #3B4455;\n",
              "        fill: #D2E3FC;\n",
              "      }\n",
              "\n",
              "      [theme=dark] .colab-df-generate:hover {\n",
              "        background-color: #434B5C;\n",
              "        box-shadow: 0px 1px 3px 1px rgba(0, 0, 0, 0.15);\n",
              "        filter: drop-shadow(0px 1px 2px rgba(0, 0, 0, 0.3));\n",
              "        fill: #FFFFFF;\n",
              "      }\n",
              "    </style>\n",
              "    <button class=\"colab-df-generate\" onclick=\"generateWithVariable('analysis_df')\"\n",
              "            title=\"Generate code using this dataframe.\"\n",
              "            style=\"display:none;\">\n",
              "\n",
              "  <svg xmlns=\"http://www.w3.org/2000/svg\" height=\"24px\"viewBox=\"0 0 24 24\"\n",
              "       width=\"24px\">\n",
              "    <path d=\"M7,19H8.4L18.45,9,17,7.55,7,17.6ZM5,21V16.75L18.45,3.32a2,2,0,0,1,2.83,0l1.4,1.43a1.91,1.91,0,0,1,.58,1.4,1.91,1.91,0,0,1-.58,1.4L9.25,21ZM18.45,9,17,7.55Zm-12,3A5.31,5.31,0,0,0,4.9,8.1,5.31,5.31,0,0,0,1,6.5,5.31,5.31,0,0,0,4.9,4.9,5.31,5.31,0,0,0,6.5,1,5.31,5.31,0,0,0,8.1,4.9,5.31,5.31,0,0,0,12,6.5,5.46,5.46,0,0,0,6.5,12Z\"/>\n",
              "  </svg>\n",
              "    </button>\n",
              "    <script>\n",
              "      (() => {\n",
              "      const buttonEl =\n",
              "        document.querySelector('#id_b59178e4-0f26-459d-b175-704bbe4f9c76 button.colab-df-generate');\n",
              "      buttonEl.style.display =\n",
              "        google.colab.kernel.accessAllowed ? 'block' : 'none';\n",
              "\n",
              "      buttonEl.onclick = () => {\n",
              "        google.colab.notebook.generateWithVariable('analysis_df');\n",
              "      }\n",
              "      })();\n",
              "    </script>\n",
              "  </div>\n",
              "\n",
              "    </div>\n",
              "  </div>\n"
            ],
            "application/vnd.google.colaboratory.intrinsic+json": {
              "type": "dataframe",
              "variable_name": "analysis_df",
              "summary": "{\n  \"name\": \"analysis_df\",\n  \"rows\": 11160,\n  \"fields\": [\n    {\n      \"column\": \"datetime\",\n      \"properties\": {\n        \"dtype\": \"date\",\n        \"min\": \"2023-01-01 00:00:00\",\n        \"max\": \"2024-04-09 23:00:00\",\n        \"num_unique_values\": 11160,\n        \"samples\": [\n          \"2023-06-22 01:00:00\",\n          \"2023-01-28 20:00:00\",\n          \"2023-05-28 16:00:00\"\n        ],\n        \"semantic_type\": \"\",\n        \"description\": \"\"\n      }\n    },\n    {\n      \"column\": \"Actual\",\n      \"properties\": {\n        \"dtype\": \"number\",\n        \"std\": 11.978528689780243,\n        \"min\": 4.0,\n        \"max\": 310.6,\n        \"num_unique_values\": 749,\n        \"samples\": [\n          17.9,\n          35.54545454545455,\n          17.09090909090909\n        ],\n        \"semantic_type\": \"\",\n        \"description\": \"\"\n      }\n    },\n    {\n      \"column\": \"Predicted\",\n      \"properties\": {\n        \"dtype\": \"number\",\n        \"std\": 3.445356152311471,\n        \"min\": 9.255114525642055,\n        \"max\": 32.36455997713371,\n        \"num_unique_values\": 11159,\n        \"samples\": [\n          19.812398839914973,\n          18.9700123294745,\n          14.512779269273489\n        ],\n        \"semantic_type\": \"\",\n        \"description\": \"\"\n      }\n    }\n  ]\n}"
            }
          },
          "metadata": {},
          "execution_count": 195
        }
      ]
    },
    {
      "cell_type": "code",
      "source": [
        "plot_preds(analysis_df[analysis_df['datetime'] >= pd.Timestamp(\"2023-08-01\")])"
      ],
      "metadata": {
        "id": "bsLw58q5WscC",
        "outputId": "52d00403-e15a-4a9c-a213-0d9137336344",
        "colab": {
          "base_uri": "https://localhost:8080/",
          "height": 487
        }
      },
      "id": "bsLw58q5WscC",
      "execution_count": null,
      "outputs": [
        {
          "output_type": "display_data",
          "data": {
            "text/plain": [
              "<Figure size 1000x500 with 1 Axes>"
            ],
            "image/png": "[encoded data removed]"
          },
          "metadata": {}
        }
      ]
    }
  ],
  "metadata": {
    "colab": {
      "provenance": [],
      "gpuType": "T4"
    },
    "kernelspec": {
      "display_name": "Python 3",
      "name": "python3"
    },
    "language_info": {
      "codemirror_mode": {
        "name": "ipython",
        "version": 3
      },
      "file_extension": ".py",
      "mimetype": "text/x-python",
      "name": "python",
      "nbconvert_exporter": "python",
      "pygments_lexer": "ipython3",
      "version": "3.11.8"
    },
    "widgets": {
      "application/vnd.jupyter.widget-state+json": {
        "48472b0394524ce18a55e841986da4cd": {
          "model_module": "@jupyter-widgets/controls",
          "model_name": "VBoxModel",
          "model_module_version": "1.5.0",
          "state": {
            "_dom_classes": [
              "widget-interact"
            ],
            "_model_module": "@jupyter-widgets/controls",
            "_model_module_version": "1.5.0",
            "_model_name": "VBoxModel",
            "_view_count": null,
            "_view_module": "@jupyter-widgets/controls",
            "_view_module_version": "1.5.0",
            "_view_name": "VBoxView",
            "box_style": "",
            "children": [
              "IPY_MODEL_6905cbac0b6d448a811b535ef3e71dc7",
              "IPY_MODEL_73f1c0f640e74d12b5d69d69637644e3"
            ],
            "layout": "IPY_MODEL_2f2fce6899c14da48e3114995b3fefb4"
          }
        },
        "6905cbac0b6d448a811b535ef3e71dc7": {
          "model_module": "@jupyter-widgets/controls",
          "model_name": "SelectionRangeSliderModel",
          "model_module_version": "1.5.0",
          "state": {
            "_dom_classes": [],
            "_model_module": "@jupyter-widgets/controls",
            "_model_module_version": "1.5.0",
            "_model_name": "SelectionRangeSliderModel",
            "_options_labels": [
              " 2023-01-01 ",
              " 2023-01-02 ",
              " 2023-01-03 ",
              " 2023-01-04 ",
              " 2023-01-05 ",
              " 2023-01-06 ",
              " 2023-01-07 ",
              " 2023-01-08 ",
              " 2023-01-09 ",
              " 2023-01-10 ",
              " 2023-01-11 ",
              " 2023-01-12 ",
              " 2023-01-13 ",
              " 2023-01-14 ",
              " 2023-01-15 ",
              " 2023-01-16 ",
              " 2023-01-17 ",
              " 2023-01-18 ",
              " 2023-01-19 ",
              " 2023-01-20 ",
              " 2023-01-21 ",
              " 2023-01-22 ",
              " 2023-01-23 ",
              " 2023-01-24 ",
              " 2023-01-25 ",
              " 2023-01-26 ",
              " 2023-01-27 ",
              " 2023-01-28 ",
              " 2023-01-29 ",
              " 2023-01-30 ",
              " 2023-01-31 ",
              " 2023-02-01 ",
              " 2023-02-02 ",
              " 2023-02-03 ",
              " 2023-02-04 ",
              " 2023-02-05 ",
              " 2023-02-06 ",
              " 2023-02-07 ",
              " 2023-02-08 ",
              " 2023-02-09 ",
              " 2023-02-10 ",
              " 2023-02-11 ",
              " 2023-02-12 ",
              " 2023-02-13 ",
              " 2023-02-14 ",
              " 2023-02-15 ",
              " 2023-02-16 ",
              " 2023-02-17 ",
              " 2023-02-18 ",
              " 2023-02-19 ",
              " 2023-02-20 ",
              " 2023-02-21 ",
              " 2023-02-22 ",
              " 2023-02-23 ",
              " 2023-02-24 ",
              " 2023-02-25 ",
              " 2023-02-26 ",
              " 2023-02-27 ",
              " 2023-02-28 ",
              " 2023-03-01 ",
              " 2023-03-02 ",
              " 2023-03-03 ",
              " 2023-03-04 ",
              " 2023-03-05 ",
              " 2023-03-06 ",
              " 2023-03-07 ",
              " 2023-03-08 ",
              " 2023-03-09 ",
              " 2023-03-10 ",
              " 2023-03-11 ",
              " 2023-03-12 ",
              " 2023-03-13 ",
              " 2023-03-14 ",
              " 2023-03-15 ",
              " 2023-03-16 ",
              " 2023-03-17 ",
              " 2023-03-18 ",
              " 2023-03-19 ",
              " 2023-03-20 ",
              " 2023-03-21 ",
              " 2023-03-22 ",
              " 2023-03-23 ",
              " 2023-03-24 ",
              " 2023-03-25 ",
              " 2023-03-26 ",
              " 2023-03-27 ",
              " 2023-03-28 ",
              " 2023-03-29 ",
              " 2023-03-30 ",
              " 2023-03-31 ",
              " 2023-04-01 ",
              " 2023-04-02 ",
              " 2023-04-03 ",
              " 2023-04-04 ",
              " 2023-04-05 ",
              " 2023-04-06 ",
              " 2023-04-07 ",
              " 2023-04-08 ",
              " 2023-04-09 ",
              " 2023-04-10 ",
              " 2023-04-11 ",
              " 2023-04-12 ",
              " 2023-04-13 ",
              " 2023-04-14 ",
              " 2023-04-15 ",
              " 2023-04-16 ",
              " 2023-04-17 ",
              " 2023-04-18 ",
              " 2023-04-19 ",
              " 2023-04-20 ",
              " 2023-04-21 ",
              " 2023-04-22 ",
              " 2023-04-23 ",
              " 2023-04-24 ",
              " 2023-04-25 ",
              " 2023-04-26 ",
              " 2023-04-27 ",
              " 2023-04-28 ",
              " 2023-04-29 ",
              " 2023-04-30 ",
              " 2023-05-01 ",
              " 2023-05-02 ",
              " 2023-05-03 ",
              " 2023-05-04 ",
              " 2023-05-05 ",
              " 2023-05-06 ",
              " 2023-05-07 ",
              " 2023-05-08 ",
              " 2023-05-09 ",
              " 2023-05-10 ",
              " 2023-05-11 ",
              " 2023-05-12 ",
              " 2023-05-13 ",
              " 2023-05-14 ",
              " 2023-05-15 ",
              " 2023-05-16 ",
              " 2023-05-17 ",
              " 2023-05-18 ",
              " 2023-05-19 ",
              " 2023-05-20 ",
              " 2023-05-21 ",
              " 2023-05-22 ",
              " 2023-05-23 ",
              " 2023-05-24 ",
              " 2023-05-25 ",
              " 2023-05-26 ",
              " 2023-05-27 ",
              " 2023-05-28 ",
              " 2023-05-29 ",
              " 2023-05-30 ",
              " 2023-05-31 ",
              " 2023-06-01 ",
              " 2023-06-02 ",
              " 2023-06-03 ",
              " 2023-06-04 ",
              " 2023-06-05 ",
              " 2023-06-06 ",
              " 2023-06-07 ",
              " 2023-06-08 ",
              " 2023-06-09 ",
              " 2023-06-10 ",
              " 2023-06-11 ",
              " 2023-06-12 ",
              " 2023-06-13 ",
              " 2023-06-14 ",
              " 2023-06-15 ",
              " 2023-06-16 ",
              " 2023-06-17 ",
              " 2023-06-18 ",
              " 2023-06-19 ",
              " 2023-06-20 ",
              " 2023-06-21 ",
              " 2023-06-22 ",
              " 2023-06-23 ",
              " 2023-06-24 ",
              " 2023-06-25 ",
              " 2023-06-26 ",
              " 2023-06-27 ",
              " 2023-06-28 ",
              " 2023-06-29 ",
              " 2023-06-30 ",
              " 2023-07-01 ",
              " 2023-07-02 ",
              " 2023-07-03 ",
              " 2023-07-04 ",
              " 2023-07-05 ",
              " 2023-07-06 ",
              " 2023-07-07 ",
              " 2023-07-08 ",
              " 2023-07-09 ",
              " 2023-07-10 ",
              " 2023-07-11 ",
              " 2023-07-12 ",
              " 2023-07-13 ",
              " 2023-07-14 ",
              " 2023-07-15 ",
              " 2023-07-16 ",
              " 2023-07-17 ",
              " 2023-07-18 ",
              " 2023-07-19 ",
              " 2023-07-20 ",
              " 2023-07-21 ",
              " 2023-07-22 ",
              " 2023-07-23 ",
              " 2023-07-24 ",
              " 2023-07-25 ",
              " 2023-07-26 ",
              " 2023-07-27 ",
              " 2023-07-28 ",
              " 2023-07-29 ",
              " 2023-07-30 ",
              " 2023-07-31 ",
              " 2023-08-01 ",
              " 2023-08-02 ",
              " 2023-08-03 ",
              " 2023-08-04 ",
              " 2023-08-05 ",
              " 2023-08-06 ",
              " 2023-08-07 ",
              " 2023-08-08 ",
              " 2023-08-09 ",
              " 2023-08-10 ",
              " 2023-08-11 ",
              " 2023-08-12 ",
              " 2023-08-13 ",
              " 2023-08-14 ",
              " 2023-08-15 ",
              " 2023-08-16 ",
              " 2023-08-17 ",
              " 2023-08-18 ",
              " 2023-08-19 ",
              " 2023-08-20 ",
              " 2023-08-21 ",
              " 2023-08-22 ",
              " 2023-08-23 ",
              " 2023-08-24 ",
              " 2023-08-25 ",
              " 2023-08-26 ",
              " 2023-08-27 ",
              " 2023-08-28 ",
              " 2023-08-29 ",
              " 2023-08-30 ",
              " 2023-08-31 ",
              " 2023-09-01 ",
              " 2023-09-02 ",
              " 2023-09-03 ",
              " 2023-09-04 ",
              " 2023-09-05 ",
              " 2023-09-06 ",
              " 2023-09-07 ",
              " 2023-09-08 ",
              " 2023-09-09 ",
              " 2023-09-10 ",
              " 2023-09-11 ",
              " 2023-09-12 ",
              " 2023-09-13 ",
              " 2023-09-14 ",
              " 2023-09-15 ",
              " 2023-09-16 ",
              " 2023-09-17 ",
              " 2023-09-18 ",
              " 2023-09-19 ",
              " 2023-09-20 ",
              " 2023-09-21 ",
              " 2023-09-22 ",
              " 2023-09-23 ",
              " 2023-09-24 ",
              " 2023-09-25 ",
              " 2023-09-26 ",
              " 2023-09-27 ",
              " 2023-09-28 ",
              " 2023-09-29 ",
              " 2023-09-30 ",
              " 2023-10-01 ",
              " 2023-10-02 ",
              " 2023-10-03 ",
              " 2023-10-04 ",
              " 2023-10-05 ",
              " 2023-10-06 ",
              " 2023-10-07 ",
              " 2023-10-08 ",
              " 2023-10-09 ",
              " 2023-10-10 ",
              " 2023-10-11 ",
              " 2023-10-12 ",
              " 2023-10-13 ",
              " 2023-10-14 ",
              " 2023-10-15 ",
              " 2023-10-16 ",
              " 2023-10-17 ",
              " 2023-10-18 ",
              " 2023-10-19 ",
              " 2023-10-20 ",
              " 2023-10-21 ",
              " 2023-10-22 ",
              " 2023-10-23 ",
              " 2023-10-24 ",
              " 2023-10-25 ",
              " 2023-10-26 ",
              " 2023-10-27 ",
              " 2023-10-28 ",
              " 2023-10-29 ",
              " 2023-10-30 ",
              " 2023-10-31 ",
              " 2023-11-01 ",
              " 2023-11-02 ",
              " 2023-11-03 ",
              " 2023-11-04 ",
              " 2023-11-05 ",
              " 2023-11-06 ",
              " 2023-11-07 ",
              " 2023-11-08 ",
              " 2023-11-09 ",
              " 2023-11-10 ",
              " 2023-11-11 ",
              " 2023-11-12 ",
              " 2023-11-13 ",
              " 2023-11-14 ",
              " 2023-11-15 ",
              " 2023-11-16 ",
              " 2023-11-17 ",
              " 2023-11-18 ",
              " 2023-11-19 ",
              " 2023-11-20 ",
              " 2023-11-21 ",
              " 2023-11-22 ",
              " 2023-11-23 ",
              " 2023-11-24 ",
              " 2023-11-25 ",
              " 2023-11-26 ",
              " 2023-11-27 ",
              " 2023-11-28 ",
              " 2023-11-29 ",
              " 2023-11-30 ",
              " 2023-12-01 ",
              " 2023-12-02 ",
              " 2023-12-03 ",
              " 2023-12-04 ",
              " 2023-12-05 ",
              " 2023-12-06 ",
              " 2023-12-07 ",
              " 2023-12-08 ",
              " 2023-12-09 ",
              " 2023-12-10 ",
              " 2023-12-11 ",
              " 2023-12-12 ",
              " 2023-12-13 ",
              " 2023-12-14 ",
              " 2023-12-15 ",
              " 2023-12-16 ",
              " 2023-12-17 ",
              " 2023-12-18 ",
              " 2023-12-19 ",
              " 2023-12-20 ",
              " 2023-12-21 ",
              " 2023-12-22 ",
              " 2023-12-23 ",
              " 2023-12-24 ",
              " 2023-12-25 ",
              " 2023-12-26 ",
              " 2023-12-27 ",
              " 2023-12-28 ",
              " 2023-12-29 ",
              " 2023-12-30 ",
              " 2023-12-31 ",
              " 2024-01-01 ",
              " 2024-01-02 ",
              " 2024-01-03 ",
              " 2024-01-04 ",
              " 2024-01-05 ",
              " 2024-01-06 ",
              " 2024-01-07 ",
              " 2024-01-08 ",
              " 2024-01-09 ",
              " 2024-01-10 ",
              " 2024-01-11 ",
              " 2024-01-12 ",
              " 2024-01-13 ",
              " 2024-01-14 ",
              " 2024-01-15 ",
              " 2024-01-16 ",
              " 2024-01-17 ",
              " 2024-01-18 ",
              " 2024-01-19 ",
              " 2024-01-20 ",
              " 2024-01-21 ",
              " 2024-01-22 ",
              " 2024-01-23 ",
              " 2024-01-24 ",
              " 2024-01-25 ",
              " 2024-01-26 ",
              " 2024-01-27 ",
              " 2024-01-28 ",
              " 2024-01-29 ",
              " 2024-01-30 ",
              " 2024-01-31 ",
              " 2024-02-01 ",
              " 2024-02-02 ",
              " 2024-02-03 ",
              " 2024-02-04 ",
              " 2024-02-05 ",
              " 2024-02-06 ",
              " 2024-02-07 ",
              " 2024-02-08 ",
              " 2024-02-09 ",
              " 2024-02-10 ",
              " 2024-02-11 ",
              " 2024-02-12 ",
              " 2024-02-13 ",
              " 2024-02-14 ",
              " 2024-02-15 ",
              " 2024-02-16 ",
              " 2024-02-17 ",
              " 2024-02-18 ",
              " 2024-02-19 ",
              " 2024-02-20 ",
              " 2024-02-21 ",
              " 2024-02-22 ",
              " 2024-02-23 ",
              " 2024-02-24 ",
              " 2024-02-25 ",
              " 2024-02-26 ",
              " 2024-02-27 ",
              " 2024-02-28 ",
              " 2024-02-29 ",
              " 2024-03-01 ",
              " 2024-03-02 ",
              " 2024-03-03 ",
              " 2024-03-04 ",
              " 2024-03-05 ",
              " 2024-03-06 ",
              " 2024-03-07 ",
              " 2024-03-08 ",
              " 2024-03-09 ",
              " 2024-03-10 ",
              " 2024-03-11 ",
              " 2024-03-12 ",
              " 2024-03-13 ",
              " 2024-03-14 ",
              " 2024-03-15 ",
              " 2024-03-16 ",
              " 2024-03-17 ",
              " 2024-03-18 ",
              " 2024-03-19 ",
              " 2024-03-20 ",
              " 2024-03-21 ",
              " 2024-03-22 ",
              " 2024-03-23 ",
              " 2024-03-24 ",
              " 2024-03-25 ",
              " 2024-03-26 ",
              " 2024-03-27 ",
              " 2024-03-28 ",
              " 2024-03-29 ",
              " 2024-03-30 ",
              " 2024-03-31 ",
              " 2024-04-01 ",
              " 2024-04-02 ",
              " 2024-04-03 ",
              " 2024-04-04 ",
              " 2024-04-05 ",
              " 2024-04-06 ",
              " 2024-04-07 ",
              " 2024-04-08 ",
              " 2024-04-09 "
            ],
            "_view_count": null,
            "_view_module": "@jupyter-widgets/controls",
            "_view_module_version": "1.5.0",
            "_view_name": "SelectionRangeSliderView",
            "continuous_update": true,
            "description": "Select Date Range",
            "description_tooltip": null,
            "disabled": false,
            "index": [
              0,
              464
            ],
            "layout": "IPY_MODEL_a756e19168c947e7ad3a95ac3deb6e7a",
            "orientation": "horizontal",
            "readout": true,
            "style": "IPY_MODEL_7cf9a0e7655142c7aae4598416c17f65"
          }
        },
        "73f1c0f640e74d12b5d69d69637644e3": {
          "model_module": "@jupyter-widgets/output",
          "model_name": "OutputModel",
          "model_module_version": "1.0.0",
          "state": {
            "_dom_classes": [],
            "_model_module": "@jupyter-widgets/output",
            "_model_module_version": "1.0.0",
            "_model_name": "OutputModel",
            "_view_count": null,
            "_view_module": "@jupyter-widgets/output",
            "_view_module_version": "1.0.0",
            "_view_name": "OutputView",
            "layout": "IPY_MODEL_4477072412144b8d8c2371df230bdaaf",
            "msg_id": "",
            "outputs": [
              {
                "output_type": "display_data",
                "data": {
                  "text/plain": "<Figure size 1000x500 with 1 Axes>",
                  "image/png": "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\n"
                },
                "metadata": {}
              }
            ]
          }
        },
        "2f2fce6899c14da48e3114995b3fefb4": {
          "model_module": "@jupyter-widgets/base",
          "model_name": "LayoutModel",
          "model_module_version": "1.2.0",
          "state": {
            "_model_module": "@jupyter-widgets/base",
            "_model_module_version": "1.2.0",
            "_model_name": "LayoutModel",
            "_view_count": null,
            "_view_module": "@jupyter-widgets/base",
            "_view_module_version": "1.2.0",
            "_view_name": "LayoutView",
            "align_content": null,
            "align_items": null,
            "align_self": null,
            "border": null,
            "bottom": null,
            "display": null,
            "flex": null,
            "flex_flow": null,
            "grid_area": null,
            "grid_auto_columns": null,
            "grid_auto_flow": null,
            "grid_auto_rows": null,
            "grid_column": null,
            "grid_gap": null,
            "grid_row": null,
            "grid_template_areas": null,
            "grid_template_columns": null,
            "grid_template_rows": null,
            "height": null,
            "justify_content": null,
            "justify_items": null,
            "left": null,
            "margin": null,
            "max_height": null,
            "max_width": null,
            "min_height": null,
            "min_width": null,
            "object_fit": null,
            "object_position": null,
            "order": null,
            "overflow": null,
            "overflow_x": null,
            "overflow_y": null,
            "padding": null,
            "right": null,
            "top": null,
            "visibility": null,
            "width": null
          }
        },
        "a756e19168c947e7ad3a95ac3deb6e7a": {
          "model_module": "@jupyter-widgets/base",
          "model_name": "LayoutModel",
          "model_module_version": "1.2.0",
          "state": {
            "_model_module": "@jupyter-widgets/base",
            "_model_module_version": "1.2.0",
            "_model_name": "LayoutModel",
            "_view_count": null,
            "_view_module": "@jupyter-widgets/base",
            "_view_module_version": "1.2.0",
            "_view_name": "LayoutView",
            "align_content": null,
            "align_items": null,
            "align_self": null,
            "border": null,
            "bottom": null,
            "display": null,
            "flex": null,
            "flex_flow": null,
            "grid_area": null,
            "grid_auto_columns": null,
            "grid_auto_flow": null,
            "grid_auto_rows": null,
            "grid_column": null,
            "grid_gap": null,
            "grid_row": null,
            "grid_template_areas": null,
            "grid_template_columns": null,
            "grid_template_rows": null,
            "height": null,
            "justify_content": null,
            "justify_items": null,
            "left": null,
            "margin": null,
            "max_height": null,
            "max_width": null,
            "min_height": null,
            "min_width": null,
            "object_fit": null,
            "object_position": null,
            "order": null,
            "overflow": null,
            "overflow_x": null,
            "overflow_y": null,
            "padding": null,
            "right": null,
            "top": null,
            "visibility": null,
            "width": "500px"
          }
        },
        "7cf9a0e7655142c7aae4598416c17f65": {
          "model_module": "@jupyter-widgets/controls",
          "model_name": "DescriptionStyleModel",
          "model_module_version": "1.5.0",
          "state": {
            "_model_module": "@jupyter-widgets/controls",
            "_model_module_version": "1.5.0",
            "_model_name": "DescriptionStyleModel",
            "_view_count": null,
            "_view_module": "@jupyter-widgets/base",
            "_view_module_version": "1.2.0",
            "_view_name": "StyleView",
            "description_width": ""
          }
        },
        "4477072412144b8d8c2371df230bdaaf": {
          "model_module": "@jupyter-widgets/base",
          "model_name": "LayoutModel",
          "model_module_version": "1.2.0",
          "state": {
            "_model_module": "@jupyter-widgets/base",
            "_model_module_version": "1.2.0",
            "_model_name": "LayoutModel",
            "_view_count": null,
            "_view_module": "@jupyter-widgets/base",
            "_view_module_version": "1.2.0",
            "_view_name": "LayoutView",
            "align_content": null,
            "align_items": null,
            "align_self": null,
            "border": null,
            "bottom": null,
            "display": null,
            "flex": null,
            "flex_flow": null,
            "grid_area": null,
            "grid_auto_columns": null,
            "grid_auto_flow": null,
            "grid_auto_rows": null,
            "grid_column": null,
            "grid_gap": null,
            "grid_row": null,
            "grid_template_areas": null,
            "grid_template_columns": null,
            "grid_template_rows": null,
            "height": null,
            "justify_content": null,
            "justify_items": null,
            "left": null,
            "margin": null,
            "max_height": null,
            "max_width": null,
            "min_height": null,
            "min_width": null,
            "object_fit": null,
            "object_position": null,
            "order": null,
            "overflow": null,
            "overflow_x": null,
            "overflow_y": null,
            "padding": null,
            "right": null,
            "top": null,
            "visibility": null,
            "width": null
          }
        },
        "287bfd092b4c45e1850f2ff50c1b367d": {
          "model_module": "@jupyter-widgets/controls",
          "model_name": "VBoxModel",
          "model_module_version": "1.5.0",
          "state": {
            "_dom_classes": [
              "widget-interact"
            ],
            "_model_module": "@jupyter-widgets/controls",
            "_model_module_version": "1.5.0",
            "_model_name": "VBoxModel",
            "_view_count": null,
            "_view_module": "@jupyter-widgets/controls",
            "_view_module_version": "1.5.0",
            "_view_name": "VBoxView",
            "box_style": "",
            "children": [
              "IPY_MODEL_699808df644844c5bc2f8c7e5a06b1a0",
              "IPY_MODEL_5186ed14eca84c90ae85a4525a038ffa"
            ],
            "layout": "IPY_MODEL_ac14e51c46e747e7a1d8263bdbfbcd8f"
          }
        },
        "699808df644844c5bc2f8c7e5a06b1a0": {
          "model_module": "@jupyter-widgets/controls",
          "model_name": "SelectionRangeSliderModel",
          "model_module_version": "1.5.0",
          "state": {
            "_dom_classes": [],
            "_model_module": "@jupyter-widgets/controls",
            "_model_module_version": "1.5.0",
            "_model_name": "SelectionRangeSliderModel",
            "_options_labels": [
              " 2023-01-01 ",
              " 2023-01-02 ",
              " 2023-01-03 ",
              " 2023-01-04 ",
              " 2023-01-05 ",
              " 2023-01-06 ",
              " 2023-01-07 ",
              " 2023-01-08 ",
              " 2023-01-09 ",
              " 2023-01-10 ",
              " 2023-01-11 ",
              " 2023-01-12 ",
              " 2023-01-13 ",
              " 2023-01-14 ",
              " 2023-01-15 ",
              " 2023-01-16 ",
              " 2023-01-17 ",
              " 2023-01-18 ",
              " 2023-01-19 ",
              " 2023-01-20 ",
              " 2023-01-21 ",
              " 2023-01-22 ",
              " 2023-01-23 ",
              " 2023-01-24 ",
              " 2023-01-25 ",
              " 2023-01-26 ",
              " 2023-01-27 ",
              " 2023-01-28 ",
              " 2023-01-29 ",
              " 2023-01-30 ",
              " 2023-01-31 ",
              " 2023-02-01 ",
              " 2023-02-02 ",
              " 2023-02-03 ",
              " 2023-02-04 ",
              " 2023-02-05 ",
              " 2023-02-06 ",
              " 2023-02-07 ",
              " 2023-02-08 ",
              " 2023-02-09 ",
              " 2023-02-10 ",
              " 2023-02-11 ",
              " 2023-02-12 ",
              " 2023-02-13 ",
              " 2023-02-14 ",
              " 2023-02-15 ",
              " 2023-02-16 ",
              " 2023-02-17 ",
              " 2023-02-18 ",
              " 2023-02-19 ",
              " 2023-02-20 ",
              " 2023-02-21 ",
              " 2023-02-22 ",
              " 2023-02-23 ",
              " 2023-02-24 ",
              " 2023-02-25 ",
              " 2023-02-26 ",
              " 2023-02-27 ",
              " 2023-02-28 ",
              " 2023-03-01 ",
              " 2023-03-02 ",
              " 2023-03-03 ",
              " 2023-03-04 ",
              " 2023-03-05 ",
              " 2023-03-06 ",
              " 2023-03-07 ",
              " 2023-03-08 ",
              " 2023-03-09 ",
              " 2023-03-10 ",
              " 2023-03-11 ",
              " 2023-03-12 ",
              " 2023-03-13 ",
              " 2023-03-14 ",
              " 2023-03-15 ",
              " 2023-03-16 ",
              " 2023-03-17 ",
              " 2023-03-18 ",
              " 2023-03-19 ",
              " 2023-03-20 ",
              " 2023-03-21 ",
              " 2023-03-22 ",
              " 2023-03-23 ",
              " 2023-03-24 ",
              " 2023-03-25 ",
              " 2023-03-26 ",
              " 2023-03-27 ",
              " 2023-03-28 ",
              " 2023-03-29 ",
              " 2023-03-30 ",
              " 2023-03-31 ",
              " 2023-04-01 ",
              " 2023-04-02 ",
              " 2023-04-03 ",
              " 2023-04-04 ",
              " 2023-04-05 ",
              " 2023-04-06 ",
              " 2023-04-07 ",
              " 2023-04-08 ",
              " 2023-04-09 ",
              " 2023-04-10 ",
              " 2023-04-11 ",
              " 2023-04-12 ",
              " 2023-04-13 ",
              " 2023-04-14 ",
              " 2023-04-15 ",
              " 2023-04-16 ",
              " 2023-04-17 ",
              " 2023-04-18 ",
              " 2023-04-19 ",
              " 2023-04-20 ",
              " 2023-04-21 ",
              " 2023-04-22 ",
              " 2023-04-23 ",
              " 2023-04-24 ",
              " 2023-04-25 ",
              " 2023-04-26 ",
              " 2023-04-27 ",
              " 2023-04-28 ",
              " 2023-04-29 ",
              " 2023-04-30 ",
              " 2023-05-01 ",
              " 2023-05-02 ",
              " 2023-05-03 ",
              " 2023-05-04 ",
              " 2023-05-05 ",
              " 2023-05-06 ",
              " 2023-05-07 ",
              " 2023-05-08 ",
              " 2023-05-09 ",
              " 2023-05-10 ",
              " 2023-05-11 ",
              " 2023-05-12 ",
              " 2023-05-13 ",
              " 2023-05-14 ",
              " 2023-05-15 ",
              " 2023-05-16 ",
              " 2023-05-17 ",
              " 2023-05-18 ",
              " 2023-05-19 ",
              " 2023-05-20 ",
              " 2023-05-21 ",
              " 2023-05-22 ",
              " 2023-05-23 ",
              " 2023-05-24 ",
              " 2023-05-25 ",
              " 2023-05-26 ",
              " 2023-05-27 ",
              " 2023-05-28 ",
              " 2023-05-29 ",
              " 2023-05-30 ",
              " 2023-05-31 ",
              " 2023-06-01 ",
              " 2023-06-02 ",
              " 2023-06-03 ",
              " 2023-06-04 ",
              " 2023-06-05 ",
              " 2023-06-06 ",
              " 2023-06-07 ",
              " 2023-06-08 ",
              " 2023-06-09 ",
              " 2023-06-10 ",
              " 2023-06-11 ",
              " 2023-06-12 ",
              " 2023-06-13 ",
              " 2023-06-14 ",
              " 2023-06-15 ",
              " 2023-06-16 ",
              " 2023-06-17 ",
              " 2023-06-18 ",
              " 2023-06-19 ",
              " 2023-06-20 ",
              " 2023-06-21 ",
              " 2023-06-22 ",
              " 2023-06-23 ",
              " 2023-06-24 ",
              " 2023-06-25 ",
              " 2023-06-26 ",
              " 2023-06-27 ",
              " 2023-06-28 ",
              " 2023-06-29 ",
              " 2023-06-30 ",
              " 2023-07-01 ",
              " 2023-07-02 ",
              " 2023-07-03 ",
              " 2023-07-04 ",
              " 2023-07-05 ",
              " 2023-07-06 ",
              " 2023-07-07 ",
              " 2023-07-08 ",
              " 2023-07-09 ",
              " 2023-07-10 ",
              " 2023-07-11 ",
              " 2023-07-12 ",
              " 2023-07-13 ",
              " 2023-07-14 ",
              " 2023-07-15 ",
              " 2023-07-16 ",
              " 2023-07-17 ",
              " 2023-07-18 ",
              " 2023-07-19 ",
              " 2023-07-20 ",
              " 2023-07-21 ",
              " 2023-07-22 ",
              " 2023-07-23 ",
              " 2023-07-24 ",
              " 2023-07-25 ",
              " 2023-07-26 ",
              " 2023-07-27 ",
              " 2023-07-28 ",
              " 2023-07-29 ",
              " 2023-07-30 ",
              " 2023-07-31 ",
              " 2023-08-01 ",
              " 2023-08-02 ",
              " 2023-08-03 ",
              " 2023-08-04 ",
              " 2023-08-05 ",
              " 2023-08-06 ",
              " 2023-08-07 ",
              " 2023-08-08 ",
              " 2023-08-09 ",
              " 2023-08-10 ",
              " 2023-08-11 ",
              " 2023-08-12 ",
              " 2023-08-13 ",
              " 2023-08-14 ",
              " 2023-08-15 ",
              " 2023-08-16 ",
              " 2023-08-17 ",
              " 2023-08-18 ",
              " 2023-08-19 ",
              " 2023-08-20 ",
              " 2023-08-21 ",
              " 2023-08-22 ",
              " 2023-08-23 ",
              " 2023-08-24 ",
              " 2023-08-25 ",
              " 2023-08-26 ",
              " 2023-08-27 ",
              " 2023-08-28 ",
              " 2023-08-29 ",
              " 2023-08-30 ",
              " 2023-08-31 ",
              " 2023-09-01 ",
              " 2023-09-02 ",
              " 2023-09-03 ",
              " 2023-09-04 ",
              " 2023-09-05 ",
              " 2023-09-06 ",
              " 2023-09-07 ",
              " 2023-09-08 ",
              " 2023-09-09 ",
              " 2023-09-10 ",
              " 2023-09-11 ",
              " 2023-09-12 ",
              " 2023-09-13 ",
              " 2023-09-14 ",
              " 2023-09-15 ",
              " 2023-09-16 ",
              " 2023-09-17 ",
              " 2023-09-18 ",
              " 2023-09-19 ",
              " 2023-09-20 ",
              " 2023-09-21 ",
              " 2023-09-22 ",
              " 2023-09-23 ",
              " 2023-09-24 ",
              " 2023-09-25 ",
              " 2023-09-26 ",
              " 2023-09-27 ",
              " 2023-09-28 ",
              " 2023-09-29 ",
              " 2023-09-30 ",
              " 2023-10-01 ",
              " 2023-10-02 ",
              " 2023-10-03 ",
              " 2023-10-04 ",
              " 2023-10-05 ",
              " 2023-10-06 ",
              " 2023-10-07 ",
              " 2023-10-08 ",
              " 2023-10-09 ",
              " 2023-10-10 ",
              " 2023-10-11 ",
              " 2023-10-12 ",
              " 2023-10-13 ",
              " 2023-10-14 ",
              " 2023-10-15 ",
              " 2023-10-16 ",
              " 2023-10-17 ",
              " 2023-10-18 ",
              " 2023-10-19 ",
              " 2023-10-20 ",
              " 2023-10-21 ",
              " 2023-10-22 ",
              " 2023-10-23 ",
              " 2023-10-24 ",
              " 2023-10-25 ",
              " 2023-10-26 ",
              " 2023-10-27 ",
              " 2023-10-28 ",
              " 2023-10-29 ",
              " 2023-10-30 ",
              " 2023-10-31 ",
              " 2023-11-01 ",
              " 2023-11-02 ",
              " 2023-11-03 ",
              " 2023-11-04 ",
              " 2023-11-05 ",
              " 2023-11-06 ",
              " 2023-11-07 ",
              " 2023-11-08 ",
              " 2023-11-09 ",
              " 2023-11-10 ",
              " 2023-11-11 ",
              " 2023-11-12 ",
              " 2023-11-13 ",
              " 2023-11-14 ",
              " 2023-11-15 ",
              " 2023-11-16 ",
              " 2023-11-17 ",
              " 2023-11-18 ",
              " 2023-11-19 ",
              " 2023-11-20 ",
              " 2023-11-21 ",
              " 2023-11-22 ",
              " 2023-11-23 ",
              " 2023-11-24 ",
              " 2023-11-25 ",
              " 2023-11-26 ",
              " 2023-11-27 ",
              " 2023-11-28 ",
              " 2023-11-29 ",
              " 2023-11-30 ",
              " 2023-12-01 ",
              " 2023-12-02 ",
              " 2023-12-03 ",
              " 2023-12-04 ",
              " 2023-12-05 ",
              " 2023-12-06 ",
              " 2023-12-07 ",
              " 2023-12-08 ",
              " 2023-12-09 ",
              " 2023-12-10 ",
              " 2023-12-11 ",
              " 2023-12-12 ",
              " 2023-12-13 ",
              " 2023-12-14 ",
              " 2023-12-15 ",
              " 2023-12-16 ",
              " 2023-12-17 ",
              " 2023-12-18 ",
              " 2023-12-19 ",
              " 2023-12-20 ",
              " 2023-12-21 ",
              " 2023-12-22 ",
              " 2023-12-23 ",
              " 2023-12-24 ",
              " 2023-12-25 ",
              " 2023-12-26 ",
              " 2023-12-27 ",
              " 2023-12-28 ",
              " 2023-12-29 ",
              " 2023-12-30 ",
              " 2023-12-31 ",
              " 2024-01-01 ",
              " 2024-01-02 ",
              " 2024-01-03 ",
              " 2024-01-04 ",
              " 2024-01-05 ",
              " 2024-01-06 ",
              " 2024-01-07 ",
              " 2024-01-08 ",
              " 2024-01-09 ",
              " 2024-01-10 ",
              " 2024-01-11 ",
              " 2024-01-12 ",
              " 2024-01-13 ",
              " 2024-01-14 ",
              " 2024-01-15 ",
              " 2024-01-16 ",
              " 2024-01-17 ",
              " 2024-01-18 ",
              " 2024-01-19 ",
              " 2024-01-20 ",
              " 2024-01-21 ",
              " 2024-01-22 ",
              " 2024-01-23 ",
              " 2024-01-24 ",
              " 2024-01-25 ",
              " 2024-01-26 ",
              " 2024-01-27 ",
              " 2024-01-28 ",
              " 2024-01-29 ",
              " 2024-01-30 ",
              " 2024-01-31 ",
              " 2024-02-01 ",
              " 2024-02-02 ",
              " 2024-02-03 ",
              " 2024-02-04 ",
              " 2024-02-05 ",
              " 2024-02-06 ",
              " 2024-02-07 ",
              " 2024-02-08 ",
              " 2024-02-09 ",
              " 2024-02-10 ",
              " 2024-02-11 ",
              " 2024-02-12 ",
              " 2024-02-13 ",
              " 2024-02-14 ",
              " 2024-02-15 ",
              " 2024-02-16 ",
              " 2024-02-17 ",
              " 2024-02-18 ",
              " 2024-02-19 ",
              " 2024-02-20 ",
              " 2024-02-21 ",
              " 2024-02-22 ",
              " 2024-02-23 ",
              " 2024-02-24 ",
              " 2024-02-25 ",
              " 2024-02-26 ",
              " 2024-02-27 ",
              " 2024-02-28 ",
              " 2024-02-29 ",
              " 2024-03-01 ",
              " 2024-03-02 ",
              " 2024-03-03 ",
              " 2024-03-04 ",
              " 2024-03-05 ",
              " 2024-03-06 ",
              " 2024-03-07 ",
              " 2024-03-08 ",
              " 2024-03-09 ",
              " 2024-03-10 ",
              " 2024-03-11 ",
              " 2024-03-12 ",
              " 2024-03-13 ",
              " 2024-03-14 ",
              " 2024-03-15 ",
              " 2024-03-16 ",
              " 2024-03-17 ",
              " 2024-03-18 ",
              " 2024-03-19 ",
              " 2024-03-20 ",
              " 2024-03-21 ",
              " 2024-03-22 ",
              " 2024-03-23 ",
              " 2024-03-24 ",
              " 2024-03-25 ",
              " 2024-03-26 ",
              " 2024-03-27 ",
              " 2024-03-28 ",
              " 2024-03-29 ",
              " 2024-03-30 ",
              " 2024-03-31 ",
              " 2024-04-01 ",
              " 2024-04-02 ",
              " 2024-04-03 ",
              " 2024-04-04 ",
              " 2024-04-05 ",
              " 2024-04-06 ",
              " 2024-04-07 ",
              " 2024-04-08 ",
              " 2024-04-09 "
            ],
            "_view_count": null,
            "_view_module": "@jupyter-widgets/controls",
            "_view_module_version": "1.5.0",
            "_view_name": "SelectionRangeSliderView",
            "continuous_update": true,
            "description": "Select Date Range",
            "description_tooltip": null,
            "disabled": false,
            "index": [
              0,
              151
            ],
            "layout": "IPY_MODEL_7c92b6928df74fd488c28f0852953f6a",
            "orientation": "horizontal",
            "readout": true,
            "style": "IPY_MODEL_870964fb8f0a42a4a754863f9331ebda"
          }
        },
        "5186ed14eca84c90ae85a4525a038ffa": {
          "model_module": "@jupyter-widgets/output",
          "model_name": "OutputModel",
          "model_module_version": "1.0.0",
          "state": {
            "_dom_classes": [],
            "_model_module": "@jupyter-widgets/output",
            "_model_module_version": "1.0.0",
            "_model_name": "OutputModel",
            "_view_count": null,
            "_view_module": "@jupyter-widgets/output",
            "_view_module_version": "1.0.0",
            "_view_name": "OutputView",
            "layout": "IPY_MODEL_58f3da6176a6474996c35eb4fc749e2f",
            "msg_id": "",
            "outputs": [
              {
                "output_type": "display_data",
                "data": {
                  "text/plain": "<Figure size 1000x500 with 1 Axes>",
                  "image/png": "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\n"
                },
                "metadata": {}
              }
            ]
          }
        },
        "ac14e51c46e747e7a1d8263bdbfbcd8f": {
          "model_module": "@jupyter-widgets/base",
          "model_name": "LayoutModel",
          "model_module_version": "1.2.0",
          "state": {
            "_model_module": "@jupyter-widgets/base",
            "_model_module_version": "1.2.0",
            "_model_name": "LayoutModel",
            "_view_count": null,
            "_view_module": "@jupyter-widgets/base",
            "_view_module_version": "1.2.0",
            "_view_name": "LayoutView",
            "align_content": null,
            "align_items": null,
            "align_self": null,
            "border": null,
            "bottom": null,
            "display": null,
            "flex": null,
            "flex_flow": null,
            "grid_area": null,
            "grid_auto_columns": null,
            "grid_auto_flow": null,
            "grid_auto_rows": null,
            "grid_column": null,
            "grid_gap": null,
            "grid_row": null,
            "grid_template_areas": null,
            "grid_template_columns": null,
            "grid_template_rows": null,
            "height": null,
            "justify_content": null,
            "justify_items": null,
            "left": null,
            "margin": null,
            "max_height": null,
            "max_width": null,
            "min_height": null,
            "min_width": null,
            "object_fit": null,
            "object_position": null,
            "order": null,
            "overflow": null,
            "overflow_x": null,
            "overflow_y": null,
            "padding": null,
            "right": null,
            "top": null,
            "visibility": null,
            "width": null
          }
        },
        "7c92b6928df74fd488c28f0852953f6a": {
          "model_module": "@jupyter-widgets/base",
          "model_name": "LayoutModel",
          "model_module_version": "1.2.0",
          "state": {
            "_model_module": "@jupyter-widgets/base",
            "_model_module_version": "1.2.0",
            "_model_name": "LayoutModel",
            "_view_count": null,
            "_view_module": "@jupyter-widgets/base",
            "_view_module_version": "1.2.0",
            "_view_name": "LayoutView",
            "align_content": null,
            "align_items": null,
            "align_self": null,
            "border": null,
            "bottom": null,
            "display": null,
            "flex": null,
            "flex_flow": null,
            "grid_area": null,
            "grid_auto_columns": null,
            "grid_auto_flow": null,
            "grid_auto_rows": null,
            "grid_column": null,
            "grid_gap": null,
            "grid_row": null,
            "grid_template_areas": null,
            "grid_template_columns": null,
            "grid_template_rows": null,
            "height": null,
            "justify_content": null,
            "justify_items": null,
            "left": null,
            "margin": null,
            "max_height": null,
            "max_width": null,
            "min_height": null,
            "min_width": null,
            "object_fit": null,
            "object_position": null,
            "order": null,
            "overflow": null,
            "overflow_x": null,
            "overflow_y": null,
            "padding": null,
            "right": null,
            "top": null,
            "visibility": null,
            "width": "500px"
          }
        },
        "870964fb8f0a42a4a754863f9331ebda": {
          "model_module": "@jupyter-widgets/controls",
          "model_name": "DescriptionStyleModel",
          "model_module_version": "1.5.0",
          "state": {
            "_model_module": "@jupyter-widgets/controls",
            "_model_module_version": "1.5.0",
            "_model_name": "DescriptionStyleModel",
            "_view_count": null,
            "_view_module": "@jupyter-widgets/base",
            "_view_module_version": "1.2.0",
            "_view_name": "StyleView",
            "description_width": ""
          }
        },
        "58f3da6176a6474996c35eb4fc749e2f": {
          "model_module": "@jupyter-widgets/base",
          "model_name": "LayoutModel",
          "model_module_version": "1.2.0",
          "state": {
            "_model_module": "@jupyter-widgets/base",
            "_model_module_version": "1.2.0",
            "_model_name": "LayoutModel",
            "_view_count": null,
            "_view_module": "@jupyter-widgets/base",
            "_view_module_version": "1.2.0",
            "_view_name": "LayoutView",
            "align_content": null,
            "align_items": null,
            "align_self": null,
            "border": null,
            "bottom": null,
            "display": null,
            "flex": null,
            "flex_flow": null,
            "grid_area": null,
            "grid_auto_columns": null,
            "grid_auto_flow": null,
            "grid_auto_rows": null,
            "grid_column": null,
            "grid_gap": null,
            "grid_row": null,
            "grid_template_areas": null,
            "grid_template_columns": null,
            "grid_template_rows": null,
            "height": null,
            "justify_content": null,
            "justify_items": null,
            "left": null,
            "margin": null,
            "max_height": null,
            "max_width": null,
            "min_height": null,
            "min_width": null,
            "object_fit": null,
            "object_position": null,
            "order": null,
            "overflow": null,
            "overflow_x": null,
            "overflow_y": null,
            "padding": null,
            "right": null,
            "top": null,
            "visibility": null,
            "width": null
          }
        },
        "064d0cea965b4196af34a7b73fbe081f": {
          "model_module": "@jupyter-widgets/controls",
          "model_name": "VBoxModel",
          "model_module_version": "1.5.0",
          "state": {
            "_dom_classes": [
              "widget-interact"
            ],
            "_model_module": "@jupyter-widgets/controls",
            "_model_module_version": "1.5.0",
            "_model_name": "VBoxModel",
            "_view_count": null,
            "_view_module": "@jupyter-widgets/controls",
            "_view_module_version": "1.5.0",
            "_view_name": "VBoxView",
            "box_style": "",
            "children": [
              "IPY_MODEL_598d8f97359140589f6a35a070d6f659",
              "IPY_MODEL_a9d3781213304951a9b377015fdaca39"
            ],
            "layout": "IPY_MODEL_a6617aba89ed41ccbbf3218330f43066"
          }
        },
        "598d8f97359140589f6a35a070d6f659": {
          "model_module": "@jupyter-widgets/controls",
          "model_name": "SelectionRangeSliderModel",
          "model_module_version": "1.5.0",
          "state": {
            "_dom_classes": [],
            "_model_module": "@jupyter-widgets/controls",
            "_model_module_version": "1.5.0",
            "_model_name": "SelectionRangeSliderModel",
            "_options_labels": [
              " 2023-01-01 ",
              " 2023-01-02 ",
              " 2023-01-03 ",
              " 2023-01-04 ",
              " 2023-01-05 ",
              " 2023-01-06 ",
              " 2023-01-07 ",
              " 2023-01-08 ",
              " 2023-01-09 ",
              " 2023-01-10 ",
              " 2023-01-11 ",
              " 2023-01-12 ",
              " 2023-01-13 ",
              " 2023-01-14 ",
              " 2023-01-15 ",
              " 2023-01-16 ",
              " 2023-01-17 ",
              " 2023-01-18 ",
              " 2023-01-19 ",
              " 2023-01-20 ",
              " 2023-01-21 ",
              " 2023-01-22 ",
              " 2023-01-23 ",
              " 2023-01-24 ",
              " 2023-01-25 ",
              " 2023-01-26 ",
              " 2023-01-27 ",
              " 2023-01-28 ",
              " 2023-01-29 ",
              " 2023-01-30 ",
              " 2023-01-31 ",
              " 2023-02-01 ",
              " 2023-02-02 ",
              " 2023-02-03 ",
              " 2023-02-04 ",
              " 2023-02-05 ",
              " 2023-02-06 ",
              " 2023-02-07 ",
              " 2023-02-08 ",
              " 2023-02-09 ",
              " 2023-02-10 ",
              " 2023-02-11 ",
              " 2023-02-12 ",
              " 2023-02-13 ",
              " 2023-02-14 ",
              " 2023-02-15 ",
              " 2023-02-16 ",
              " 2023-02-17 ",
              " 2023-02-18 ",
              " 2023-02-19 ",
              " 2023-02-20 ",
              " 2023-02-21 ",
              " 2023-02-22 ",
              " 2023-02-23 ",
              " 2023-02-24 ",
              " 2023-02-25 ",
              " 2023-02-26 ",
              " 2023-02-27 ",
              " 2023-02-28 ",
              " 2023-03-01 ",
              " 2023-03-02 ",
              " 2023-03-03 ",
              " 2023-03-04 ",
              " 2023-03-05 ",
              " 2023-03-06 ",
              " 2023-03-07 ",
              " 2023-03-08 ",
              " 2023-03-09 ",
              " 2023-03-10 ",
              " 2023-03-11 ",
              " 2023-03-12 ",
              " 2023-03-13 ",
              " 2023-03-14 ",
              " 2023-03-15 ",
              " 2023-03-16 ",
              " 2023-03-17 ",
              " 2023-03-18 ",
              " 2023-03-19 ",
              " 2023-03-20 ",
              " 2023-03-21 ",
              " 2023-03-22 ",
              " 2023-03-23 ",
              " 2023-03-24 ",
              " 2023-03-25 ",
              " 2023-03-26 ",
              " 2023-03-27 ",
              " 2023-03-28 ",
              " 2023-03-29 ",
              " 2023-03-30 ",
              " 2023-03-31 ",
              " 2023-04-01 ",
              " 2023-04-02 ",
              " 2023-04-03 ",
              " 2023-04-04 ",
              " 2023-04-05 ",
              " 2023-04-06 ",
              " 2023-04-07 ",
              " 2023-04-08 ",
              " 2023-04-09 ",
              " 2023-04-10 ",
              " 2023-04-11 ",
              " 2023-04-12 ",
              " 2023-04-13 ",
              " 2023-04-14 ",
              " 2023-04-15 ",
              " 2023-04-16 ",
              " 2023-04-17 ",
              " 2023-04-18 ",
              " 2023-04-19 ",
              " 2023-04-20 ",
              " 2023-04-21 ",
              " 2023-04-22 ",
              " 2023-04-23 ",
              " 2023-04-24 ",
              " 2023-04-25 ",
              " 2023-04-26 ",
              " 2023-04-27 ",
              " 2023-04-28 ",
              " 2023-04-29 ",
              " 2023-04-30 ",
              " 2023-05-01 ",
              " 2023-05-02 ",
              " 2023-05-03 ",
              " 2023-05-04 ",
              " 2023-05-05 ",
              " 2023-05-06 ",
              " 2023-05-07 ",
              " 2023-05-08 ",
              " 2023-05-09 ",
              " 2023-05-10 ",
              " 2023-05-11 ",
              " 2023-05-12 ",
              " 2023-05-13 ",
              " 2023-05-14 ",
              " 2023-05-15 ",
              " 2023-05-16 ",
              " 2023-05-17 ",
              " 2023-05-18 ",
              " 2023-05-19 ",
              " 2023-05-20 ",
              " 2023-05-21 ",
              " 2023-05-22 ",
              " 2023-05-23 ",
              " 2023-05-24 ",
              " 2023-05-25 ",
              " 2023-05-26 ",
              " 2023-05-27 ",
              " 2023-05-28 ",
              " 2023-05-29 ",
              " 2023-05-30 ",
              " 2023-05-31 ",
              " 2023-06-01 ",
              " 2023-06-02 ",
              " 2023-06-03 ",
              " 2023-06-04 ",
              " 2023-06-05 ",
              " 2023-06-06 ",
              " 2023-06-07 ",
              " 2023-06-08 ",
              " 2023-06-09 ",
              " 2023-06-10 ",
              " 2023-06-11 ",
              " 2023-06-12 ",
              " 2023-06-13 ",
              " 2023-06-14 ",
              " 2023-06-15 ",
              " 2023-06-16 ",
              " 2023-06-17 ",
              " 2023-06-18 ",
              " 2023-06-19 ",
              " 2023-06-20 ",
              " 2023-06-21 ",
              " 2023-06-22 ",
              " 2023-06-23 ",
              " 2023-06-24 ",
              " 2023-06-25 ",
              " 2023-06-26 ",
              " 2023-06-27 ",
              " 2023-06-28 ",
              " 2023-06-29 ",
              " 2023-06-30 ",
              " 2023-07-01 ",
              " 2023-07-02 ",
              " 2023-07-03 ",
              " 2023-07-04 ",
              " 2023-07-05 ",
              " 2023-07-06 ",
              " 2023-07-07 ",
              " 2023-07-08 ",
              " 2023-07-09 ",
              " 2023-07-10 ",
              " 2023-07-11 ",
              " 2023-07-12 ",
              " 2023-07-13 ",
              " 2023-07-14 ",
              " 2023-07-15 ",
              " 2023-07-16 ",
              " 2023-07-17 ",
              " 2023-07-18 ",
              " 2023-07-19 ",
              " 2023-07-20 ",
              " 2023-07-21 ",
              " 2023-07-22 ",
              " 2023-07-23 ",
              " 2023-07-24 ",
              " 2023-07-25 ",
              " 2023-07-26 ",
              " 2023-07-27 ",
              " 2023-07-28 ",
              " 2023-07-29 ",
              " 2023-07-30 ",
              " 2023-07-31 ",
              " 2023-08-01 ",
              " 2023-08-02 ",
              " 2023-08-03 ",
              " 2023-08-04 ",
              " 2023-08-05 ",
              " 2023-08-06 ",
              " 2023-08-07 ",
              " 2023-08-08 ",
              " 2023-08-09 ",
              " 2023-08-10 ",
              " 2023-08-11 ",
              " 2023-08-12 ",
              " 2023-08-13 ",
              " 2023-08-14 ",
              " 2023-08-15 ",
              " 2023-08-16 ",
              " 2023-08-17 ",
              " 2023-08-18 ",
              " 2023-08-19 ",
              " 2023-08-20 ",
              " 2023-08-21 ",
              " 2023-08-22 ",
              " 2023-08-23 ",
              " 2023-08-24 ",
              " 2023-08-25 ",
              " 2023-08-26 ",
              " 2023-08-27 ",
              " 2023-08-28 ",
              " 2023-08-29 ",
              " 2023-08-30 ",
              " 2023-08-31 ",
              " 2023-09-01 ",
              " 2023-09-02 ",
              " 2023-09-03 ",
              " 2023-09-04 ",
              " 2023-09-05 ",
              " 2023-09-06 ",
              " 2023-09-07 ",
              " 2023-09-08 ",
              " 2023-09-09 ",
              " 2023-09-10 ",
              " 2023-09-11 ",
              " 2023-09-12 ",
              " 2023-09-13 ",
              " 2023-09-14 ",
              " 2023-09-15 ",
              " 2023-09-16 ",
              " 2023-09-17 ",
              " 2023-09-18 ",
              " 2023-09-19 ",
              " 2023-09-20 ",
              " 2023-09-21 ",
              " 2023-09-22 ",
              " 2023-09-23 ",
              " 2023-09-24 ",
              " 2023-09-25 ",
              " 2023-09-26 ",
              " 2023-09-27 ",
              " 2023-09-28 ",
              " 2023-09-29 ",
              " 2023-09-30 ",
              " 2023-10-01 ",
              " 2023-10-02 ",
              " 2023-10-03 ",
              " 2023-10-04 ",
              " 2023-10-05 ",
              " 2023-10-06 ",
              " 2023-10-07 ",
              " 2023-10-08 ",
              " 2023-10-09 ",
              " 2023-10-10 ",
              " 2023-10-11 ",
              " 2023-10-12 ",
              " 2023-10-13 ",
              " 2023-10-14 ",
              " 2023-10-15 ",
              " 2023-10-16 ",
              " 2023-10-17 ",
              " 2023-10-18 ",
              " 2023-10-19 ",
              " 2023-10-20 ",
              " 2023-10-21 ",
              " 2023-10-22 ",
              " 2023-10-23 ",
              " 2023-10-24 ",
              " 2023-10-25 ",
              " 2023-10-26 ",
              " 2023-10-27 ",
              " 2023-10-28 ",
              " 2023-10-29 ",
              " 2023-10-30 ",
              " 2023-10-31 ",
              " 2023-11-01 ",
              " 2023-11-02 ",
              " 2023-11-03 ",
              " 2023-11-04 ",
              " 2023-11-05 ",
              " 2023-11-06 ",
              " 2023-11-07 ",
              " 2023-11-08 ",
              " 2023-11-09 ",
              " 2023-11-10 ",
              " 2023-11-11 ",
              " 2023-11-12 ",
              " 2023-11-13 ",
              " 2023-11-14 ",
              " 2023-11-15 ",
              " 2023-11-16 ",
              " 2023-11-17 ",
              " 2023-11-18 ",
              " 2023-11-19 ",
              " 2023-11-20 ",
              " 2023-11-21 ",
              " 2023-11-22 ",
              " 2023-11-23 ",
              " 2023-11-24 ",
              " 2023-11-25 ",
              " 2023-11-26 ",
              " 2023-11-27 ",
              " 2023-11-28 ",
              " 2023-11-29 ",
              " 2023-11-30 ",
              " 2023-12-01 ",
              " 2023-12-02 ",
              " 2023-12-03 ",
              " 2023-12-04 ",
              " 2023-12-05 ",
              " 2023-12-06 ",
              " 2023-12-07 ",
              " 2023-12-08 ",
              " 2023-12-09 ",
              " 2023-12-10 ",
              " 2023-12-11 ",
              " 2023-12-12 ",
              " 2023-12-13 ",
              " 2023-12-14 ",
              " 2023-12-15 ",
              " 2023-12-16 ",
              " 2023-12-17 ",
              " 2023-12-18 ",
              " 2023-12-19 ",
              " 2023-12-20 ",
              " 2023-12-21 ",
              " 2023-12-22 ",
              " 2023-12-23 ",
              " 2023-12-24 ",
              " 2023-12-25 ",
              " 2023-12-26 ",
              " 2023-12-27 ",
              " 2023-12-28 ",
              " 2023-12-29 ",
              " 2023-12-30 ",
              " 2023-12-31 ",
              " 2024-01-01 ",
              " 2024-01-02 ",
              " 2024-01-03 ",
              " 2024-01-04 ",
              " 2024-01-05 ",
              " 2024-01-06 ",
              " 2024-01-07 ",
              " 2024-01-08 ",
              " 2024-01-09 ",
              " 2024-01-10 ",
              " 2024-01-11 ",
              " 2024-01-12 ",
              " 2024-01-13 ",
              " 2024-01-14 ",
              " 2024-01-15 ",
              " 2024-01-16 ",
              " 2024-01-17 ",
              " 2024-01-18 ",
              " 2024-01-19 ",
              " 2024-01-20 ",
              " 2024-01-21 ",
              " 2024-01-22 ",
              " 2024-01-23 ",
              " 2024-01-24 ",
              " 2024-01-25 ",
              " 2024-01-26 ",
              " 2024-01-27 ",
              " 2024-01-28 ",
              " 2024-01-29 ",
              " 2024-01-30 ",
              " 2024-01-31 ",
              " 2024-02-01 ",
              " 2024-02-02 ",
              " 2024-02-03 ",
              " 2024-02-04 ",
              " 2024-02-05 ",
              " 2024-02-06 ",
              " 2024-02-07 ",
              " 2024-02-08 ",
              " 2024-02-09 ",
              " 2024-02-10 ",
              " 2024-02-11 ",
              " 2024-02-12 ",
              " 2024-02-13 ",
              " 2024-02-14 ",
              " 2024-02-15 ",
              " 2024-02-16 ",
              " 2024-02-17 ",
              " 2024-02-18 ",
              " 2024-02-19 ",
              " 2024-02-20 ",
              " 2024-02-21 ",
              " 2024-02-22 ",
              " 2024-02-23 ",
              " 2024-02-24 ",
              " 2024-02-25 ",
              " 2024-02-26 ",
              " 2024-02-27 ",
              " 2024-02-28 ",
              " 2024-02-29 ",
              " 2024-03-01 ",
              " 2024-03-02 ",
              " 2024-03-03 ",
              " 2024-03-04 ",
              " 2024-03-05 ",
              " 2024-03-06 ",
              " 2024-03-07 ",
              " 2024-03-08 ",
              " 2024-03-09 ",
              " 2024-03-10 ",
              " 2024-03-11 ",
              " 2024-03-12 ",
              " 2024-03-13 ",
              " 2024-03-14 ",
              " 2024-03-15 ",
              " 2024-03-16 ",
              " 2024-03-17 ",
              " 2024-03-18 ",
              " 2024-03-19 ",
              " 2024-03-20 ",
              " 2024-03-21 ",
              " 2024-03-22 ",
              " 2024-03-23 ",
              " 2024-03-24 ",
              " 2024-03-25 ",
              " 2024-03-26 ",
              " 2024-03-27 ",
              " 2024-03-28 ",
              " 2024-03-29 ",
              " 2024-03-30 ",
              " 2024-03-31 ",
              " 2024-04-01 ",
              " 2024-04-02 ",
              " 2024-04-03 ",
              " 2024-04-04 ",
              " 2024-04-05 ",
              " 2024-04-06 ",
              " 2024-04-07 ",
              " 2024-04-08 ",
              " 2024-04-09 "
            ],
            "_view_count": null,
            "_view_module": "@jupyter-widgets/controls",
            "_view_module_version": "1.5.0",
            "_view_name": "SelectionRangeSliderView",
            "continuous_update": true,
            "description": "Select Date Range",
            "description_tooltip": null,
            "disabled": false,
            "index": [
              242,
              464
            ],
            "layout": "IPY_MODEL_a42e3bfce5c2455abb866cbbb8c9ed6d",
            "orientation": "horizontal",
            "readout": true,
            "style": "IPY_MODEL_aca63d8ce92441f1b4472df7f97f86f6"
          }
        },
        "a9d3781213304951a9b377015fdaca39": {
          "model_module": "@jupyter-widgets/output",
          "model_name": "OutputModel",
          "model_module_version": "1.0.0",
          "state": {
            "_dom_classes": [],
            "_model_module": "@jupyter-widgets/output",
            "_model_module_version": "1.0.0",
            "_model_name": "OutputModel",
            "_view_count": null,
            "_view_module": "@jupyter-widgets/output",
            "_view_module_version": "1.0.0",
            "_view_name": "OutputView",
            "layout": "IPY_MODEL_e370b5ec0d7740b2971768656583f0d4",
            "msg_id": "",
            "outputs": [
              {
                "output_type": "display_data",
                "data": {
                  "text/plain": "<Figure size 1000x500 with 1 Axes>",
                  "image/png": "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\n"
                },
                "metadata": {}
              }
            ]
          }
        },
        "a6617aba89ed41ccbbf3218330f43066": {
          "model_module": "@jupyter-widgets/base",
          "model_name": "LayoutModel",
          "model_module_version": "1.2.0",
          "state": {
            "_model_module": "@jupyter-widgets/base",
            "_model_module_version": "1.2.0",
            "_model_name": "LayoutModel",
            "_view_count": null,
            "_view_module": "@jupyter-widgets/base",
            "_view_module_version": "1.2.0",
            "_view_name": "LayoutView",
            "align_content": null,
            "align_items": null,
            "align_self": null,
            "border": null,
            "bottom": null,
            "display": null,
            "flex": null,
            "flex_flow": null,
            "grid_area": null,
            "grid_auto_columns": null,
            "grid_auto_flow": null,
            "grid_auto_rows": null,
            "grid_column": null,
            "grid_gap": null,
            "grid_row": null,
            "grid_template_areas": null,
            "grid_template_columns": null,
            "grid_template_rows": null,
            "height": null,
            "justify_content": null,
            "justify_items": null,
            "left": null,
            "margin": null,
            "max_height": null,
            "max_width": null,
            "min_height": null,
            "min_width": null,
            "object_fit": null,
            "object_position": null,
            "order": null,
            "overflow": null,
            "overflow_x": null,
            "overflow_y": null,
            "padding": null,
            "right": null,
            "top": null,
            "visibility": null,
            "width": null
          }
        },
        "a42e3bfce5c2455abb866cbbb8c9ed6d": {
          "model_module": "@jupyter-widgets/base",
          "model_name": "LayoutModel",
          "model_module_version": "1.2.0",
          "state": {
            "_model_module": "@jupyter-widgets/base",
            "_model_module_version": "1.2.0",
            "_model_name": "LayoutModel",
            "_view_count": null,
            "_view_module": "@jupyter-widgets/base",
            "_view_module_version": "1.2.0",
            "_view_name": "LayoutView",
            "align_content": null,
            "align_items": null,
            "align_self": null,
            "border": null,
            "bottom": null,
            "display": null,
            "flex": null,
            "flex_flow": null,
            "grid_area": null,
            "grid_auto_columns": null,
            "grid_auto_flow": null,
            "grid_auto_rows": null,
            "grid_column": null,
            "grid_gap": null,
            "grid_row": null,
            "grid_template_areas": null,
            "grid_template_columns": null,
            "grid_template_rows": null,
            "height": null,
            "justify_content": null,
            "justify_items": null,
            "left": null,
            "margin": null,
            "max_height": null,
            "max_width": null,
            "min_height": null,
            "min_width": null,
            "object_fit": null,
            "object_position": null,
            "order": null,
            "overflow": null,
            "overflow_x": null,
            "overflow_y": null,
            "padding": null,
            "right": null,
            "top": null,
            "visibility": null,
            "width": "500px"
          }
        },
        "aca63d8ce92441f1b4472df7f97f86f6": {
          "model_module": "@jupyter-widgets/controls",
          "model_name": "DescriptionStyleModel",
          "model_module_version": "1.5.0",
          "state": {
            "_model_module": "@jupyter-widgets/controls",
            "_model_module_version": "1.5.0",
            "_model_name": "DescriptionStyleModel",
            "_view_count": null,
            "_view_module": "@jupyter-widgets/base",
            "_view_module_version": "1.2.0",
            "_view_name": "StyleView",
            "description_width": ""
          }
        },
        "e370b5ec0d7740b2971768656583f0d4": {
          "model_module": "@jupyter-widgets/base",
          "model_name": "LayoutModel",
          "model_module_version": "1.2.0",
          "state": {
            "_model_module": "@jupyter-widgets/base",
            "_model_module_version": "1.2.0",
            "_model_name": "LayoutModel",
            "_view_count": null,
            "_view_module": "@jupyter-widgets/base",
            "_view_module_version": "1.2.0",
            "_view_name": "LayoutView",
            "align_content": null,
            "align_items": null,
            "align_self": null,
            "border": null,
            "bottom": null,
            "display": null,
            "flex": null,
            "flex_flow": null,
            "grid_area": null,
            "grid_auto_columns": null,
            "grid_auto_flow": null,
            "grid_auto_rows": null,
            "grid_column": null,
            "grid_gap": null,
            "grid_row": null,
            "grid_template_areas": null,
            "grid_template_columns": null,
            "grid_template_rows": null,
            "height": null,
            "justify_content": null,
            "justify_items": null,
            "left": null,
            "margin": null,
            "max_height": null,
            "max_width": null,
            "min_height": null,
            "min_width": null,
            "object_fit": null,
            "object_position": null,
            "order": null,
            "overflow": null,
            "overflow_x": null,
            "overflow_y": null,
            "padding": null,
            "right": null,
            "top": null,
            "visibility": null,
            "width": null
          }
        },
        "2014aafdd5ba45e2968b4bd2ba01b846": {
          "model_module": "@jupyter-widgets/controls",
          "model_name": "VBoxModel",
          "model_module_version": "1.5.0",
          "state": {
            "_dom_classes": [
              "widget-interact"
            ],
            "_model_module": "@jupyter-widgets/controls",
            "_model_module_version": "1.5.0",
            "_model_name": "VBoxModel",
            "_view_count": null,
            "_view_module": "@jupyter-widgets/controls",
            "_view_module_version": "1.5.0",
            "_view_name": "VBoxView",
            "box_style": "",
            "children": [
              "IPY_MODEL_0bd2f9dd6a9f4b8f9f0fe8e28b5676fd",
              "IPY_MODEL_44021f0a82504abeb8861b79264423de"
            ],
            "layout": "IPY_MODEL_d7a385ccb52f49f5961b45f3dfa55ef9"
          }
        },
        "0bd2f9dd6a9f4b8f9f0fe8e28b5676fd": {
          "model_module": "@jupyter-widgets/controls",
          "model_name": "SelectionRangeSliderModel",
          "model_module_version": "1.5.0",
          "state": {
            "_dom_classes": [],
            "_model_module": "@jupyter-widgets/controls",
            "_model_module_version": "1.5.0",
            "_model_name": "SelectionRangeSliderModel",
            "_options_labels": [
              " 2023-01-01 ",
              " 2023-01-02 ",
              " 2023-01-03 ",
              " 2023-01-04 ",
              " 2023-01-05 ",
              " 2023-01-06 ",
              " 2023-01-07 ",
              " 2023-01-08 ",
              " 2023-01-09 ",
              " 2023-01-10 ",
              " 2023-01-11 ",
              " 2023-01-12 ",
              " 2023-01-13 ",
              " 2023-01-14 ",
              " 2023-01-15 ",
              " 2023-01-16 ",
              " 2023-01-17 ",
              " 2023-01-18 ",
              " 2023-01-19 ",
              " 2023-01-20 ",
              " 2023-01-21 ",
              " 2023-01-22 ",
              " 2023-01-23 ",
              " 2023-01-24 ",
              " 2023-01-25 ",
              " 2023-01-26 ",
              " 2023-01-27 ",
              " 2023-01-28 ",
              " 2023-01-29 ",
              " 2023-01-30 ",
              " 2023-01-31 ",
              " 2023-02-01 ",
              " 2023-02-02 ",
              " 2023-02-03 ",
              " 2023-02-04 ",
              " 2023-02-05 ",
              " 2023-02-06 ",
              " 2023-02-07 ",
              " 2023-02-08 ",
              " 2023-02-09 ",
              " 2023-02-10 ",
              " 2023-02-11 ",
              " 2023-02-12 ",
              " 2023-02-13 ",
              " 2023-02-14 ",
              " 2023-02-15 ",
              " 2023-02-16 ",
              " 2023-02-17 ",
              " 2023-02-18 ",
              " 2023-02-19 ",
              " 2023-02-20 ",
              " 2023-02-21 ",
              " 2023-02-22 ",
              " 2023-02-23 ",
              " 2023-02-24 ",
              " 2023-02-25 ",
              " 2023-02-26 ",
              " 2023-02-27 ",
              " 2023-02-28 ",
              " 2023-03-01 ",
              " 2023-03-02 ",
              " 2023-03-03 ",
              " 2023-03-04 ",
              " 2023-03-05 ",
              " 2023-03-06 ",
              " 2023-03-07 ",
              " 2023-03-08 ",
              " 2023-03-09 ",
              " 2023-03-10 ",
              " 2023-03-11 ",
              " 2023-03-12 ",
              " 2023-03-13 ",
              " 2023-03-14 ",
              " 2023-03-15 ",
              " 2023-03-16 ",
              " 2023-03-17 ",
              " 2023-03-18 ",
              " 2023-03-19 ",
              " 2023-03-20 ",
              " 2023-03-21 ",
              " 2023-03-22 ",
              " 2023-03-23 ",
              " 2023-03-24 ",
              " 2023-03-25 ",
              " 2023-03-26 ",
              " 2023-03-27 ",
              " 2023-03-28 ",
              " 2023-03-29 ",
              " 2023-03-30 ",
              " 2023-03-31 ",
              " 2023-04-01 ",
              " 2023-04-02 ",
              " 2023-04-03 ",
              " 2023-04-04 ",
              " 2023-04-05 ",
              " 2023-04-06 ",
              " 2023-04-07 ",
              " 2023-04-08 ",
              " 2023-04-09 ",
              " 2023-04-10 ",
              " 2023-04-11 ",
              " 2023-04-12 ",
              " 2023-04-13 ",
              " 2023-04-14 ",
              " 2023-04-15 ",
              " 2023-04-16 ",
              " 2023-04-17 ",
              " 2023-04-18 ",
              " 2023-04-19 ",
              " 2023-04-20 ",
              " 2023-04-21 ",
              " 2023-04-22 ",
              " 2023-04-23 ",
              " 2023-04-24 ",
              " 2023-04-25 ",
              " 2023-04-26 ",
              " 2023-04-27 ",
              " 2023-04-28 ",
              " 2023-04-29 ",
              " 2023-04-30 ",
              " 2023-05-01 ",
              " 2023-05-02 ",
              " 2023-05-03 ",
              " 2023-05-04 ",
              " 2023-05-05 ",
              " 2023-05-06 ",
              " 2023-05-07 ",
              " 2023-05-08 ",
              " 2023-05-09 ",
              " 2023-05-10 ",
              " 2023-05-11 ",
              " 2023-05-12 ",
              " 2023-05-13 ",
              " 2023-05-14 ",
              " 2023-05-15 ",
              " 2023-05-16 ",
              " 2023-05-17 ",
              " 2023-05-18 ",
              " 2023-05-19 ",
              " 2023-05-20 ",
              " 2023-05-21 ",
              " 2023-05-22 ",
              " 2023-05-23 ",
              " 2023-05-24 ",
              " 2023-05-25 ",
              " 2023-05-26 ",
              " 2023-05-27 ",
              " 2023-05-28 ",
              " 2023-05-29 ",
              " 2023-05-30 ",
              " 2023-05-31 ",
              " 2023-06-01 ",
              " 2023-06-02 ",
              " 2023-06-03 ",
              " 2023-06-04 ",
              " 2023-06-05 ",
              " 2023-06-06 ",
              " 2023-06-07 ",
              " 2023-06-08 ",
              " 2023-06-09 ",
              " 2023-06-10 ",
              " 2023-06-11 ",
              " 2023-06-12 ",
              " 2023-06-13 ",
              " 2023-06-14 ",
              " 2023-06-15 ",
              " 2023-06-16 ",
              " 2023-06-17 ",
              " 2023-06-18 ",
              " 2023-06-19 ",
              " 2023-06-20 ",
              " 2023-06-21 ",
              " 2023-06-22 ",
              " 2023-06-23 ",
              " 2023-06-24 ",
              " 2023-06-25 ",
              " 2023-06-26 ",
              " 2023-06-27 ",
              " 2023-06-28 ",
              " 2023-06-29 ",
              " 2023-06-30 ",
              " 2023-07-01 ",
              " 2023-07-02 ",
              " 2023-07-03 ",
              " 2023-07-04 ",
              " 2023-07-05 ",
              " 2023-07-06 ",
              " 2023-07-07 ",
              " 2023-07-08 ",
              " 2023-07-09 ",
              " 2023-07-10 ",
              " 2023-07-11 ",
              " 2023-07-12 ",
              " 2023-07-13 ",
              " 2023-07-14 ",
              " 2023-07-15 ",
              " 2023-07-16 ",
              " 2023-07-17 ",
              " 2023-07-18 ",
              " 2023-07-19 ",
              " 2023-07-20 ",
              " 2023-07-21 ",
              " 2023-07-22 ",
              " 2023-07-23 ",
              " 2023-07-24 ",
              " 2023-07-25 ",
              " 2023-07-26 ",
              " 2023-07-27 ",
              " 2023-07-28 ",
              " 2023-07-29 ",
              " 2023-07-30 ",
              " 2023-07-31 ",
              " 2023-08-01 ",
              " 2023-08-02 ",
              " 2023-08-03 ",
              " 2023-08-04 ",
              " 2023-08-05 ",
              " 2023-08-06 ",
              " 2023-08-07 ",
              " 2023-08-08 ",
              " 2023-08-09 ",
              " 2023-08-10 ",
              " 2023-08-11 ",
              " 2023-08-12 ",
              " 2023-08-13 ",
              " 2023-08-14 ",
              " 2023-08-15 ",
              " 2023-08-16 ",
              " 2023-08-17 ",
              " 2023-08-18 ",
              " 2023-08-19 ",
              " 2023-08-20 ",
              " 2023-08-21 ",
              " 2023-08-22 ",
              " 2023-08-23 ",
              " 2023-08-24 ",
              " 2023-08-25 ",
              " 2023-08-26 ",
              " 2023-08-27 ",
              " 2023-08-28 ",
              " 2023-08-29 ",
              " 2023-08-30 ",
              " 2023-08-31 ",
              " 2023-09-01 ",
              " 2023-09-02 ",
              " 2023-09-03 ",
              " 2023-09-04 ",
              " 2023-09-05 ",
              " 2023-09-06 ",
              " 2023-09-07 ",
              " 2023-09-08 ",
              " 2023-09-09 ",
              " 2023-09-10 ",
              " 2023-09-11 ",
              " 2023-09-12 ",
              " 2023-09-13 ",
              " 2023-09-14 ",
              " 2023-09-15 ",
              " 2023-09-16 ",
              " 2023-09-17 ",
              " 2023-09-18 ",
              " 2023-09-19 ",
              " 2023-09-20 ",
              " 2023-09-21 ",
              " 2023-09-22 ",
              " 2023-09-23 ",
              " 2023-09-24 ",
              " 2023-09-25 ",
              " 2023-09-26 ",
              " 2023-09-27 ",
              " 2023-09-28 ",
              " 2023-09-29 ",
              " 2023-09-30 ",
              " 2023-10-01 ",
              " 2023-10-02 ",
              " 2023-10-03 ",
              " 2023-10-04 ",
              " 2023-10-05 ",
              " 2023-10-06 ",
              " 2023-10-07 ",
              " 2023-10-08 ",
              " 2023-10-09 ",
              " 2023-10-10 ",
              " 2023-10-11 ",
              " 2023-10-12 ",
              " 2023-10-13 ",
              " 2023-10-14 ",
              " 2023-10-15 ",
              " 2023-10-16 ",
              " 2023-10-17 ",
              " 2023-10-18 ",
              " 2023-10-19 ",
              " 2023-10-20 ",
              " 2023-10-21 ",
              " 2023-10-22 ",
              " 2023-10-23 ",
              " 2023-10-24 ",
              " 2023-10-25 ",
              " 2023-10-26 ",
              " 2023-10-27 ",
              " 2023-10-28 ",
              " 2023-10-29 ",
              " 2023-10-30 ",
              " 2023-10-31 ",
              " 2023-11-01 ",
              " 2023-11-02 ",
              " 2023-11-03 ",
              " 2023-11-04 ",
              " 2023-11-05 ",
              " 2023-11-06 ",
              " 2023-11-07 ",
              " 2023-11-08 ",
              " 2023-11-09 ",
              " 2023-11-10 ",
              " 2023-11-11 ",
              " 2023-11-12 ",
              " 2023-11-13 ",
              " 2023-11-14 ",
              " 2023-11-15 ",
              " 2023-11-16 ",
              " 2023-11-17 ",
              " 2023-11-18 ",
              " 2023-11-19 ",
              " 2023-11-20 ",
              " 2023-11-21 ",
              " 2023-11-22 ",
              " 2023-11-23 ",
              " 2023-11-24 ",
              " 2023-11-25 ",
              " 2023-11-26 ",
              " 2023-11-27 ",
              " 2023-11-28 ",
              " 2023-11-29 ",
              " 2023-11-30 ",
              " 2023-12-01 ",
              " 2023-12-02 ",
              " 2023-12-03 ",
              " 2023-12-04 ",
              " 2023-12-05 ",
              " 2023-12-06 ",
              " 2023-12-07 ",
              " 2023-12-08 ",
              " 2023-12-09 ",
              " 2023-12-10 ",
              " 2023-12-11 ",
              " 2023-12-12 ",
              " 2023-12-13 ",
              " 2023-12-14 ",
              " 2023-12-15 ",
              " 2023-12-16 ",
              " 2023-12-17 ",
              " 2023-12-18 ",
              " 2023-12-19 ",
              " 2023-12-20 ",
              " 2023-12-21 ",
              " 2023-12-22 ",
              " 2023-12-23 ",
              " 2023-12-24 ",
              " 2023-12-25 ",
              " 2023-12-26 ",
              " 2023-12-27 ",
              " 2023-12-28 ",
              " 2023-12-29 ",
              " 2023-12-30 ",
              " 2023-12-31 ",
              " 2024-01-01 ",
              " 2024-01-02 ",
              " 2024-01-03 ",
              " 2024-01-04 ",
              " 2024-01-05 ",
              " 2024-01-06 ",
              " 2024-01-07 ",
              " 2024-01-08 ",
              " 2024-01-09 ",
              " 2024-01-10 ",
              " 2024-01-11 ",
              " 2024-01-12 ",
              " 2024-01-13 ",
              " 2024-01-14 ",
              " 2024-01-15 ",
              " 2024-01-16 ",
              " 2024-01-17 ",
              " 2024-01-18 ",
              " 2024-01-19 ",
              " 2024-01-20 ",
              " 2024-01-21 ",
              " 2024-01-22 ",
              " 2024-01-23 ",
              " 2024-01-24 ",
              " 2024-01-25 ",
              " 2024-01-26 ",
              " 2024-01-27 ",
              " 2024-01-28 ",
              " 2024-01-29 ",
              " 2024-01-30 ",
              " 2024-01-31 ",
              " 2024-02-01 ",
              " 2024-02-02 ",
              " 2024-02-03 ",
              " 2024-02-04 ",
              " 2024-02-05 ",
              " 2024-02-06 ",
              " 2024-02-07 ",
              " 2024-02-08 ",
              " 2024-02-09 ",
              " 2024-02-10 ",
              " 2024-02-11 ",
              " 2024-02-12 ",
              " 2024-02-13 ",
              " 2024-02-14 ",
              " 2024-02-15 ",
              " 2024-02-16 ",
              " 2024-02-17 ",
              " 2024-02-18 ",
              " 2024-02-19 ",
              " 2024-02-20 ",
              " 2024-02-21 ",
              " 2024-02-22 ",
              " 2024-02-23 ",
              " 2024-02-24 ",
              " 2024-02-25 ",
              " 2024-02-26 ",
              " 2024-02-27 ",
              " 2024-02-28 ",
              " 2024-02-29 ",
              " 2024-03-01 ",
              " 2024-03-02 ",
              " 2024-03-03 ",
              " 2024-03-04 ",
              " 2024-03-05 ",
              " 2024-03-06 ",
              " 2024-03-07 ",
              " 2024-03-08 ",
              " 2024-03-09 ",
              " 2024-03-10 ",
              " 2024-03-11 ",
              " 2024-03-12 ",
              " 2024-03-13 ",
              " 2024-03-14 ",
              " 2024-03-15 ",
              " 2024-03-16 ",
              " 2024-03-17 ",
              " 2024-03-18 ",
              " 2024-03-19 ",
              " 2024-03-20 ",
              " 2024-03-21 ",
              " 2024-03-22 ",
              " 2024-03-23 ",
              " 2024-03-24 ",
              " 2024-03-25 ",
              " 2024-03-26 ",
              " 2024-03-27 ",
              " 2024-03-28 ",
              " 2024-03-29 ",
              " 2024-03-30 ",
              " 2024-03-31 ",
              " 2024-04-01 ",
              " 2024-04-02 ",
              " 2024-04-03 ",
              " 2024-04-04 ",
              " 2024-04-05 ",
              " 2024-04-06 ",
              " 2024-04-07 ",
              " 2024-04-08 ",
              " 2024-04-09 "
            ],
            "_view_count": null,
            "_view_module": "@jupyter-widgets/controls",
            "_view_module_version": "1.5.0",
            "_view_name": "SelectionRangeSliderView",
            "continuous_update": true,
            "description": "Select Date Range",
            "description_tooltip": null,
            "disabled": false,
            "index": [
              0,
              464
            ],
            "layout": "IPY_MODEL_9ccbcd37e8cd4ae2a212fe084c79ff1b",
            "orientation": "horizontal",
            "readout": true,
            "style": "IPY_MODEL_c65b76dcb12643559b12d6092eaba7ea"
          }
        },
        "44021f0a82504abeb8861b79264423de": {
          "model_module": "@jupyter-widgets/output",
          "model_name": "OutputModel",
          "model_module_version": "1.0.0",
          "state": {
            "_dom_classes": [],
            "_model_module": "@jupyter-widgets/output",
            "_model_module_version": "1.0.0",
            "_model_name": "OutputModel",
            "_view_count": null,
            "_view_module": "@jupyter-widgets/output",
            "_view_module_version": "1.0.0",
            "_view_name": "OutputView",
            "layout": "IPY_MODEL_ba2a9d6a4317422fb2154cb8735828cd",
            "msg_id": "",
            "outputs": [
              {
                "output_type": "display_data",
                "data": {
                  "text/plain": "<Figure size 1000x500 with 1 Axes>",
                  "image/png": "iVBORw0KGgoAAAANSUhEUgAAA20AAAHWCAYAAADkYGFVAAAAOXRFWHRTb2Z0d2FyZQBNYXRwbG90bGliIHZlcnNpb24zLjcuMSwgaHR0cHM6Ly9tYXRwbG90bGliLm9yZy/bCgiHAAAACXBIWXMAAA9hAAAPYQGoP6dpAAEAAElEQVR4nOzdd3wT9f8H8FfSzSh7lT0FBAEBEVCWDAUVBOcXf6CiqIAKOHGwRFAUBZSpCCpDBRER2VtkgwzZe1NmaaG0TZP7/XFNcne5Sy5pxiV9PR8PHjSXG598br7vs0yCIAggIiIiIiIiQzKHOgFERERERESkjUEbERERERGRgTFoIyIiIiIiMjAGbURERERERAbGoI2IiIiIiMjAGLQREREREREZGIM2IiIiIiIiA2PQRkREREREZGAM2oiIiIiIiAyMQRsRUYiZTCYMHTo01MnItZ9++gk1a9ZETEwMChcuHOrkBMTJkydhMpkwY8aMUCfFoVWrVmjVqlWok+HRjBkzYDKZcPLkScc0o6VdLY1EREbAoI2IQu7YsWN4+eWXUaVKFcTHxyMxMRHNmzfHuHHjcPv27VAnj3Q4ePAgnnvuOVStWhXffvstpk6dqmu5d955ByaTCU899ZTP296/fz+GDh3KB20PKlWqBJPJ5PhXsmRJ3H///fj9999DnTSvpKenY+jQoVi7dm2okwJA/zG8b98+PPvssyhbtizi4uKQlJSEZ599Fvv373eZ1x48bt++PVDJJqIwEx3qBBBR3vbXX3/hiSeeQFxcHHr06IE6deogKysLGzZswNtvv419+/bpDgDC1e3btxEdHd6X47Vr18Jms2HcuHGoVq2armUEQcCcOXNQqVIl/Pnnn0hLS0PBggW93vb+/fsxbNgwtGrVCpUqVfJ6+bykfv36ePPNNwEA58+fx5QpU9C1a1dMmjQJr7zyStDTs3z5cq+XSU9Px7BhwwAg5KV0eo/h+fPn45lnnkHRokXRq1cvVK5cGSdPnsS0adMwb948/PLLL+jcuXMIfgERhYvwfkogorB24sQJPP3006hYsSJWr16NMmXKOL7r27cvjh49ir/++iuEKQwcm82GrKwsxMfHIz4+PtTJybVLly4BgFfVIteuXYuzZ89i9erV6NChA+bPn4+ePXsGKIUEAGXLlsWzzz7r+NyjRw9Uq1YNX331lWbQlp2dDZvNhtjYWL+nJxDrDCY9x/CxY8fwf//3f6hSpQrWr1+PEiVKOL574403cP/99+PZZ5/Fnj17ULly5WD/BCIKE6weSUQhM3r0aNy8eRPTpk2TBWx21apVwxtvvOH4nJ2djY8//hhVq1ZFXFwcKlWqhPfffx+ZmZmy5SpVqoSHH34Ya9euRaNGjZCQkIC6des6qlPNnz8fdevWRXx8PBo2bIh///1Xtvxzzz2HAgUK4Pjx4+jQoQPy58+PpKQkDB8+HIIgyOb94osv0KxZMxQrVgwJCQlo2LAh5s2b5/JbTCYT+vXrh1mzZuHOO+9EXFwcli5d6vhO2qYtLS0N/fv3R6VKlRAXF4eSJUuiXbt22Llzp2ydc+fORcOGDZGQkIDixYvj2Wefxblz51R/y7lz59ClSxcUKFAAJUqUwFtvvQWr1aqxZ+QmTpzoSHNSUhL69u2LlJQUWX4PGTIEAFCiRAndbfRmzZqF2rVro3Xr1mjbti1mzZqlOt+5c+fQq1cvJCUlIS4uDpUrV8arr76KrKwszJgxA0888QQAoHXr1o6qf/Z9rZWWSpUq4bnnnnN8vnbtGt566y3UrVsXBQoUQGJiIh566CHs3r1bVx4p6V3f2rVrYTKZ8Ouvv+KTTz5BuXLlEB8fjwceeABHjx51We/UqVNRtWpVJCQk4J577sHff//tU/rsSpcujVq1auHEiRMAnG32vvjiC4wdO9Zxrtmr8B08eBCPP/44ihYtivj4eDRq1AgLFy50We++ffvQpk0bJCQkoFy5chgxYgRsNpvLfGpt2jIyMjB06FDUqFED8fHxKFOmDLp27Ypjx47h5MmTjqBn2LBhjv0t3cf+TqM7eo7hzz//HOnp6Zg6daosYAOA4sWLY8qUKbh58yY+//xzr7ZNRHkLS9qIKGT+/PNPVKlSBc2aNdM1/4svvogffvgBjz/+ON58801s2bIFo0aNwoEDB1za5Rw9ehT/+9//8PLLL+PZZ5/FF198gUceeQSTJ0/G+++/jz59+gAARo0ahSeffBKHDh2C2ex8j2W1WvHggw/i3nvvxejRo7F06VIMGTIE2dnZGD58uGO+cePG4dFHH0X37t2RlZWFn3/+GU888QQWLVqETp06ydK0evVq/Prrr+jXrx+KFy+uWZXvlVdewbx589CvXz/Url0bV69exYYNG3DgwAHcfffdAMQ2L88//zwaN26MUaNGITk5GePGjcM///yDf//9V1biZbVa0aFDBzRp0gRffPEFVq5ciTFjxqBq1ap49dVX3eb50KFDMWzYMLRt2xavvvoqDh06hEmTJmHbtm34559/EBMTg7Fjx+LHH3/E77//jkmTJqFAgQK466673K43MzMTv/32m6Oq3jPPPIPnn38eFy9eROnSpR3znT9/Hvfccw9SUlLQu3dv1KxZE+fOncO8efOQnp6OFi1a4PXXX8f48ePx/vvvo1atWgDg+F+v48ePY8GCBXjiiSdQuXJlJCcnY8qUKWjZsiX279+PpKSkgK7v008/hdlsxltvvYUbN25g9OjR6N69O7Zs2eKYZ9q0aXj55ZfRrFkz9O/fH8ePH8ejjz6KokWLonz58l6lz85iseDMmTMoVqyYbPr06dORkZGB3r17Iy4uDkWLFsW+ffvQvHlzlC1bFu+99x7y58+PX3/9FV26dMFvv/2Gxx57DABw8eJFtG7dGtnZ2Y75pk6dioSEBI/psVqtePjhh7Fq1So8/fTTeOONN5CWloYVK1bgv//+Q9u2bTFp0iS8+uqreOyxx9C1a1cAcBxvwUijnd5j+M8//0SlSpVw//33q66nRYsWjuqVEydO1L19IspjBCKiELhx44YAQOjcubOu+Xft2iUAEF588UXZ9LfeeksAIKxevdoxrWLFigIAYePGjY5py5YtEwAICQkJwqlTpxzTp0yZIgAQ1qxZ45jWs2dPAYDw2muvOabZbDahU6dOQmxsrHD58mXH9PT0dFl6srKyhDp16ght2rSRTQcgmM1mYd++fS6/DYAwZMgQx+dChQoJffv21cyLrKwsoWTJkkKdOnWE27dvO6YvWrRIACAMHjzY5bcMHz5cto4GDRoIDRs21NyGIAjCpUuXhNjYWKF9+/aC1Wp1TP/mm28EAML333/vmDZkyBABgCxv3Jk3b54AQDhy5IggCIKQmpoqxMfHC1999ZVsvh49eghms1nYtm2byzpsNpsgCIIwd+5cl31op8xbu4oVKwo9e/Z0fM7IyJD9RkEQhBMnTghxcXGyvDtx4oQAQJg+fbrb36d3fWvWrBEACLVq1RIyMzMd08eNGycAEPbu3SsIgnOf169fXzbf1KlTBQBCy5Yt3abH/pvbt28vXL58Wbh8+bKwe/du4emnn5Yd6/bfl5iYKFy6dEm2/AMPPCDUrVtXyMjIcEyz2WxCs2bNhOrVqzum9e/fXwAgbNmyxTHt0qVLQqFChQQAwokTJxzTW7ZsKUv7999/LwAQvvzyS5f02/f35cuXNfdrINKoRc8xnJKSous69+ijjwoAhNTUVEEQBGH69OkCANXjnojyJlaPJKKQSE1NBQDdHU8sXrwYADBw4EDZdPtbbmXbt9q1a6Np06aOz02aNAEAtGnTBhUqVHCZfvz4cZdt9uvXz/G3vXpjVlYWVq5c6ZgufTN//fp13LhxA/fff79LVUYAaNmyJWrXru3hl4rtwrZs2YLz58+rfr99+3ZcunQJffr0kbWH69SpE2rWrKnaDlDZXun+++9X/c1SK1euRFZWFvr37y8rhXzppZeQmJiYq/aGs2bNQqNGjRydlhQsWBCdOnWSVS+z2WxYsGABHnnkETRq1MhlHSaTyeftK8XFxTl+o9VqxdWrV1GgQAHccccdqvvS3+t7/vnnZe277KUy9n1k3+evvPKKbL7nnnsOhQoV0p2u5cuXo0SJEihRogTq1auHuXPn4v/+7//w2Wefyebr1q2brCrftWvXsHr1ajz55JNIS0vDlStXcOXKFVy9ehUdOnTAkSNHHFVzFy9ejHvvvRf33HOPY/kSJUqge/fuHtP322+/oXjx4njttddcvvO0v4OVRjs9x3BaWprjO3fs39vnJyJSYvVIIgqJxMREAPofUk6dOgWz2ezSM2Hp0qVRuHBhnDp1SjZdGpgBcDzYKquR2adfv35dNt1sNqNKlSqyaTVq1AAAWdfyixYtwogRI7Br1y5Z2zq1B0y9nQyMHj0aPXv2RPny5dGwYUN07NgRPXr0cKTH/lvvuOMOl2Vr1qyJDRs2yKbFx8e7tKUpUqSIy29W0tpObGwsqlSp4pLneqWkpGDx4sXo16+frN1W8+bN8dtvv+Hw4cOoUaMGLl++jNTUVNSpU8en7XjD3vPlxIkTceLECVl7P2XVwUCsT3m8FilSBIDzuLTndfXq1WXzxcTEuByn7jRp0gQjRoyAyWRCvnz5UKtWLdXOY5TH6tGjRyEIAj766CN89NFHquu+dOkSypYti1OnTjlehkipHa9Kx44dwx133OFTb6rBSiOg/xjWG4ylpaXBZDKhePHiurZPRHkPgzYiConExEQkJSXhv//+82o5vaUrUVFRXk0XFB2M6PH333/j0UcfRYsWLTBx4kSUKVMGMTExmD59OmbPnu0yv972Mk8++aRj/Kzly5fj888/x2effYb58+fjoYce8jqdWr85VObOnYvMzEyMGTMGY8aMcfl+1qxZji7dA0XZCcvIkSPx0Ucf4YUXXsDHH3+MokWLwmw2o3///l53TuHL+vx5XLpTvHhxtG3b1uN8ymPVnua33noLHTp0UF1G71APgRLMNOo9hgsVKoSkpCTs2bPH7fr27NmDcuXKhX1vmkQUOAzaiChkHn74YUydOhWbNm2SVWVUU7FiRdhsNhw5ckTWyURycjJSUlJQsWJFv6bNZrPh+PHjjtI1ADh8+DAAODoQ+e233xAfH49ly5YhLi7OMd/06dNzvf0yZcqgT58+6NOnDy5duoS7774bn3zyCR566CHHbz106BDatGkjW+7QoUN+ywvpdqSlOVlZWThx4oSuh381s2bNQp06dRw9TkpNmTIFs2fPxrBhw1CiRAkkJiZ6DOzdBfJFihSR9XRpT/+FCxdk0+bNm4fWrVtj2rRpsukpKSk+lX74e332fXHkyBHZPrdYLDhx4gTq1avn9Tq9Yd//MTExHvd7xYoVceTIEZfphw4d8ridqlWrYsuWLbBYLIiJiVGdR2t/ByuNgP5jGAAeeeQRTJkyBRs2bMB9993nMv/ff/+NkydPulT9JiKSYps2IgqZd955B/nz58eLL76I5ORkl++PHTuGcePGAQA6duwIABg7dqxsni+//BIAXHpq9IdvvvnG8bcgCPjmm28QExODBx54AIBYOmIymWSlNidPnsSCBQt83qbVasWNGzdk00qWLImkpCRH9ctGjRqhZMmSmDx5sqxK5pIlS3DgwAG/5UXbtm0RGxuL8ePHy0p8pk2bhhs3bvi0nTNnzmD9+vV48skn8fjjj7v8e/7553H06FFs2bIFZrMZXbp0wZ9//ont27e7rMuepvz58wOAS3AGiEHA+vXrZdOmTp3qUtIWFRXlUqo1d+5clyEU9PL3+ho1aoQSJUpg8uTJyMrKckyfMWOG6u/2t5IlS6JVq1aYMmWKS8ALAJcvX3b83bFjR2zevBlbt26Vfa81pINUt27dcOXKFdm5Z2fPz3z58gFw3d/BSqM3xzAglvzly5cPL7/8Mq5evSpb17Vr1/DKK68gMTFR1oaWiEiJJW1EFDJVq1bF7Nmz8dRTT6FWrVro0aMH6tSpg6ysLGzcuBFz5851jKVVr1499OzZE1OnTkVKSgpatmyJrVu34ocffkCXLl3QunVrv6YtPj4eS5cuRc+ePdGkSRMsWbIEf/31F95//31H+7BOnTrhyy+/xIMPPoj//e9/uHTpEiZMmIBq1ap5rA6lJS0tDeXKlcPjjz+OevXqoUCBAli5ciW2bdvmqIYVExODzz77DM8//zxatmyJZ555xtHlf6VKlTBgwAC/5EGJEiUwaNAgDBs2DA8++CAeffRRHDp0CBMnTkTjxo1lgzTrNXv2bAiCgEcffVT1+44dOyI6OhqzZs1CkyZNMHLkSCxfvhwtW7ZE7969UatWLVy4cAFz587Fhg0bULhwYdSvXx9RUVH47LPPcOPGDcTFxaFNmzYoWbIkXnzxRbzyyivo1q0b2rVrh927d2PZsmUupV0PP/wwhg8fjueffx7NmjXD3r17MWvWLK/aiwVyfTExMRgxYgRefvlltGnTBk899RROnDiB6dOn+7xOb02YMAH33Xcf6tati5deeglVqlRBcnIyNm3ahLNnzzrGoHvnnXfw008/4cEHH8Qbb7zh6E6/YsWKHs+LHj164Mcff8TAgQOxdetW3H///bh16xZWrlyJPn36oHPnzkhISEDt2rXxyy+/oEaNGihatCjq1KmDOnXqBCWN3h7D1apVw48//ohnnnkGdevWRa9evVC5cmWcPHkS06ZNw/Xr1/Hzzz9zYG0ici80nVYSETkdPnxYeOmll4RKlSoJsbGxQsGCBYXmzZsLX3/9tazrbovFIgwbNkyoXLmyEBMTI5QvX14YNGiQbB5BELs279Spk8t2ALh0pW/v4vzzzz93TOvZs6eQP39+4dixY0L79u2FfPnyCaVKlRKGDBni0o37tGnThOrVqwtxcXFCzZo1henTpzu6v/e0bel39u7LMzMzhbfffluoV6+eULBgQSF//vxCvXr1hIkTJ7os98svvwgNGjQQ4uLihKJFiwrdu3cXzp49K5vH/luU1NKo5ZtvvhFq1qwpxMTECKVKlRJeffVV4fr166rr89Tlf926dYUKFSq4nadVq1ZCyZIlBYvFIgiCIJw6dUro0aOHUKJECSEuLk6oUqWK0LdvX1nX999++61QpUoVISoqStb9v9VqFd59912hePHiQr58+YQOHToIR48eVe3y/8033xTKlCkjJCQkCM2bNxc2bdrk0iW9N13+61mfvcv/uXPnypbX2s7EiROFypUrC3FxcUKjRo2E9evXu6xTi9Z5obZd6fkgdezYMaFHjx5C6dKlhZiYGKFs2bLCww8/LMybN0823549e4SWLVsK8fHxQtmyZYWPP/5YmDZtmscu/wVBHEbjgw8+cJznpUuXFh5//HHh2LFjjnk2btwoNGzYUIiNjXXp/t/faVTy5RgWBEHYu3ev8L///U8oXbq0YDabBQBCfHy86jAg7PKfiJRMguDnVs5ERGHuueeew7x583Dz5s1QJ4WIItSPP/6I5557Ds8++yx+/PHHUCeHiAyO1SOJiIiIgqxHjx64cOEC3nvvPZQrVw4jR44MdZKIyMBY0kZEpMCSNiIiIjIS9h5JRERERERkYCxpIyIiIiIiMjCWtBERERERERkYgzYiIiIiIiIDY++RAGw2G86fP4+CBQvCZDKFOjlERERERBQigiAgLS0NSUlJMJuNUcbFoA3A+fPnUb58+VAng4iIiIiIDOLMmTMoV65cqJMBgEEbAKBgwYIAxB2TmJgY0rRYLBYsX74c7du3R0xMTEjTEqmYx8HHPA8+5nloMN+Di/kdfMzz4GFeB589z5s2bYrKlSs7YgQjYNAGOKpEJiYmGiJoy5cvHxITE3mCBgjzOPiY58HHPA8N5ntwMb+Dj3kePMzr4LPnuT1YM1KzKWNU0iQiIiIiIiJVDNqIiIiIiIgMjEEbERERERGRgbFNGxERERGFLUEQkJ2dDavVGuqk+JXFYkF0dDQyMjIi7reFWlRUFKKjow3VZs0TBm1EREREFJaysrJw4cIFpKenhzopficIAkqXLo0zZ86EVXARLvLly4cyZcogNjY21EnRhUEbEREREYUdm82GEydOICoqCklJSYiNjY2o4MZms+HmzZsoUKCAYQZ4jgSCICArKwuXL1/GiRMnUL169bDIXwZtRERERBR2srKyYLPZUL58eeTLly/UyfE7m82GrKwsxMfHh0VQEU4SEhIQExODU6dOOfLY6HgEEBEREVHYYkBDvgi34ya8UktERERERJTHMGgjIiIiIiIysJAGbevXr8cjjzyCpKQkmEwmLFiwQPa9IAgYPHgwypQpg4SEBLRt2xZHjhyRzXPt2jV0794diYmJKFy4MHr16oWbN28G8VcQEREREUUGtWdyCr2QBm23bt1CvXr1MGHCBNXvR48ejfHjx2Py5MnYsmUL8ufPjw4dOiAjI8MxT/fu3bFv3z6sWLECixYtwvr169G7d+9g/QQiIiIiIq9t2rQJUVFR6NSpk9fLVqpUCWPHjvV/orzgKf23b9/GkCFDUKNGDcTFxaF48eJ44oknsG/fPtl8Q4cORf369YOQ4vAW0qDtoYcewogRI/DYY4+5fCcIAsaOHYsPP/wQnTt3xl133YUff/wR58+fd0T/Bw4cwNKlS/Hdd9+hSZMmuO+++/D111/j559/xvnz54P8a4iIiIiI9Jk2bRpee+01rF+/PiyfW92lPzMzE23btsX333+PESNG4PDhw1i8eDGys7PRpEkTbN68OUSpDl+G7fL/xIkTuHjxItq2beuYVqhQITRp0gSbNm3C008/jU2bNqFw4cJo1KiRY562bdvCbDZjy5YtqsEgIB5ImZmZjs+pqakAxJHnLRZLgH6RPvbthzodkYx5HHyRmueCAPTrZ0bJksCQIbagbXfwYDMWLTIjOhp4/30runQRXOaJ1Dw3OuZ7cDG/g89IeW6xWCAIAmw2G2w2GwQBCNUY2/nyAd4MEXfz5k388ssv2Lp1Ky5cuIDp06dj0KBBsnkWLlyI4cOHY//+/ShQoADuu+8+zJ8/H23atMGpU6cwYMAADBgwAABgtVoxbNgw/PHHH9i5c6djHePGjcO4ceNw/PhxAMC2bdvwwQcfYNeuXbBYLKhfvz7GjBmDu+++W7Zte576mv6vvvoKmzZtwo4dO1CvXj0AQPny5TF37lw0bdoUvXr1wp49e2AymSAIgmObwSQeMwIsFguioqIAGOv4VjJs0Hbx4kUAQKlSpWTTS5Uq5fju4sWLKFmypOz76OhoFC1a1DGPmlGjRmHYsGEu05cvX26YcT5WrFgR6iREPOZx8EVanp8+XRDfftsGANC48aKgbXf06Edhs4lPB598cg2xsZs05420PA8XzPfgYn4HnxHyPDo6GqVLl8bNmzeRlZWFW7eAcuUKhyQtZ8+mIH9+/fPPnDkT1atXR5kyZfDYY4/h/fffR58+fRyDgy9btgzdu3fHm2++iUmTJiErKwsrVqxAamoqpk+fjvvuuw/PPfccevToAUAsgMjMzITVanUURgBARkYGbDabY1pycjKeeOIJjBw5EoIgYMKECejUqRO2b9+OggULOpa7ffu2bD3epn/mzJlo3bo1Kleu7LKe3r17o3fv3ti4cSPq1q2rmu5gyMrKwu3bt7F+/XpkZ2fLvluzZk1Q06KHYYO2QBo0aBAGDhzo+Jyamory5cujffv2SExMDGHKxMh+xYoVaNeuHWJiYkKalkjFPA6+SM1zyctMdOzYMWjbtQdsAFCsWHHVbUdqnhsd8z24mN/BZ6Q8z8jIwJkzZ1CgQAHEx8cjp7AkJBITE70K2ubMmYMePXogMTERXbt2xWuvvYZ///0XrVq1AiCWkD311FMYNGgQChYsCJPJhObNmzu2FRMTg+LFi6N69eqOdcbFxSEqKkr2LGsfmNs+7eGHH5al4/vvv0fRokXx77//yr5LSEhw+0zsKf3Hjh3DAw88oLoOe6neuXPn0Lx5c9V0B0NGRgYSEhLQokULx+Da9uO7devWQU2LHoYN2kqXLg1AfCNQpkwZx/Tk5GRHY8XSpUvj0qVLsuWys7Nx7do1x/Jq4uLiEBcX5zI9JiYm5BcgOyOlJVIxj4Mv0vI8WnIFDdXvMpnMiInRbp4caXkeLpjvwcX8Dj4j5LnVaoXJZILZbIbZbEaBAkCoOhDPl8+su3rkoUOHsHXrVvz+++8wm82IjY3FU089henTp6NNG7H2xq5du9CrVy8AcPxGJeV0eymXu2nJycn48MMPsXbtWly6dAlWqxXp6ek4e/asbDl7nvqaful6lOzT7AGlWrqDwb5ttWM51Me2GsMGbZUrV0bp0qWxatUqR5CWmpqKLVu24NVXXwUANG3aFCkpKdixYwcaNmwIAFi9ejVsNhuaNGkSqqQTUR4huDYly5NpICIyApMJXpV2hcq0adOQnZ2NpKQkxzRBEBAXF4dvvvkGhQoVQkJCgtfrNZvNjvZhdsq2WT179sTVq1cxbtw4VKxYEXFxcWjatCmysrL8mv7q1avjwIEDqsvbp9eoUUP3NinEvUfevHkTu3btwq5duwCInY/s2rULp0+fhslkQv/+/TFixAgsXLgQe/fuRY8ePZCUlIQuXboAAGrVqoUHH3wQL730ErZu3Yp//vkH/fr1w9NPPy07kIiIIgWDNCKi8JWdnY0ff/wRY8aMcTwD79q1C7t370ZSUhLmzJkDALjrrruwevVqzfXExsbCarXKppUoUQIXL16UBW72Z2y7f/75B6+//jo6duyIO++8E3Fxcbhy5Yrf0//MM89g5cqV2L17t2x5m82Gr776Co0aNULt2rV1b5dCXNK2fft2WZ1Rezuznj17YsaMGXjnnXdw69Yt9O7dGykpKbjvvvuwdOlSR71TAJg1axb69euHBx54AGazGd26dcP48eOD/luIKO/xpqcwIiKiRYsW4fr16+jVqxcKFSok+65bt26YNm0aXnnlFQwZMgQPPPAAypUrhx49esBms2Hx4sV49913AYjjtK1fvx5PP/20Ywy0Vq1a4fLlyxg9ejQef/xxLF26FEuWLJG1FatevTp++uknNGrUCKmpqXj77be9KtXTm/4BAwbgjz/+wCOPPIIxY8agSZMmSE5OxsiRI3HkyBFs3LgxF7mYN4W0pK1Vq1YQBMHl34wZMwCI9XCHDx+OixcvIiMjAytXrnQpSi1atChmz56NtLQ03LhxA99//z0KFCgQgl9DRHmNEUq9jJAGIiLSZ9q0aWjbtq1LwAOIQc/27duxZ88etGrVCr/88guWLFmCu+++G23atMHWrVsd8w4fPhwnT55E1apVUaJECQBiDbSJEydiwoQJqFevHrZu3Yq33nrLZfvXr1/H3Xffjf/7v//D66+/7tITuz/SHx8fj1WrVqFHjx4YNGgQqlatinvuuQf//fcf/vvvP5ay+cCwbdqIiIiIiCLJn3/+qfndPffcI6va2LVrV7Rt2xaJiYkunXTce++9LlUPAeCVV17BK6+8Ipv2/vvvO/5u0KABtm3bJvv+8ccfl31WtovzNf358+fHiBEjMGLECADAkiVL8Nhjj2HBggXo16+fY76hQ4di6NChmuslUUhL2oiIKHdY0kZEROHgoYcewpIlS3Dt2jWv2tGRiCVtRERhhEEaERGFq9atWxtyDLRwwJI2IiIiIiIiA2PQRkQUxljyRkREFPkYtBER+YgBExEREQUDgzYiojDCQJGIiCjvYdBGROQjIwyuzSCOiIgo8jFoIyLyEQMmIiIiCgYGbURERERERAbGoI2IKIyxtI+IiLQ899xz6NKli+Nzq1at0L9//6CnY+3atTCZTEhJSQn6tiMFgzYiojDCII2IKLw999xzMJlMMJlMiI2NRbVq1TB8+HBkZ2cHfNvz58/Hxx9/rGveUAVao0aNQlRUFD7//HPV78+cOYMXXngBSUlJiI2NRcWKFfHGG2/g6tWrsvlCFaAGCoM2IiIiIqIgevDBB3HhwgUcOXIEb775JoYOHaoZpGRlZfltu0WLFkXBggX9tr5A+P777/HOO+/g+++/d/nu+PHjaNSoEY4cOYI5c+bg6NGjmDx5MlatWoWmTZvi2rVrIUhxcDBoIyIKYyx5IyLKIQhAZmZo/nl5MY6Li0Pp0qVRsWJFvPrqq2jbti0WLlwIwFmlceTIkahVqxZq1aoFQCxhevLJJ1G4cGEULVoUnTt3xsmTJx3rtFqtGDhwIAoXLoxixYrhnXfegaBIl7L0KTMzE++++y7Kly+PuLg4VKtWDdOmTcPJkyfRunVrAECRIkVgMpnw3HPPAQBsNhtGjRqFypUrIyEhAfXq1cO8efNk21m8eDFq1KiBhIQEtG7dWpZOd9atW4fbt29j+PDhSE1NxcaNG2Xf9+3bF7GxsVi+fDlatmyJChUq4KGHHsLKlStx7tw5fPDBB7q2E46iQ50AIqJIIAjGGAKAiCjPysoCXn89NNsePx6Ii/N58YSEBFn1vlWrVqFgwYKYP38+ChQoAIvFgg4dOqBp06b4+++/ER0djREjRuDBBx/Enj17EBsbizFjxmDGjBn4/vvvUatWLYwZMwa///472rRpo7ndHj16YNOmTRg/fjzq1auHEydO4MqVKyhfvjx+++03dOvWDYcOHUJiYiISEhIAiNUXZ86cicmTJ6N69epYv349nn32WZQoUQItW7bEmTNn0LVrV/Tt2xe9e/fG9u3b8eabb+rKh2nTpuGZZ55BTEwMnnnmGUybNg3NmjUDAFy7dg3Lli3DJ5984kiLXenSpdG9e3f88ssvmDhxIkwReENm0EZE5Af//APcd1/gt8OSNSKiyCEIAlatWoVly5bhtddec0zPnz8/vv32W2RkZCAxMRGzZ8+GzWbDd9995whIpk+fjsKFC2Pt2rVo3749xo4di0GDBqFr164AgMmTJ2PZsmWa2z58+DB+/fVXrFixAm3btgUAVKlSxfF90aJFAQAlS5ZE4cKFAYglcyNHjsTKlSvRtGlTxzIbNmzAlClT0LJlS0yaNAlVq1bFmDFjAAB33HEH9u7di88++8xtXqSmpmLevHnYtGkTAODZZ5/F/fffj3HjxqFAgQI4cuQIBEFwlDwq1apVC9evX8fly5dRsmRJt9sKRwzaiIj84P77QxNQMYgjIsoRGyuWeIVq215YtGiRowTNZrPhf//7H4YOHer4vm7duoiNjUVGRgYAYPfu3Th69KhLe7SMjAwcO3YMN27cwIULF9CkSRPHd9HR0WjUqJFLFUm7Xbt2ISoqCi1bttSd7qNHjyI9PR3t2rWTTc/KykKDBg0AAAcOHJClA4AjwHNnzpw5qFq1KurVqwcAqF+/PipWrIhffvkFvXr1csyn9XvsYr3cF+GCQRsRkY8YMBERGYjJlKsqisHUunVrTJo0CbGxsUhKSkJ0tPyRPH/+/LLPN2/eRMOGDTFr1iyXdZUoUcKnNCirGOpx8+ZNAMBff/2FsmXLyr6Ly2XeT5s2Dfv27ZPlhc1mw/fff49evXqhWrVqMJlMOHDgAB577DGX5Q8cOIASJUo4SgUjDYM2IiIiIqIgyp8/P6pVq6Z7/rvvvhu//PILSpYsicTERNV5ypQpgy1btqBFixYAgOzsbOzYsQN333236vx169aFzWbDunXrHNUjpewlVlar1TGtdu3aiIuLw+nTpzVL6GrVquXoVMVu8+bNbn/f3r17sX37dqxdu9ZRLRMQ27G1atUKBw8eRM2aNdGuXTtMnDgRAwYMkAWdFy9exKxZs9C3b1+32wln7D2SiCiMsbSPiCjyde/eHcWLF0fnzp3x999/48SJE1i7di1ef/11nD17FgDwxhtv4NNPP8WCBQtw8OBB9OnTx+0Ya5UqVULPnj3xwgsvYMGCBY51/vrrrwCAihUrwmQyYdGiRbh8+TJu3ryJggUL4q233sKAAQPwww8/4NixY9i5cye+/vpr/PDDDwCAV155BUeOHMHbb7+NQ4cOYfbs2ZgxY4bb3zdt2jTcc889aNGiBerUqeP416JFCzRu3BjTpk0DAHzzzTfIzMxEhw4dsH79epw5cwZLly5Fu3btUKNGDQwePDj3mW1QDNqIiMIIgzQiorwnX758WL9+PSpUqICuXbuiVq1a6NWrl6OjEgB488038X//93/o2bMnmjZtioIFC6pWI5SaNGkSHn/8cfTp0wc1a9bESy+9hFu3bgEAypYti2HDhuG9995DqVKl0K9fPwDAxx9/jI8++gijRo1CrVq18OCDD+Kvv/5C5cqVAQAVKlTAb7/9hgULFqBevXqYPHkyRo4cqZmGrKwszJw5E926dVP9vlu3bvjxxx9hsVhQvXp1bNu2DVWqVMGTTz6JihUr4qGHHkKNGjXwzz//oECBAl7nbbgwCZ5a8+UBqampKFSoEG7cuKFZ5BwsFosFixcvRseOHRETExPStEQq5nHwRWqeb90KSNtaB+NqmpUlb7LRrJnYc6VSpOa50THfg4v5HXxGyvOMjAycOHEClStXRnx8fEjTEgg2mw2pqalITEyE2cxyFi1DhgzBl19+iRUrVuDee+/VvZza8WM/vu+77z4UL17cELGBHdu0ERGFMb52IyKivGzYsGGoVKkSNm/ejHvuuSdiA1wGbUREREREFLaef/75UCch4CIzFCUiilAsWSMiIsp7GLQREYUxBnFERESRj0EbEZGPGDAREYUe+9QjX4TbccOgjYgojIXZPYeIyG/svVemp6eHOCUUjuzHTah7QdWLHZEQEfnIZAp1CoiI8q6oqCgULlwYly5dAiCOZWaKoAuzzWZDVlYWMjIyIrZHxFAQBAHp6em4dOkSChcujKioqFAnSRcGbUREPgpFKRdL1oiInEqXLg0AjsAtkgiCgNu3byMhISGiglGjKFy4sOP4CQcM2oiIwhiDOCLKy0wmE8qUKYOSJUvCYrGEOjl+ZbFYsH79erRo0SJsqvCFi5iYmLApYbNj0EZEREREYS0qKirsHsI9iYqKQnZ2NuLj4xm0ETsiISIiIiIiMjIGbUREYURZHZLVI4mIiCIfgzYiIiIiIiIDY9BGRERERERkYAzaiIjCGKtHEhERRT4GbURERERERAbGoI2IKIywZI2IiCjvYdBGROQjIwRQRkgDERERBRaDNiIiIiIiIgNj0EZE5COTKdQpICIioryAQRsRkY9CUTWRg2sTERHlPdGhTgAREfnXsGFAeroZzZqFOiVERETkDwzaiIgiSHo6MHQoAERhxoy4EKeGiIiI/IHVI4mIwpiyeqTF4vw7O5uN7oiIiCIBgzYiogjFjlKIiIgiA4M2IqIw4qnjEen3DNqIiIgiA4M2IiIfGaHnRve9SRoggURERJRrDNqIiCIIS9qIiIgiD4M2IiIfGTEoYtBGREQUeRi0ERH5yIiDaxuhyiYRERH5F4M2IqIIwjZtREREkYdBGxFRGHNX0sbqkURERJGBQRsRUQRh0EZERBR5GLQREYURb8ZpIyIiosjAoI2IKIy5qx7JAI6IiCgyMGgjIvKREYMiI6aJiIiIcodBGxFRBGFJGxERUeRh0EZE5CMjdPShDMxsttCkg4iIiAKHQRsRkY+MMLi2++8NEFUSERFRrjFoIyKKIDdvhjoFRERE5G+GDtqsVis++ugjVK5cGQkJCahatSo+/vhjCJJXyYIgYPDgwShTpgwSEhLQtm1bHDlyJISpJiIKHmXJ2wcfaH9HRERE4cnQQdtnn32GSZMm4ZtvvsGBAwfw2WefYfTo0fj6668d84wePRrjx4/H5MmTsWXLFuTPnx8dOnRARkZGCFNORBQaa9c6/05OzsfAjYiIKAJEhzoB7mzcuBGdO3dGp06dAACVKlXCnDlzsHXrVgBiKdvYsWPx4YcfonPnzgCAH3/8EaVKlcKCBQvw9NNPhyztRESB4CkIk3aO8t57LXD5shVffBHYNBEREVFgGTpoa9asGaZOnYrDhw+jRo0a2L17NzZs2IAvv/wSAHDixAlcvHgRbdu2dSxTqFAhNGnSBJs2bdIM2jIzM5GZmen4nJqaCgCwWCywWCwB/EWe2bcf6nREMuZx8EVqnmdnmyC9jAbj94mbiHF8ttkEWCzZjs8mUzSkHZCMGROFUaMiK9+NLFKPdaNifgcf8zx4mNfBZ+Q8N3TQ9t577yE1NRU1a9ZEVFQUrFYrPvnkE3Tv3h0AcPHiRQBAqVKlZMuVKlXK8Z2aUaNGYdiwYS7Tly9fjnz58vnxF/huxYoVoU5CxGMeB1+k5fnBg0UAtHB8Xrx4ccC3efNmNIBOks9pWLx4jeOzxfIggDjZMsFIF8lF2rFudMzv4GOeBw/zOvjWrFnjeaYgM3TQ9uuvv2LWrFmYPXs27rzzTuzatQv9+/dHUlISevbs6fN6Bw0ahIEDBzo+p6amonz58mjfvj0SExP9kXSfWSwWrFixAu3atUNMTIznBchrzOPgi9Q8L1JE3qV+x44dA77NlBT55wIFCsq2GxcXjbQ0+TzBSBeJIvVYNyrmd/Axz4OHeR189jxv3bp1qJPiwtBB29tvv4333nvPUc2xbt26OHXqFEaNGoWePXuidOnSAIDk5GSUKVPGsVxycjLq16+vud64uDjExcW5TI+JiTHMSWGktEQq5nHwRVqeRyuuoMH4ba6bMMm2qzbgdyTlebiItGPd6Jjfwcc8Dx7mdfAZMb8N3Xtkeno6zGZ5EqOiomCz2QAAlStXRunSpbFq1SrH96mpqdiyZQuaNm0a1LQSUd5jxMG1zYa+qhMREZEvDF3S9sgjj+CTTz5BhQoVcOedd+Lff//Fl19+iRdeeAEAYDKZ0L9/f4wYMQLVq1dH5cqV8dFHHyEpKQldunQJbeKJiEJAraSNiIiIwpuhg7avv/4aH330Efr06YNLly4hKSkJL7/8MgYPHuyY55133sGtW7fQu3dvpKSk4L777sPSpUsRHx8fwpQTEQWHsuSNQRsREVHkMXTQVrBgQYwdOxZjx47VnMdkMmH48OEYPnx48BJGRGRQDNqIiIgiD1s/EBGFEW8G1yYiIqLIwKCNiCiMsXokERFR5GPQRkQUQRi0ERERRR4GbUREEYRBGxERUeRh0EZEFMZYPZKIiCjyMWgjIvKREQfXbtw4OOkgIiKi4GHQRkQUxpRBXPPmoUkHERERBQ6DNiIiHxmxKmIoSv+IiIgosBi0ERH5iAESERERBQODNiKiMKIMFD19JiIiovDHoI2IiIiIiMjAGLQREUUQlrQRERFFHgZtRERhjEEaERFR5GPQRkQUQRjEERERRR4GbUREYYRBGRERUd7DoI2IKIIwqCMiIoo8DNqIiMIYgzQiIqLIx6CNiCiCMIgjIiKKPAzaiIh8FIoAiUEZERFR3sOgjYgojCmDOAZ1REREkYdBGxGRj0ymUKeAiIiI8gIGbUREPjJiqZYR00RERES5w6CNiCiMMUgjIiKKfAzaiIjCiKcgjUEcERFR5GHQRkREREREZGAM2oiIIghL2oiIiCIPgzYiojDGII2IiCjyMWgjIvJRbgMmQQAyM/27TQZxREREkYdBGxFRiLRuDRQuDNy4EeqUEBERkZExaCMi8lFuB9detw7IyACWL/d9HcqSNZa0ERERRR4GbUREPvJXwGSx5D4tREREFLkYtBERhVj37kB2tn/WxZI2IiKiyMOgjYjIT3ITMF28GPhtEBERUXhi0EZE5CMjBFBGSAMREREFFoM2IiI/MUIAZYQ0EBERkX8xaCMi8pPcBEwMtoiIiEgLgzYiIh+FItDy1GMlgz8iIqLIw6CNiMhPGDARERFRIDBoIyIyAH8FfAwciYiIIg+DNiIiH+WmaiKDKyIiItKLQRsRUQgogzaTyT/rYTBIREQUeRi0ERH5iTcBk83m27IMyoiIiPIeBm1ERD7KTSmXMmjzFwZ1REREkYdBGxFRCPgraGOQRkREFPkYtBER+QlL2oiIiCgQGLQREfkoNwES27QRERGRXgzaiIj8JBQlbew9koiIKPIxaCMiCoFAVY8kIiKiyMOgjYjIR/7sPdJfJWQsaSMiIoo8DNqIiPzECB2REBERUeRh0EZEFAK+Bm2eSvdY0kZERBR5GLQREfnIiNUjiYiIKPIwaCMiCgG2aSMiIiK9GLQREflJKEraGKQRERFFPgZtREQ+8mfA5K/BtRnEERERRR4GbUREfuJNwMQORIiIiEgvBm1ERH6Sm8CLbdqIiIhIC4M2IiIf+TNIY5s2IiIi0sKgjYjIT1jSRkRERIHAoI2IKAR8LWljUEZERJT3MGgjIvKRPzsT8Vf1SAZ1REREkYdBGxFRCDDYIiIiIr0MH7SdO3cOzz77LIoVK4aEhATUrVsX27dvd3wvCAIGDx6MMmXKICEhAW3btsWRI0dCmGIiyquM0OU/gz8iIqLIY+ig7fr162jevDliYmKwZMkS7N+/H2PGjEGRIkUc84wePRrjx4/H5MmTsWXLFuTPnx8dOnRARkZGCFNORHlRMKpHMigjIiLKe3wO2n766Sc0b94cSUlJOHXqFABg7Nix+OOPP/yWuM8++wzly5fH9OnTcc8996By5cpo3749qlatCkAsZRs7diw+/PBDdO7cGXfddRd+/PFHnD9/HgsWLPBbOoiI1Bixy38GdURERJEn2peFJk2ahMGDB6N///745JNPYLVaAQCFCxfG2LFj0blzZ78kbuHChejQoQOeeOIJrFu3DmXLlkWfPn3w0ksvAQBOnDiBixcvom3bto5lChUqhCZNmmDTpk14+umnVdebmZmJzMxMx+fU1FQAgMVigcVi8UvafWXffqjTEcmYx8EXqXmenW2C9DKalWWB3p8ozhfj9bLK5QABFku245PNZgYQpVgmsvLdyCL1WDcq5nfwMc+Dh3kdfEbOc5+Ctq+//hrffvstunTpgk8//dQxvVGjRnjrrbf8lrjjx49j0qRJGDhwIN5//31s27YNr7/+OmJjY9GzZ09cvHgRAFCqVCnZcqVKlXJ8p2bUqFEYNmyYy/Tly5cjX758fkt/bqxYsSLUSYh4zOPgi7Q837GjJICmjs8rV65EoUJZupa9cCEfgHaOz3//vQHnzqV6XC45OQFAe8fnrKwsLF681PH5+PE7AVSTLbN48WJdaSL/ibRj3eiY38HHPA8e5nXwrVmzJtRJcOFT0HbixAk0aNDAZXpcXBxu3bqV60TZ2Ww2NGrUCCNHjgQANGjQAP/99x8mT56Mnj17+rzeQYMGYeDAgY7PqampKF++PNq3b4/ExMRcpzs3LBYLVqxYgXbt2iEmJsbzAuQ15nHwRWqem0wm2ecHHmiLkiX1LXvsmPxz8+b3QeWy6uLkSfnnmJhYdOzY0fF5zRrXWu/S7ymwIvVYNyrmd/Axz4OHeR189jxv3bp1qJPiwqegrXLlyti1axcqVqwom7506VLUqlXLLwkDgDJlyqB27dqyabVq1cJvv/0GAChdujQAIDk5GWXKlHHMk5ycjPr162uuNy4uDnFxcS7TY2JiDHNSGCktkYp5HHyRlufRiiuo+Pt8WzY6Wt+yyuUAkyxPFXGkI10UXJF2rBsd8zv4mOfBw7wOPiPmt09B28CBA9G3b19kZGRAEARs3boVc+bMwahRo/Ddd9/5LXHNmzfHoUOHZNMOHz7sCBYrV66M0qVLY9WqVY4gLTU1FVu2bMGrr77qt3QQEekRisG1iYiIKPL5FLS9+OKLSEhIwIcffoj09HT873//Q1JSEsaNG6fZ+YcvBgwYgGbNmmHkyJF48sknsXXrVkydOhVTp04FIFZN6t+/P0aMGIHq1aujcuXK+Oijj5CUlIQuXbr4LR1ERGpy03Mje48kIiIivXwK2gCge/fu6N69O9LT03Hz5k2U1NuQwwuNGzfG77//jkGDBmH48OGoXLkyxo4di+7duzvmeeedd3Dr1i307t0bKSkpuO+++7B06VLEx8f7PT1ERIHCYIuIiIi0+By02eXLly+gPS4+/PDDePjhhzW/N5lMGD58OIYPHx6wNBAR6RGMkjZP8wUr+MvKAt55B3jwQfEfERERBY7PHZEoe02TOn78uM8JIiIKF/4MkMKtpG3yZGDcOPFfuKWdiIgo3PgUtPXv31/22WKx4N9//8XSpUvx9ttv+yNdRERhJy+1aTt9OjjbISIiIh+DtjfeeEN1+oQJE7B9+/ZcJYiIKFgOHQJu3wbcjBASNOFWWuWmsgURERH5mesorLnw0EMPOcZQIyIyupo1gQYNgKtXfVveCL1HelpvoDBoIyIiCh6/Bm3z5s1D0aJF/blKIqKAO3vWP+sJxjhtRunin0EbERFR8PhUPbJBgwayjkgEQcDFixdx+fJlTJw40W+JIyKKVCxpIyIiIr18CtqUA1ebzWaUKFECrVq1Qs2aNf2RLiIiw/Nn4BVubdrMfq2nQURERO74FLQNGTLE3+kgIspTglnSJgj+LxljSRsREVHw6A7aUlNTda80MTHRp8QQEYWCEaomBrJNm80GREV5nyYiIiIyBt1BW+HChd0OqA2IbdtMJhOsVmuuE0ZEZHT+DNICXdLmb6weSUREFDy6g7Y1a9YEMh1ERGHPqG3aArFuVo8kIiIKHt1BW8uWLQOZDiKisBeKcdr0rIdBGxERUXjzqSMSu/T0dJw+fRpZWVmy6XfddVeuEkVEFA78GQyxpI2IiIi0+BS0Xb58Gc8//zyWLFmi+j3btBFRXhSMkjZP8wWrpI2IiIiCx6em5P3790dKSgq2bNmChIQELF26FD/88AOqV6+OhQsX+juNREQRz1/VI/25bndY0kZERBQ8PpW0rV69Gn/88QcaNWoEs9mMihUrol27dkhMTMSoUaPQqVMnf6eTiChg0tN9Wy437dLCvfdIBm1EkWf7diAtDWjdOtQpISIln0rabt26hZIlSwIAihQpgsuXLwMA6tati507d/ovdUREQTB2rG/L5eU2bezynyjyNG4MtGkDXLwY6pQQkZJPt9077rgDhw4dAgDUq1cPU6ZMwblz5zB58mSUKVPGrwkkIgq0S5d8W65PH/lno7Zps9n0rdsbLGkjilxnz4Y6BUSk5FP1yDfeeAMXLlwAAAwZMgQPPvggZs2ahdjYWMyYMcOf6SMiMqzkZPnnUIzTFqo2bUQUWaTXCfYnR2Q8XgVtjz/+OF588UV0794dppzXrA0bNsSpU6dw8OBBVKhQAcWLFw9IQomIIgnbtBGRkTBoIzI2r6pHXr9+HZ06dUKFChUwePBgHD9+HACQL18+3H333QzYiChPC0VJW6jWzaCNKLJIq1EHoko1EeWOV0HbqlWrcPz4cfTq1QszZ85E9erV0aZNG8yePRuZmZmBSiMRkd9JA5lQBCD+KmnTs55AB23TpgE3bvh/G0QUPKG+JhKRe153RFKxYkUMHToUx48fx4oVK5CUlISXXnoJZcqUQd++fbFjx45ApJOIKGACWTXR38v6so1AB20vvgg8/7z/t0FEwcO2r0TGlqtOm9u0aYOZM2fi4sWLGDVqFH7++Wc0adLEX2kjIgqKUDyshHubNmWX/7//7v9tEFHwSKtEsqSNyHh86j1S6sSJE5gxYwZmzJiBGzduoG3btv5IFxFR2GGbNiIKVyxpIzI2n0raMjIyMHPmTLRp0wbVq1fHjz/+iF69euHEiRNYunSpv9NIRBRQ/gpAgjFOmy/r4cMYEXnCkjYiY/OqpG3r1q34/vvv8csvvyAjIwOPPfYYli5digceeMAxBAAREXkvkG3aOLg2EXnClztExuZV0HbvvfeiXr16+Pjjj9G9e3cUKVIkUOkiIgqaUHREEu5t2hi0EUUWlrQRGZtXQdv27dtx9913ByotREQhYYQ3zP6qHunPdbvDhzqiyGKE6yARafOqTRsDNiIibSxpI6JwxZI2ImPLVZf/REThymgDyYbzOG1EFP5Y0kZkbAzaiIj8JC+XtDGIIwpvLGkjMjYGbUSU54WiIxJ/LWuUNm18yCMKbyxpIzI2Bm1ERCEQqJI2PdvyBwZtRJElEEODEJH/eNV7ZIMGDXSNx7Zz506fE0REFK5CUdKmZz3BCNrMfAVIFNak1wmWuhEZj1dBW5cuXQKUDCKivMXXkjZflgvG4NosaSMKbwzaiIzNq6BtyJAhgUoHEVHYM2pJ240b/lm3FIM2osgifbnDoI3IeLwK2qT27NmDw4cPIzY2FjVq1EDNmjX9mS4ioogWzDZtDRr4f/0M2ogiC0vaiIzN66Bt69at6NWrF/bv3w8h56w2mUxo3LgxfvjhB9xxxx0AgGvXrqFo0aL+TS0RkYEZoffIYD1sMWgjiiwsaSMyNq+aju/fvx8PPPAAEhISMHPmTOzcuRM7d+7ETz/9BKvViqZNm+L8+fOYOHEiJk6cGKg0ExHlWiAeSoIxTptRHqYYtBFFFpa0ERmbVyVtQ4cORbt27fDbb7/JepGsX78+nnnmGXTt2hWtW7fGmTNnsGTJEr8nlogoEPz1gJKbDj8CPVaczebfHh4ZtBFFFpa0ERmbV0HbmjVrsGTJEtVu/00mE95//300adIES5YsQcuWLf2WSCKiQPLXA4rV6vs2A/2QZLUGNmhjl/9E4Y0lbUTG5tVtNi0tDaVKldL8vnTp0oiJiUGHDh1ynTAif7pyBXjjDWDXrlCnhCKZN0GbUqDbtOUmbWpyU9J26BCQnu7f9BBR7rCkjcjYvAraKlasiK1bt2p+v2XLFlSsWDHXiSLytz59gPHjxV70iJT8VbXP6CVt/uRr0LZhA1CzJnD33f5NDxHlDkvaiIzNq6Dt6aefxsCBA/Hff/+5fLd371689dZbePrpp/2WOCJ/+fffUKeA8oJglLR5mk/r++xs79Ljia9B25w54v+HDvk3PUSUOyxpIzI2r9q0DRo0CCtXrkT9+vXRrl071KpVC4Ig4MCBA1i5ciXuueceDBo0KFBpJfJZbjqIINLLm+PMXyVtepfzd0mbkt6gLdrn0UGJKJBY0kZkbF7dPuPj47FmzRp89dVXmDNnDtatWwcAqF69OkaMGIEBAwYgLi4uIAklyg3egMidQPfcaIQ0+LukTbkdvUEbe5kkMiaWtBEZm9fvPGNjY/Huu+/i3XffVf3+v//+Q506dXKdMCJ/4g2IgiEY47T5yt8lbb4GbVlZzr8zMwG+5yMyBpa0OVmtwM6dQP36QExMqFNDJPJLJ81paWmYOnUq7rnnHtSrV88fqyTyK1aPJCWjPZQEuk2bUc6B1FT1v4kotIx2TQyl4cOBe+4BXn451CkhcspV0LZ+/Xr06NEDZcqUwRdffIE2bdpg8+bN/kobkd8Y5YGVIlsoStr8Fezldrt6x2mTlsixqiSRcbB6pNPw4eL/06eHNh1EUl5Xj7x48SJmzJiBadOmITU1FU8++SQyMzOxYMEC1K5dOxBpJMq1vH4DouAwUpu2zp1t+OMPZyQV6BcXvgRgDNqIjIPVI4mMzauStkceeQR33HEH9uzZg7Fjx+L8+fP4+uuvA5U2Ir9hSRsFg5HatLVpI1+hv88Bf3REwqCNyDhY0kZkbF6VtC1ZsgSvv/46Xn31VVSvXj1QaSLyOwZt5E449x6pN/gzYtBGRMbBkjYiY/OqpG3Dhg1IS0tDw4YN0aRJE3zzzTe4cuVKoNJG5De8AZGvBAFo0wbo2NG/x5GvJW1651MGR0apHsmgjciYWNJGZGxeBW333nsvvv32W1y4cAEvv/wyfv75ZyQlJcFms2HFihVIS0sLVDqJckXazTiRN86eBdasAZYsAQoWFP/XYoQHnXAqaTNCfhGRiCVtRMbmU++R+fPnxwsvvIANGzZg7969ePPNN/Hpp5+iZMmSePTRR/2dRqJcS0kJdQrIyNwFHNLvbt0SS9y0GKlNm1FL2ipWdP7NB0Mi42BJG5Gx5XqctjvuuAOjR4/G2bNnMWfOHH+kiYgoqNw9oERF+Wc9gVo23Nq0lSqlvQ4iCh2WtBEZm18G1waAqKgodOnSBQsXLvTXKomIAkbvQ4ne8cdyu/1At2kzyjhtfDAkMiaWtBEZW4AeR4iIwoe7BxRvgjYjjdOmZJTqkdJ0sFdXIuPgCxUiY2PQRkTkRm7aqXkzr7cPSfYgSWu5QLdp87V6JB8MiYyJJW1ExsagjYjIjUAFbf5cVs96jFjS5utvtliAZcuAmzd9W56IXPGFCpGxMWgjInIjUA8v/ipp0/5evkKjlLT5I2gbPhx48EGgc2ffliciVwzaiIwtrIK2Tz/9FCaTCf3793dMy8jIQN++fVGsWDEUKFAA3bp1Q3JycugSSUQRxZtgJxglbfb5tIKkUJW06eWPB8Np08T/V6/OfXqISMTqka7i4kKdAiKnsAnatm3bhilTpuCuu+6STR8wYAD+/PNPzJ07F+vWrcP58+fRtWvXEKWSiCKNUdu0eWLUNm3+eDCMjfVtOZITBGDlSuD8+VCnhIyAJW2ueK0hIwmLoO3mzZvo3r07vv32WxQpUsQx/caNG5g2bRq+/PJLtGnTBg0bNsT06dOxceNGbN68OYQpJqJIESlt2iwW/6xfazu+dETiayCpd1vk3pIlQLt2QNmyoU4JGQFL2lwFasgXIl9EhzoBevTt2xedOnVC27ZtMWLECMf0HTt2wGKxoG3bto5pNWvWRIUKFbBp0ybce++9quvLzMxEZmam43NqaioAwGKxwOLvJxsv2bcf6nREnhjHX8zj4DNinotJEY8Lm80Gi8WqOl9WlnM+57L23yGfnp2dDYtF39OOxWKC9BKcnW2FxeI5irGnW2yzZlKkB1i4MCZnmnxd998P/O9/NsyYof47vWW1mgFIRx4XYLFke1zOYnEul5Vl8TGYjIbabzcCIx7rWpYvd+6LcEivmnDKb6OTXpMsFu1rWd7Ic/E6Kgj6rmuBkjfy2liMnOeGD9p+/vln7Ny5E9u2bXP57uLFi4iNjUXhwoVl00uVKoWLFy9qrnPUqFEYNmyYy/Tly5cjX758uU6zP6xYsSLUSYgwzh4L7HnLPA4+I+W5+IDyKAAgJSUFixf/rTrf5csJANrLpi1evDjnL3lPGNu370B0tPa1R+rff0sAaOb4fPDgISxefMTjcsePFwLQCoAzaPvrr8WS0icxTZMmpQEoJlt29mwznnzyT13p82TfvioA6jo+p6ffwuLFqzwud/BgdQC1AQBr1qxFqVLpXm87Pb0tgPwApPvCWIx0rGs5ceJOANUAGDcf9QqH/DY66TVp585/kS+f+3qzkZ3n4nU0OzvbEOdGZOe1Ma1ZsybUSXBh6KDtzJkzeOONN7BixQrEx8f7bb2DBg3CwIEDHZ9TU1NRvnx5tG/fHomJiX7bji8sFgtWrFiBdu3aISYmxvMCYcRiAaKjQ1+1qV27dhGbx0ZlxONaLEETFS5cGB07dlSd79Qp12la8959d0N07KivpC0qSn4i1KhxBzp2rO5xuX//Ff83SU6kjh07upxXGRlFoEYr7d46flxebyh//vy61r1nj3O5li1boUoV77edL5/z1uWv3+MvRjzWtaxd69wXRstHvcIpv41Oek2qX78BOnasrzpfXsrz6OjokJ4beSmvjcKe561btw51UlwYOmjbsWMHLl26hLvvvtsxzWq1Yv369fjmm2+wbNkyZGVlISUlRVbalpycjNKlS2uuNy4uDnEqXQLFxMQY5qQwUlr8ITUVqFEDuPdeYMGC0KbFnq+RlsfhwEh5Lm2zYTKZEROj3nghKsp1mtZviIqKht6fp1yv2RyFmBiVjbls2/6XSTItxiVoM2m8HfFX/ivbepjNJl3rli4XHR2jO7+kpD/NKMeTkpGOdS3SY9DoafUkHPLb6KTnpp5rWd7Ic33XtUDLG3ltLEbMb0MHbQ888AD27t0rm/b888+jZs2aePfdd1G+fHnExMRg1apV6NatGwDg0KFDOH36NJo2bRqKJJOGP/8EkpOBP/4IdUqIvOOvBvlZWWLA5W1X/Vqk6xGE4Jdg+5ov7OzAOEJd64GMhb1HukpNFWsJGfD5nfIgQwdtBQsWRJ06dWTT8ufPj2LFijmm9+rVCwMHDkTRokWRmJiI1157DU2bNtXshIRCgxc8MjK1B5Tdu4GUFKBcudytBxBfWJQvDzz6KDBvnvq8/nhI2r079+vwVTB7jyT/YNBGUnyhom70aOCDD0KdCqIw6fLfna+++goPP/wwunXrhhYtWqB06dKYP39+qJNFClb/dFhHFDT16wOtWgFHj+pfRutB54cfxLe1v/3m/bJa86k9cNevr28d/qBM78GD+pbjgyGRMbGkTd3s2aFOAZHI0CVtatauXSv7HB8fjwkTJmDChAmhSRDpwjfqZGTuShwefFD/erQedNTWH+jBtUMhPR3w1AEvHwyNQ3pcXr8OFFHvu4byiLz8QmXePGD+fOC771yvYawpREYR9iVtFB6kJW157WZApGeA1ty2aQs2tW1Ke+TU4o8HQ1br8w9pPhYtCowdG7KkkAHk5RcqTzwBzJkDjBnj+p0fOy8nyhUGbWEmLQ148klnuxgjOXEC6NIF2LjR9TvpgxqrSlKk0nrQUQvaAl3SFuiHLrX16xmL1B8Phgza/EOZjwMGhCYdZAx5uaTNLjnZdRqvN2QUDNrCzMiRwNy54lsho+neXewdsnlz1++kgRqDNjKCQLxV9qZ6pN5ltebztM5QPGjoqQYtnYfVpo3FzUg5lAfk5ZI2O7XfHeLhe4kcGLSFmXPnQp0CbWqDENuxpM14BAH49VfgyJFQpyT0/FXq5U1Jm95ltRixeqS3y+XVB0OjUB6X3vSUSpGH56b679Zz/SYKBh6KYcbIb6bdNdZlSZvxLFgAPPWUOOi5Q0oK8N9/efeOncPfP9+I1SNHjAD69PHvdvWsi23ajEOZj3n8tM/zWD1SHfOCjIJBW5gxcsATFaVvPiP/hnBns4lVZz/+2PO8mzerTPzwQ+Drr4EdO/yeNiNTPrz6+nIkmCVtnmj9Bvt2PvoImDQJ2LvXt/WrpVfPb+DbfOMy8ktBCjyem+q/u3Ll4KdDzalTwE8/AdnZoU4JhQqDtjATCScrg7bAWbtW7KRm8GDP86oG2faeJHx9kg9Tga4eGYgu/z2VNmldK5QP5rduebddO1+DNr7NNw5PLysWLQK2bg1eeii0eG6q/+6CBYOfDjWVKwM9egAc4SrvYtAWZowc8Lh7iJTeDCIh8DQqb44PtyWjeXwnGbmkTa0jErVltaorK3+bP68pLGkLL8prtvRYOHYMeOQRoEmT4KaJQkd6PrLU1ckoz132/bN6dWjTQaHDoC3MGOXiocZd0MY2bcERHa1/XrMZuAMHUQgprl/m8afpYHREEug2bZ99pn6i+Sto80dJGx8MQ8tdSdvJk0FNChkAS9pEyt/O6xQZBYO2MBOuFw9vgraLF4EpU4CbNwObpkjkTQcNpa7swwB8hU/xnuuXefmODed5VhCpeANjcQ+25Gp9/uzyX69KldRXaLMF7o16sEra2BFJYITr/YX8I6+Wgl+8KP+sPA94XpBRePFenowgXEupvAnaWrcGDh4EtmwBvv8+sOmKNMoqc+4ebktd2YcrAEwQxLuStM5FXrpjq7DfpLvhN9TCAdTCAWyF53piwSxp81Q9Umvf+ytoY5u28MfeI0lK2v9UXjoWHnhA/plBGxkVS9rCjJGDNn9Vjzx4UPz/jz9yn6a8xpuxu6JMkjvRhg3iqO15iLu3yvbPBZHm8zql9OwXb9u0eaJ1PgqCcUra3I3tGGmys4HevYHZs0OdEid/9ZpKkWH8eOffeSlo27/f+bfJxKCNjItBW5gJ14sH27QFn6ebbowt0/lBOWp7XrpjqwhkRyT24z/QvUeaTEBUlOsPUZa0hbJN2xNP+LbtcPTrr8C33wLdu4c6JU7uOiJhFdS8RdkcIa/eAtSCNqM9s/DczLsYtIUZo108pNxdSKSdEYZr4BluPN10zZAcTMr6e3n1ji2IVUUDObi21jmcm21qLRsV5fpFqKtH+iNvw/Gh5caNUKfAFUvayO7wYfnnvHoLAFjSRsbFoC3MhGvQJk13Xr4ZBJo31SPNZsnM4fgUHAiTJgGDB8OWafFpcaOVtAHqQZueHhxv3wauXfMuTd6WtOUlbofYCBEGbWSXmSn/nFfv0yYTe48k42LQFmaMHLS5w6At+LTy+dw5105KbAJ7JAAA7N4NXL4M077/AOR00pJjIMYgBlluF9cTtO3eDTz8MDBqlL5lfWUyqQd2ekvaypYFihXTDtxCWdIWjoz4XkRv0JZX91lekpoq/zx2rGut+byCJW1kVAzawky4XjykQZve32DEh5xwonzQ2rEDaNECKFcOePVVwBTlzGCXlwF5/SktPd1lUg0cRnP843YxPUFbs2bAX38B27frW1ZrG3pK2nITtF2/Lv6vTKeetLkTrtew3AqH65nWvsmr+ywvUQZtx44BLVuGJi2hprdN26ZNwPTpgU8PkR27/A8zRi5p09umLa/HA4Hkrnpko0bOv6dMAZ74P3nQFiOdOY/vJMGm/vvN8O3pVa3Lf5dt+rnLfy2ZmUD+/M7Pnh7ItdLu7wHII50RgzaWtJGdMmgDxMAtr/Gm98hmzcT/K1cGWrUKaLJkeD7mXSxpCzPh+saT1SODz1M+myRt2qw2Az5RhpBW3t1EAZ+Wy802BQF4/HFgwADv1qcVJFSoADSRDDnnz6AtWCVtRgyAIoHW/gvX+w7ppxa05UW+dPm/b1/g0qOG17+8i0FbmAnXkjZfqkeS97wpfZHOm21lmzZAHDfs2DFJFURFRx4dsAwFof10k5sx2LTm2bUL+O03sY2JN7tFrB6pvoD0IcPTNUVPKaEd27RpM+KDlrvOcHwtyaXwZMTeTUPF26Aty31TZyK/YdAWZiIhaOMDQHB4zGfJDsuLgbRycG2bVcDSZcDKVcCVK+rLlMU5vIpJutapZ7qeeaQDUGdnq7dpU1tWq02bktq+l04LdEnb/fcDX33leblwZ8SgLSFB33x58fqQ17Ckzcnb3iOD/UzDZ6i8i0FbmAnXm6cvQZsRH3LCiad8lvYY6VLSFq4HWi5If7K9Ew41VXDcp3U/gJWoiz2a86jtrz/+AB57zPn50CHn3/46P9R2tbQNaqBL2jZsAAYO1L8N8p/ff5d/ZvXI4Dt5Un6+hYqyy/+8ypfBtRlEUbAwaAsz4Xpx4ODaweFNlSZp0GblPoEt25kJWVlADLJQDFe9WodWnue/eAxPYC76YoJXy44ZI/9ct64YyOmhN6hTOx+tbsZdt2ObNu8YMc0bNuibL1zvO0a3cKHYicXDD4c6JcYIHI2CXf6TUTFoCzNGvniweqSxeMpn6fdWtmmDNdv5m61W4EOMQElc8modWtkWcyvFp2XVzim9VQn1Bglqb5H1lLRxnDbvSPfH6NGAxbfx2wOKJW3BNXas+P+yZSFNBgBjHo+h4EtHJHn1mkbBx6AtzITrzZNBW3D4WtKWnQ3s2QNcuBighIUBaUmb1QqUQrLmvMkaX2m2aYPnCEpv0JaR4fqddps2zyeb/dzMzAQaNBDH8Fu71vm9v6tHhus1LLek++vdd4FvvgldWrRo7b/9+3ndDgQj5Wm4l7T9+itQvz5w5Ij2PIIAHDzovrpjOARtRjpuKLgYtIUZIz/w2B9K8uGWy1WFvUcGn7wkTeV7SSCxcZMJmzaL1XVcFs4jrBbngfn99+7n9TZ79HQgpLZO6bmSgHQ8gV9RHqcBuAZ0/7gf91vT5cvitv/8U+ypcvJkeW9oUVH608uSNm3K/bVzZ2jS4Y7WvmnaFJg4MbhpyQuMdC8M95K2p54Cdu8GXnhBe55vvwVq1XI/D8A2bWRcDNrCjJEu8komE1ARJ/ElBrrc4VnSFnyegjZpSdvZs24WjlDz5jn/FgTAlul8ajmjzA+d/N17pPTt99v4HA9gFT7AJ6rLS3uZBPT3HjloEPD00/JjpHx59+nSwpI2bcp9EW4lG0OGhDoFkcdI50K4HY9a3HUiZT+Gf/zR/TqMWNKWFwc6J1cM2sKMkS7yatpgtfjHHnkvedIbQh6IB0JGq8qcetDm/HvP3ghu05aSAvz7r8tvmiDpE6TAqX2I/+gtx2c91RnVaLYJEnyrHindbwm47XZZZVCgN2gDxKpF0u1LrzPeBKLBKmkLRKceNhuwd2/grrHKNBtx+BatcdoA4Kp3ffKQDka6zIZ7SZudu/NKTw+ZJpPrfjl40P0ygd6Px44VQq1aMUHbHhkXg7YwY8QbvZTWw24oq0f++mtwt2cUWg/hzmnOfZWaFoQEhcq774p1/hR1HqUPpY9emQbBi+NSK2jQ15GD+kyeqkcqzy1lGpRtz8Tvfbu7S7erdb6GsvfIQBg8GLjrLuCdd/y/7gkTgGeflU8zYj4oxy40wwr7MVSxYmjSFMmkg9yHWqSUtLk7r/QOa6Bcx8mTwLp12vMHOojavLlMYDdAYYNBm0Ft327C0KGuFxkj3ujtjNh7pM0m1nXPK7RK2lTH4pL0GFkuSbFTIvFV3tatso/SIEeASRbemHwMdtQkJwMfj/C87txmuT9Ln5QP774sl5t5lJYtE4c/CORh+UlOrVPlMAv+0K+f67RQn2KXL7tOk6XJYsEoDMKbEDOkSJHgpMsIJkxwHcMuEFJSAr8NvVjSJlLriAQAZs/2sKDNJjYLcTQM9x/pC1bK2xi0GVSzZtEYNgz48kv5dD3VltScPAm8/z5wMcC9A9o0DqlQBW2hejA6fDj0N2RP1SOlQVupEoq7lI8Zl5rquSpJKF2+LJ4HR4/KpwswyX6yGe7fjnhT0ta4sbyUTGvd3ma5vt4j9a9PK8g3Qknbgw8Cb70FrFrl/bK+CMbLsVAHbVOmuP8+/twxFMINVIfYHV+klMR4sm+fGGR37RrqlASXkfbvtGlAzZq+tePy1DOkJ1pBm7vzVRAgdrG6ezfw11+eN0LkIwZtBrd3r/yzr0Fbhw7AqFHAY4/5J11q3F0QpTcEiwUYNgz4+2/f16dXKEom9+8H7rgDSEryz/pWrhRLAbx9yPNU0ma1qT/15+ZhsmpVsXeuXbt8X4e/Xb/u7A3xxRfF8+Cee+TzKIM2TyVt3gRtZ84oltVZ0vbbb8D27frToFY90tdzyNfrjJZffgGqVxefaXKzvtNix5kBH6jaPqxCIIU6aJs/33Wa7JohezwQDF8131/USiCN4sAB8TyaOdP/6zZSSduLLwKHDgF9+3q/rLvjVKsnXCWfgrYAZqCgaBMd6msHhQ6DNoNTnpx63oCrOXxY/H/z5tynSYvJpK9N23ffAUOHAi1aBC4tdqG4uK1YIf5/W7vfCK+0awd8+KH4EO+JVrU2T9UjBUmvJDYbfM64K1fE/wM2WOyePcAl/QNeb9oE/DoX+PkX52dADOSUD/7eBG1a9IzTFgX1pwrl/nr8cfn3ntKk3LanwKYBduIJ/ApTTslfIEvann5aLN185pncvUgJ1vkcjKAtlFXdV64U++ZxR1k6bKSSmECKjnb+bbTmCM8/L55H//d//l+3EffvrVveL5Pb6pGA90Gbvhl8p1x1ZqY4ZAiDt7yHQZvBuQvajHjC6gnaDh0KUmIQmpuu9KbvT8oqfWq0gjbV6pEaJW2XryDXB9eOHblaXN3Bg2Jjk48+0r3IggXi//YAWhrISP+2wSzrs8NT9cjc0FM98to179ervsu09+PLmIIHsAotsN7lO1+vM4Ig/mvfHnjiCdfvb7kO4WhIkVDSduiQWPI9bZrrd1rtc2SBu9X5wZSHStqkJdZGC2R8CWL0MlJJm50v9+/c3vNNJu87fAv0uaxc/8qVQMOGwLhxgd0uGQ+DNoPzV0lbsOgJ2oIpFA+IeqtgeMvbBwhPJW2bNzv31d3XVjr+/uMP4PAh7Yx75RWgUSP3by3nzhV74fOqdzRPO+v4cS9WJnJX2qT8bvYc59+egrbcjMemp3qk/XwpjQvoi29QESdd5pc+XNpsQGKiYjs6qxCWxTm3adm/XyyVkVbV/P13YORI13UJgliqv2KFOA6e8pg9fdr765a0RMieLlaP9Kx3b/GUefFF/cvY05SVJVZltctLQZuU0V4w6ElPaipw551i211vGC1ABXx7xvHHcfr1196lJVTHyVdfhWa7FDoM2sKMkQepNpkAKyQRi6SvfV8upOHapk3Ztshu+XKxkMjXm4qe6pbeVHG7dEVSPVJxLO3Yrn1wTZki4MCOW/jzT/dp+fxzoE4d9/M4XL8OvPmmGO1p8cMBoVUSqXzZEA33TzC5Cdr0Vo8EgH74BnWxF+/hU5f5lR2R5Mvn/Hw/1iP/yoW6skwtQJUeo6++Ctx9t9ihiv1Nv1YnDYIgf2PvUzUjBW/a9V+7Jg82fBUJQZve3/D6686/7Wnq3Rv4+hvn9LwUtHl62RVKetLz5Zfii5ZRo7xbd14oaatc2fPyJhMwfbrrdHfna26aFOSG0Z4BKfAYtBlcIKpHVqgA/Pef72lyR/bwK+nqTe9bvMGD/ZweA13UOnQARowA5szxPK8ab6vGeKoeKXVB0auou3x7HePxJQZCOHPWuwS5s2CB+ANXrtSeR+0gWr8e+PhjXV11Xrumr80Z4P+gTRoY6akeaT/Pi0NsJGiCgCK4Ll+ndMgCQX5t6I5ZyLduKcrbTqknSMIeRJ486Zymdb6meRjPT5kO1UHdvXwQk1Y39lTSVqECUL8+sGWLd9tQioSgTe+2CxZ0nf7DD/L538QYFMjyoc5uGPLmuhlseo6ZYcN8W3deKGkrIxnuTGvdWtcWj2kJ4Ant7bigFLkYtBlcIKpHnjkDvPCC72nS4lLSJqH35vfxx35MEELzptRT6YYPtfwAAOnpnufxpiMSD2vS/KY29gMASm5d5O1Ktd24oT7dZgO2bQOuXgUWqWxv1izg7Fln4zUF6b6YO09/0KZVGuaY34ugrUQJeaCmp3qknpux2STgZUzGq5gIm1VQ3ceJQqrn9eSk7YMPnNO0HuC0SpHtBEF+rqud994+aHhTu8D+YmPpUu+2oeSvToTcMUopTmys829ZgCw5JyrhJB6/pYjk8gCj7CO7QD6kG7GkzZegWe8y7uZr2dJ1msfeI70kCOLQoVq3Pj2MdnxS4DFoM7hAdUSybRtQrZp/xxIzmfSN0xZMoXgTdf26++99vdAq81D62775BnjtNe0Hf7WOQdz2Rqgj44qc9ND9nDer1IoGtmwRuxv94APYbMCFC0C22rGkiDK++/AkvkocAsuOPbrS4G1JmzdsNnlee1M90p18pttogH9RD7shpKa59h4JIA6eu0tTS4/W+eqPoC0gndQo5LYmrbKkLRDXEaO8JZcGau46USpkvRr4xBhAuFeP9JX9EtqwYeC24S1/V4+UXhfcPZO0bevd/L6cywsWAE2aiFXPfRXotr1kPAzaDE55MZBeOHJ7AT92DJg4MXfrUDJaRyShuOm++6777/XkhdpNQBqXdO0KNGvmXNdrr4mB27p1ruvYtcu1+3jA927t1dLjTkqKWFD2yitt8cEHGpccrbtPzuiqgk3At98BC/8E1qxRmU8RTVz/ZALypV1E9RUTZNO1Xnooj9t74X5sDG9K2qxWsTSrdu2cpHpRPdKdKLNzAa2SNo3TUb4elaBN6637unXu97ue6pHe9ozpywORtw8zym1Ig7b9+4GyZQNwrQxyj3NS0tOlbl3n3247UbIZJMoMIqMFbcEoacufP3Db8JYvv1fv4Nru5rN/V726c9rs2fLOmFzS5mVif/5Z/F+r5o2uTq0YtOU5DNoMLtBd/vu7SoRW0Bbw+vI3b4qDmS1cKE+PAZ8zPD0IZGYC9eq5jsWTnQ1MnSr2GPX77+KYezt3yueRPhBv2iQOaSbpD0bGXdBm0pFx7vapCTbcgYOIQRaaNgUmTDAjOTk/Pv9cR9eas2Y5d1xCAgBx99qp3uQUd69EqFcLlJYsuwvatJZXW9bTdJtNDNSqVRU/6wna9N6w7am2WQXJMvaGX57XoZUerX37+OPA6NHa63L3kskfAtV7pH3wdTtp0Na7t1jC68tAv+6E8tokDdoKFgT27hX/dndtMloAEwzS37x3r3Nw91DRsw969/Zt3fZzXlpdNtRyWz3S3TmmtW5pl/8xMfLvevVSX7cv57LWfRkQr7HlygEnTrhfB4O2vIdBW5jxd5f//rwR6x1c298EAWIf45cvu3Q1F+gHDV8u1p7StGKF+IAwc6Z8ekYG8PLLwMCB8mlS0oftZ54BSpXyvhcxALp+WKYtRvO7htiBAfgKfTEBBw96uf/Xr3d2AZjz6t+lYwg/P/FqHbea8/tQ0mZ/UPZXSZsAZ9Rms7kuYwJ03dWlJW2VcALFcMXt9keMcJMmIbAdOejd7d4+zCjTKT3eAjU2VqCvTdI8+OMPsQaAfZvS7/Llcz6c+rsKWDhSu8eePw/cdRdQsaL/trN1q/fLSPfBmTPq80h7kfWG/QWukYK23HREcusWULMm8NJLzu/0lLSZTM7tKqsLS++vuQ3atJw+LZ6r5887a+1oXc+MGLTlletEqDBoCzP+Lmnz9wnmc9B27BiwcCGivGxLdPAgULIk8Od89SJDby/6e/eKXZyfP+953tdeA6pUcd+QeMcOsTqfN8G2Vl7Nn+86TRnMeCo5LVncc4cYAHQdGNdiS2l+1xJiPc2aOOhxParsRWs5mTX/d+Bv3O/8PsSv/e3ZU6KE53mtVjGvTX4O2kwQHDdtadAmXb+eYNR+HJTGBbyHT/EJPnB7vrrrpEMZtHmzm/RciwL1QOCuemSgrFqlPgB5IHTpIr69t4+oIS1pS0hwVotkSZv6tXr/fv9vZ73rmPYeSY9TtSrvynm8YQ9IlKVLoZSbNm2//iqOGfndd87vvK0eqcwL5TArsm366eIk7UHb03NTroK2o0fFg9CPF9UDB4DSpXPGjxMEsUviYFxM8xAGbWFEeW7541zz95saPR2RqKZ79Gjgr7/QCmv1bejsWWDoUHzxv524cgWYNdPzg7Ae994LTJ4M/O9/7ucTBLEN2cmTwIwZ2vM1agS0aQNMmuScZr+pCII4bpuyRE3q5Zfdp0M5wLW7m1x3zMQn6QOQCDHKdBe06cm2bIv2XAVwU/bZ6+NMmkk5LIhx/d5LJthQF3uQD7dydf7Yl9VzTuazpuFO7IM5Jw/8VT3SbHKGZILNWT3SJK0e6UW+V4RzeABfS8j0tGnTomeX2qvxeeLt8abctjQw9dT5Sm7Mmxe4das5mzNKx1VJnyIJCc7fKN1fyutDXmnS5u/aLFri471fRpoef3foY68i7Eu6AiU3+a+8Nyr5Uj1SyiVtfgp+pOn2tEqfn98yM8WBVGfNAg4d8nElrl57TWySMXAggD17xGo+0m6JKdcYtBmcu7fWRnzzaX+M/Ocf7V7kdu3SXj4JOoq4AODbb4ELF/DwuSkAtAMQb/PI3q3+hg3u53voIZWJR45oFtFJxz2yp2njRrGqmbLtmrQzgKlT3adD+RLL3e+9H38jHhmOwNinNm0XLjj+zM7SXl4rMNFNELB0KTB9Spbj2GmD1bLvfdEey9EXE/A2PndMexY/oRSSvU2e7unvZY9AQ+wISEmbWvVI+341Qfslimy7OSuRDteRm6DN1+qRWr9Zuj7pyw93chu0Sc+rQAZtQPBKDwHn75QGi7Gx4jWnCTbj9czPgVSxPWduOyoKV8EK2vSWaG3ZAtSqJdYqkabHny9cBcGYQVtuqler1TpR3bc3b6IXvsMdklohn+fcHpS9a2u9WNN7Dl+7Jta8cTe/286AFHy+NtmL3AExyvITWVto+zZu3lSdl3zDoM3gzpwR62Tv3evaOYARS9rs/tsHHJDUjNPbEYm0fY3JBODUKfFtzZEj8hmviIMOCyrLSXnMI40ZPLXtWLbM+dlszknPF18AX36puoxatQyt4Ra0LtoJSEcJyC+w770nn8fjQ4YpFw9jaWnA0KGOj+6qYir3h8fjTDmDIOChh4CVK2zYs0dlfkHAnj3A9RTXrz76SHszjbENAFAGFxy7/j54iNDVNy/7XzldKlEQE+nPkrYqOIaBV953ZFu9+pKqbz4EzDVwCC/CWY9I78NqU2zEffhbNi2QJW12no6ncAragjmosdq1pVw58Tc+j+moYjsKLFiAMjiPJ+Gmp4QI5s8emt2Rth3L6W9J1b33igFbrVry64I/793Sa3lcnP/Wm1v2/PdlPyg7F1Kux2aD2LZh7lw0xjYMwFcu8x84IP+cz5oGrFwJ3LrlU9BWrx7Qpo2ATb2nox2W61vIDZ+PAdWbau7J8qFYsYBsI69j0GZwO3aIdbIbN3Z9APLHDcWXk37LFu1ejaRv9m9JXrDofXiLgSISGDlSrIP4xRfyOkuKJx2tB1W3eXT9OvD225oDM2tRrtMRtAGw3Ujz2C5v3DjxZiB90yq92GkFbYMxHB/jI5SUlAodO+boFR+A53w2m4BOD4o/wH1Jm0rGKd7IKatLSX+DN4HD6dPAsaPaK1Mb9+5GioB69cR2C4LgnP/QIfcdZbgKbGmC7CHLjyVtr+FrxAhZjtqPJgj46Sfn33bZVn2vbQdC/rJBz/kaDQt64gc8i5komNPbZm6qR+p98FGW1PujvZFy29IqSr4Gbf/9B7zwgkuHti4C1UmT2rVdbRw2s9l5zREEALdvYwiGoRzOBiZhBqdWGhOI0tCYXNb29ufLBGmAY6SSNptNbD5QtCiwdq13y6q9VJSeazF/rwbeeUfshlnC3TPRM9cnim/Hpk3zqcv/s2eBO3AIqcs3oxt+8zi/p94j/cKP0b8sC4oU8WpZi0WsXunl41iew6AtTGRmape0/fkn0KeP+pslT7w9X48cEd/8Vami/r23HZHYbqZDeN9Z51mtOtflK+J19fbo8Zrp0vMgrJxmWr1aLD1askRzvXrWaTbD8dSTmqY+MLPy9zdvLr9pS28wWkFbEYjRy3AMlk2X1j7w+ALNBFSubP/TTZs2ta8U3Yopq1BKHzyU+8PdcXbXXcDYccBFaQ1FycosKjGwtOtl6WDbngaLVz6I+lrqqLekTbrf7SVtWtv0JmiLh1gUpJavjrw3AZkWN6Mlu6EnkEiA8yWKPT2BqB6ppHjGwp13um7H29Ir5bZlLyB8vEs2aRKN6dOBzp3dzxfMMSy1ri323ygICHzRosF5qh7prwBOejn15RjwZ0mb9CWF0Ura/u//xAIx1SYJbniqHpmw8BfV5dzlazlLzngz+/bBluW8yHhzTETB6jo8iwb7/dxkEnAf/kZX/CZbxudjQLqgj23a1M4NWXq8yJRp08Tz4ZtvgMce8yk5eUbevjqHGeWbJvtJ8+ijYluPyZO9X2dcZqo4aux//+ma394TuxpfuvyfU/5tLJl5xfFZbfn584Hde4Btvxx3XUHOdcGbkjbHtcTHokrlm/516+B4GjJBpbQQrr//+nX5W29pdSxvkyW9OSnHbVOSXlTdBywq3yme+KSdGQDydGtVV1Vj733z/Dnp5oWcVJhUj6i//nKm77Sz/wz31VoVaxIE39ve+RK0eVPS5ul+Z0GMWNVVJRCUtmkrU8a3/ur1HIPS32F/UaFa0jZzJvrha3h6QNHTpk2L8gHtk088L+Nu27IXED7eJS0WfU9UwQza1EraAElJG9hlt6eSNn/lj/SlXaFC+pbxx8sENfYXvlFR2sdIKEj3haeORZTcVY+sgUO+7UfJMtFfOges9GZdVkQ5aqnEwfVHSddVKqeDZrMtG89iJtpjOSrDWfyWm8DdYhErMVk2bvN62RMngOLFXZsiyI4dLzLlxRe9TkKexaAtjKxbJ/+sPCfOnYM6mw2xKhcHAKi9f54YiX39ta40qN4oUlKA1asRa8vwOmi7mZKNM2ckN0c33d0pgwRZunwoaVN7SpRedLSuOT17yj//8guwYrlz5qK45rKM2u9fvNj1+wULgPbt1bcr59yeN11Hm6CvG3jV52tFfqXc0P5auT8uXNDR9bx0FsnKTpx0nbcGDjv+XrlKXxX9LMhLCgUh8CVtsjzxsqStN6Zobj8b0faVuZD2Htmjp291B6XpfvRR9Xns2ylZAqhRRTyAlUHbubMC8PffqIP/8CgWOqpRetqmJ8qHFWXJmrcPeO72o78LnirhBJ7EL4jLKZ10N4SCv0VHy69FlSqJ/0t/o+Cmm0hPJdmRwFNJWyDauVWo4P0yWselL8GI/XyJjTXW2F96B8pOVbmsSIM2Zdu4SjiZ6+DbdMb5tlBaRV828cABl8T9H36CvfXBOLyBctAYcA/iUB0AUO/SP45p0pfCudlXO3YAy5YD27drzLBuHfDhh46mH1KDB4svnpVNETQD/rz+JsiPGLSFkfvuk39WngeaJ/D48RiP1x1dvUvFZWk/RKlRvVGMGwf88gv6nXlXMyDQqq6UhoLi9zkXZ3v1yASk45X0MfKZ3Zz3vpS0Wa1iPyfSBzzp288HHlDf1jXXmAyvvupM3PsY6fK9WtD26aeS77PF5fVWDZA++Nt7vNRLgAnNscH98Aruup5TSYPK1zLTpunoxVDQ+uCqDyaiJ2Y4PjurkWgvo3aM+Luk7aBiWDpfS9rMVy/jbmgXm9rPE7fVIwEULZqJMWO8L8qxH4+AdhsX+3bKlgViosS/ldUjv53iTEtHLMbH0O4lRu99XW1QYk/jE3rirnqkrw9G5cqp/6D38CnaYDXG4Q08hvkoXdp9j7r+FB2tXhVOWojuLmjzNhgOR56CNn+VjOZ2zFV/Blf2AMdoQZveAFntvikN2uz7zP5/CVzWzHOt358P8loL9uVjkCWeM8oV7t4NjB0LvP++bHJxXJHN+iHkkY+sSn3OPaPYbWfbgfKSIM+bfZWdnZPEf/8FUlKwO+eeuUdrGJXZs4HLl8W30gpz5qgvIgvaFCfS1q3AcZXKUmo4tJs2Bm1hRBkwKS9omidwThdIo/EO6uNfx+TCuI4SlyXdI/38s8e7h2rQltPNfayQoWucNqk9uEv2vT3oa4cVqGw5rL6QhABgMl5GQ6gPWuOupG3hQhOWLhPbBNrzSJqHa9aoB5tqv8UEATabdlzprrOEB7EE8cMHqfe4oYM3bRkFAIWTD+H/8JPb+VRLg1SCNmn+/vMP/EfH3bopNjn+tpfCevvw42tJW/fuYo1i5faUY+6ptWnTVSrsYafazxO1U15aPRLwraTIahVfnBRAmvZ4RpK8M5tyqrMqStoe7yyPpuxt39TofUCbPh1IVozQ4GsPjFevih2FKLPbH0FbgQKe5+kAsRvaIUN824a3oqLkD0SNG4v/S48RW7b2jshtcBwOglXSprcUya506cD1HmkPxuPiwjNoW73adZr0WLXntX19VkR5HbS9gO/lEwSgANLwNV5Dq62jXRewNzlROWncjXkond2eluv5SjqmPYG5Lt97kpEB3HEH0LYtvG9Ho3ID0LonaFWP3LzRhiZNxDFrfdwk5WDQFkaU574vb+degfOE/RSK/uLXrBHLyq9eVX8izQWtk9AxRpQiaItDJjIy5L9ZAIB333WOEKuDu5K2TRvFbV29Bs1RbtWGGFFtgAsBM2cCmT68IeqCBTBdvw78/rvuZaQPzF49SAlAwcs6XndplLS562WvXTvpZny78586LR6G6becbdr02LdHfGp3d7FXC9D0lrSVKSP/vHWr2JmMp1NEraTNHx2RONr6uasemUM9aBMkf7mu5OgRAV9hAL7AW5oBpDxoUy9pizOLB2eMjnYy3rRpu3hR/tlq9e1y1ayZ2FGIfVwmtW36Wj0yMdF4VYIEQX7Ojs/p20lvSZuP75XCiqc2bf4K2rwtaVN2IhOINm2xsb6td9UqeS/G/pKbcemk90X7Sx17Pu9Hbc3XdVrbqYP/XIaYuQticVXRlOPyxHqo/qLWObNDRgbaYTmK4qojLTfiinqVVqV//xVLudatzla/R27bJjZQ0xhnVi+toG3TP+IPPnUKugRzGJRww6AtjCgfzv1y81Ce9N99Jxbnf/21avGQ9CKhWorlZZs2R9CWc5LaS+rsA/2eOSubWWxUIR1x2sPNzl1J270Za50TY2OxaZPrtTYtzXV5td9ihg23M4C//nKfHi3Z2RDHUtBJ+sActLErVX548eKuD9CA/DioAs93c/v8S5cCh48Af/7h3cFtr+fvTdC2dav+oM2sclinpgL1s7fjRXyr2WZUrU2brpI2nSe3u45IxAaMgseHMLVz9ofpzoxMyFB/Urf/DpMJMOdsc8UK4JlnnPNYbuu/+3rVpg02FIYzXcqgrWFDfes5nFOYr6zu449BjPPn9205PWw23x5sbDZnSVu+fM5euWXHyB7t3qbsnQYZnSD4XioYrJK23K7HKCVt27aJJTjVqvkvPXa5ySPpvUC1pE1j3dIhOr74wvm3BfLR0F1q80uLsP/+223i3QXpzc78gm74DR/A2ZuS1i7Ru6/sNVGiYFUv5fvuO3FIn+++U/lSH2UtC+mPjDY7v9Bz7WLQpo1BWxjxNLi2Lxdxt4scPeoyyd0NzQR5l/32gMflZJawPzAqOyJxtNlRW8hTy/2sLGDGDGD3bsd662AvXsS3SMQNZ75JVp6ZHYVmzVxXNXeu6zStkjZAvXt6QEAVHEMcMhANC8wqPSv+/Is4ZqcvvvlG/7y63/1rRLuy6jkQcOuW2vbly74DlaojHjY5c6Z3pRT2AMKboK0YrriMT6a5rMaVsqflWzTCdrSBSv0c+F7SJmS7rx8SjWwIUD8/lEGhWtDmqVqodB2WbPWrhHQdUTklbZ9/Lu+swpKu/8nZmwe0SXgVn+I9NMoZLN1qlef1HXfoXxcQmOqRWt3rq/F2Gx07ip2IePvCxmp1PltK2yrKStrcHBrhUm2pTRsgKcn79r6AcUva/HG/15KbNm071Fsm+EVu8lqaX/ZnJ/v6YpGleQWU9pBdujRQEsl4Ht+79Artss9KlHD+PX++2/YC7qpHJqWKDaPz45YjvVrXa737yv4spmzS4MJ+IFy+LN+IxSL2OvLzz5qLPvmkdIw1AcKOnY6XabHRzh15771i3wHu2vEyaNPGoC2MBKSkzR2VK4K0ao3yBi5A/tb+WE4tPHc3Tvv89guJPVjTahunumGlNWuATZuAiRMd6+2Hb9AI29EKa50XQmnQZpFvLx9uIR9u4c03XVfvLmhTUx1H8A5G4wN8grHoj5F4H2rhkz2/9DBBwN3YgYbQ6vpJg95YSO3KbrXqWFzAe/gUBaFSROlhM9tzcfO35783Qds7GI2y0OpyVU6tpA2AIz+lY5ZJ2dNjgqSNmZ7Btd20KwKAfEiHYFO/abu2afO+Wqh0yAaLVX5umGADIMjWoRmIWrLdvrSRzatxcLl7yHgR4pthZdDmrVAHbd5W7Vy2TOwt2NPA3UrSkjZp0CYN7NM1RokQYAqboG3tWrHTO2WPy3pIf6P9uJXew0IVtCnn8zlou33bpUdAd0GbSueBMoEcIiA3Jd7S/SgN2rphHl7GFF15bjIBr2M8mkClFoz0JZugL4FR9qFRFMeQtOt8q825Hnu67dXP1dKnZt8+scqqnT0fzbC5r5ppp3yDvHs3cOaM+Gyl8Pff4v/SFib1sBvp6cBPP4npEKzOjW7LGWGgQQPXzebDLcQgK0+0nfUVg7Yw4o82bUpurzMqX6pVOXD7dCIISEkBamMf3sWnqIiTjq+q4zBaYp19NvH/nEdNZffsmolQI3n9rLzBVscR2GzA9QtmXLsmuTjanKeCCTZ8iYH4EgMdF1m1zd+Hv/EEfs1JtfbOsP/GkriEaGSjMFJQApc151cnX39+3EJvTMVL+Bb54d3r9oKJXm7aTqOnFWmPmyVwGZUk+1jPKv1BT0mbUiGV3lS1KE+Fe3Ju4vYCMaspBmrUXhCYYUMbrEJNHJDN6231SEHw0HukvTqmh5I2teqR0oBs7Xrn91HIxnAMxusYr1rS5pJGqw2r1wBWHftZ6yfr2adWq3x5+4OBXi4voHQ8HGdniw8qEyaIHdMoX04FY4xqdyVtGu9dsDentzhp8xXpJVytdoF0+XDiaxVS5d9q3cdL3b4N/Pqrd23+vA3alMehz13+v/ce8MEHsmhMWj3ywgX57AMHul9dIIO23Aw6rtURSTusACB55pDll2vmFYd21NoDPwIAsiweLtk2G7B5Myagr8o2gU9G2LB5M/Dxx8CpM84d7fgNigUczx1a7e/qiFVW7eNm38p5EWOGa7t0mcuXgZEjgR07kHwpp8Mn5UZWrkS7is5O4lq0cA3sSyEZ+w8AmVniy+iP30nFIIxEG6ySzSc9r+Jx2/HcxZI2bQzawkggqke65WGFVitw5AiwZJkJly+7Vo8EAAgCbt8GumI+KuMEnoGz8cibcHbpb68u0BprUBoXcA9y+vWWtqGz/5GRARQsCEHQuCnfcr4qNl9OdvnaagWGD20imyYtTZBWgyiGqy4XY/sN4FnMxANYhdrY7yZoE9BIpTRMq+vzetiFnpiBGLjvPVBasuOuRz5pOuzKJumYXfF7li8TMKTPZdyWbMr+m6U3bWW9f631AWIV+m7d9KTFM19K2ryhfEB6Ad+jMxY4PttM6i8uHCVtkqK2WjiAJ/Er+mMsAKAMzqO4pAvq//4D+rziOcqxSepHag2uHXvzZq6rR0rP6So4jhK4jNrYLwsO7b1HRiEb92ITCiFFXNYquNSybosVUDsetB56tIYckFKWtB05ouOBb/ZsPIb5juW10iK9DEofBMePB554AujXT+wd+7PP5OtQezhSf8Gi/fAlNXEi8PLLKoOXa1ALXG02sea4kkntOqsi3B6mfHnoVwvaVF9WSrzzDvDUU0CnTr5tJ6jVI+1FrZI269KStqVL5bOfPOl+dd6UKLu1ejWwZIlski8v9dSCNmX1SED6otgpStF0wV27VOn+OHwYaNDAzU5ctUrs9jaHsnrkMAzB8iVWDB4sv946StoUZ+UDWIVqOOr2GEhAOvbvF18mvfyy+JK5HnZDEFwDc5lTp5CdkoYFC4AFfwCZWSaXtzovXB+DXvgOd0CsymkP2kywoSqOoivm47bkJVZXzEdFnMKT+FW2qStXnPukDsTeNmNgCbvrTDAxaDOQ48eB5s2jMHRoU9XvPVWP9Oki7m4ZD6+KbTbgkUeAo8fNmP+7GCu5vLW32WC1AuUg9iii9dZK2uvcUAxFEs67Ji/ne6sNOLr7FpYug6w3p+yc+tOWdc665CW/GYx4SYBjgoDffzchOVl+Nc4sUEw2j10CbmPWLNffLVUIN1yqm9XGPgBiyZ47NXBI9vlVTEJTbJJ166tMEyD2rmmnrGuvXH9TbHQsb6/FUbuW22TBpKhD8fWDi5C0fo6jKoQ0TdKSNq2OaMbgTdwFeQcHAwYAf/zhPh16+VLSlo58uudV6779ITgfMDx1wGMyO4/lkrjk+D4fbmEIhmEEPnQc/z17Aqkpnn+IIHhu05a0caPHsdzU0i59eNH6bfbjzgTgf5fG4n18ggnoi+cwwzH2kM3q+iDzOObJhmuw03pA0/PgplY9smtX1/kmTBDfZtvrznXAspzqnnLSt/DSKuHSIYv+/FO+zIkTrmmyuxP/4VVMxBi41rfW+zKhb1+xD6YVK5zT1PLm1i15ZzBSNpvY1gsASpXStVlZOv1d0rZzp7wal9L48UDr1r5fJ/xV0ia996rl+ezZ4v+bXA9rTdJSUr1Bm54SYN3PAZKdKS1pe+MN+Wyezj/pSzvdtX+yssT6vXbp6eLJtWCBs9cMaL880cNT0AbJOW73Bd5CApzRRuXKQNEizu9lg9Artue2vZiid2plFcWSuIQ7SrvW/LD/BrVrRAcsU80TqxXohEX4CgNQ/L+1OPvnvyiFi3gWM9EDP+L2bWDhn67LSUnPm4wMqD4LNsY2DMBXMMGG7Gzxhd0kvIq3IXbFmyL5OfaATOnXX539r7XAetXtkxyDNgPJyAC2bTPj2LFCqt8HpHpkLpa1WsU3TPaHulvpKg94giA7AbXaqgk2jZ4XVd4A79kDrFppw+nT8lmnTQOmfgt8/z1wUBILdcRi2Xy9e0e5lE5lRjuDOFlX5rC5vHlUXlDMsLlcVF/HeFTDERTFNZUfJWqEbXgU6o1SpBcwNU/D2SDYXdA2EF+iJ37AUAyVf+Fhx5sUB9fDWAQALnkOyG/aWg+g+XELfTBRNk1v97966ClpU9IznEBCvPgAHKNSgPgf6jj+1nq/YU+PWVLSJg2IisH5gGLvan3nTn29Wnpq0wYAZosl10GbbJuSeWXVS01ABTgPDnubRq3u48vjDB5/XLHunIdSZTVDdw+N+3AnAPGcVM6n1t6rXz9g8GDg2KFsR0+Iases/fDv0kVsH2Un7U1Wuc+V12PpsfgavkY9xUsLx3q8HOBd2oOjWt6MHavdX4A0TY0aebVZl+X9oWFDsRqX1qC7b7wh5n+XLsCHH3q/fn+VtMnuYSp5bh+kXK9333UNjgB47mRLQqtaovgyx+b4W0ajtytpSVu5cvLvPAVt0vNA98P2H38Aw4c7T66dO53fSYqBglHSJj39E3DbWcsnZ113Oi/z8mupIm+L4prujm/Unt0G9MlAPeySvdQ7eyANXbtGIfmUa3ORutirem1PTwcegRiVpX8/B8nDJ6NrTo0CQF/nRbKfKcDtC/wR+BDWLCsqQ/7Wym1pXo4BA6DaARzbtGlj0GYg9hNQENQfJgPREYnbuE/liiC92Fit4izSBznlA6AlS9/bWUEAzqkMEaIc98ySLXbV7sm6dWJ+2QSggKRKUnFcwWS8ktMZiNOtNPVOFUwQZL3hqSmC67JSF7vKOOE2oHoR36EaXHvoVKN8sJReIO/H34h2sx1ArGMOwLHDPYUr3jxISq/n3lRBdPfm1NFBjc7XCtKStvY5Axb7Q/78QGJB9bSmwnPjwGxLTlVFSUmbVkAkPbk055HwVD3SX23aOuEvxOW85JBOl75Y0NpLWh2qRMGK6tUV89qAnj0E5M8vNqSXTvdET0ck0mtXyg0Tfs4pNXMXtC1cCBTFVXTGAhREqlcdQailp01r12kmndUjlWnT2oa04zclm825fIsW+rcJiJ3f2DID8zR14IDneT75xPM8gHwIEn8FbZ5K2rytIjha0aGuIEDsbbB/f/WRonPmkQ4qrxa02WyAMOMHfIZ3kU/S+6CDRoNFaUmb8gWVpzz0KWizB485b2qXL7Vh5cqcNsL2RpfQXxVYjXSfrVol1go6c8Y5zdH5meL0l1bxN5shf0gSVP8EADyFX/DPRvn6N2wQx0hTUnuXVRkn8ComyaZ13/UWliyy4cJR9WYHyuDv1i357z55UqwFK31htETxElp1vbK/TbIda8mWp78YrgIXL+q+96v1E+DYTg6WtGlj0GYgzqBN/XtPJW0+VY90d555CNpsOW/6paVnyofN2+n6Stq0OipYq+j9a7MX1U++nw6sXCG/GBTOaWujtOXjZSiQUzrgCHByLF6stoTTw1jk8pYJEBs8P4uZ+hOsoTQu4G7s1Py+BdbjMfyua1037c39PBwr9jZKgHbvn/aLdHa2s5c2PRfuH38U38K5O15rY7+smoonjpI2i032VtEdrYCwUKJ0Hp3bV+te0mZDwiqxhFL6tWavizYbkJ6OoriKvpjgcZtaHZG49h7p/K58efF/aQmwp5K2FliPbvgNgNhVtiO5knNZa19qlbSZILgOFnzyOJrPfAXdMA9ffilZh5udIC1hPTZ8Fl7DeGjtNelDn/RaqnbMSh8WB+JLPIQleAWTcx20JSS4TvPYDbeCdN6ffpI/iALuO4aQdtjibelQPqTjrm/7ebdQCLz+uvNvowZtSoIA8cIIyOvgSiiDcbVtLlwI1EnbiESk4l5s1n1cSUvalMePyzrS0sRIJCcjpOeB1w/bqakAgFGfWHHsOLB/H9yeWNKqwZ5I91mfPsCiRfLv1UraAOcYsYB47ZQFMBoBnN2JE2IALAhi0419+4Gt21zz0KLSZL08zrhOBJCIVERrBDrSY/GNN8Rq/Bs3qs7qFWn1zY2rbmP1k5Nhs4m1qWbPdh2/9namWXfQNgijVF8yy4I2ix+qkUUoQwdto0aNQuPGjVGwYEGULFkSXbp0waFD8jZAGRkZ6Nu3L4oVK4YCBQqgW7duSE527XwiHDiuVTYB1XBE1hlFK6xB9T2/QXqlmDEj99VV3F7UVS6eyjdfypK27pA3AMu4fhvRpzwPrixtN6JJUB06zq3UNKA5tMdLkXoD4zAGA/EePnVMkz5gyy9Uni8qiUjVm0y3hmKoo2tzLfWxy6t1enrglLZpe+019XnseXP1KtCqVc5yOvKlZ0/gnnucaTDDivyQ9zNeFcd0j+8mTYvNov+E0ArabqTKZgKgI7+k1XjtWbBpEwqszQnazM55pAGR9PiKtd4GBgzAKEUpsBbB5rlNm33bdjExYjs6e5szQH2fKddhLxGWtqU8jQri8m7yxpqtfTwoSwAT1omvgO29u9m5K2mzp/3WLWD3N+txJ/bJqmlmZwOzZolVcWVj5mkE0XbS66K9HW5VHHObFnfVI+3UHrTdnTOffgq8+KJ26drOnUDNmu7TIWWzSbr/9uHub7GIscWlS57n9cRTCaqv1f/PnnX+7a+gTdorpFq6c9tTqJ7hLpS/RS04l9YyjIJVdx7am5HFxqpXBZf56iuYv/0WJXIGNMtV0JbDfg7+95/72hV9+jj/vnlTvi9KIhnSTn3UqtiVlLyQVe89UvFSzQTZrV76Dkora2f8AMz/XdF5TdUasnkyVYI26bVVqgBuata8kP7+8ePF/38aqFK058HBg8CKlc40S3/b2TWHceSoeGzNnCkfQ9wuI0v/CVAOZ9Eaa9zOw6BNm6GDtnXr1qFv377YvHkzVqxYAYvFgvbt2+OWpHfAAQMG4M8//8TcuXOxbt06nD9/Hl3VWqCHAfuF/yHrX3gLX0h6GBTwNH5GlaPLMRjDHfN/+aW8moW7hyetr7wN2qQXounTXUvalOK++hSlfnAmUoAJ5XAGQxRtrC7reAhIuSF2rWt3AB560/BSeZxxCR5MEFC/vvhGOzFRbDcHwIcu+713P9ajMMSnhUKFfFmD9s71VCgrLSH5/nv1eew3kjnODkF1V6s8e9Z5eH2Ej1EFro1ayuCC7rd39u0KWbmvvhUjbVhv/0Mlw6QPF6pB24ULjpcRzoG1IXtrKs2vkhmnNbelxlNJm1r1yMKmGy49eOkJ2kwQ8BR+xkv41jFN9iChkeaNG9SPBxMElwfd2AOubb6OHBHPPU/SUlWqhwL49ltg+rMr8UqlpfJODSRFn+6qR+qdrsZ+rSwuuVaYNYI2tf1oswGDBonXnD17xGnRsKDIoc2yXiiVJeHSNBZEKj7Ex2iV85AkLWnzJdBYtw54rqfN605M1GgF0WrfeyO3QYQyaFuzBhg61H26clvSphXAujve1IK2fJK+lfQGbVlZwLBh4t/Z2TpK2s6dgyAAh6enYNw4syy/27f3/sWqPa0AkHYT2LJV+wJotlqA7GycPQs8XHAtJtaZCFgs6I6ZGI7BmIxXNIO2OGRgOAY7PmdmuXbuAijaBJtcS8G1SuikrlyRn18p5etCUd7gQvqySao4rmi2h1U7bp64NcPxd/lyrt+rWbdebFd6OKcnf7Wx3P7dpb38hfPeBVmexnG1ZrBRmxZDB21Lly7Fc889hzvvvBP16tXDjBkzcPr0aezYIY7Ce+PGDUybNg1ffvkl2rRpg4YNG2L69OnYuHEjNm/eHOLUe89+selgFdtH2avy2S9ol68ASTiPZpKSI/vFVrq8HnUhPgXofggRBGDrVkSnOHt//OADe/UB7Q3brl5XvJ0yoRemoQzkrVSPeS6Mc7lZXkcR9Rn9KAnnkZEB9Oghfn7xRfF/rS77/ak7ZuF9jATgZnBnCWX3xO4CKOmxUry4ygw6RuC039ykbf58adOmPBakamO/5ndSZtjw4YdA397uh0rwliCPf2Rk7cgkO8h+I710LRqLcjrXkd7AtUrabDltWfWexjZJ0KbV5b9z2wI6YRHevfoO7oXna6Pyza4ZNpe3o9LgUyvNt9PVj4cP3netHmmLda2vV6OGeuc3StK2c9Lr0T+rMvAE5qILfoc1VX3UaOc+EHJekmhXV/z1V/XpqmmyAQWQhhFw9qCh9nCvHDvp88/F6410DCP7te9xzEPV9dMdw0Woka6rE/5COZx1dFyU25I2wH3HR97wFFD5ozMCXwI/5eDa770n/z4gJW0a1YjdpV8taKtyztm9bxSs8rTaq18qSCsmnTrlWtImOxdyGmglJwPnTufH229Hyfbj9u3i0Ad6ZWaJv91e/RoArm5Rj/qiYcGg628DH3+MmT8JeAZzEHNgN7BwIe6H83fbr4lZiluBsgnDihVisKLMevsL2WhYUGrIKy53NPv83oQpH30ouDT1ULL3sK30JH512+u2yzST82D09vi355naet2VjN9IEXS3PweA23CtJ54B59gutjT1azUBARwW0f9u5HSbVbRoUQDAjh07YLFY0LZtW8c8NWvWRIUKFbBp0ybce++9quvJzMxEpqQ+XmpOvWqLxQJLCLutES9+rnUT7A9h8fECABM6YjE2ojkAebVCq9UKi0U8s377zYQqVQQ0aACY7Y3Pch4Kq+GIo82MzSbAqnHDwIIFsLUWW86bFi2CafFi3H0QgORtu8kkuC1ps1hsORcOcR4BJtWbfpp340MDALKDcPg+gzl45WArAMCDWILO+AO/4smAb9fOUcXSJO57dwoWFHDrlnMeraDNarPlrMseJKis22qVnAvq9WXsb8vuvNOGjRvNknXpZYOn90bSnrTcMUHAiE+AEh7Gt5PSusnYpD18COL5IUjyS2ttdllZFggCsHyNtM1XznlmMsl65pS2sbTZbLDabDq2lbNFx3krn9dRVdRm70HOivrYi0fwJ0xm132tp6StgMr4Ys7ATshZpWuaTYLrk3mhRAHVq2VDOGsFJO1Hbt5RH8gZtNxqtcFisULr2FPKTHdeCKXXowSTsxgqQ/L21mqVBpzi72+P5eiK+UhDQVh3NEbHhx6XpQ8Q+4pYuTIbLVsKOd9JH5DENNvPm2yL4FKCbFI55k0QkJ1t/73AO++Iv/mxx7Jhv0WL64xBY2yDzWZzaf8ivW9ZrWZHupXXWovFiuxsEwAzBMF5v/CG/djI7b1S7ChR/K3Z2dmwKKpEiSWI8v2vtk37NPv/guDcL1lZ3v9Gi8WZf1lZ2YiKMkO6zzIzLS4BpdkcDfvxry9f5L/rjszdOddlkS1nHWJVNPVz4L5bS5G9MRFC48aOaXf++xM25KTjXmxGVlYH8UXB7dswS8drASAIAgSLJecZwr4NW84/573VZhNgsYjni3niRMeyzpd22bL59+1zzq/FbLPhUjKw8E8zChyVd75RKOUkYpAFC+Q9JibhPOJt6bCevwVbRef6rUuXQn5Oidu/ds25TwD169yhQ0CjRvJz8iEswV/ohOcwAzbBBrNJfj0+eTkBlUrcgk3yXKPmr0XOa+3xE0B9zTndK4Lrmt8VLeq8btj3oSD5nZZsz88NcuJ9yurhtyndvuXdtaBkUjSg6HhOun+ybqbDYino1Tr9SXlNMZKwCdpsNhv69++P5s2bo04dsQ/WixcvIjY2FoULF5bNW6pUKVyUdiGlMGrUKAyTFlHlWL58OfJJ6xcE2cWL+QC0k73CMcPquEneupUOIL/sjYTU0aNHsHjxIRw6VATvvtsC0bBg9agxKH/6NICKjvmkxfApN27gzOkUzTTtWbgQcSkpuCPnFfPVq/ITyWazun3Dcu5cMmw2E4DSAMQH5Ux42QJegzdBW74EC0qWSsfJkz7VMwQAdMkZTPkpqDcU15KYmInU1Nz95myLBYBrt79SJtMtAM4BxbTqwZ85fRqpaUUAiHmhdr1NS7Ogf/99aNgwGUAHzW1WwgkkJxcBUFhMgxdB25UrVwGU0D2/O/au86Vd6HuilVarzXk8Z1myceb0OdxIKQQoSnZlpWQ250PE4sVLEBMj4MKVZEf/klarBWdOnweEirLlpG0VU1Ju4Mzp04DgPFfdEWCCxZIJIA6P4Xf8hP+DFVGOoRXOnTuH9HJJ2LNnF4rlBNjZlixAcf6p5YPLILNwffNpL2m7cSMFmZkJgMp1KSvT9YEjOzsbZ3/+GRcTqwG43zH94CHnmIZnz57B4sW7AHR2TIvHbRTFNVmga0/79i07USVnmvR6NG+eCfae7VesWA1ArDq/bft2Ry7Y94e9A5uCSAN2rMYhNEIvlbYXc+YcwJEjyVi5sq1s+vnz57B4sbNRUbPzM3EX5L0CJCefByCvs2SCgOTkS1i8OGfAopzfvH79bgANc/7eCKAlBJhw5ep1AMVk61gs6S3p+PG6QE5uWBVB58GDR3DxYiEAZbBv314sXnzK5fd5Ys/zxZ56aPLg5s1oAOJo1Nu2bYMgyF/QpKbGAOgom9akyTV07HgCjRu7tltfkdNLxbVr9wMQX+zu2bMfixe7Vr1WSkmJw+bNZdCy5Rns318JyBnOY8uWbbhxozoAZ3WEtWvX49gx+UuM9PTWQM7Zri9fnMd1Y2zFU1cn48xp57hlu3PWkZkZBeBhl6VrYx/uv/wzzg67gN2vvOIo6iuWctWR1hK4jKVLlyEuzoqojAzUySmyTkuLwaFDRZEZewAF0tJw/nx+AG1z8uE6tm79D0BLx7Zu3LiBxYvFYqIqNhsKnj2LlJQ4FEMUJuNlFP82HsA4x/yZmSZnHggCSm3fjowiRXCjWjXHPHedOYPt20oCSMDNDfKqf6mpN5EP6bihuN+JLzfE6/HR2/scZ8Ce3Zdgf74AgKwsE37+eSVOnXpItrxWFcNzZ88BKC+b1htTcRf24MKF84iPt6JggTJIuymm5+0/WuDL9lOQnh4N5bksdTvD8wvU3Hr5UB8cfS4NR7p1g/3alnHb2ejs9m3Pzw1SV6+m4Ld5CShUOBP25wM9jhw6DrNkH0SZbbDatIO+SpXOuw3admz/F7cKBibPvLFmjfu2d6EQNkFb37598d9//2HDhg25XtegQYMwcOBAx+fU1FSUL18e7du3R2Ki5268A0U5OCsAxCPDceONjxcDSq2gp1q16ujYsSouXRIvFo9iIZodOwZUqCAbRkB6Iy+UWAjlK2j/5rLt2sG0bBlMFcROB9JuygO0mJgo2Nw0Qi1WvJSsqN2fQZu7Ej6lmJhotG1bEN+5788DJUsKjvwDgHMo62vyHOLjYnPdJUlcXIxLaaTZJDiq1BXDVYzPGoj38RaOQGz0rBa0VawgoHyFCrhwwfkbd5TqjFo35INaZaRHYeLE+h7TVQg3kBFdyZkmDzcnE2wQcvZb0aLF3M7rDfu4e/bAWg89N9Lo6GiUr1AB166plCJJbjIFoy1ATollhw4PIT4eyFy6DtdXilW542JjUL5CBQgwaQaLhRITHfPoFRsXC6QBDfAvopGN46jiKAEtW64sDsVGo0GD+tiWU30oPj4WqTnNCVq1smHtWvVzSM+QA/agrUiRwppj/xQt7Hptsefpi7t/wkRJ0Fa9WnWcyClpK1euPDp2TJIt9yFGaFYTKlemruNvWa+Wkrxu3bKV4+977mmM3fjLZR6px/A7quOIy/SaNWujT5+6LtPXry+PwYPLoGnTLKxYsQItLf/gumJfliuX5LKcCQJKlCiJjh3lAUqdOvUcfzdt2tzxd5HCYkBSG/uwP2ecOumyq5Zk43l8j12o7xK0Va1aHampYprq1auDjh3vFOtCHToEjaarmpTp9dYVya5s3LgxHnpIvh/Uxnn6999S+PffUsiStF21WCxYsWIF2rVrh5iYGHz6aRTs52KNGrXRsWNN1xUBePddMzIygHHjbHj44SgsX27GjRt1UbeuMx2N6tXH2pXyPLzvvha48075ugYPjnZU4/U2X3phmuOcsCvboQMQFeXSS5/d6xiPuPhYlK9QAWXbtxd7EAFwZIyzi8QLKIOn2ncQq82npcGc083+rJkm3M4w4fuJjbDqs7tlTROKFSuCFi3kA2clJhZy/CZTcjJMZjNiYp15VBGuY8s58uDwYZj/+gtIToZN0q2neeVK7N2t3vFGvvwFXK7NxXEZjbEN0dHROHmqIn5eXgNNcr7buq20yzpeeOFBl2la1XrLlHG9x9+V03ykbFISChQEylcQ2/AD4vWlfIUKSL2hujpV3tVA0a9wjA018uVDtYrOF31XryUgX07Py2aTvpoKdkeOii8mr6eoFwxoud92GvXgbNweHWOC1U3nchUrlYHifZYsj+reeRfadXS9VgaL/ZrSOqemmZGERdDWr18/LFq0COvXr0c5yciPpUuXRlZWFlJSUmSlbcnJyShd2vVEtouLi0OcSn/HMTExiPHYdVLg2JN0wFQbNXAQgNjepyrEq6rW+G120dFRiImJwo0bQCcsQnssR5TZ7NKdfpbszYsJUSoNpm5niAMLRwFi12yalfZNbh8yrdlmWTsOASbF9n2nfCBxy6T+O5UK5DfJKuRtcdwafFe6jAmXfOi3JF8CkJ5zPyxV2oQrikIkc5QJkgIeXLtqwpsYg1cwBYDgUq2ieTOgdm0TzGaTvI1VYkH8iiddOqgQ2/ikuE1jOvLhyCF5FRSTSbutZGGk4HrOW/D0dP81qb0FsUHfOZRFJZzUtYyewASCeNyoHf7SB4u22UtRCOcwAf0QHR2DmBggOt55jTGbncefVrAYBQFRXjaOMUkaJ9bBf7goe9sprismJspxQzRLzoHoaO0qrco0ZiLOpXcze/6ZTCbN9rSWLPXWgFFmk0unHFGSCWazGTExZjTDP7gHWzEZr2gGbADwwfsmfK4yXfo7zKZoNMR23EQBRJmLSlKjfrCqBWwAYDJFIRoWFERaTrta529s2zYaWVni+tTWas9z2fogQBDE32u1AlVxFAJMiI2tKtlmdM46TY59/jrGYyTex2lUlN23ap5biShsQRNswUrISwOl1T1jYqLF9ktHjgDffKP6W1V/f84vi4qKyVVbLlkPnuZol7ZU7trQqN2n7ffvMhkn8DkmYB4eh8l0L2JiXO8Tt24BX30l/v3RR1FYvlz8e84cM+66S/y7EFJw19R3MfA4sAETYcvJu6ioGJe0Su9x3jxDxOacU4LiPhz10UfA++/DbNZut23KuadFmUzOhmiCpLouopxpjYpy3MPtBTE2mDF6dAy6dXOu8623zMiXT1F912Ry/qbYWMBshklyXlmzTfgIw/GxpJMPx/ypqY7tRknzJSpKfZgUAFcum1ALB3AYNXAlpyaGvV3ojVQTbqTKh+U5g/Iu1YXFKsByWi9gTSbtg9hsNiNK8bW4r8xws5gLrZ4hc8tqM8GabcK5o+r3smyrN1UjfZe6WN5Dd3SUye0vjo93PSdl12EhKqTP4nZGSIOSoTsiEQQB/fr1w++//47Vq1ejcuXKsu8bNmyImJgYrFq1yjHt0KFDOH36NJo2bRrs5Oaaowt0STuQt/G5o9qO/U2eVtBjMonthD9/OxmP4E/H9GzloNyS3a72cH3woNhmeds2iK3BS5XCrVviOCfK0sDMTPclXllZym5yTUhQeTPnC29K2m7ofCumfJDM7Ruy/PmARo08z6dG+iCg7GQEgMrNxOldfIaP8LHs+yJF1GPvjp1MWI0HHF2428UiC5/iPXyK91wXymFRtLcwQUBZN4WT0iqtt1xr3PksClY8goW6h3ewL6OX214aIT6214U4KKz9nIqOUj92tLYbpdL+y9t0yc4JEwCbTRxuwBG0Sbbn6NHSc9CmNo/9QeTMWfX8AdS7brYPqZCiqDmp1hlDD/yImjiI9liuun5HACHJU/u0KjiGXpjmXP/Va3gJ32IAvpJ1XPIsZqKMsq6OGzYbMBjDMQqDMBmv4KmcTj6UlH353N1A/fwzw+YIULJSM/A2Psc7GA2z5I2M2MbENX/K4pzss9UKZF91XuyUL7ZUOyLxsrs/tQ6IfHHxotjZQzQsqh0maPVa60mXS1NQEGl4HtNl97fDh8XeRLOz5fc9ZbMVe/50xh8QBDGd0iBBdZw2s4DOWODo4Cs7G+jWDRg50n1a7Z37uNyHU1OBzZvdD4tgX0aSebJxVGFGytLNwOTJmmPqrF10EwUXzUEFiNVkO3f20Htkzk1JOi072/U41JSaKnY3fPu25qveq9fE817agY9SDRx2/O3uOaA29uGOnBfgWi95tZr0A5JnMkliHT1He/Fo8CB0jGjtg0uXgOkzgJFPi1U/TbA5StkA7TFWA83dWJGA+rASNyTVMa0+tLXNKwwdtPXt2xczZ87E7NmzUbBgQVy8eBEXL17EbbEFMwoVKoRevXph4MCBWLNmDXbs2IHnn38eTZs21eyExMjsF4hYD71zHUYNze/GjhXH9ZJKVVSxkJaMqV131q0X/9/5L2DLygZiY/HPP8C58/YqK4LjDWF2tvveI7OygH37nJ9LIdmr6l/u+Gs9UspASHx4FdACHrp+0tCkibwLeW9IH/DUXkqqdR8OiBdutcG+FTM55Cvg7CRGylO3vIDKmGCwIUNnTO7rOExqomBFp5zqbt4so0Z6w3Gk0UPQJv3e/qAVZZL2aOik9dLCZPO+qzuT7G/XHrxMkB9H0rfDZjdBmzJv1OaxVyG6ol0AJguOlFIUL1K0etAD3OSZStBmrwb1DkbLOgKR9kj2v8edHdbchT1ejQlos8k7yNEac0j6awrkBxo3BqJVHlZMEGCziQ9gE8c4f2e0zZlGqxXog4koiDT5A7OiskyHDsDGTZLPWCb7XrXLfy/7q7fneW7GaluwAGjQQMAYvInxeB3Zma7H/qZNrst5kpoK5Mtwvg2Q5tUddwC9ewNTpyqCG8Uhav/cDBudL2CgDKDlC3RMmY2HsAR9MQE2G/DHH8D8+WIPy+44gkG1Q99slm0rFpkoKKlo7+hsVdJ9o/IUWvfcdPFNrnRcFvvqYcMDl39Gvm1r8T5GokpOo1C3QVvOQSPdjlqfI44YUfk256efgLVrVb/yhnQMVGW1x1hkIgrZiEMGXsd4DMBXiEWmanA3DENwKrOM9obsvfNK0hoDC1CwYIAqPPqmEbYDENAU+k6aQHfi5umSoha0HYSzGrO78T3zOkMHbZMmTcKNGzfQqlUrlClTxvHvl1+cHUF89dVXePjhh9GtWze0aNECpUuXxvz580OYat85gjZBXw94JthwH/5GiZwHCJNJvKFIH6QPHRJvHo7PuEP2YHfO3susRnHQ6WMWCJZsRzU9QByEejxeR1mcxYv4VvYWUikrSz7Y6VUU81h9TVqNYSfudikBsrMiCmcUDYhzS/km3AwbquMI/ofZXq+rbBIcN0K7Cl4k12P1C43r2jAM8Ti79H5pjjI5BuaU0ho3RkpPiYzW9wcPely9br50Q65WTdFsAh7u5PzsJmZDQ+xw/C393jFMgElWxOx2uwAQZfP+NygffGRjx+UkRqukzR7018F/rmnxohTSZoVqBj2ChbBkaR8PVsXDnrugzRNpegdhFAqpVOuVta1V9DfvTem/p0GhAcCclSUraXOWvgLt28nntQdtXbsCIz6RTJfkqdXqDJKluaQs6ZZUOtFMe26DNrvcBG3vvSeW5MchE2bYEJWW4jKPt2NTpqcDNQudx9Vrzmlq/Qhs3izfh9LjIiZG8V3O/9Lrlsv+X70aDdLWOz4+9RTw+OP60uy2tojJJAvaPsfb+BxvOwI3x/6TlrRJxyKEgFv2kpbbrse3CQJKWs45fs+Ia32An35yO+6f/VhZt9Z5cCpLKutgL6yffeH6NkcQgL17pT9PVQlJ31TlFNUe7f6/vfMOk6JIG/ivZzbAAkvOOSclqURRECQoCp5ZEcSIoqKYMRAUMQFiuBM9zPnu84ynnqKYQFTEgCKiJJEoSGaB3envj5qeru7pnunZXXaH5f09zz4701PdXV3dXVVvvak/H8Q+u/v+B7mKW5ji2O63oLeOenT8z0S+p4Pn715VjBCCSZPYNvhsz312UDpRD29nMiPwTuvg5kAseOuEk2nashL7iIumzZ+0FtpM0/T8O//882NlypUrxyOPPMKWLVvYtWsXr776akJ/tnTG6oQzkwht1sPdl48YznOOnGFuoePjT5zfW7PUYTK0yepXV66EO++Ec87hSUbFfh/beyF33RlxzBTasgRQSZHVCk88daO3wJ2LJ0h0v/8xIPb5R9rzNCM9yzVtFuJebkh6vET8iNOjXNde1aypJtiWT2EyltGSLl3U53AYhgyJnw95rbT7kcwFTwsS5cA3TL63DIERMrjySrjpRmfxUTyZtI69+ZQbuIeKUa2cgelow3bt4rVB6czpZ+BIHBwgXZ3CS9OmCWdBtIohsxCatgRCm3Vih9Cm/ezWKjvq4hIsEwnF9ep5T25O5G3a7vzSd7+CCFRjMzdwD0fwtaONmmz6ytFoyYLGuIVMPW9T7HxaEV1zkipJcx/t2MHh//yn40nXP7us/GNC2+cuy97IfvtEXmamEG/yFaIggYbcLJY8bdaz5CEHBMYt+HitrA8bltoxf/1uFxNwRoV+9934dy8rKz4Xm8X+/VB9/Y9cH9W8WvtWZzPTuYaOfBsvtP3rX44Ftn//2/nz2rX+gr71HHre3VDIsZ9ljtyu/EqsnX5ZBnP+V8Djj8OWLc5rte7T7j1YuQMcGNHg8NY5MkIF8NlnuIJxO4kOaLt222+85X5xLfdzLs9xBQ8T+WUZPPWUc989e9wV9EYrch7P0izJ+OvlL1aPtWRp6V+SaaD+zuXeP3hZuBCBChXYdVQfz12CWKgcCOqlYOK9U4synSpbqJa0TLK+xa3N7ccHXKCFQsrfJ0KbH2kttB1q2OaRwYS20/lX3G/ulyWwCVpmppJSjj2Wr7DzvpzAf/ni8/yEJlCeh4u63RUmzYUVVALUJPQPGnj68WVmh9hPFmtxRhmq6ZUs2oMltOVLujq2hUNQPdonHXecmngGjUj4MmfSqSN07wann+5dJpX1Lf1e+kXnSwX9WVimxViwHMJzc+GUYfZ2v+fwc3qxJhrquBsLaMZy7uc6HuVSDEyHMNC6NYwaBcPPVZ1wugttbkHGWnRIZsrjpWkLpJLR0H2YgrLBpeSO82kDf01bgt4/FU1bly7+7dN290LvH1AT57N5kWYs52Iex9Ta65hf/gkLFsS++z03XuaRfkQK7GMURWhbHK+YdNYpqk1waj0SlMdO5q1fpz5xcZgPJniFruBh34U0FTId/oi6H7nvf4UUs90kS46diEjEpb3yMKNNVajM2u49SN1zj9On2S20RfNFx+j6xYP2Ql20ipcyixx2cxn/8HytE/UP9evD4fHBRtV+0RN4jtMu88jY5swwO6jE+vVKkzji3HwuuURp+PS6WQsdzz4La1Z7tC8R/vwzXohvaKxBWxd34qGVtZ6DliyLLZbs3g387tKSaWmWdu70fyc2abexHHmepsu6NU6uT2xmfdFxH1lJxh7v2njdV6td/eZWxRVo7UCymka8lyCVTyLWJEhzYJFsvGz61SvcziSuZgbV2Bw3lxXzSH9EaEsjrAc92UqN1fm4O6GZM/0HukR+cIBj+TfiWr0dwltxESiTkRXVKBU1N6EVFWoG1/AGJzs0CZnZ6mLd9tnVEiwENW2i/t/H9cxkbJx5SigEw06B4cOhSormORFCZGZCx45QuRgyR+irt38EX0TzpaK2uKYHAQmF7dl9kIhYFdjla15xGIvjnsHMTChXHirn7j1g+WqKC3fdY899Mmlb+32V8ul3TESDDEGFCUSSzKLQiGraLLzMI3WsgJep3KdETueJ3PTq1sXhNB+n1dQCZPjVx4rw6BbavEx7Rw63yxRFaHvFHWTVg737wk5fH9fz07q1/VkPRKJfpxLaTMBkf55d94hDWeF8ANrxk2+dQkR48EFlMg/xz/rggJHqrXMm1TgmwC20FeyLP5jVJtUDZgbxmyjefDNcdpn9PSvLKdy4zbS/0YQ4r4l5pMBUL7k2uCWzivgpels++UQF+bKILTh6vcfZ2bE21qM1NguvIkKIvdE1NetZ/uADZ311zcv8Bd7maJ4+jm+8wTnn2OW8fNp0vIT3t9+C117K45dftI3RyDXLlsHzL8Bqb8vHQAQJQqZHf/2GLoVaMPS6rdY76rcm9y98VmzTiALCDoumoOyhfCDTyqT+ioZ6PtvwM3cxPu7nRL7QhzoitKURhgG1EviHWVg+KMtj6WQVW7aoPnUjteL28Vv9iflYnXYae/YUzU9BJ5o2Ji63mB/6teimWJa2ZwXN+C8nOswY/IS2RPQ/Ho7pHYmaFRkOn5AJTGJj1yFkhO1V5/IppCtJ1Jk9wwhG8yiRCAwbCsccE/y4ALWKmIO6z7EqeqQXMQ1PRkbSyQeo588vEteJvO0Y1/XV+zp1dnkMnKkNpIe1T16mKMRpqq0JTZJ20X8fM0b9dww8QcwjC6Fpc+NlHmkY2kKPHj3S4xaOHAlHdElNaDMMfIXa/AQT+yOPcH7fu8dtM2fvnKw+7t8t/y+dbVvtMkUR2pKxfoPB3LkN2aelO+jmVOhz7DH2olCYAs2k1r7mgn0FXMf93MIUKqyw1Xu6cJuKRtRdNvasR2dYXhFqu3SO31YcQptpupLTF8S/INbxswIqLkJG/DHC0fv8L20hX9e0VedPdq33XyT1EtrqPXO3Cguph4Z0PP8m2cSbI65cCcceq96xWJ0TPdfhsG26qD2vJ+x/3fHduq8NWe0rSOzZ4y20mRixhZWYlUHDho5Jt6MNPFZovIS2ffthw0YYMRKeedYZdMjtspGI3Xirf90h/pMxgP9xNvHBWHTeYXD8Ro9+zWpvP01bENPDwvq9LcLjhSwELaJpRVLlNu6I5URNRFLLlCS/i6bNHxHa0ohQyN9hVkcF8jAdOZmsQSIUwvOl8hPaYh1PhQp06mT787hNDlOlXFTY8UqQ6mY0s9hKldh33SzPvRqkd+KZ5byFtv37oZnLb8QiZKjJidVh6UJb9dqZDHjoJEf5oLlY9pHluB9uap/SCzA4/HDVxm2jgZJW0oTL+XusnEM4c0UOOemkxCZDdRO4cuor+27K/xkdAMPhQNe7jrpUYBetfZS3+jEqDLCTAhtG6oFL3HTvDl2PSl6usLi1T5ZWI1m76L9bvkl6YI0gV1kYnzY3XgOxn6bNz6ctFEo9HYLfGOxON6KTmeWs74MPulpJmw2m6tOWrExhAtcE5YsFzoY98QRo2dJZxjCgYnTeNpGJVNinIh7q12nm7aUFv9KQ3ym/xtYa6JPFVO5TXKRXd9Alj5t41FFw6t9cdY8+zcVpHukVeCBVoc1LYrHOof9kadpy2cYUbqHv29elckh+eX+lugdro5qsUMjRdo8ympmMjYX/t/jii/hjVUCZPHgKAJFIrA305zUUsvcDOAYlBVVmGwu/8b6OnG1qINYXUS2hzdIIx56HrCx/oc2DfQm8OY7mM/bsAS12XErrdF4L0EVlCW15h8FxUbaX0TKubKJUL37tEmQR+e9c7ogdEJTFHJbyPl7oFg5B2U8mO6lEA9YkL5zMAiTJ7hKIxB8R2tIIwwiee+xRRtNTSyk/k7Hcyh10/O1Vz0hofpOe39fAUY9fQocOOEwZ3uZEz/JB2Ex1KqTo56pPPt5912Bg1Nx6g0sQ0oWsrKimzb1qHolA//74CxWGPVnUhdkX/5WBO+e6u3P5i6rcwW1xUStv5U7MBPfuX/9SY3xdV3The7gxzhzVs85Avbpw0YX2thYtnGWOPtr+nDAgXM+ermNboe0yAodhrskmfz8N/Rjly2vbTQxMarIxZu6TqrlkOKzMTw8UcbnvotVLau3hUSAdNG1GgkAkfgsAKQttIf+VU6/LHnpydD+XEB8nwGuqnGTCfZD66sFJvMqvpEnSY/ihJuiWNtPZGBV9+kK9zS5dNZ5WLHXUK7JPC+Wu2VpGPDRtQbReyYQ298KEdRk1fHyEi9M80vRQyVrXGTS/raf/l4cp25QpStvVOJqbbMVKqIP36qKX0LZihfIT++9/oxaSmZmez7+eKxW8o2FaURBjLXHWWfaPf/wRuyb9uXD37T2YT0NWJ+xL8/Jg7Tp4QQuCHCKihLao0BV7HqLaeTfffqtSGbhNshNZ03glqE/FVzGIVidVdlGB1xnGepyDsdfcqzDmkUGEtgzyHbEDvMj2WKwoSqj+Slo/lMzSYDSPOr43bwZjLlM3/ls6JT1XEQIBAyK0JUKEtjTCMOA3mgOFezkbsIaMD9/zXEVOtDrytdlFj8QLwCoap3x+i06HR1I259M7kSq92hOqkMPXxKch0DtWyzxSz8UEagA0jMSTJes4uplfODu+zd0DzGsM4w8aOOpbqSLkEVUtWuEjdRo3JhyOCmy1nCuHiQQ9E9VZArRvb9f9kovhvPNUSgGdatXgsOhCnNscKxGxAToc9hwo4spHpxj7fJQVjjlrNCcPqElhLz7nDm6LRTAtjI9bYaLeuVMv+GGcdqrju+n6HwRLM5CqXX7YzPdt06B4mUeGw3Y7O/K0+Qj2oVAhzCMDMuI8sIL7hgznu6tP4pf+An9uKnz0SC/aYDsvtWZp3O97KB+3zU0V/uJcnovbPoZHOJrPAHjtdWfD+rWP4z0xI4xjOpWx7cgie+2HIS9sd2Zfa7FdrOv2yZ3swNc80qs+OIWDHlra05TMI7dsgeees7VSUSIR5z318mlLVdPmZWLpJ+x/+KGzPbyeB6ueXuzJUwueWVFtsdc9/hOntOvOYa77qa0INVdJsPv2tTurDz7AWKfaTR/TvRbkavBnwncgLw8WumICqQW0TTFNWex5+Pnn2PV0ZQGdd6nnunNn+Oc/TRZ6x7kJTCr9dyqLR0XF01zQY9N+MsnPhyOOiP9tOc0Czd3CFMTmIMceG7yOQRf1vXAL14n7VINXsVXslSqBEV3B/JxennvoC+BWs+kWVEFpUB9OGSbmkX6I0JZGGIZtGphoNSNRqG4/3Pl8XGeO2/InhXeiOmGwGTj1zyco5y5H51yxIr9dPo3ZXBhXXheyIn42a8lU89rlzphhf/ES2vwmXGMm1KRuXThhMPyc1YF9RFV0XjYTJ2pay+uvhxynnb6usarWQnM8M1UEy/PO01a7Tz8dw4Cc8s7B75xoypiePeDss5TwZgVdqeF25HddVCTXcq4J64qxGN/QxfH8WBMhK8qmG+veX8f9jms1MGPJfq0Idwc6MEmfY1VI+t5HJy8LEKriHUEmmYmQ3qJ16kSjW2vRewKF/I/ks8DDhCoVvCYe2dmmFrzIxq8fCYdTNLtL4NPmRn++3K+ve4L95hum728WG1D23KlO7roT39B+fpo6F/FPz3QCAMOjwtzPy1xCm19/7RDa1D/dbEkX2vZkeUdFst6fggKSPmRW2Rx20YJlcT5g7sm0Hkilg5bGKiXzyBdfhE8/VSEcNXIL/nKYhZseGZrNffvpzSdUC20FoDy7PfPvPf20wR/v7aD2M9Pifkv0XOi/+WkeggimO3eHEkYZtLjqKufvXbBtGfebmbF+OS+nWixXWuavS+Lq6rXYEiJCVf7yrWPNWnFyMyEilCOPtVElY+z+L1lC7pIFGES4gCc4aeuzsSAiBqYjUEthCBzRmgTpa6K4I0UXxuTQwquP0W/rS5zFOuryEmfxzjvx+2+jMvdxfaB+RN1PdXQ/v3mvZrL690TuDl507uRXB3/0OAOGQezGLY8qFty8xFnO8sC7DPIs27CR/3lr1oQa1UTT5ocIbWmEYUY4AxWaLFHYWL8Vcp19ZDEe21HaPZlrmDxqa5EIUsfx3MULqDBV7kEzlBHy1ELpHaKVu8idGHNJlR5xdvkONPPI7PL2OUJZyYU2a7+aV5/LyZOPouHM63guV8vx4jXK6zaXubnQ1akG+/NPJXQdfTT0Otquj4kaSHN0Qaqc3cPrk0GrnoahTmEYcGwfOLqXR1Q410XFVth9zCMf52LGMtPePTqcZGV5C27hMPxMG3ZSCYYO9TutKnuAV1Jbt4aThjiaLSFGnIQbJYWFgNWr4aQ2y2i89L2guwNK0xbEBzQRJga1a4GlMDRMk8xMbz8Mv4WV4vRpS7hf3HdnK+370p4dFoemLRlBHPMTBUD4FWWv7L6OIJo2K8y57s+rm0d6aaLAZR7poRbSV/Eropbab2cy13E/VVYsclQwFY1p7JzJ+D7q1+XKE3bMhleivtmKfzxcwJIlzl2bff0y5/I812xQCSRncA33cCMVsFUGv/wCF1+cQfgfn3pqxaYzLpbnK0w+jaP+4OAUCPx8HJNl7biaGbBnt2fb5bKd1vxMU5Z7CpsX83js8zZsofyaa0M8+5zS5mX8sSqufl6LLSfxZmzu4MV+D78zq7xXCoi67z5BV7QcizfeSFOWB/K590KPppyKL2Qyoa1+A6e/6AK6xRZy/PB7zz2FNq3oxxzLJCayiVps98gykE8GJqFAmjbdkslP8+hVS2u/9u2SniLG6wylrkeIAr92sCwO9LlWKERK0rZl0ux3jqxMZz5UHV1AFOIRoS2NyPzetl/w8kuzCGJekEc5h2rarVZv2zbl6gVn/37PCaF7gr+F6lhdkzX5GBT1ZfObUOqOyUu/UzZB61y26WbEhMmT2V7Z6XdmYRi2UBzOsQWqcKZHw7r6nJ+JRhCpUgUuughatmR/vlZI7+VHj4YTTohfFhs4EHJzeTc8BICxY6HSUW1o3w4yWmurWF79liZ9hHxOa5Gdpcwqc9zaM1dOBMNacfcKH4cy4dT97nQzMi/TpVBY66w1G1XDI7pbYaP4Wc/SN3iYoxaFmjXVfXOR6hBy+ur7ceTJMIERIxLuE9lfwF9bUzyRCxODOnW0MOmmSVaWlltIKxsKKc2sm1TNI0lB0+bYzXBOVhNxOD94bnfnafPT/gahqFpfK39RnBliCm2jT87nf2p/jnhoovRzFRTgGRFCD050G3dQlS1UiQoQjd6ZBXPmBK9clKIGIpk3D4cZKMCeXQX06eMsV/dXZZbnHu8asCY2p/tzYySWCLvApz5Wnq8Lmc3NTOV43gdgKK/Hyvjd+2SpbtrwMyHDu/9txnKuYQY3cg/3cGPC4+zFHocsE+m1a6H89wuowE5uZ3Lsd6/5bB3WJzz+5i0Jfwac7Wxg5zmzTncj98TtE5QqUQMS0yy6v5NOyIAMx1zB4EGu8iuekGR+s/oisluYb9xI83VLMK2uWkVZoOyMRo+sUDGUkrnoJmpxF+MDv3t3cBtf0J1Mlxz5Auew3aPv3U0OD3A14HTR2bQpeB2bN4fGTdRnXWhzB5Xx6xcNg5RznB5KiNCWRkS62D5ciVZ9g8wB9lDe0XnogwLYg4yffXKRCIc9VwN1bUcvZyyMWIfXuHHsED7YV9+x3f7oFmdna5pA1aqsbxDvE2dhCR5m7Tp8RF/e4GQyMuNbtrG9IMb13OfZ0T3wgPp/443AaacpVddppykngKFD40f0atXg3nuZ9stJPPYYjBsHnHIK9OkDZ5zBmzgjWDrQhTYPTVsgjj+eedg3IGT1nkOGKFtCH57gAtbQgGc5L7atgYfGNqwLbVrnG28mZvoKbRW95ccYp/wN2rQJph1JiYwMdd/cpKBps4haFNm7+zzUjaKmIhvXFj2ioR4NDiBn40Zytqzx1LSFQt5Jf1P2aSNYn1S1ite+wfzWkkV7tISXoNFevSguU924CKk+jbNiZfw2/Tp/XWJ/Nvd6X/8RqIU+c9VqzLFXxxcwvMvH6vXKK/DSS94V9KGoIf+XL483Rc0gPy7dzO9No6bzITt0v3X+WFTF9b/HEmEnm+dZ5ogD+F/cb373Psjc8dNPYfmK5OWc53M23va8TO6+WyWltvrEJT+pfqMfTsH6QOkggljHFBbTVMLoY48nLhfEtFAnFIqvdzI/qsJq2nSs52I/mbRqBW3b2fsn6qvWDRhJ5952uP+zz00gtPmc+83vGrs9LHz5gwZECJGRoVK5WHjFCwCYzO2sigZk0u+Fl2bRj/79oFVLaNI4yficSGhbn3gR4lBGhLY0Qo86FiHEbdwRV2YHlQIlulaBMQxe5kzeZVAswAmokOmGAW9ykmMCXlTe5kQ2Ux0uvRQ6dogvoL2k1sqbH0FWnyqWVwNfiAj1dGWbafnv2J1ww752qEUDO3BIZpbBy5zFfznRc0595BFwTG8Yfi7swNvf6dRTlYnj1KmoQCP33gvHH5+48oZBs2Zw8cVRU4ImTeDss6FSJd7mxGhUycSSb6GFtqwsnmFk/L4VK8KECY6ilvkqwJd0405uc0Td8orkGA75CG2ucjdyD91Y4FlFr+vRtcPhkNIkFiWalk6NGlGtk0+m6KQ+bR71XaYHHrBsXT04PBo8prhMRXe60k7V+MdddEaZwun19HxmMjNTNo9UB0teZIjHWkQu9mzAyj+ZChXYRR3WcQ4qLF6qJn46RW1/E4POfMMInnFsT6VO+oRPX9AwfSLUWAJL5vv/9dRgGIYz+qMjWmch28rqV7/4Au6+O4HGbYtLvRMt6CUIebX97nJKbRoKOYPI6MnIdRPSd9/zHzSqaP5eISJx5op+9z5RcniLVauTl3Hjntjnk8HNN0O3bvZ9r1xFRa+thPOFjktCXwz8RvNAQagKSyTiiEnlix78IgiGYWtsruc+ILngl4rQFivqCmFqPX/byY0tWlnv1i7sFUfdKuUWpvBrrZ6OQ4Xbt3EMC3PoZ5/aVc2HuJIGDZR/qVckUj8KCJOR4TyeNbe4ncksoW3c9r//HabeY7dj0MWwe7kBUOuTAwcq9wyLGvzpKOvX/xgG8HbhzHAPBURoSyP0h7iAMJuoxRgecZQZz10qzHASrHDGH3Ecr3EK72MLEVWqqJdQvaD+I/cEJqVSfRbQjVu4C1q0IHTRhfyIfyZkt2r8Z9qowIpR/y8fSz0HTRqowe0D+pNZyRZmIqY6eLn99oRw8H8udexrTfZ18z4voS0zUwkLyepTvbp2/4oyc1QHYAXNeKzmLXDbbTBAy1WnVcR07lJo3LKEriU9skMSDYdHm9Wuow2Metj2kHNQbMoKh4mSjrsJu3ePDyZiGMUjtP3tFJWL6vDD8RXakpKk/U1I6rzgnpwVhhCRuLqEwrZviJ/Lnl04BEbqWqdkWpc2bTzMdIlPsJ0IryauwC4mMjEWGjwVU0Q3xaFpu5RZcdtS0f7pPm268OcVqENn76btnsKQAQwbarvR6hPTVLupgc6UmTzzDNx8Mzz+uLKybN9e5ShctQomToQ9V9/s3CHqPHXPPfETZy+Nu3U9oTAM4S3tmky2boXJk+G3ZcHu2Z3c6th/HNMdv9tCm7OPKk4rrUHY0SvcIdWtfmzxYjvSc61a8N13xAW+SbaAlCiX1/d08LSueZkzeanmlfYG/fYUg2ovEkmes3UsMz1zpbnRU/noXaq9qGrE3B+Cml+Dt+Aea4Yjj+TS6BSiZk37uZiF2mhiv1sbqc0zjOAhruQWpsSOVUCYvDzXEHP66extZgtN+nuh34LHuZgfOaxQrl57KO8QFN/kJPKiwuRGanP45DMcdQTlITBilD2413N6oPAH9T3PtZzmdsSdli35vbJ6FrdSxdm/duniO2SakHzR+xBGhLY0Qu+ArJenwJ04OkGAkkTswFbJW4EDPqB/wn3cOdJ0QiE45hjnNt0EMyu3HPNxOszoL6l7wvAmJ7H9hLNjmp727aFXEsvN405V6rqtVOXZTtN4mxPZTQ7zqqsl/Sa/fWifL85eU1VA78wKO18/UKzPaKDsD/W8atoS2/shOzJTUSarblpqg2LXw/ewbRssdUXE/gGfJG0os4hLT17Pjz/iWIZPJZG2+/mwgqs4CyWLihoMR24+HxPGoJq28uxmMrd5HMD/2NZleeU0ShVdI2GhP/q5lZXf6LChccXs+hipa51WJ9E2+EWq9Aqb7UcQIaM0zSN9V/ALqWlzHNtD06YvJM2bZ3prYAz12FmLU0UR2po0sY/RiFWUi/pdf/utyov5008qmNLxx8MdkwqY86HrANGX6Kef4o/t9bxZ0VfDIbXAY3ElDzF+XB4TJsCkicHumS4UhohQmw2O30NEGNQ/n0dx+rMWJRedm2G8FvvcFmfUFb0fq4bSUP76q7cJbaJk1gA78U+SamJ4WnDsJ5PMatocwbFP0dm00Y5F8xnxoXyfYQR7KRe33c10xtE66lb+HMP54bCzMQz4Emdwr9uZzEQmcmPUnzEI7tyrgGqI4cPh7LO55BK1yUrODrCaxvxUrz/hMPyb02K7zaOXErK0ljQxqF7d5VJQpw5bzhsb+/oL9uD7U4Y9xvr5yelaPT8KyFB9RbQqbzPE8fuJQzNiPtDWvNMdDOTww4ErbaFeXwSJo317NY+76ip2ZVfjeu7jVu505sE8/HDfhU4zQlyEbcFGhLY0wjBse+xFePjVpEB8olhtBcdQk5vCCoAAz0fOjhMU3IKh/t2Ne3KVTya/N+8Ti6BgGCptjRdHPDeOUa8NI6Nv79i2AiODNzmZa5nG1owasWPE8NFy6PPohGkKrr46wY8HhlifWVWzJS1fXnWIo0bxU+2+hT623rb5OU6zz9krbWF+X7g8ubnQqhVs2wadOqntj3CF77ENAw6r8yft2uHStAWvn37vWrTQfAs1nzsDZ1jiZFgWu3VcUasc9YqeuHf00bL+J5u4WNXtw1zPiGcJNW3FSDt+ipu86z4fkYhqS7/IXRgGBsGFtswMPNNEuAkXw4JIIKGtCIsXzVget6JcHKRSJyvZchweM/Vw2J7s5+3xDvBgndvqqx3a3EK2VTt+Yjx3RQMWmDz2mPP3lcv28Xcuj0Ul9MIt4FqWIY4y0Qvyem1+fV6lbPAzr06El3B+fN8CTtz0VNz2koqHoAsM26MaozU+qVWLIkj+lxM8FxfyyeDc81yRSCxM70WrdxnEfVwf6Ly6otjLOsIyI3TnttP5jo58MDcz5u+8iM78XKcP/+7/KE+40gNtpWrMjF8PAtOyJVSr7t0Pb6G6HWjM4rbb1SCQnR1b1M3Px2Ht9HWT06j7zL20OLc799/v3F1fyD56YEVuuklpmocMgf/8R23PzDKYxaU8x3C+p2Nsn0+ybdV2nNA2ahRraMCLnO15LV4YwF/E+6WUq1+dbdm1WUkT8ihnzw1Mk2HDYNAgqHzbVXYSWBLnlwXUOB1dKdpBLvlkOu9tu3ZU8JHLIhEKH+XoEECEtjTCMFS0n/u5zqHJcGsT9Bdv0EDVAbjRbaO9zhN0IpGnrX4txY6CuJUqcYNpxGVLvhv7rezgUsx4aYaC5naLtGxN1tDBjtHcGlxNQt4DrTbqbO5tqxn0a/A9/803H+Bwm97EqlyuHEyZonp7w1AdYvfu8SF5U+Dcc+ExLuFTerPjMKdG9Pk8269gVUN7VTQ3txDaSF1oc/1U11+R63g++x3n/bzsqlCLL+nKRyQQXkePVkubvXrRvTuMOj8+1orXsdu1VWXbHVlBOQUlkdosodIy04vDpWlzaJ6KUUsK8ROsZL6P5ZwxipSfSACtU2YGjBgZ7NnLCPhuJyKI0J+qxrmyc72CcNhOaO9FNv5ZrItD0+aHV/RIA/iKowDYtCHCv/7lcW7XBz2oRbJ6+Zmu6sFMLuKfcb+P5GnvHRM8KH2Y6wg2AnaybK/dLM1ZLz73PaYfXhr/kBGh5bavHNsmMYEVVYs5Oq0Hn9Lb4UqQaMHkdYYmdY9IZNGwg0qeWpt8MsipaG93PxruMXUqN/Map/AbLZjBNQnnG2683pOfUDHsd2uaI72PXEkT/sHllKsQplIlu8579kAonPhBXkGzmPaxd2849Sx/64wnuMDx3WhgmwFa3XdBgSuZvWEQrlaZ556Da691Hi9CmLzJ9zFy3T289W4GVaqo4eTNN2HYMFUmIwMW0YXPUCuEY5nJWGayPmyf2zKbjvXt3btzJ7exySef7i4qcBfjAWVGHK2m57NRpXqYp5pOigq3hp1WtlYtatdSkTGDrMwlCwrm0ApWqUKn+4fzV5f+cUHHTBN7dViIQ4S2NMIwYBcV+ZWW6N3mWpyzzKnYvgJ+q+aJfH1M4gfsKVO8V9O+zjmW5s1VZ7c+yw6luJTWbOxoa2SsyYOO3qH06OE05/FMRup6Gv1ya3mZh+h1tz5vbKgNuNqEeWvnPp77eYWvd+9bkjjuR40ayhlRo0Pn1B2FLTIz4RuO4HmGEzGc1xchzGhmMZpZ7As5b8LXX/sfcwvV4pN4NrRXkHWftkED4eST449hJeMMMtH9sO8dgJHQVJPOnZVf4IgRMHIkWVnKJ0HH71xZWagR+pprKDASS6udOimfrfp4qxe2GVUcJ2rRApo1g2OPSV1m83rXdOKSVmsn8Erk6rh+wwhkHtm8mQrAE1QYK45XqJNH0Bs3qQpIbgHeCBVeIaqb8OkUh+my4dHpGQb0ZB7d+IK164glZNaJmUV61CFZtbxMV085xTm2HInqEFrzM49yKb34LLYtjqlTE9oZP8IYFYDgppvgm28SatqSRQhMhJf/XOv1HzvaYz+ZrKMeBfnFH6uxHT86vj/PcByWMAmErr1kU++IxOrgdnjYn0bJo5xnDtj9ZJKZ7f/gu4W22R80YOZMZf+6lDb8izPi9qlQQVloWH5fFl59i5dppFfAtXC2/ewVEGbfvmDvvHXPMzOgwlZ/FbAeHXpdjQ6ei7oFBXFpBxOTm0u5OlV8f86MkyEN9rruk9ci2t9cMVsaNoC+feHvXM4N3MtqGnPGGdGo1iRejDtxiBGvPTMMFU2kSxdo2jRuHz3XnKp14uibb3ISP9I+9jxUPbk3Ny08nYLuTj+YfDKg7gEweSgjiNCWRvh1Po9xCd/QJSasbXdFMfSaFMSp+YFXOION1GJfldpsPs7uZMuVg/Hj/evVv5/SPIzvZq/SNmqawdqep3MFD3Mf1zPbZZ4AMOfz8nxzwm2MuFh1yN26KX+nQYO8hQz34NzCDvjI2ZoVQDKhzRpgttbS8qOVKwcjR8L55zukwVq1nEU8KQGzNi+S+VF1P9ZWkSQduE6NZlvup1ZEdY2Z29zmVs1cPWEdNIEMoHmTiDtvuLqJl6vk4/pzmuXS7lgkDO1+xRWOClnCl98KX9wzGTXvaNzYaTIfa7tzz40/SH4+1KiBecaZ/vVCDeht2nhrYhbQjRmVbnfcpIwMOL6/2icVqW0RnZnNhXETIR0vTfNRR0K7ds5IgjHczqYBhLbWrVOLYFYcQlu16nDBqMTHMkJajrpC1Mug8K97M5Z716k4NKk+QhuofFpeE6Y2bewJoafQVoh61aoJDZs4FzAqsZ1rmAHAeTzr+O2HaHq9vDzY9leE/IXf0ZUFnr6XALzxBvz1F8yaZfu0eayX1GUdRiF9ED0nl0Ce9upagRZ0Ky09EqAX1oJTInLYxVU8mLBMondvH1n8etat3FN7hm+ZDJRv3haqxaL5WeRRzvM6dlKRLFNrAO3Z+KJ83zjt3DHHmOTkJDdha90avqWTw7/dPX/xo6bWV8VSetSrCw0b8hvNY4sHQZ7jv6gaM49f0zdxxOw7uZVPOIZ1/Z3ldPPIlIS2JMQLbYo9++0Hf300vsBpttscc+c6x75mzVWo/SWZHWOxEF5+OfHCjcUVmreDo0/8299UNPDozrNn2z89ymg+wRXYwIV+zp1U4iGuYpErt6rp6nAlRVtiRGhLI/wmC5upwWNcyiqaUK4c1K+vvQnlynm+jEtXxxsMf0g/bucOlp47mSX1bHOGRB2Qfuy8yrZKzwxnYJrKF+03WuA18+zZE2a93YDy906Cc86h/LWXM3CgUrcH0bTp6EJGMqHNkiV257pUkD17Qo8ejk6hTh344ANYsECrkzsCiisZ9aDkY3OxkExoM0NhbmcyL3Nm8tX8AQNUfO7TTwecbe3uJCdOtD8n9J8YMyYmBAJkZ/oUtvICaMm1/QYQy9ypSXRhL2a+NnBgXFKxSy+FM8+EqVOdB1tKa8Yyk69czunk5sL06RiNGjpM4GILCHpkHWuki0qGRxwVYkCygFaGdzCR5TRjyJkVHBetL1oEnTsv5rCosGbEDXw6XoNely4q+maQyXsQn7ZUNbvFkQMqZKgJTqLJR8iAE08Ifsw4oc0o/jWa4hDaav/lI+RY5/AQRHQtolcdgqSO8SKvwClFJfJrmjdf9SFPPwMvvQy/XfcPLuCJQOexNG3hkEpToydOr8VGz2dU96NOJfqxYXhHN9Q1bb9V6uy7/2IO4zVO4TmGJzzP2bzo+P4Og+PKePkdWewnk3wyyKqS40jjo7OGBnxLZ8YzleU0j034QVlReFvhGGSH9aBRNj9mdWbHxGkxM/Sv6w8DIDvb2f43cbfzkKZqV5OQ4169z/EsoFvsu+5z9txzxASB7Jrxwl04MwS33BJ95gz69g3+flnv+r7qibU4a2jIC5xLXpbz/Nb+O3bYJofFgZ/Lwf58gy/pym80ZzWNaNDA5G6tiXNynL5uVjN4CoHRzsAdK8Fqu4oVlUHK9dcnVnJdcAHcpzIr8BfVeAGPhU6P4+tE13Bj/FXJqbHLCwcIHX4II0JbGhGk85k3T60kbyE6gt12G8aFTjvsb+lEw4awa5eaV3vhoe0G4KKLnN9Dhj2yr+hqaxsyMo3g4WerVIFjj1UJRmLHjS+WaLKkt42f0Pbee8p8x0p2vbV2G55jeNxqY716dsXDYSV3ODRE55yjTHSmTFF/UXvupUvh+efhnXcoEZK1b+vWkF+tNmtaHocxTfOA1qNNgt14VavGPjtytrgmb/pENmEdqlaFM85gDSoc1vIqiUMB6vfc71G3QjR36QzHHQcnW+6HHjkXsrNVXuChwwz6a4FQZzDOPxJZhQoQDjuuP2R4HP/mm5WkY4UM27DB951xHMeDZk1MlcNPF9oSHyrGahrxBBewmMOiE0IjqVCR6kqloy6Gmv4n82lLVbApluimhuMfoMxsHUUM9bp6JX33wi20JUin50luAKWBX79+TG/v7V54+eUXRKBadH6fzDTJqw77k0Qh9MPcn1okjG3b7M/u1G0JzxOVKo2QsnLWtQz7yfR8Rl/GHqPyAkQjtHC3jzUZtvzqKufCnh7H+e5v5RjUA094cRS231zPnnDug93jyjzK6Fif6iafDDp3Vs+tnl9Lx206OoNreIILuJy/A/FBLSwzN6NZ05i/RX4l+xh7jBz2Z+bwMmcykYnc8KFatXQLbVupyi4q0KqVekf79oV9UeWdbpK6l3I8yQWM5lGu4kFWaMGkTjtN5QYdy0yqPH6fXYeodjAcBgyD334zeOUVpQgKMm8KEYktHLnf+Ro1YOjQ+Jyj7uMGtRaok8BX2ws/oW3vXniCC7mPG3jp5f+yfHm+w7VsyRJnYKH9FavATTd5C23jxvHjUec7IlwCrNAsuidPVilmk+G3kJvMpw3UnPQRZxYrtlSzTao2U525bfytSAQR2tKKIJ1P585KMJnGtTzXbILqcerXjwX2uZcbeJTLALUS43VM04SjfNxiHntMvVjTo2lsrhxjTwZ21m/NIjozh37+/l+JMAysZCe7j4+POZ5ostSvn1KAVayoBgM3kYhSJr36qu3jFwobfEZvlTtEo3FjmDRpHl9+6WOKl5GhpNoaNRz2ZK1aKXmupLBCbPuRlaVWh3/6CWLe2aCcpSxycpQA4kHHjkqe7uy/gBz3/LiFeoAHuJonGcWCBqcmrrCHpq11K7Wy/DYnMpOxrGp0DMOGqgGy5UV97Nxe1n2w8rdoCwAsXUrzZnD+yMSnj7F+veO6zHbtYdw4Z5l69dSzaqkrNm1Kflyf97f7GY2U6a2Ppi3RWLeJmnxJNx7mSrZGV+Ctw7yJSm3hzocYWGirVg0qVYq7x1Uq4++XFCVVIawoofjd59RjcrgnPO5oiclwT8Q2bw4utFXIgdOSPPKJaNsWjvPoy7xYuSp+W0EB1I/GKmjI73G/u61e3XiZkVraZPe6j07z3d/7/whxgQU+8AmI6YW+SNRy+XuA92JPLz5nMrfH7a9r2oKEQ7dcDtztY01Al0ctXkMh2JzTkKnczGcc7ZsE2i0Q6SHc3dSoAX2Oj59hr6cu07jWYw84ro/J0Uer594vifQrLv+ybVThS7rFAoX51TGnUlj5SUyezMYz7PDuu4yK0eAnBn9l16VlK9U2mR6WFQWE6dwJRl2gns21rfsA8DYnYmIwlz5aaYN9LiE3Oxu6dDGo3agcRx4J4VEj2URNXkANvNb73qyZMhoxDDvCbyIKCMcCm7jf+c6d4bXXHMERgfgFSz/hyv3sfPMNvKgpVF2GOnH49df6dreADGoudMaN9li/sM4QaNrUe25WqRLrm/ZwRAzv0UOLypwCfvX1eh7dbeMVyX93ObuBbuEu1ud4a5AFRZplpjq0SSa0TYpae4wfD23b1rCFl507Y2XcTsZXXw0PP6zcdZ5/PlgdcnLgmmtU4L3ym3vAHR9A8+aEwgazonlsjsxMrgnypEsXmDaNvRviB1SvlaxVq+Crr5SgOny4CrWr59WqWFFd/sCB8fv6CaYAHTtuStsARZ98AjNn2hrDRDg66L/9DX78UWWifu45te3GG32X/hYuVBO/VATwYcPgn66AcRdcVYkHH+zOYxPBlQvepmZNDNbHvlrP+lHfzGL9m7DjB2i+G2aMzYGp0UKnnaaiISxfrp4bULPJZs2czohRNUR2tnO175NPfOqSlxc7/3sMZOSVfyPpovxJJ8GiRQmLeAkK93Mdo2tFByG3pi368CZ67fVky27+ywn8RDtW0ZgqbI1FC4sEVYQMHaocTWdpual27aJyZWVi/Pvv0KeP8p1wk6oQVhwmgnnx7oJxAq9Vr6CCl7vPCaVgHpmVpUyRsrNgb1CtVSjkmPVkFCHNYKQg8X3QJ4tBzdGbNoULL0gcJbYgiSuT+1x/bbU/7/W6hxrbttnxlmLji0tjaG2vgnbgKOupw5ucxG5yyA+Qw9HS7Ps9nxvzKtFK+30VTVhFE/rwkWd598TVz88RtD7AA6/8k61bwYX3qOOHw/7BxnYk8RnThbZXOINP6c306c4JdUH1WmymOn9Sg21GFaZNU9v1+xcKQfXqJps3G3TurLrHCCEMQwX8ANhbrgoAf9CAscz0DILi5ssvVZeenQ0XPdGT+Rf35LboIoLXHGHwYFvo0v3gdZ7ifIaVmw5nnExkj3eZZO+9n6bNPQ+qWxfOOgv27IGPP3b643tRo4aq96+/Ore3b6+SqydEc8SvXUN1/H4+cm4K2yf7adq87q1+Dr/hM5KZzXXcH3ueJdp/YkTTlkYkDcF8pPqflaV8eWLz1mrVYvmF3KuLzZurzuNZzT88qLBVvjzKzujee+Haax31C9oxeFKxIhmZ8Rfr1Wk2aqRiaISiUd2yXdYnS5fCv/9tW7HpdO8O//0v/JzYHSTt6N1bXVNQE68YAwcqjVFmppLWR41KaKuhJ90NyuDBSpu5cqW9beZM9Yx16IDtUOgR8UKPHmlNxCpUUAPclCkww+1bHwop9eagQfbLYRhqVNRHUM0I/4ZoMtXx4xOswN55JxhqwvIf/hbM7KV+fTgvsQO7+/39lRb8Skv7+FqBtfWOsJ0DfN77ShXtRLtemIRYQTMihNlCdW17QMJhrLxsbk4YDBdeqBzbvUhV01Yc5pFbt8Zvc5snWucJKlS67304I7jQZplbnTscmjYJtg9nnWV/vuGGIrVLfoF/u554gjO9o9fY4icwxglsdeuqlb8oyXzhEo1jS39xfn+NYb77WnnnkqWs0NlHFm8zhI84jsGDVZLlRFgCjPu4PXoYsfr9SHterek02dpJRU/fH7fQ5hWpMoYBhjvfRhQvgaxPH8hooPrzjAyVpHoDyqykdVSh9yPtk47NVrTdP6nBh/RjP1lxfkZkZXELU5jBNaxYafCgT+yUNWvy2b7d1iztobyv6b3SqsXfwL594emnYX10TS8cdo7z+hjl1Vcbhlp/at5cLfB6sZrGfHHmA9CvX5x7hTUf8vJv1Uk13c2oUfDUU8n3C4eVtYw1vwOYM0f5mAG0bOnfo+t1btFW3figc7PC+u66hbZ3GMwS2vI9Hbx3iJJokXwnlciLmsAWShlwCCFCW5phGPFPbFaWmgv36eOzU61aNBnakYUcwV9Ui/u5XLkirnRXrhzXo919d9FeLq+OrDCCYL16Sqjzm3gPHqx8vw452rZVUmsxEwoprafbrCK24Hf55Uo75rajNM3YBPNPaqjn0Sv8oG60H3RU6dpVjXjDh8dWmRM+mzVr8sYJs/gwmlsocGTDo49OqBVzv2P3cx2gTUC0Aj+1ia5E9OnjeczsLGh/GJ7RufSJkJepcIvmKDV5MqIv4WvlzvL+Oezfb7hvTbZL+NdNe6dxLQvPmZa8PkmwkoafrKxC6XC4Emx1S1mrvn/4JCZ24773GeHgz4NlbpWZoUyzA6HfvCpVimQ2mp/vfX+8fPrc5boeZWtDkrJvn+qco6sgyaJzpnJNtdjIg1yl7az+bd8BW/9Sn3XBNJnAqPuxzZwJG6mVoLStmY8LxhM9qRXx7tdcZ+CfRXRmZSvbvMPyI3ObHvr5pgHsPbp/gi7O48Y2aBAz1w6HYQ85TGAy73N8bAHhUUbHhYJ3s4XqPFD3XiYyEfBeDFXtYXjXQyMcVpb51jszmwsxq0RXC7KyqDmsl//O2jFGjPBOXQTOVybowrYXWdlqZ7e295571P/CatqKA3eApeOOU+PsnDnwySf+gn8oBP/HqfxEO/K7KMd8v4XYuGe8mDRtrzOMmVxNhDCffpr68dztXpTk8YcCIrSlGaYZ/ybt3q0sxLzsgS2MMZfzSmUPdZPnOQpbO5vOnYsWmtWrA0w5cbOQflSrptSe7qgddevGBokHuYo9HbrH+5GBGrmHDVNhqoKOKhkZcPHFDtVasmfTEYgklV4wQZXiq2v5fsQXMKwEZ2eeyeb+dvCEX2jFk4yi1fTRLOx+BR9zrOOI993nfH//8x+llQV4PhrJq0NHgs0woqZZpz7cl6t5gJ/HPoqdWTUx7jZz59zTfbVCRHzNwFKhZVTrV7cuXHSh8skAqK9HSYzWa1+SBMQWcc2UgnlkoSZxusRTvTp/9hpWiIMoTNPfZ9mNXq7rUYn9WOOw/GWjS+W9j05cPBXt4S4q8BPt+T+Uc2BeHrzwgtLc/LE2erxkgXcI8RZDeIYRjlxTtuCRmOc5N+mE1r2gWEAGS9rGS0eraeT4nigwSePLTgjcxV3H/Y5cLPpYaWJryy2fpWST553hyjHzUT/tVSpYx1hDQ7bdfDc8+ijMmMHhvZJH6kk2H+nYUcmqiQQyneN84sVY7sm60LZ3r215737O3Asffu97onRJqeAWVkIhdS2JFklCIXifATzIWLIqqPvpFsAt3Pe0uDRtOm7DniDPkbuM5acreCNC20FAOBxMoAkqRFmdj2VKcMcdqdfJ5ZrB/ferbVOn+u+j4zWHE6Gt7BI5+2w2tGjHFG5hI7XZekoC083Bg5WvVRFINhF4663CHXeP4b9y4jdAxVY+9TB61sMeCrG/tj07eIQxLKA7Pcd05uMth2NNOkMhmD8frrtO+TqAGpwrV7ZT8FlhtMMhdVJTD7fnRbT9zzwTVq4vz/QZhgr0kmTUfJdB9gJS1EasWjVn2j4jpNwA88ngF1qpPifRqlMA9DyK+gQqWZTERLgnYnMrD2Nzo2ASTeBJz8iRSvDp21elrRg2TJkvA391H8w/uIzVNAoUfc3CCjYRWGgrTL2vvFKpTM8/X32POslVrpz4EdHr9F/88y/8SHv+wymAraH64QfYsdNZTh9nvDRnISK8xUnMw6nV8c27qZFPBp9yDH9VcwY/WNrUmdclIyN+fNVNc61IljvI5VbujG3fRmXu5QZ24/HsV6iQ8Hn9HfVCvc5QdlLJ0bD6PQwRcdxg04SjkwjWOsmE/CDo75EV4THogJ7sXFlZyrd9wYJgdXn3XfX/jDOcQ4yVqkc38NC1UnqbjhihAkjreF3ODz/4+9Glyt//rs5x113B99HrbF2L33NfXEKbn0bU6xypCm3nnefMEyvEI0JbGSKoBs3qYI88Ulm+FOYlCYedg9i116pVUndH50eFCmoS+s039jYR2tKPYrMvr1KF33r14/foSvSBzleebLAorGnIrIwxvlHp9GPqYbdjEwMtwmft+vbDnt+kBd/RkXcY7EhVoPte5OXZ1q6vv66c27/80nn+fWSxiZqqcRs1wtSXpmfMcFbw6qud9akd/bl8ebj9dpg1y/Mar2EGt/63l72a65WQHKVtqdepNlfwCCYh9W5bPoEuLex13B9/AA/8fLAcE9joJXbq6F020b4A80JHO1KbJNw3qKatZ0+lIj3rLNXIgwcr82VUP/odnbiLWxjDIzGTWjePMIbXGMZsLuRJRsVMez1NEb0m4XobBXn3qldXkR1uvtn2GdVma82a+uwHMQHiUUbHIpx68RBXxSIazqMnJkbMBFZnTyVbUPPKa+bFhAnOPHV+7IkKU7sq1Ixtu53JbKzpjMiakaHyfltMm+Zvzv8nNR3fl9M8Lu2MRaJ+aAq3cBn/4B0PwVcP1rCTiimI+zaWT7w7amKyenmhC22p9u1Bxv2MFHxNM6NB0l5+WZkXnn22Co9vXdPQoSoVkruL04//9NPxC8temrYirkM56NZNWVX5BHv2xCvOQJDFCve+qXDppcoQxnJb19dX3fcoUDoGbZ9nngmWRuVQRoS2MsRrr6kX9vHHvX8fPDjeNy4VPzK3SZl75TFVn7Tu3Z1mOjVr+pcVDn7CYXs2WdpC2xVXFO64K0ItuBYP/6zhwx3nfBvbzDD2XjRsSP/+0LYNjLzEtmHJKhfiH1zO69GgDJZbn/4+6Z+bN1cmZLov15dfwjnnGIz6ZbwKHJSTA7m5LD39dCKTJ6vvQ6NpNjShIVX2kMMRg2upmdDFFztsZRbWOoEdVOIvqmJ06QxXXsmwYcrMaNAglB3SffepiKZaoJo77gz5hlC3+NspHj5YV1+topLqmrboc6VPphw+Uy7cz2HDdpUIVyzvXdhFOMAzvOnC6AzM54HUJ6wRwvxKS2ZwjaPMRmrxAx14l8F8RVcWYPuqepkiPp8x0pnUDFf4/6BCm5twWDnaAG3awhG97HbSA2dYCz0bqO0wV9SpnKvMyqwAGHvIYSwzPcvuyamuFh2uuYb59EiawHr0aJg4MXkfczUPxD5/12QY39KJGVzDRmoTCjsbNjPTqV0cNw5+0YKqeOXJAwjVr6ciXrrEquu5L3ZcL4YPt47qfRH7NfPfDzmONTU7M5sLvQ/mgWnC22+r1/j11+N/L0mh7UCOBe3aqb6yTRvn+R5+OD542U03qX5j7FjvY3kJbUUKyOZBqsfT52DW4uBDD6kxJJnGLpnvox/Z2TB7toou/NprKjCZxYEe1wUJ+Z92HHNMhE8+KdyT368f7Njhv3L19ttqjlUcGq1w2DNAYKGYPVuZGfTrVzzHE4qPIKvVQQlp0SMLlecvBZLZxRfW+lINSgZPMoqufEl7fuRjjuXS3r2Zd3Y3rvrcpD5/sAJbFRG71nLlaP7SXTTPzIQse1bklp+++EL9P/FEFfVVjwLox1FHWSk9nEu/eTVr2i/qoEFqFhPUaaBVK8fMdD497N+slR8rkRWwoNZJvM3JgMFNKlUkr77q6nOsZVRtdL/6ugz2FvSBCWr079IZvnGFh45b0LntNiUNnnIKxvePxTZbk82w1sdtym3Bpu01qckmIoTIJyOWSsE9yfjHP+C9d7MJ4hKXTNMWnngLt05olLiMxzF0Te48evoKtGtoQPeQM+LKPHryhdEDjtmnEm527QqTJqWuafOzr+vaFf7zH0IGHHlNb4Z93o2/8SqvM5SmrKAH86lqrlTn8Uh+/Qut+IYumDVaMHeKSu77d5XzWUUX9BAWlnQ4k+NzcqBNGypXhs+29SafDM7nKc8q7t5tfz7uOOBD70uxotUBbDGrxvKbQnwbbdgAQ4Y4tTMffwybOIuzeClOYLqL8XTiW1ZUGoRpQhh7ceO/nBALmOTlf/Taa2p9ZcIEZcHyxhvxwbR0oW0f2Xx22Gi++lh9t4TmE05Q0ZP9OPJIJdB4karQVhgf4dtuU/lggyR0LgkaN1YW7H7zI6/rCqrVOlDo/mXWONOpE2zfnnie99ZbtrloYSlXTj2nO+z83nFtNGSI8k9NpD0rSmyEQxER2tKMoq7cJHpRUzAzT0oopCaVV10V3EHYjwsuKJ46CcXHf/4D77wTy4Ve7FRInve2UPznP8qnwSsFhM5hh6n8Y7ofVhCsyckCurOA7mSTx16yeQEgS4kCK2jm2MchoHpoMNzvpKVBO+MM5X+RUtCIZJVPJZvqxRfD//0f9z3Wmyz2sQyP+P9NmyofrQoVMO+Jn9X49jmVK8PGjepzdjbh8rZAnzR32c0321ECunRhS/8z4M1XAPitYV+OHteZjNHTY8Ujmdncxh2AwfF983n/owxu4U4a8rtjkrGuYkvq1IHscgZ5SaoAiTVtV/AwM2smn716CW17NGHiWc7z1bY8XGk8TQf8zqIF7zKXPixFqRPKR1DSwLBhqmCrVhh/2MK3Z6CQ2rWVqsEw4I8/lDrXi2rVVIe9ciWcfDJ/kMlDUU3mahrzKb150VDqM0to+4LudOcLZXYYDVHfJvpOxCVHd51uNLOYqvkgWW6heQkSK+7aZX/+4AN4upydRy8zw5mc3UIX9CB+8vndd9DLFQhx40bYSF8+pTcFrqnUahqzmsa0j95fy6dtwAC49rOT+b9oCh79/o8dq7Qfx0QDxrZoAf/3f/C//8UHAnaHrfcSKF5+WfVxJ/lbqBYben9u5dlLxqRJyhI7ndwiks2f3CSLpHqg8RLawPs69GcmYLypQCSK7nn22aqNEoX7lxD/qZFGr4sA8asOen61dMIw1N9Mb4sW4SBn2DB7zldclC9vjzBBtEeFIZV6H3ts8jJu3JMj3QfNL7pYkIWYjIz4pKKGUfTV0CKRmwujRvFbokUVy0cL4J4Uju1qlFDY4KWo1sI94aipa/S7dHHmEzAMdnbrByihLTuyB1q3ZuG509k/90Y2UZMrr4SJEw2OOgr+dkYG73+kTCaPYCGHje3G9W/n04vPaTREzcqzs2EG13AN0cSBDRrywr7TOGejM5FgIo1CPplkZibPEuv1zGymBq9wBjuo5CuwNW0Kb74Z5uOPmzALZ3qHPLfEWaMGRkgT2rwOOVnLZ5YsskK3br6q6ggh8qNaIEtoe4rzeYFzonm6FFbuTPe7ETHCQAFrqcczjPCtQqIkzfrk1DBwSILnj1I5JZ97zrlPMqEtdiyN3Fyl0XALbF7H2UpV/slFXDqzEttaGp73vX17W2CzyMhQGjM37rD1+vGsSXDFikrTURhS1bRVrAgLF9oJ54OeI50EtlSZPbv0zQH1MSNZW15wgfLFLO5xPTdXLWjs3RtvmWMYKn1sIkRoSw2xQE0z5s939pbJAsCVJEXK9SYc8mRnF/DVV/v54Qf/sMTpTqJB2k9oC2IK6hbYyjynn67MNkeOBJR2ZC59WUA3MrzasWJFZS/moUINh1WEvd3ksKyFEiD3ZVbgRu5hCrdw881Ka/zuu/Zzt4Nc5tKXcKUcdpDLuwwmP0fZ8GRlwVLaMI1rWUddfu98Mo0HtmE0jzKaWdzOZNZRN26S1MSlxAySEsCvzIf04yu6+u73+edqku81QY6bBPXqldinrVhVMUYs+qPt52Y4BDYddxuOXjeBpzifydzOyqiJsT7utIomkdbzobmDfLgFmmjQSwBCl15ChRziTE6TCW29e9sLKJYm6aef1PqBHqDEjX6crzkK2rTxvec9e/ofx81vvzm/ewltFu+/H/y4FoUZ67t08Q5q8uabqR8rXbEEkOnT08NCSB83kt2z6tWVEv3RR4u3DoahUkwsWFA4ITZVa5dDHRHa0oyOHZ09bmmv5AhCcdKxo/fAfrDw5pvKsu/pp+N/83tXD7T/XrqgB2ZISr16MGVKbKb69ttq81Oczx+9zuBzLXz7rt2onCL16nnOTMJheIcTGMd09lRWMb7z82E3FSggg6wsNeGuVi0+n7tXsJcNG9T/ZbRiEhP5vaoV8UWdeyO1mcRE228uunRtVW0HleKO7Uey1fEzXYEsP/4Yvv7aDugYSKvRogVrxkyNCTeO53TWrMKrY3z4P07lI/ryB8l9J931X7G7Nl/QA109pt9yK+LhGhqQRznWUo/lLnNkt+lg91kX0KY19HtiOBxxBEybxv9wZkPfu9e2CK1XL/5dPvdcZVL2wQe2lrB+feWT5yXzPvSQsiZ48slEV6/49VcVSbl9++Rl/YgLua/Rv3/hzcBB+cW535tUGDIkPhVQqVoQFIEXX1R9lV+wkpIm1UTUBypBuGEUfq562WUqIFFZEu4PJCISpBluDcSBeskEQUid3r1hyxaVx+eII9Q2a+W9KOaRZYFffy38vhdfrP6bhNh+VD+eZQRvoYSJ33bXTbiMbAs+ttmZXwCd8uWd33WhybpPzZwyAJmZ3qdf1fJ4NRu2IigZ8BlHR/3ngt33ZP376ac7v3foYD93Qc8BkNukGstRUknMpy2aK664eZ8BvMxZBElsHcQ8zqvtd1KJAQvu5G5uijvPqFHOsrVO6saxix6gxajeakPFinH77N0L770HF10EH30UPwEdOVLVo1+/xHmqQE1Ar7gC/vxT+aNeFo1v4r6XFs2bx/uspUoioQ1SDxqmt3mLFjGFeKHRhYtLLvEPgJLuVK2qzFXTZTG9LFhoZGXBI48U+9pRmeUgtigum7gHsXTpHARBUFjv5Kuvwp132quuCxd6lz9UNG1FoaUW48QSRN5hMGtowC+0YmKCfXVBzJqwDhqkMgscfrizrFvI0b9bfa/u65iZqcLHjx8ff95vW5zGWVaOy+HDWfX1j7y44uyYj1NxCG3uY7ij1QUV2iwf0vXUwTDWqy+FTPtQnBRlQaNt10roSrVbby2gd++wdxRit7TuolUrJTxZ6XLc424q5txWqHXrGDNmqEwJqSS8ThW9vvq7ZLFnj/N7Mj8id8L6O+5QGsxzzilc/XRffZ8UkEIhKAtCm5AaIhKkGXHRtMSPTBDSkkaN4LHHbLOmTz6xf9MTs7rNtbywJkMTJhRf/YqL+fODldNydaeMbn5lCbkFZPAtnSlXLXGoUT1ynSUEGQbcfXd87u9EQpv12TCUqed33ykNTIMG3pOjP//UvvTuzarBox1BKbZuTVhtR3117r5baR6/+iq50BY0kIMltE3jWlYddqI6STHQrp36HzSLhMUTT6j/qWra/MbDBg12cPvtEQYMSM06pUkTpQlzm+8VJkkwKBNKtylhdjYcf3xSuTEl/v1vp69ey5YqkfSYMWqxws2FrhRuyRaD9YWmUEgFm/jHP5SlQWFI1YxPCIYIbYceIrQJgiAUA3oupeOOsz8H0SY89pgKGHDrrcnLljTduys/r759D1w0Wz2Pj1szefLJiffVhbZkkxj3vdAn+LoA0bKlMkW0Juu33qr8qe6/3y7jFsbHj3cGXgwSFc1LwDjnHPU8HHmks0433RRf1uvZshJWe5XbQS4/tzq52MK3vvWWSmb90UfB9/ngA9uEMYgliV7GrTm1aNhwh/cPPixcqIS1BQtUnjh3cyxbZn+eMiX4cUvKMubUU9WiwTvvqLQ7Z52l+pyHH3Ymlre45hr4UMtXl0yA1N/B4lg4PlgDT6U7//tfaddAKGlEaEszhg+XTIOCcDCiT6pPO01pIRo0CBZ4pUIFFTAgXUNg16qlJn3Dh/uXKYqpmy60hUIqP5WF1yRURxfa3GZgbqzogxZWYAtIXP927WD9epXs2MItcOXk2P5LAAMHJpfavO63PvHX6+TV9u4633RT8mTF7uiKRaFpU6WB8TLJ8yPVCbxe/q67lL/YvHnq+7ffwujRBVx66fcpHbNLFyWs6fdf54cf7M/JMiCAEubr1FEh1UsKKyXIzJnJ2zQcVosus2erRPXJfMqKW8gaNUr5mV55ZfEe91CnuMP3C+mPCG1pxplnmvTrt6q0q+GJmGoKgj96UtmMDPjxR/j991KrTonz+utqEvzSS6nvq5tW5uWpJMO33qqE3mTaR114SmaKWqMGLF6sgk4sWeI0Y02W8N3q/yZMUBPQSZPiy+hBQoIk3vXStOnbvHzudNxC2+DB/tdxzTVKyDrvvOT1OpC4TTwTkZWlgv5YVK6sIjP26KG+d+wIDz4YoUqVYpREcWpsgyxGXHstrF2bmvBaGlxwgdKaH3lk4nK60FYcpo116sCaNfDgg0U/lmBz991w/fVK4y0cGojQlmYYBhx++J/JC5YCXf3TBgnCIY9uUnQoRn09+miljXKHqQ+C3nZWcug77oDVq+3w9kEIokVq3x4GDIA2bdT3sWNVEIpLLw12jokT1QS0UaP43/TYHoUNRKJr2ryiW+q4tyXS1E6frvJ7HajE9kFxa3Hcia4txo9Xz0JRfCULy/799udUkkUfDASpp/4+6lrwA31eITXCYaVZP/HE0q6JUFKI0JaG1KiRxManlGjZUjnnr11b2jURhPRDokQWz8SsY8fCHy9I0Bc3DzygfJhSyUXlV69atWDRov08/vh7gY6TTNOma6W8BDL3M5dssSAdJs5uoc0dLAaUdnXKlNKrry60FZfQcjBRrpxKwvzQQ/4mpIIglDwitKUh7dtvZvz4Al57rbRrEk+HDqmtfAvCoYKuIZFUHamzdi18/72K6FdYCmvKVZzCQfv2ULNmXqCyXkKWbrKp59fy0vi49w8S/ORA4RUAxQs96qEfpZ3bUPdNTJaXraxy6aXKf1AQhPRBphZpiGHAxIkRhg4t7ZoIghAUfQKdDhqNg426df2jAwalNIWWwuDWnj35pFMT5ReUxML9nEVKMY7VjBne2zt1grlzVcCM558Plui5tIU23e+vtM1JBUEQLNI0VpkgCMLBhZ9Zm3Dg6dZNhW9PFN0yHdEFtBEj4Pzznb/rJpt6oBsLt9BXmkKbn3nwokXqv560PBmlLbRVr65yq2VlqWiLgiAI6YAIbYIgCMWArhUpjeAJhzLvvQe//uqM3ngwoAsnW7bE/56To4KHZGR4+7R16ADHHGMndk83TeMZZxRuv9IW2gxDcmAJgpB+iNAmCIJQDOiaNt0vSTjwVK588AlsbvzCdjdr5r9PKAQff2ybSaaTWe6nn8JRRxVu39IW2gRBENIR8WkTBEEoBnRNW5CEvIKgU5SAFxdcoFIuWPnL0oGePYMnaa5f/8DWRRAEoSwgQpsgCEIxYBgqAuLKlYdmmHChcFgCS79+hT/G7NlKs1Xa+QEtbWGVKqlFUF2yBEe0ZD3kviAIgqAQ80hBEIRiQtJhCKnyv//Bs8/CTTeVdk2Kzoknqpx3qfp0VqoEJ59sf8/PL956CYIglAVEaBMEQRCEUqJdO5g6tbRrUXwU1jRY98cTTZsgCEI8Yh4pCIIgCELasG9faddAEAQh/RChTRAEQRCEtEE0bYIgCPGI0CYIgiAIQqnTrZv6f9pppVsPQRCEdER82gRBEARBKHU++ADWr5eUGYIgCF6Ipk0QBEEQhFKnYkUR2ARBEPwQoU0QBEEQBEEQBCGNEaFNEARBEARBEAQhjRGhTRAEQRAEQRAEIY0RoU0QBEEQBEEQBCGNEaFNEARBEARBEAQhjRGhTRAEQRAEQRAEIY0RoU0QBEEQBEEQBCGNEaFNEARBEARBEAQhjSkzQtsjjzxCkyZNKFeuHN26dePLL78s7SoJgiAIgiAIgiAUmTIhtL388suMGzeOCRMm8M0339CxY0cGDhzIxo0bS7tqgiAIgiAIgiAIRaJMCG3Tp0/n4osvZtSoUbRr145HH32UnJwcnnjiidKumiAIgiAIgiAIQpHIKO0KFJV9+/axcOFCbr755ti2UChE//79mT9/vuc+e/fuZe/evbHv27dvB2D//v3s37//wFY4Cdb5S7seZRlp45JH2rzkkTYvHaTdSxZp75JH2rzkkLYuedK5zQ3TNM3SrkRRWLt2LfXr12fevHn06NEjtv2GG27g448/ZsGCBXH7TJw4kUmTJsVtf+GFF8jJyTmg9RUEQRAEQRAEIX3ZvXs355xzDtu2bSM3N7e0qwOUAU1bYbj55psZN25c7Pv27dtp2LAhAwYMKPUbs3//ft5//32OP/54MjMzS7UuZRVp45JH2rzkkTYvHaTdSxZp75JH2rzkkLYueaw279u3b2lXJY6DXmirUaMG4XCYDRs2OLZv2LCBOnXqeO6TnZ1NdnZ27LulbNyzZ0+pvxT79+9n9+7d7Nmzh/z8/FKtS1lF2rjkkTYveaTNSwdp95JF2rvkkTYvOaStSx6rzfPy8gBbRkgHDnqhLSsriyOOOII5c+YwbNgwACKRCHPmzOGKK64IdIwdO3YA0LBhwwNVTUEQBEEQBEEQDiJ27NhB5cqVS7saQBkQ2gDGjRvHyJEjOfLII+natSsPPPAAu3btYtSoUYH2r1evHr///juVKlXCMIwDXNvEWKaav//+e6mbapZVpI1LHmnzkkfavHSQdi9ZpL1LHmnzkkPauuSx2nz16tUYhkG9evVKu0oxyoTQduaZZ7Jp0yZuv/121q9fT6dOnXj33XepXbt2oP1DoRANGjQ4wLVMjdzcXHlBDzDSxiWPtHnJI21eOki7lyzS3iWPtHnJIW1d8lSuXDnt2rxMCG0AV1xxRWBzSEEQBEEQBEEQhIOFMpFcWxAEQRAEQRAEoawiQluakZ2dzYQJExzRLYXiRdq45JE2L3mkzUsHafeSRdq75JE2LzmkrUuedG7zgz65tiAIgiAIgiAIQllGNG2CIAiCIAiCIAhpjAhtgiAIgiAIgiAIaYwIbYIgCIIgCIIgCGmMCG2CIAiCIAiCIAhpjAhtAZg6dSpHHXUUlSpVolatWgwbNoylS5c6yuTl5TFmzBiqV69OxYoVOfXUU9mwYUPs9++++46zzz6bhg0bUr58edq2bcvMmTMdx/jss8/o1asX1atXp3z58rRp04YZM2YkrZ9pmtx+++3UrVuX8uXL079/f5YtW+YoM2XKFHr27ElOTg5VqlQpfGMcQMpCO5988sk0atSIcuXKUbduXc477zzWrl1bhFY5cJSF9m7SpAmGYTj+7r777iK0yoHlYG/zuXPnxrW39ffVV18VsXUOHAd7uwN88803HH/88VSpUoXq1atzySWXsHPnziK0yoEl3dv81VdfZcCAAVSvXh3DMPj222/jyjz22GP06dOH3NxcDMNg69athWqLkqCk2lvn888/JyMjg06dOiWtX1mZp1iUhfaW+UrJtnexzFdMISkDBw40n3zySXPx4sXmt99+a55wwglmo0aNzJ07d8bKjB492mzYsKE5Z84c8+uvvza7d+9u9uzZM/b77NmzzauuusqcO3eu+dtvv5nPPvusWb58efOhhx6Klfnmm2/MF154wVy8eLG5YsUK89lnnzVzcnLMWbNmJazf3XffbVauXNl87bXXzO+++848+eSTzaZNm5p79uyJlbn99tvN6dOnm+PGjTMrV65cfI1TjJSFdp4+fbo5f/58c+XKlebnn39u9ujRw+zRo0cxtlLxURbau3HjxubkyZPNdevWxf70+qcbB3ub792719HW69atMy+66CKzadOmZiQSKebWKj4O9nb/448/zKpVq5qjR482f/75Z/PLL780e/bsaZ566qnF3FLFR7q3+TPPPGNOmjTJfPzxx03AXLRoUVyZGTNmmFOnTjWnTp1qAuZff/1V5HY5UJRUe1v89ddfZrNmzcwBAwaYHTt2TFq/sjJPsSgL7S3zlZJt7+KYr4jQVgg2btxoAubHH39smqZpbt261czMzDT/9a9/xcosWbLEBMz58+f7Hufyyy83+/btm/Bcp5xyijl8+HDf3yORiFmnTh3zvvvui23bunWrmZ2dbb744otx5Z988sm07wwtDuZ2tnj99ddNwzDMffv2JTx/OnAwtnfjxo3NGTNmJLu0tOVgbHOdffv2mTVr1jQnT56c8NzpxsHW7rNmzTJr1aplFhQUxMp8//33JmAuW7Ys8cWmCenU5jorVqzwFdosPvroo7QX2twc6PY+88wzzVtvvdWcMGFC0kltWZ6nWBzM7W0h8xWbA9HexTFfEfPIQrBt2zYAqlWrBsDChQvZv38//fv3j5Vp06YNjRo1Yv78+QmPYx3Di0WLFjFv3jyOPfZY3zIrVqxg/fr1jnNXrlyZbt26JTz3wcDB3s5btmzh+eefp2fPnmRmZvoeO104WNv77rvvpnr16nTu3Jn77ruP/Pz8xBeaRhysbW7xxhtvsHnzZkaNGuV73HTkYGv3vXv3kpWVRShkD9nly5cHlHngwUA6tfmhwIFs7yeffJLly5czYcKEQHUpy/MUi4O9vWW+YnMg27uo85WMlEoLRCIRrr76anr16sVhhx0GwPr168nKyoqzwa5duzbr16/3PM68efN4+eWXefvtt+N+a9CgAZs2bSI/P5+JEydy0UUX+dbHOn7t2rUDn/tg4GBu5xtvvJGHH36Y3bt30717d956662k11vaHKztfdVVV9GlSxeqVavGvHnzuPnmm1m3bh3Tp08PdN2lycHa5jqzZ89m4MCBNGjQwPe46cbB2O7HHXcc48aN47777mPs2LHs2rWLm266CYB169YFu/BSJN3avKxzINt72bJl3HTTTXz66adkZASbQpbVeYrFwdzeMl8pufYujvmKaNpSZMyYMSxevJiXXnqp0MdYvHgxQ4cOZcKECQwYMCDu908//ZSvv/6aRx99lAceeIAXX3wRgOeff56KFSvG/j799NNC1yHdOZjb+frrr2fRokX873//IxwOM2LECEzTLPR1lAQHa3uPGzeOPn360KFDB0aPHs20adN46KGH2Lt3b6Gvo6Q4WNvcYs2aNbz33ntceOGFha5/aXAwtnv79u15+umnmTZtGjk5OdSpU4emTZtSu3Zth/YtXTkY2/xg5kC1d0FBAeeccw6TJk2iVatWnvtJexeO0mpvma+UXHsXy3ylSMaVhxhjxowxGzRoYC5fvtyxfc6cOZ727o0aNTKnT5/u2Pbjjz+atWrVMsePHx/onHfccYfZqlUr0zRNc/v27eayZctif7t37zZ/++03T3v8Y445xrzqqqvijncw2IqXhXa2+P33303AnDdvXqB6lAZlqb0XL15sAubPP/8cqB6lRVlo88mTJ5s1a9Y8KPwfLMpCu69fv97csWOHuXPnTjMUCpmvvPJKoHqUFunY5jplzaftQLb3X3/9ZQJmOByO/RmGEds2Z86cQ2aeYlEW2tviUJ+vlHR7F2a+IkJbACKRiDlmzBizXr165i+//BL3u+UA+e9//zu27eeff45zgFy8eLFZq1Yt8/rrrw987kmTJpmNGzdOWLc6deqY999/f2zbtm3bDkoH37LUzharVq0yAfOjjz4KXJeSoiy293PPPWeGQiFzy5YtgetSkpSVNo9EImbTpk3Na6+9NvD5S5Oy0u46s2fPNnNyctJWkEjnNtcpK0JbSbR3QUGB+cMPPzj+LrvsMrN169bmDz/84BsJryzNUyzKUntbHOrzlZJu78LMV0RoC8Bll11mVq5c2Zw7d64jVKe+Yjd69GizUaNG5ocffmh+/fXXcaFTf/jhnXpdAAAABtJJREFUB7NmzZrm8OHDHcfYuHFjrMzDDz9svvHGG+Yvv/xi/vLLL+Y///lPs1KlSuYtt9ySsH533323WaVKFfP11183v//+e3Po0KFxoUZXrVplLlq0yJw0aZJZsWJFc9GiReaiRYvMHTt2FGNLFY2DvZ2/+OIL86GHHjIXLVpkrly50pwzZ47Zs2dPs3nz5mZeXl4xt1bROdjbe968eeaMGTPMb7/91vztt9/M5557zqxZs6Y5YsSIYm6p4uNgb3OLDz74wATMJUuWFFPLHFjKQrs/9NBD5sKFC82lS5eaDz/8sFm+fHlz5syZxdhKxUu6t/nmzZvNRYsWmW+//bYJmC+99JK5aNEic926dbEy69atMxctWhRLC/DJJ5+YixYtMjdv3lyMLVU8lFR7uwkSXc80y848xeJgb2+Zr5RsexfXfEWEtgAAnn9PPvlkrMyePXvMyy+/3KxataqZk5NjnnLKKY7Of8KECZ7H0FcDH3zwQbN9+/ZmTk6OmZuba3bu3Nn8+9//7gjz7EUkEjFvu+02s3bt2mZ2drbZr18/c+nSpY4yI0eO9Dx/Oq2oHOzt/P3335t9+/Y1q1WrZmZnZ5tNmjQxR48eba5Zs6bY2qg4Odjbe+HChWa3bt3MypUrm+XKlTPbtm1r3nXXXWk54Fgc7G1ucfbZZzvy36Q7ZaHdzzvvPLNatWpmVlaW2aFDB/OZZ54plrY5UKR7mz/55JOex54wYULS8+vXkC6UVHu7CTqpLSvzFIuDvb1lvlKy7V1c8xUj2hiCIAiCIAiCIAhCGpL+YacEQRAEQRAEQRAOYURoEwRBEARBEARBSGNEaBMEQRAEQRAEQUhjRGgTBEEQBEEQBEFIY0RoEwRBEARBEARBSGNEaBMEQRAEQRAEQUhjRGgTBEEQBEEQBEFIY0RoEwRBEARBEARBSGNEaBMEQRAEQRAEQUhjRGgTBEEQyhTnn38+hmFgGAaZmZnUrl2b448/nieeeIJIJBL4OE899RRVqlQ5cBUVBEEQhICI0CYIgiCUOQYNGsS6detYuXIl77zzDn379mXs2LEMGTKE/Pz80q6eIAiCIKSECG2CIAhCmSM7O5s6depQv359unTpwvjx43n99dd55513eOqppwCYPn06hx9+OBUqVKBhw4Zcfvnl7Ny5E4C5c+cyatQotm3bFtPaTZw4EYC9e/dy3XXXUb9+fSpUqEC3bt2YO3du6VyoIAiCcEggQpsgCIJwSHDcccfRsWNHXn31VQBCoRAPPvggP/74I08//TQffvghN9xwAwA9e/bkgQceIDc3l3Xr1rFu3Tquu+46AK644grmz5/PSy+9xPfff8/pp5/OoEGDWLZsWaldmyAIglC2MUzTNEu7EoIgCIJQXJx//vls3bqV1157Le63s846i++//56ffvop7rd///vfjB49mj///BNQPm1XX301W7dujZVZvXo1zZo1Y/Xq1dSrVy+2vX///nTt2pW77rqr2K9HEARBEDJKuwKCIAiCUFKYpolhGAB88MEHTJ06lZ9//pnt27eTn59PXl4eu3fvJicnx3P/H374gYKCAlq1auXYvnfvXqpXr37A6y8IgiAcmojQJgiCIBwyLFmyhKZNm7Jy5UqGDBnCZZddxpQpU6hWrRqfffYZF154Ifv27fMV2nbu3Ek4HGbhwoWEw2HHbxUrViyJSxAEQRAOQURoEwRBEA4JPvzwQ3744QeuueYaFi5cSCQSYdq0aYRCyr37lVdecZTPysqioKDAsa1z584UFBSwceNGevfuXWJ1FwRBEA5tRGgTBEEQyhx79+5l/fr1FBQUsGHDBt59912mTp3KkCFDGDFiBIsXL2b//v089NBDnHTSSXz++ec8+uijjmM0adKEnTt3MmfOHDp27EhOTg6tWrXi3HPPZcSIEUybNo3OnTuzadMm5syZQ4cOHTjxxBNL6YoFQRCEsoxEjxQEQRDKHO+++y5169alSZMmDBo0iI8++ogHH3yQ119/nXA4TMeOHZk+fTr33HMPhx12GM8//zxTp051HKNnz56MHj2aM888k5o1a3LvvfcC8OSTTzJixAiuvfZaWrduzbBhw/jqq69o1KhRaVyqIAiCcAgg0SMFQRAEQRAEQRDSGNG0CYIgCIIgCIIgpDEitAmCIAiCIAiCIKQxIrQJgiAIgiAIgiCkMSK0CYIgCIIgCIIgpDEitAmCIAiCIAiCIKQxIrQJgiAIgiAIgiCkMSK0CYIgCIIgCIIgpDEitAmCIAiCIAiCIKQxIrQJgiAIgiAIgiCkMSK0CYIgCIIgCIIgpDEitAmCIAiCIAiCIKQx/w/TFBBZO5+9pQAAAABJRU5ErkJggg==\n"
                },
                "metadata": {}
              }
            ]
          }
        },
        "d7a385ccb52f49f5961b45f3dfa55ef9": {
          "model_module": "@jupyter-widgets/base",
          "model_name": "LayoutModel",
          "model_module_version": "1.2.0",
          "state": {
            "_model_module": "@jupyter-widgets/base",
            "_model_module_version": "1.2.0",
            "_model_name": "LayoutModel",
            "_view_count": null,
            "_view_module": "@jupyter-widgets/base",
            "_view_module_version": "1.2.0",
            "_view_name": "LayoutView",
            "align_content": null,
            "align_items": null,
            "align_self": null,
            "border": null,
            "bottom": null,
            "display": null,
            "flex": null,
            "flex_flow": null,
            "grid_area": null,
            "grid_auto_columns": null,
            "grid_auto_flow": null,
            "grid_auto_rows": null,
            "grid_column": null,
            "grid_gap": null,
            "grid_row": null,
            "grid_template_areas": null,
            "grid_template_columns": null,
            "grid_template_rows": null,
            "height": null,
            "justify_content": null,
            "justify_items": null,
            "left": null,
            "margin": null,
            "max_height": null,
            "max_width": null,
            "min_height": null,
            "min_width": null,
            "object_fit": null,
            "object_position": null,
            "order": null,
            "overflow": null,
            "overflow_x": null,
            "overflow_y": null,
            "padding": null,
            "right": null,
            "top": null,
            "visibility": null,
            "width": null
          }
        },
        "9ccbcd37e8cd4ae2a212fe084c79ff1b": {
          "model_module": "@jupyter-widgets/base",
          "model_name": "LayoutModel",
          "model_module_version": "1.2.0",
          "state": {
            "_model_module": "@jupyter-widgets/base",
            "_model_module_version": "1.2.0",
            "_model_name": "LayoutModel",
            "_view_count": null,
            "_view_module": "@jupyter-widgets/base",
            "_view_module_version": "1.2.0",
            "_view_name": "LayoutView",
            "align_content": null,
            "align_items": null,
            "align_self": null,
            "border": null,
            "bottom": null,
            "display": null,
            "flex": null,
            "flex_flow": null,
            "grid_area": null,
            "grid_auto_columns": null,
            "grid_auto_flow": null,
            "grid_auto_rows": null,
            "grid_column": null,
            "grid_gap": null,
            "grid_row": null,
            "grid_template_areas": null,
            "grid_template_columns": null,
            "grid_template_rows": null,
            "height": null,
            "justify_content": null,
            "justify_items": null,
            "left": null,
            "margin": null,
            "max_height": null,
            "max_width": null,
            "min_height": null,
            "min_width": null,
            "object_fit": null,
            "object_position": null,
            "order": null,
            "overflow": null,
            "overflow_x": null,
            "overflow_y": null,
            "padding": null,
            "right": null,
            "top": null,
            "visibility": null,
            "width": "500px"
          }
        },
        "c65b76dcb12643559b12d6092eaba7ea": {
          "model_module": "@jupyter-widgets/controls",
          "model_name": "DescriptionStyleModel",
          "model_module_version": "1.5.0",
          "state": {
            "_model_module": "@jupyter-widgets/controls",
            "_model_module_version": "1.5.0",
            "_model_name": "DescriptionStyleModel",
            "_view_count": null,
            "_view_module": "@jupyter-widgets/base",
            "_view_module_version": "1.2.0",
            "_view_name": "StyleView",
            "description_width": ""
          }
        },
        "ba2a9d6a4317422fb2154cb8735828cd": {
          "model_module": "@jupyter-widgets/base",
          "model_name": "LayoutModel",
          "model_module_version": "1.2.0",
          "state": {
            "_model_module": "@jupyter-widgets/base",
            "_model_module_version": "1.2.0",
            "_model_name": "LayoutModel",
            "_view_count": null,
            "_view_module": "@jupyter-widgets/base",
            "_view_module_version": "1.2.0",
            "_view_name": "LayoutView",
            "align_content": null,
            "align_items": null,
            "align_self": null,
            "border": null,
            "bottom": null,
            "display": null,
            "flex": null,
            "flex_flow": null,
            "grid_area": null,
            "grid_auto_columns": null,
            "grid_auto_flow": null,
            "grid_auto_rows": null,
            "grid_column": null,
            "grid_gap": null,
            "grid_row": null,
            "grid_template_areas": null,
            "grid_template_columns": null,
            "grid_template_rows": null,
            "height": null,
            "justify_content": null,
            "justify_items": null,
            "left": null,
            "margin": null,
            "max_height": null,
            "max_width": null,
            "min_height": null,
            "min_width": null,
            "object_fit": null,
            "object_position": null,
            "order": null,
            "overflow": null,
            "overflow_x": null,
            "overflow_y": null,
            "padding": null,
            "right": null,
            "top": null,
            "visibility": null,
            "width": null
          }
        }
      }
    },
    "accelerator": "GPU"
  },
  "nbformat": 4,
  "nbformat_minor": 5
}