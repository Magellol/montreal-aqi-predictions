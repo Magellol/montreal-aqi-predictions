{
  "cells": [
    {
      "cell_type": "markdown",
      "id": "9017264e",
      "metadata": {
        "id": "9017264e"
      },
      "source": [
        "# Experiment"
      ]
    },
    {
      "cell_type": "code",
      "execution_count": null,
      "id": "978792bc-d347-4c0b-b7ef-df955c628c17",
      "metadata": {
        "id": "978792bc-d347-4c0b-b7ef-df955c628c17"
      },
      "outputs": [],
      "source": [
        "import pandas as pd\n",
        "from fastai.tabular.all import *"
      ]
    },
    {
      "cell_type": "code",
      "execution_count": null,
      "id": "604ba8ba-b405-44b2-ab11-d69eb8c5a30c",
      "metadata": {
        "id": "604ba8ba-b405-44b2-ab11-d69eb8c5a30c"
      },
      "outputs": [],
      "source": [
        "df1 = pd.read_csv(\"./rsqa-indice-qualite-air-2022-2024.csv\")\n",
        "df2 = pd.read_csv(\"./rsqa-indice-qualite-air-2019-2021.csv\")\n",
        "df = pd.concat([df1, df2], ignore_index=True)"
      ]
    },
    {
      "cell_type": "code",
      "execution_count": null,
      "metadata": {
        "id": "8yTco_GQR6n4",
        "outputId": "35080f4f-f5a5-43c6-b7a9-12ce3651b966"
      },
      "outputs": [
        {
          "data": {
            "text/plain": [
              "stationId    0\n",
              "valeur       0\n",
              "dtype: int64"
            ]
          },
          "execution_count": 28,
          "metadata": {},
          "output_type": "execute_result"
        }
      ],
      "source": [
        "df.isna().sum()"
      ],
      "id": "8yTco_GQR6n4"
    },
    {
      "cell_type": "code",
      "execution_count": null,
      "id": "8b7e89bd",
      "metadata": {
        "id": "8b7e89bd",
        "outputId": "dba0facb-4f57-4a3c-90eb-4d52913707c6"
      },
      "outputs": [
        {
          "data": {
            "text/html": [
              "<div>\n",
              "<style scoped>\n",
              "    .dataframe tbody tr th:only-of-type {\n",
              "        vertical-align: middle;\n",
              "    }\n",
              "\n",
              "    .dataframe tbody tr th {\n",
              "        vertical-align: top;\n",
              "    }\n",
              "\n",
              "    .dataframe thead th {\n",
              "        text-align: right;\n",
              "    }\n",
              "</style>\n",
              "<table border=\"1\" class=\"dataframe\">\n",
              "  <thead>\n",
              "    <tr style=\"text-align: right;\">\n",
              "      <th></th>\n",
              "      <th>stationId</th>\n",
              "      <th>polluant</th>\n",
              "      <th>valeur</th>\n",
              "      <th>date</th>\n",
              "      <th>heure</th>\n",
              "      <th>datetime</th>\n",
              "    </tr>\n",
              "  </thead>\n",
              "  <tbody>\n",
              "    <tr>\n",
              "      <th>0</th>\n",
              "      <td>103</td>\n",
              "      <td>O3</td>\n",
              "      <td>15</td>\n",
              "      <td>2022-01-15</td>\n",
              "      <td>3</td>\n",
              "      <td>2022-01-15 03:00:00</td>\n",
              "    </tr>\n",
              "    <tr>\n",
              "      <th>1</th>\n",
              "      <td>103</td>\n",
              "      <td>NO2</td>\n",
              "      <td>2</td>\n",
              "      <td>2022-01-15</td>\n",
              "      <td>3</td>\n",
              "      <td>2022-01-15 03:00:00</td>\n",
              "    </tr>\n",
              "    <tr>\n",
              "      <th>2</th>\n",
              "      <td>103</td>\n",
              "      <td>PM</td>\n",
              "      <td>12</td>\n",
              "      <td>2022-01-15</td>\n",
              "      <td>3</td>\n",
              "      <td>2022-01-15 03:00:00</td>\n",
              "    </tr>\n",
              "    <tr>\n",
              "      <th>3</th>\n",
              "      <td>17</td>\n",
              "      <td>CO</td>\n",
              "      <td>1</td>\n",
              "      <td>2022-02-04</td>\n",
              "      <td>21</td>\n",
              "      <td>2022-02-04 21:00:00</td>\n",
              "    </tr>\n",
              "    <tr>\n",
              "      <th>4</th>\n",
              "      <td>17</td>\n",
              "      <td>O3</td>\n",
              "      <td>17</td>\n",
              "      <td>2022-02-04</td>\n",
              "      <td>21</td>\n",
              "      <td>2022-02-04 21:00:00</td>\n",
              "    </tr>\n",
              "  </tbody>\n",
              "</table>\n",
              "</div>"
            ],
            "text/plain": [
              "   stationId polluant  valeur       date  heure            datetime\n",
              "0        103       O3      15 2022-01-15      3 2022-01-15 03:00:00\n",
              "1        103      NO2       2 2022-01-15      3 2022-01-15 03:00:00\n",
              "2        103       PM      12 2022-01-15      3 2022-01-15 03:00:00\n",
              "3         17       CO       1 2022-02-04     21 2022-02-04 21:00:00\n",
              "4         17       O3      17 2022-02-04     21 2022-02-04 21:00:00"
            ]
          },
          "execution_count": 20,
          "metadata": {},
          "output_type": "execute_result"
        }
      ],
      "source": [
        "df['date'] = pd.to_datetime(df['date'])\n",
        "df['datetime'] = df['date'] + pd.to_timedelta(df['heure'], unit='h')\n",
        "df.head()"
      ]
    },
    {
      "cell_type": "code",
      "execution_count": null,
      "id": "f27fcb7d",
      "metadata": {
        "id": "f27fcb7d"
      },
      "outputs": [],
      "source": [
        "df = df.sort_values(by='datetime')\n",
        "df.set_index('datetime', inplace=True)"
      ]
    },
    {
      "cell_type": "code",
      "execution_count": null,
      "id": "18128c6f",
      "metadata": {
        "id": "18128c6f",
        "outputId": "3f1347ad-df05-4d1f-b98c-2b91777f577e"
      },
      "outputs": [
        {
          "data": {
            "text/html": [
              "<div>\n",
              "<style scoped>\n",
              "    .dataframe tbody tr th:only-of-type {\n",
              "        vertical-align: middle;\n",
              "    }\n",
              "\n",
              "    .dataframe tbody tr th {\n",
              "        vertical-align: top;\n",
              "    }\n",
              "\n",
              "    .dataframe thead th {\n",
              "        text-align: right;\n",
              "    }\n",
              "</style>\n",
              "<table border=\"1\" class=\"dataframe\">\n",
              "  <thead>\n",
              "    <tr style=\"text-align: right;\">\n",
              "      <th></th>\n",
              "      <th>stationId</th>\n",
              "      <th>valeur</th>\n",
              "    </tr>\n",
              "    <tr>\n",
              "      <th>datetime</th>\n",
              "      <th></th>\n",
              "      <th></th>\n",
              "    </tr>\n",
              "  </thead>\n",
              "  <tbody>\n",
              "    <tr>\n",
              "      <th>2019-01-01 00:00:00</th>\n",
              "      <td>50</td>\n",
              "      <td>36</td>\n",
              "    </tr>\n",
              "    <tr>\n",
              "      <th>2019-01-01 00:00:00</th>\n",
              "      <td>55</td>\n",
              "      <td>37</td>\n",
              "    </tr>\n",
              "    <tr>\n",
              "      <th>2019-01-01 00:00:00</th>\n",
              "      <td>28</td>\n",
              "      <td>7</td>\n",
              "    </tr>\n",
              "    <tr>\n",
              "      <th>2019-01-01 00:00:00</th>\n",
              "      <td>7</td>\n",
              "      <td>3</td>\n",
              "    </tr>\n",
              "    <tr>\n",
              "      <th>2019-01-01 00:00:00</th>\n",
              "      <td>80</td>\n",
              "      <td>1</td>\n",
              "    </tr>\n",
              "    <tr>\n",
              "      <th>...</th>\n",
              "      <td>...</td>\n",
              "      <td>...</td>\n",
              "    </tr>\n",
              "    <tr>\n",
              "      <th>2024-04-09 23:00:00</th>\n",
              "      <td>3</td>\n",
              "      <td>7</td>\n",
              "    </tr>\n",
              "    <tr>\n",
              "      <th>2024-04-09 23:00:00</th>\n",
              "      <td>3</td>\n",
              "      <td>1</td>\n",
              "    </tr>\n",
              "    <tr>\n",
              "      <th>2024-04-09 23:00:00</th>\n",
              "      <td>3</td>\n",
              "      <td>2</td>\n",
              "    </tr>\n",
              "    <tr>\n",
              "      <th>2024-04-09 23:00:00</th>\n",
              "      <td>50</td>\n",
              "      <td>10</td>\n",
              "    </tr>\n",
              "    <tr>\n",
              "      <th>2024-04-09 23:00:00</th>\n",
              "      <td>99</td>\n",
              "      <td>2</td>\n",
              "    </tr>\n",
              "  </tbody>\n",
              "</table>\n",
              "<p>1789045 rows × 2 columns</p>\n",
              "</div>"
            ],
            "text/plain": [
              "                     stationId  valeur\n",
              "datetime                              \n",
              "2019-01-01 00:00:00         50      36\n",
              "2019-01-01 00:00:00         55      37\n",
              "2019-01-01 00:00:00         28       7\n",
              "2019-01-01 00:00:00          7       3\n",
              "2019-01-01 00:00:00         80       1\n",
              "...                        ...     ...\n",
              "2024-04-09 23:00:00          3       7\n",
              "2024-04-09 23:00:00          3       1\n",
              "2024-04-09 23:00:00          3       2\n",
              "2024-04-09 23:00:00         50      10\n",
              "2024-04-09 23:00:00         99       2\n",
              "\n",
              "[1789045 rows x 2 columns]"
            ]
          },
          "execution_count": 24,
          "metadata": {},
          "output_type": "execute_result"
        }
      ],
      "source": [
        "df.drop(['date', 'heure', 'polluant'], axis=1, inplace=True)\n",
        "df"
      ]
    },
    {
      "cell_type": "code",
      "execution_count": null,
      "id": "bc52018d",
      "metadata": {
        "id": "bc52018d",
        "outputId": "8dd2144f-ab7a-4800-d1ce-2df528ef9739"
      },
      "outputs": [
        {
          "data": {
            "text/plain": [
              "Index([2019, 2019, 2019, 2019, 2019, 2019, 2019, 2019, 2019, 2019,\n",
              "       ...\n",
              "       2024, 2024, 2024, 2024, 2024, 2024, 2024, 2024, 2024, 2024],\n",
              "      dtype='int32', name='datetime', length=1789045)"
            ]
          },
          "execution_count": 27,
          "metadata": {},
          "output_type": "execute_result"
        }
      ],
      "source": [
        "# Feature engineering\n",
        "df['year'] = df.index.year\n",
        "df['month'] = df.index.month\n",
        "df['day'] = df.index.day\n",
        "df['weekday'] = df.index.weekday\n",
        "df['hour'] = df.index.hour"
      ]
    },
    {
      "cell_type": "markdown",
      "id": "c4194673",
      "metadata": {
        "id": "c4194673"
      },
      "source": [
        "# Run"
      ]
    },
    {
      "cell_type": "code",
      "execution_count": 56,
      "id": "0670c42f",
      "metadata": {
        "id": "0670c42f",
        "outputId": "35942582-ed1f-493a-ff7e-2040c05a67d4",
        "colab": {
          "base_uri": "https://localhost:8080/"
        }
      },
      "outputs": [
        {
          "output_type": "execute_result",
          "data": {
            "text/plain": [
              "(478431, 478432, 671374, 671375)"
            ]
          },
          "metadata": {},
          "execution_count": 56
        }
      ],
      "source": [
        "import pandas as pd\n",
        "from fastai.tabular.all import *\n",
        "\n",
        "# Data is from Jan 2022 -> April 2024\n",
        "# df = pd.read_csv('https://donnees.montreal.ca/dataset/547b8052-1710-4d69-8760-beaa3aa35ec6/resource/0c325562-e742-4e8e-8c36-971f3c9e58cd/download/rsqa-indice-qualite-air-2022-2024.csv')\n",
        "df = pd.read_csv('./rsqa-indice-qualite-air-2022-2024.csv')\n",
        "\n",
        "split_date_valid = pd.Timestamp('2023-06-01')\n",
        "split_date_test = pd.Timestamp('2024-01-01')\n",
        "\n",
        "df['date'] = pd.to_datetime(df['date'])\n",
        "df['datetime'] = df['date'] + pd.to_timedelta(df['heure'], unit='h')\n",
        "df.sort_values(by='datetime', inplace=True)\n",
        "df.set_index('datetime', inplace=True)\n",
        "df.drop(['date', 'heure', 'polluant', 'stationId'], axis=1, inplace=True)\n",
        "df['year'] = df.index.year\n",
        "df['month'] = df.index.month\n",
        "df['day'] = df.index.day\n",
        "df['weekday'] = df.index.weekday\n",
        "df['hour'] = df.index.hour\n",
        "\n",
        "train_idx = df.index < split_date_valid\n",
        "valid_idx = (df.index >= split_date_valid) & (df.index < split_date_test)\n",
        "test_idx = df.index >= split_date_test\n",
        "\n",
        "train_idxs = np.where(train_idx)[0].tolist()\n",
        "valid_idxs = np.where(valid_idx)[0].tolist()\n",
        "test_idxs = np.where(test_idx)[0].tolist()"
      ]
    },
    {
      "cell_type": "code",
      "execution_count": 79,
      "id": "9b27f0fb",
      "metadata": {
        "id": "9b27f0fb",
        "outputId": "2ffed972-ce01-4fd4-c43d-9f26dfd2097c",
        "colab": {
          "base_uri": "https://localhost:8080/",
          "height": 363
        }
      },
      "outputs": [
        {
          "output_type": "display_data",
          "data": {
            "text/plain": [
              "<IPython.core.display.HTML object>"
            ],
            "text/html": [
              "<table border=\"1\" class=\"dataframe\">\n",
              "  <thead>\n",
              "    <tr style=\"text-align: right;\">\n",
              "      <th></th>\n",
              "      <th>year</th>\n",
              "      <th>month</th>\n",
              "      <th>day</th>\n",
              "      <th>weekday</th>\n",
              "      <th>hour</th>\n",
              "      <th>valeur</th>\n",
              "    </tr>\n",
              "  </thead>\n",
              "  <tbody>\n",
              "    <tr>\n",
              "      <th>0</th>\n",
              "      <td>2022.0</td>\n",
              "      <td>10.0</td>\n",
              "      <td>3.0</td>\n",
              "      <td>-8.693833e-08</td>\n",
              "      <td>9.000000e+00</td>\n",
              "      <td>10.0</td>\n",
              "    </tr>\n",
              "    <tr>\n",
              "      <th>1</th>\n",
              "      <td>2022.0</td>\n",
              "      <td>4.0</td>\n",
              "      <td>9.0</td>\n",
              "      <td>5.000000e+00</td>\n",
              "      <td>2.200000e+01</td>\n",
              "      <td>3.0</td>\n",
              "    </tr>\n",
              "    <tr>\n",
              "      <th>2</th>\n",
              "      <td>2022.0</td>\n",
              "      <td>5.0</td>\n",
              "      <td>12.0</td>\n",
              "      <td>3.000000e+00</td>\n",
              "      <td>5.000000e+00</td>\n",
              "      <td>9.0</td>\n",
              "    </tr>\n",
              "    <tr>\n",
              "      <th>3</th>\n",
              "      <td>2022.0</td>\n",
              "      <td>9.0</td>\n",
              "      <td>29.0</td>\n",
              "      <td>3.000000e+00</td>\n",
              "      <td>1.183974e-07</td>\n",
              "      <td>1.0</td>\n",
              "    </tr>\n",
              "    <tr>\n",
              "      <th>4</th>\n",
              "      <td>2022.0</td>\n",
              "      <td>7.0</td>\n",
              "      <td>1.0</td>\n",
              "      <td>4.000000e+00</td>\n",
              "      <td>1.100000e+01</td>\n",
              "      <td>33.0</td>\n",
              "    </tr>\n",
              "    <tr>\n",
              "      <th>5</th>\n",
              "      <td>2023.0</td>\n",
              "      <td>1.0</td>\n",
              "      <td>21.0</td>\n",
              "      <td>5.000000e+00</td>\n",
              "      <td>1.000000e+01</td>\n",
              "      <td>1.0</td>\n",
              "    </tr>\n",
              "    <tr>\n",
              "      <th>6</th>\n",
              "      <td>2022.0</td>\n",
              "      <td>4.0</td>\n",
              "      <td>9.0</td>\n",
              "      <td>5.000000e+00</td>\n",
              "      <td>1.300000e+01</td>\n",
              "      <td>28.0</td>\n",
              "    </tr>\n",
              "    <tr>\n",
              "      <th>7</th>\n",
              "      <td>2023.0</td>\n",
              "      <td>4.0</td>\n",
              "      <td>19.0</td>\n",
              "      <td>2.000000e+00</td>\n",
              "      <td>4.000000e+00</td>\n",
              "      <td>3.0</td>\n",
              "    </tr>\n",
              "    <tr>\n",
              "      <th>8</th>\n",
              "      <td>2023.0</td>\n",
              "      <td>5.0</td>\n",
              "      <td>23.0</td>\n",
              "      <td>1.000000e+00</td>\n",
              "      <td>1.800000e+01</td>\n",
              "      <td>25.0</td>\n",
              "    </tr>\n",
              "    <tr>\n",
              "      <th>9</th>\n",
              "      <td>2022.0</td>\n",
              "      <td>6.0</td>\n",
              "      <td>14.0</td>\n",
              "      <td>1.000000e+00</td>\n",
              "      <td>3.000000e+00</td>\n",
              "      <td>1.0</td>\n",
              "    </tr>\n",
              "  </tbody>\n",
              "</table>"
            ]
          },
          "metadata": {}
        }
      ],
      "source": [
        "dls = TabularPandas(\n",
        "  df.reset_index(),\n",
        "  procs=[Normalize],\n",
        "  cat_names=[],\n",
        "  cont_names=['year', 'month', 'day', 'weekday', 'hour'],\n",
        "  y_names=['valeur'],\n",
        "  splits=(train_idxs, valid_idxs)\n",
        ").dataloaders(bs=1200)\n",
        "\n",
        "dls.show_batch()"
      ]
    },
    {
      "cell_type": "code",
      "source": [
        "import matplotlib.pyplot as plt\n",
        "\n",
        "# Assuming 'df' is your DataFrame with continuous features\n",
        "df[['year', 'month', 'day', 'weekday', 'hour']].hist(bins=30, figsize=(10, 10))\n",
        "plt.show()"
      ],
      "metadata": {
        "id": "s8JtKtQiooiT",
        "outputId": "d2eb96b2-85f5-463a-9cc8-0c2df4445833",
        "colab": {
          "base_uri": "https://localhost:8080/",
          "height": 853
        }
      },
      "id": "s8JtKtQiooiT",
      "execution_count": 48,
      "outputs": [
        {
          "output_type": "display_data",
          "data": {
            "text/plain": [
              "<Figure size 1000x1000 with 6 Axes>"
            ],
            "image/png": "[encoded data removed]"
          },
          "metadata": {}
        }
      ]
    },
    {
      "cell_type": "code",
      "execution_count": 80,
      "id": "3a03d4ae",
      "metadata": {
        "id": "3a03d4ae"
      },
      "outputs": [],
      "source": [
        "learn = tabular_learner(dls, metrics=accuracy, layers=[100, 100])"
      ]
    },
    {
      "cell_type": "code",
      "source": [
        "learn.lr_find(suggest_funcs=[valley, slide])"
      ],
      "metadata": {
        "id": "_ioxvYF7kUA9",
        "outputId": "73c64437-3e18-48f9-f185-c24660cad814",
        "colab": {
          "base_uri": "https://localhost:8080/",
          "height": 472
        }
      },
      "id": "_ioxvYF7kUA9",
      "execution_count": 81,
      "outputs": [
        {
          "output_type": "display_data",
          "data": {
            "text/plain": [
              "<IPython.core.display.HTML object>"
            ],
            "text/html": [
              "\n",
              "<style>\n",
              "    /* Turns off some styling */\n",
              "    progress {\n",
              "        /* gets rid of default border in Firefox and Opera. */\n",
              "        border: none;\n",
              "        /* Needs to be in here for Safari polyfill so background images work as expected. */\n",
              "        background-size: auto;\n",
              "    }\n",
              "    progress:not([value]), progress:not([value])::-webkit-progress-bar {\n",
              "        background: repeating-linear-gradient(45deg, #7e7e7e, #7e7e7e 10px, #5c5c5c 10px, #5c5c5c 20px);\n",
              "    }\n",
              "    .progress-bar-interrupted, .progress-bar-interrupted::-webkit-progress-bar {\n",
              "        background: #F44336;\n",
              "    }\n",
              "</style>\n"
            ]
          },
          "metadata": {}
        },
        {
          "output_type": "display_data",
          "data": {
            "text/plain": [
              "<IPython.core.display.HTML object>"
            ],
            "text/html": []
          },
          "metadata": {}
        },
        {
          "output_type": "execute_result",
          "data": {
            "text/plain": [
              "SuggestedLRs(valley=0.005248074419796467, slide=0.00013182566908653826)"
            ]
          },
          "metadata": {},
          "execution_count": 81
        },
        {
          "output_type": "display_data",
          "data": {
            "text/plain": [
              "<Figure size 640x480 with 1 Axes>"
            ],
            "image/png": "[encoded data removed]"
          },
          "metadata": {}
        }
      ]
    },
    {
      "cell_type": "code",
      "source": [
        "learn.fit_one_cycle(5, 0.003)"
      ],
      "metadata": {
        "id": "ZIhJDGOqkTD9",
        "outputId": "56470c8e-a7f1-49d3-e5f8-04501123993d",
        "colab": {
          "base_uri": "https://localhost:8080/",
          "height": 221
        }
      },
      "id": "ZIhJDGOqkTD9",
      "execution_count": null,
      "outputs": [
        {
          "output_type": "display_data",
          "data": {
            "text/plain": [
              "<IPython.core.display.HTML object>"
            ],
            "text/html": [
              "\n",
              "<style>\n",
              "    /* Turns off some styling */\n",
              "    progress {\n",
              "        /* gets rid of default border in Firefox and Opera. */\n",
              "        border: none;\n",
              "        /* Needs to be in here for Safari polyfill so background images work as expected. */\n",
              "        background-size: auto;\n",
              "    }\n",
              "    progress:not([value]), progress:not([value])::-webkit-progress-bar {\n",
              "        background: repeating-linear-gradient(45deg, #7e7e7e, #7e7e7e 10px, #5c5c5c 10px, #5c5c5c 20px);\n",
              "    }\n",
              "    .progress-bar-interrupted, .progress-bar-interrupted::-webkit-progress-bar {\n",
              "        background: #F44336;\n",
              "    }\n",
              "</style>\n"
            ]
          },
          "metadata": {}
        },
        {
          "output_type": "display_data",
          "data": {
            "text/plain": [
              "<IPython.core.display.HTML object>"
            ],
            "text/html": [
              "\n",
              "    <div>\n",
              "      <progress value='4' class='' max='5' style='width:300px; height:20px; vertical-align: middle;'></progress>\n",
              "      80.00% [4/5 00:33&lt;00:08]\n",
              "    </div>\n",
              "    \n",
              "<table border=\"1\" class=\"dataframe\">\n",
              "  <thead>\n",
              "    <tr style=\"text-align: left;\">\n",
              "      <th>epoch</th>\n",
              "      <th>train_loss</th>\n",
              "      <th>valid_loss</th>\n",
              "      <th>accuracy</th>\n",
              "      <th>time</th>\n",
              "    </tr>\n",
              "  </thead>\n",
              "  <tbody>\n",
              "    <tr>\n",
              "      <td>0</td>\n",
              "      <td>65.705978</td>\n",
              "      <td>153.981552</td>\n",
              "      <td>0.026878</td>\n",
              "      <td>00:08</td>\n",
              "    </tr>\n",
              "    <tr>\n",
              "      <td>1</td>\n",
              "      <td>66.751366</td>\n",
              "      <td>155.001266</td>\n",
              "      <td>0.026878</td>\n",
              "      <td>00:08</td>\n",
              "    </tr>\n",
              "    <tr>\n",
              "      <td>2</td>\n",
              "      <td>68.725128</td>\n",
              "      <td>154.837631</td>\n",
              "      <td>0.026878</td>\n",
              "      <td>00:09</td>\n",
              "    </tr>\n",
              "    <tr>\n",
              "      <td>3</td>\n",
              "      <td>65.473312</td>\n",
              "      <td>155.525894</td>\n",
              "      <td>0.026878</td>\n",
              "      <td>00:07</td>\n",
              "    </tr>\n",
              "  </tbody>\n",
              "</table><p>\n",
              "\n",
              "    <div>\n",
              "      <progress value='2' class='' max='161' style='width:300px; height:20px; vertical-align: middle;'></progress>\n",
              "      1.24% [2/161 00:00&lt;00:03 66.7950]\n",
              "    </div>\n",
              "    "
            ]
          },
          "metadata": {}
        }
      ]
    },
    {
      "cell_type": "code",
      "source": [
        "learn.recorder.plot_loss()"
      ],
      "metadata": {
        "id": "thyUCXrB1cC9",
        "outputId": "6c239799-1f4c-41c9-9a97-6c86f8ee2aff",
        "colab": {
          "base_uri": "https://localhost:8080/",
          "height": 430
        }
      },
      "id": "thyUCXrB1cC9",
      "execution_count": 83,
      "outputs": [
        {
          "output_type": "display_data",
          "data": {
            "text/plain": [
              "<Figure size 640x480 with 1 Axes>"
            ],
            "image/png": "[encoded data removed]"
          },
          "metadata": {}
        }
      ]
    }
  ],
  "metadata": {
    "kernelspec": {
      "display_name": "Python 3 (ipykernel)",
      "language": "python",
      "name": "python3"
    },
    "language_info": {
      "codemirror_mode": {
        "name": "ipython",
        "version": 3
      },
      "file_extension": ".py",
      "mimetype": "text/x-python",
      "name": "python",
      "nbconvert_exporter": "python",
      "pygments_lexer": "ipython3",
      "version": "3.11.8"
    },
    "colab": {
      "provenance": []
    }
  },
  "nbformat": 4,
  "nbformat_minor": 5
}